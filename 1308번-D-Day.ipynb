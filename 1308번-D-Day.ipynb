{
 "cells": [
  {
   "cell_type": "code",
   "execution_count": null,
   "metadata": {},
   "outputs": [],
   "source": [
    "def init_years():\n",
    "    year = [0]\n",
    "    for a in range(1,10000):\n",
    "        if a%4==0:\n",
    "            day = [31,29,31,30,31,30,31,31,30,31,30,31]\n",
    "        if a%100:\n",
    "            day = [31,28,31,30,31,30,31,31,30,31,30,31]\n",
    "        if a%400:\n",
    "            day = [31,29,31,30,31,30,31,31,30,31,30,31]\n",
    "        years.append(day)\n",
    "    return years\n",
    "\n",
    "def solution(str1, str2):\n",
    "    years = init_years()\n",
    "    a,b,c = map(int,str1.split())\n",
    "    a2,b2,c2 = map(int,str2.split())\n",
    "    while a<=a2:\n",
    "        year = years[a]\n",
    "        while b<=b2:\n",
    "            days += year[b]\n",
    "            b+=1\n",
    "        if days:\n",
    "            days+= a2-a\n",
    "            \n",
    "        a+=1\n",
    "    if a==a2:\n",
    "        b2-b\n",
    "    for year in range(a,a2):\n",
    "        \n",
    "    if a%4==0:\n",
    "        day = 366\n",
    "    if a%100:\n",
    "        day = 365\n",
    "    if a%400:\n",
    "        day = 366"
   ]
  }
 ],
 "metadata": {
  "kernelspec": {
   "display_name": "Python 3",
   "language": "python",
   "name": "python3"
  },
  "language_info": {
   "codemirror_mode": {
    "name": "ipython",
    "version": 3
   },
   "file_extension": ".py",
   "mimetype": "text/x-python",
   "name": "python",
   "nbconvert_exporter": "python",
   "pygments_lexer": "ipython3",
   "version": "3.7.7"
  }
 },
 "nbformat": 4,
 "nbformat_minor": 4
}
