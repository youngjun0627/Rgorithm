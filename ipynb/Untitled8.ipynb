{
 "cells": [
  {
   "cell_type": "code",
   "execution_count": null,
   "metadata": {},
   "outputs": [],
   "source": [
    "n,m = map(int,input().split())\n",
    "\n",
    "dp = [[0 for _ in range(m)] for _ in range(n)]\n",
    "\n",
    "for i in range(n):\n",
    "    tmp = list(map(int,input().split()))\n",
    "    money = temp[0]\n",
    "    company = temp[1:]\n",
    "    if i==0:\n",
    "        dp[0] = company\n",
    "        continue\n",
    "    for j in range()\n",
    "    dp[i][0] = dp[i-1]\n",
    "    "
   ]
  }
 ],
 "metadata": {
  "kernelspec": {
   "display_name": "Python 3",
   "language": "python",
   "name": "python3"
  },
  "language_info": {
   "codemirror_mode": {
    "name": "ipython",
    "version": 3
   },
   "file_extension": ".py",
   "mimetype": "text/x-python",
   "name": "python",
   "nbconvert_exporter": "python",
   "pygments_lexer": "ipython3",
   "version": "3.7.7"
  }
 },
 "nbformat": 4,
 "nbformat_minor": 4
}
