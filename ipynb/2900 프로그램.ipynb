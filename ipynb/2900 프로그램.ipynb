{
 "cells": [
  {
   "cell_type": "code",
   "execution_count": 10,
   "metadata": {},
   "outputs": [
    {
     "name": "stdout",
     "output_type": "stream",
     "text": [
      "10 4\n",
      "1 1 2 1\n",
      "[0, 35, 18, 17, 11, 7, 10, 7, 7, 4, 3, 4, 7, 3, 4, 3, 4, 3, 0, 0, 0, 0, 0, 0, 3, 4, 0, 0, 0, 0, 0, 0, 0, 0, 0, 0, 0, 0, 0, 0]\n",
      "3\n",
      "0 9\n",
      "35\n",
      "2 6\n",
      "18\n",
      "7 7\n",
      "3\n"
     ]
    }
   ],
   "source": [
    "import sys\n",
    "\n",
    "N,K = map(int,sys.stdin.readline().split())\n",
    "a = [0 for _ in range(N)]\n",
    "def something(jump,num):\n",
    "    i = 0\n",
    "    global N\n",
    "    global a\n",
    "    while i<N:\n",
    "        a[i]+=num\n",
    "        i+=jump\n",
    "x_arr = list(map(int,sys.stdin.readline().split()))\n",
    "dic = {}\n",
    "for x in x_arr:\n",
    "    if x not in dic:\n",
    "        dic[x]=0\n",
    "    dic[x]+=1\n",
    "for k,v in dic.items():\n",
    "    something(k,v)\n",
    "\n",
    "def init(start,end,node):\n",
    "    if start==end:\n",
    "        tree[node] = a[start]\n",
    "        return tree[node]\n",
    "    mid = (start+end)//2\n",
    "    tree[node] = init(start,mid,node*2) + init(mid+1,end,node*2+1)\n",
    "    return tree[node]\n",
    "\n",
    "def summit(start,end,node,left,right):\n",
    "    if left>end or right<start:\n",
    "        return 0\n",
    "    if left<=start and end<=right:\n",
    "        return tree[node]\n",
    "    mid = (start+end)//2\n",
    "    return summit(start,mid,node*2,left,right)+summit(mid+1,end,node*2+1,left,right)\n",
    "tree = [0]*((4*N))\n",
    "init(0,N-1,1)\n",
    "\n",
    "for _ in range(int(sys.stdin.readline())):\n",
    "    L,R = map(int,sys.stdin.readline().split())\n",
    "    print(summit(0,N-1,1,L,R))\n"
   ]
  },
  {
   "cell_type": "code",
   "execution_count": null,
   "metadata": {},
   "outputs": [],
   "source": []
  }
 ],
 "metadata": {
  "kernelspec": {
   "display_name": "Python 3",
   "language": "python",
   "name": "python3"
  },
  "language_info": {
   "codemirror_mode": {
    "name": "ipython",
    "version": 3
   },
   "file_extension": ".py",
   "mimetype": "text/x-python",
   "name": "python",
   "nbconvert_exporter": "python",
   "pygments_lexer": "ipython3",
   "version": "3.7.7"
  }
 },
 "nbformat": 4,
 "nbformat_minor": 4
}
