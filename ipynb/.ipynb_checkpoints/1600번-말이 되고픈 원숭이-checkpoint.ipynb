{
 "cells": [
  {
   "cell_type": "code",
   "execution_count": 32,
   "metadata": {},
   "outputs": [
    {
     "name": "stdout",
     "output_type": "stream",
     "text": [
      "1\n",
      "1 1\n",
      "0\n",
      "-1\n"
     ]
    }
   ],
   "source": [
    "from collections import deque\n",
    "\n",
    "k = int(input())\n",
    "w,h = map(int,input().split())\n",
    "if w==1 and h==1:\n",
    "    print(1)\n",
    "else:\n",
    "    board  = []\n",
    "    visit = [[[0 for _ in range(w)] for _ in range(h)] for _ in range(k+1)]\n",
    "    for i in range(h):\n",
    "        board.append(list(map(int,input().split())))\n",
    "\n",
    "    dy2 = [-2,-1,-2,-1,2,1,2,1]\n",
    "    dx2 = [-1,-2,1,2,-1,-2,1,2]\n",
    "    dy = [1,0,-1,0]\n",
    "    dx = [0,1,0,-1]\n",
    "    q = deque()\n",
    "\n",
    "\n",
    "\n",
    "    q.append((0,0,0))\n",
    "    while q:\n",
    "        cy, cx, state = q.popleft()\n",
    "        if state<k:\n",
    "            for i in range(8):\n",
    "                ny = cy + dy2[i]\n",
    "                nx = cx + dx2[i]\n",
    "                if ny>=0 and ny<h and nx>=0 and nx<w and board[ny][nx]==0:\n",
    "                    if visit[state+1][ny][nx]==0:\n",
    "                        visit[state+1][ny][nx]=visit[state][cy][cx]+1\n",
    "                        q.append((ny,nx,state+1))\n",
    "        for i in range(4):\n",
    "            ny = cy + dy[i]\n",
    "            nx = cx + dx[i]\n",
    "            if ny>=0 and ny<h and nx>=0 and nx<w and board[ny][nx]==0:\n",
    "                if visit[state][ny][nx]==0:\n",
    "                    visit[state][ny][nx]=visit[state][cy][cx]+1\n",
    "                    q.append((ny,nx,state))\n",
    "\n",
    "    answer = 999999999\n",
    "    for i in range(k+1):\n",
    "        if visit[i][h-1][w-1]!=0:\n",
    "            answer = min(answer,visit[i][h-1][w-1])\n",
    "    if answer!=999999999:\n",
    "        print(answer)\n",
    "    else:\n",
    "        print(-1)"
   ]
  },
  {
   "cell_type": "code",
   "execution_count": null,
   "metadata": {},
   "outputs": [],
   "source": []
  }
 ],
 "metadata": {
  "kernelspec": {
   "display_name": "Python 3",
   "language": "python",
   "name": "python3"
  },
  "language_info": {
   "codemirror_mode": {
    "name": "ipython",
    "version": 3
   },
   "file_extension": ".py",
   "mimetype": "text/x-python",
   "name": "python",
   "nbconvert_exporter": "python",
   "pygments_lexer": "ipython3",
   "version": "3.7.7"
  }
 },
 "nbformat": 4,
 "nbformat_minor": 4
}
