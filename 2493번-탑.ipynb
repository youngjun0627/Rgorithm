{
 "cells": [
  {
   "cell_type": "code",
   "execution_count": 16,
   "metadata": {},
   "outputs": [
    {
     "name": "stdout",
     "output_type": "stream",
     "text": [
      "5\n",
      "6 9 5 7 4\n",
      "0 0 2 2 4\n"
     ]
    }
   ],
   "source": [
    "n = int(input())\n",
    "heights = list(map(int,input().split()))\n",
    "stack = []\n",
    "outputs = [0 for _ in range(n)]\n",
    "\n",
    "for i in range(len(heights)-1,-1,-1):\n",
    "    h = heights[i]\n",
    "    if not stack:\n",
    "        stack.append((h,i))\n",
    "        continue\n",
    "    \n",
    "    \n",
    "    while stack and stack[-1][0]<h:\n",
    "        _, idx = stack.pop()\n",
    "        outputs[idx] = i+1\n",
    "    stack.append((h,i))\n",
    "    \n",
    "print(' '.join(map(str,outputs)))"
   ]
  },
  {
   "cell_type": "code",
   "execution_count": 11,
   "metadata": {},
   "outputs": [
    {
     "name": "stdout",
     "output_type": "stream",
     "text": [
      "9\n"
     ]
    }
   ],
   "source": [
    "print(len(' '.join(map(str,outputs))))"
   ]
  },
  {
   "cell_type": "code",
   "execution_count": null,
   "metadata": {},
   "outputs": [],
   "source": []
  }
 ],
 "metadata": {
  "kernelspec": {
   "display_name": "Python 3",
   "language": "python",
   "name": "python3"
  },
  "language_info": {
   "codemirror_mode": {
    "name": "ipython",
    "version": 3
   },
   "file_extension": ".py",
   "mimetype": "text/x-python",
   "name": "python",
   "nbconvert_exporter": "python",
   "pygments_lexer": "ipython3",
   "version": "3.7.7"
  }
 },
 "nbformat": 4,
 "nbformat_minor": 4
}
