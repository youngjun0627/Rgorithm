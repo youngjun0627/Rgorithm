{
 "cells": [
  {
   "cell_type": "code",
   "execution_count": 78,
   "metadata": {},
   "outputs": [],
   "source": [
    "from itertools import combinations\n",
    "\n",
    "def solution(orders, course):\n",
    "    answer = []\n",
    "    total_food = set()\n",
    "    mm = {}\n",
    "    \n",
    "    for order in orders:\n",
    "        for i in order:\n",
    "            if i not in mm:\n",
    "                mm[i]=0\n",
    "            mm[i]+=1\n",
    "    for key, value in mm.items():\n",
    "        if value>=2:\n",
    "            total_food.add(key)\n",
    "            \n",
    "    for _course in course:\n",
    "        dic = {}\n",
    "        \n",
    "        for order in orders:\n",
    "            for food in combinations(order,_course):\n",
    "                a = ''.join(f for f in sorted(food))\n",
    "                \n",
    "                if a not in dic:\n",
    "                    \n",
    "                    dic[a]=0\n",
    "                dic[a]+=1\n",
    "        \n",
    "        z = sorted(list(dic.items()), key = lambda x:-x[1])\n",
    "        pre = 0\n",
    "        temp =[]\n",
    "        \n",
    "        for _z in z:\n",
    "            if pre<_z[1] and _z[1]>=2:\n",
    "                temp.append(''.join(f for f in sorted(list(_z[0]))))\n",
    "                pre=_z[1]\n",
    "            elif pre==_z[1] and _z[1]>=2:\n",
    "                temp.append(''.join(f for f in sorted(list(_z[0]))))\n",
    "            else:\n",
    "                break\n",
    "        answer+=temp\n",
    "    answer.sort()\n",
    "    return answer"
   ]
  },
  {
   "cell_type": "code",
   "execution_count": 128,
   "metadata": {},
   "outputs": [],
   "source": []
  },
  {
   "cell_type": "code",
   "execution_count": 130,
   "metadata": {},
   "outputs": [
    {
     "data": {
      "text/plain": [
       "['WX', 'XY']"
      ]
     },
     "execution_count": 130,
     "metadata": {},
     "output_type": "execute_result"
    }
   ],
   "source": [
    "a = [\"XYZ\", \"XWY\", \"WXA\"]\n",
    "solution(a,[2,3,5])"
   ]
  },
  {
   "cell_type": "code",
   "execution_count": null,
   "metadata": {},
   "outputs": [],
   "source": []
  }
 ],
 "metadata": {
  "kernelspec": {
   "display_name": "Python 3",
   "language": "python",
   "name": "python3"
  },
  "language_info": {
   "codemirror_mode": {
    "name": "ipython",
    "version": 3
   },
   "file_extension": ".py",
   "mimetype": "text/x-python",
   "name": "python",
   "nbconvert_exporter": "python",
   "pygments_lexer": "ipython3",
   "version": "3.7.7"
  }
 },
 "nbformat": 4,
 "nbformat_minor": 4
}
