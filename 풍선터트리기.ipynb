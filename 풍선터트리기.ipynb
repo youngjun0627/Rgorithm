{
 "cells": [
  {
   "cell_type": "code",
   "execution_count": 6,
   "metadata": {},
   "outputs": [
    {
     "data": {
      "text/plain": [
       "3"
      ]
     },
     "execution_count": 6,
     "metadata": {},
     "output_type": "execute_result"
    }
   ],
   "source": [
    "import math\n",
    "\n",
    "def solution(a):\n",
    "    answer = 2\n",
    "    left,right = math.inf,math.inf\n",
    "    dp = [[0 for _ in range(len(a))] for _ in range(2)]\n",
    "    \n",
    "    for i in range(len(a)):\n",
    "        if left>a[i]:\n",
    "            left=a[i]\n",
    "        dp[0][i]=left\n",
    "        \n",
    "    for i in range(len(a)-1,-1,-1):\n",
    "        if right>a[i]:\n",
    "            right=a[i]\n",
    "        dp[1][i]=right\n",
    "    \n",
    "    for i in range(1,len(a)-1):\n",
    "        if a[i]<=dp[0][i] or a[i]<=dp[1][i]:\n",
    "            answer+=1\n",
    "    return answer\n",
    "\n",
    "a = [9,-1,-5]\n",
    "solution(a)"
   ]
  },
  {
   "cell_type": "code",
   "execution_count": null,
   "metadata": {},
   "outputs": [],
   "source": []
  }
 ],
 "metadata": {
  "kernelspec": {
   "display_name": "Python 3",
   "language": "python",
   "name": "python3"
  },
  "language_info": {
   "codemirror_mode": {
    "name": "ipython",
    "version": 3
   },
   "file_extension": ".py",
   "mimetype": "text/x-python",
   "name": "python",
   "nbconvert_exporter": "python",
   "pygments_lexer": "ipython3",
   "version": "3.7.7"
  }
 },
 "nbformat": 4,
 "nbformat_minor": 4
}
