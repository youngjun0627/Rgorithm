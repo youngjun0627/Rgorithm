{
 "cells": [
  {
   "cell_type": "code",
   "execution_count": 9,
   "metadata": {},
   "outputs": [
    {
     "name": "stdout",
     "output_type": "stream",
     "text": [
      "4 4\n",
      "1 2 3 4\n"
     ]
    }
   ],
   "source": [
    "n,m = map(int,input().split())\n",
    "\n",
    "def dfs(start,end,n,_str):\n",
    "    if len(_str)==n:\n",
    "        answer = ''\n",
    "        for s in _str:\n",
    "            answer+=s + ' '\n",
    "        print(answer[:-1])\n",
    "        return\n",
    "    for i in range(start+1,end):\n",
    "        dfs(i,end,n,_str+str(i))\n",
    "        \n",
    "dfs(0,n+1,m,'')"
   ]
  },
  {
   "cell_type": "code",
   "execution_count": null,
   "metadata": {},
   "outputs": [],
   "source": []
  }
 ],
 "metadata": {
  "kernelspec": {
   "display_name": "Python 3",
   "language": "python",
   "name": "python3"
  },
  "language_info": {
   "codemirror_mode": {
    "name": "ipython",
    "version": 3
   },
   "file_extension": ".py",
   "mimetype": "text/x-python",
   "name": "python",
   "nbconvert_exporter": "python",
   "pygments_lexer": "ipython3",
   "version": "3.7.7"
  }
 },
 "nbformat": 4,
 "nbformat_minor": 4
}
