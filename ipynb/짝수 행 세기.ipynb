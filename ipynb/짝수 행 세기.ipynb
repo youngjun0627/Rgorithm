{
 "cells": [
  {
   "cell_type": "code",
   "execution_count": 16,
   "metadata": {},
   "outputs": [
    {
     "name": "stdout",
     "output_type": "stream",
     "text": [
      "[[1, 1, 1], [0, 0, 0], [0, 0, 0], [0, 0, 0]]\n"
     ]
    },
    {
     "data": {
      "text/plain": [
       "-1"
      ]
     },
     "execution_count": 16,
     "metadata": {},
     "output_type": "execute_result"
    }
   ],
   "source": [
    "# 백트래킹\n",
    "\n",
    "def solution(a):\n",
    "    answer=-1\n",
    "    cols_number = []\n",
    "    for j in range(len(a[0])):\n",
    "        cnt=0\n",
    "        for i in range(len(a)):\n",
    "            if a[i][j]==1:\n",
    "                cnt+=1\n",
    "        cols_number.append(cnt)\n",
    "    board = [[0 for _ in range(len(a[0]))] for _ in range(len(a))]\n",
    "    backtracking(board,0,cols_number)\n",
    "    return answer\n",
    "\n",
    "output = []\n",
    "\n",
    "def backtracking(arr, row, cols_number):\n",
    "    global output\n",
    "    if row==len(arr):\n",
    "        output.append(arr)\n",
    "    else:\n",
    "        for col in range(len(arr[row])):\n",
    "            if cols_number[col]!=0:\n",
    "                arr[row][col]=1\n",
    "                cols_number[col]-=1\n",
    "        print(arr)\n",
    "        if arr[row].count(1)%2==0:\n",
    "            backtracking(arr,row+1,cols_number)\n",
    "            \n",
    "a = [[0,1,0],[1,1,1],[1,1,0],[0,1,1]]\n",
    "solution(a)"
   ]
  },
  {
   "cell_type": "code",
   "execution_count": 9,
   "metadata": {},
   "outputs": [
    {
     "name": "stdout",
     "output_type": "stream",
     "text": [
      "[]\n"
     ]
    }
   ],
   "source": [
    "print(output)"
   ]
  },
  {
   "cell_type": "code",
   "execution_count": null,
   "metadata": {},
   "outputs": [],
   "source": []
  }
 ],
 "metadata": {
  "kernelspec": {
   "display_name": "Python 3",
   "language": "python",
   "name": "python3"
  },
  "language_info": {
   "codemirror_mode": {
    "name": "ipython",
    "version": 3
   },
   "file_extension": ".py",
   "mimetype": "text/x-python",
   "name": "python",
   "nbconvert_exporter": "python",
   "pygments_lexer": "ipython3",
   "version": "3.7.7"
  }
 },
 "nbformat": 4,
 "nbformat_minor": 4
}
