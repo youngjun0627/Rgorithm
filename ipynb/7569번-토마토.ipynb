{
 "cells": [
  {
   "cell_type": "code",
   "execution_count": 107,
   "metadata": {},
   "outputs": [
    {
     "name": "stdout",
     "output_type": "stream",
     "text": [
      "5 3 2\n",
      "0 0 0 0 0\n",
      "0 0 0 0 0\n",
      "0 0 0 0 0\n",
      "0 0 0 0 0\n",
      "0 0 1 0 0\n",
      "0 0 0 0 0\n",
      "4\n"
     ]
    }
   ],
   "source": [
    "from collections import deque\n",
    "\n",
    "m,n,h = map(int,input().split())\n",
    "board = [None for _ in range(h)]\n",
    "q = deque()\n",
    "total_num = 0\n",
    "reap_num = 0\n",
    "for k in range(h):\n",
    "    _board = []\n",
    "    for i in range(n):\n",
    "        temp = list(map(int,input().split()))\n",
    "        for j in range(m):\n",
    "            if temp[j]!=-1:\n",
    "                total_num+=1\n",
    "            if temp[j]==1:\n",
    "                q.append(((k,i,j),0))\n",
    "                \n",
    "        _board.append(temp)\n",
    "    board[k]= _board\n",
    "d_list = [[1,0,0],[-1,0,0],[0,-1,0],[0,1,0],[0,0,-1],[0,0,1]]\n",
    "visit = [[[False]*m for _ in range(n)] for _ in range(h)]\n",
    "while q:\n",
    "    (k,y,x),cnt = q.popleft()\n",
    "    if visit[k][y][x]:\n",
    "        continue\n",
    "    visit[k][y][x]=True\n",
    "    reap_num+=1\n",
    "    for d in d_list:\n",
    "        nk = k+d[0]\n",
    "        ny = y+d[1]\n",
    "        nx = x+d[2]\n",
    "        if 0<=nk<h and 0<=ny<n and 0<=nx<m:\n",
    "            if not visit[nk][ny][nx]:\n",
    "                if board[nk][ny][nx]==0:\n",
    "                    board[nk][ny][nx]=1\n",
    "                    q.append(((nk,ny,nx),cnt+1))\n",
    "if total_num!=reap_num:\n",
    "    print(-1)\n",
    "else:\n",
    "    print(cnt)"
   ]
  },
  {
   "cell_type": "code",
   "execution_count": 105,
   "metadata": {},
   "outputs": [
    {
     "data": {
      "text/plain": [
       "[[[True, True, True, True, True],\n",
       "  [True, True, True, True, True],\n",
       "  [True, True, True, True, True]],\n",
       " [[True, True, True, True, True],\n",
       "  [True, True, True, True, True],\n",
       "  [True, True, True, True, True]]]"
      ]
     },
     "execution_count": 105,
     "metadata": {},
     "output_type": "execute_result"
    }
   ],
   "source": [
    "visit"
   ]
  },
  {
   "cell_type": "code",
   "execution_count": 102,
   "metadata": {},
   "outputs": [
    {
     "data": {
      "text/plain": [
       "[[[0, -1, 0, 0, 0], [-1, -1, 0, 1, 1], [0, 0, 0, 1, 1]]]"
      ]
     },
     "execution_count": 102,
     "metadata": {},
     "output_type": "execute_result"
    }
   ],
   "source": [
    "board"
   ]
  },
  {
   "cell_type": "code",
   "execution_count": 106,
   "metadata": {},
   "outputs": [
    {
     "data": {
      "text/plain": [
       "0"
      ]
     },
     "execution_count": 106,
     "metadata": {},
     "output_type": "execute_result"
    }
   ],
   "source": [
    "total_num"
   ]
  },
  {
   "cell_type": "code",
   "execution_count": null,
   "metadata": {},
   "outputs": [],
   "source": []
  }
 ],
 "metadata": {
  "kernelspec": {
   "display_name": "Python 3",
   "language": "python",
   "name": "python3"
  },
  "language_info": {
   "codemirror_mode": {
    "name": "ipython",
    "version": 3
   },
   "file_extension": ".py",
   "mimetype": "text/x-python",
   "name": "python",
   "nbconvert_exporter": "python",
   "pygments_lexer": "ipython3",
   "version": "3.7.7"
  }
 },
 "nbformat": 4,
 "nbformat_minor": 4
}
