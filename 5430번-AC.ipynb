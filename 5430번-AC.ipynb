{
 "cells": [
  {
   "cell_type": "code",
   "execution_count": 3,
   "metadata": {},
   "outputs": [
    {
     "name": "stdout",
     "output_type": "stream",
     "text": [
      "1\n",
      "D\n",
      "1\n",
      "[1]\n",
      "['1']\n",
      "[]\n"
     ]
    }
   ],
   "source": [
    "for _ in range(int(input())):\n",
    "    p = input()\n",
    "    n = int(input())\n",
    "    s = list(input()[1:-1].split(','))\n",
    "    li=[]\n",
    "    for a in s:\n",
    "        if a.isdigit():\n",
    "            li.append(a)\n",
    "    #if len(s)==1:\n",
    "    #    li = []\n",
    "    #else:\n",
    "    #    li = list(map(int,s))\n",
    "    \n",
    "    pointer1=0\n",
    "    pointer2 = n-1\n",
    "    state = 0\n",
    "    num_remove = 0\n",
    "    check=True\n",
    "    for l in p:\n",
    "        if l=='D':\n",
    "            if num_remove==n:\n",
    "                print('error')\n",
    "                check=False\n",
    "                break\n",
    "            else:\n",
    "                if not state:\n",
    "                    num_remove+=1\n",
    "                    pointer1+=1\n",
    "                else:\n",
    "                    num_remove+=1\n",
    "                    pointer2-=1\n",
    "        else:\n",
    "            state = not state\n",
    "    #print(pointer1, pointer2)\n",
    "           \n",
    "    if check:\n",
    "        _str=''\n",
    "        if not state:\n",
    "            for i in range(pointer1,pointer2+1):\n",
    "                _str+=str(li[i])+','\n",
    "        else:\n",
    "            for i in range(pointer2,pointer1-1,-1):\n",
    "                _str+=str(li[i])+','\n",
    "        print('['+_str[:-1]+']')"
   ]
  },
  {
   "cell_type": "code",
   "execution_count": 24,
   "metadata": {},
   "outputs": [
    {
     "name": "stdout",
     "output_type": "stream",
     "text": [
      "[1]\n"
     ]
    },
    {
     "data": {
      "text/plain": [
       "['1']"
      ]
     },
     "execution_count": 24,
     "metadata": {},
     "output_type": "execute_result"
    }
   ],
   "source": [
    "s = list(input()[1:-1].split(','))\n",
    "li=[]\n",
    "for a in s:\n",
    "        if a.isdigit():\n",
    "            li.append(a)\n",
    "li"
   ]
  },
  {
   "cell_type": "code",
   "execution_count": 19,
   "metadata": {},
   "outputs": [
    {
     "data": {
      "text/plain": [
       "True"
      ]
     },
     "execution_count": 19,
     "metadata": {},
     "output_type": "execute_result"
    }
   ],
   "source": [
    "not 0"
   ]
  },
  {
   "cell_type": "code",
   "execution_count": null,
   "metadata": {},
   "outputs": [],
   "source": []
  }
 ],
 "metadata": {
  "kernelspec": {
   "display_name": "Python 3",
   "language": "python",
   "name": "python3"
  },
  "language_info": {
   "codemirror_mode": {
    "name": "ipython",
    "version": 3
   },
   "file_extension": ".py",
   "mimetype": "text/x-python",
   "name": "python",
   "nbconvert_exporter": "python",
   "pygments_lexer": "ipython3",
   "version": "3.7.7"
  }
 },
 "nbformat": 4,
 "nbformat_minor": 4
}
