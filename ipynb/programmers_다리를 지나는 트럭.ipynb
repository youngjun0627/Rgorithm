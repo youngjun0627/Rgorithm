{
 "cells": [
  {
   "cell_type": "code",
   "execution_count": 7,
   "metadata": {},
   "outputs": [
    {
     "name": "stdout",
     "output_type": "stream",
     "text": [
      "[0, 7]\n",
      "[7, 0]\n",
      "[0, 4]\n",
      "[4, 5]\n",
      "[5, 0]\n",
      "[0, 6]\n"
     ]
    },
    {
     "data": {
      "text/plain": [
       "8"
      ]
     },
     "execution_count": 7,
     "metadata": {},
     "output_type": "execute_result"
    }
   ],
   "source": [
    "def solution(bridge_length, weight, truck_weights):\n",
    "    answer = 0\n",
    "    time = 0\n",
    "    passing = [0 for _ in range(bridge_length)]\n",
    "    while truck_weights:\n",
    "        time+=1\n",
    "        passing.pop(0)\n",
    "        cur = truck_weights[0]\n",
    "        if sum(passing)+cur<=weight:\n",
    "            passing.append(truck_weights.pop(0))\n",
    "        else:\n",
    "            passing.append(0)\n",
    "        #print(passing)\n",
    "    answer=time\n",
    "    return answer+bridge_length\n",
    "solution(2,10,[7,4,5,6])"
   ]
  },
  {
   "cell_type": "code",
   "execution_count": 3,
   "metadata": {},
   "outputs": [
    {
     "name": "stdout",
     "output_type": "stream",
     "text": [
      "1\n",
      "[1, 2, 3, 4, 5]\n",
      "2\n",
      "[1, 3, 4, 5]\n",
      "4\n",
      "[1, 3, 4, 5]\n",
      "5\n",
      "[1, 3, 4, 5]\n"
     ]
    }
   ],
   "source": [
    "li=[1,2,3,4,5]\n",
    "for i in li:\n",
    "    print(i)\n",
    "    if i==2:\n",
    "        li.pop(1)\n",
    "    print(li)"
   ]
  },
  {
   "cell_type": "code",
   "execution_count": null,
   "metadata": {},
   "outputs": [],
   "source": []
  }
 ],
 "metadata": {
  "kernelspec": {
   "display_name": "Python 3",
   "language": "python",
   "name": "python3"
  },
  "language_info": {
   "codemirror_mode": {
    "name": "ipython",
    "version": 3
   },
   "file_extension": ".py",
   "mimetype": "text/x-python",
   "name": "python",
   "nbconvert_exporter": "python",
   "pygments_lexer": "ipython3",
   "version": "3.7.7"
  }
 },
 "nbformat": 4,
 "nbformat_minor": 4
}
