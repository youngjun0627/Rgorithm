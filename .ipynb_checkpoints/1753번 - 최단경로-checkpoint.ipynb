{
 "cells": [
  {
   "cell_type": "code",
   "execution_count": 44,
   "metadata": {},
   "outputs": [
    {
     "name": "stdout",
     "output_type": "stream",
     "text": [
      "4 5\n",
      "1\n",
      "1 3 2\n",
      "3 2 4\n",
      "1 4 2\n",
      "4 2 1\n",
      "1 3 5\n",
      "0 1\n",
      "2 3\n",
      "2 4\n",
      "3 2\n",
      "6 2\n",
      "0\n",
      "3\n",
      "2\n",
      "2\n"
     ]
    }
   ],
   "source": [
    "import sys\n",
    "#from queue import PriorityQueue\n",
    "import heapq\n",
    "\n",
    "def dijk(start,dic,v):\n",
    "    pq = []\n",
    "    heapq.heappush(pq,(0,start))\n",
    "    result = [float('inf') for _ in range(v)]\n",
    "    #pq.put((0,start))\n",
    "    #visit=set()\n",
    "    #visit.add(start)\n",
    "    result[start-1]=0\n",
    "    #while not pq.empty():\n",
    "    while pq:\n",
    "        cur_cost,cur_index = heapq.heappop(pq)\n",
    "        print(cur_cost, cur_index)\n",
    "        if cur_cost>result[cur_index-1]:\n",
    "            continue\n",
    "            \n",
    "        #visit.add(cur_index)\n",
    "        for next_index,next_cost in dic[cur_index].items():\n",
    "            #if next_index not in visit:           \n",
    "            next_distance = cur_cost+next_cost\n",
    "            if result[next_index-1]>next_distance:\n",
    "                    result[next_index-1]=next_distance\n",
    "                    heapq.heappush(pq,(next_distance,next_index))\n",
    "                    #pq.put((result[next_index-1],next_index))\n",
    "        \n",
    "    return result\n",
    "    \n",
    "v, e = map(int,input().split())\n",
    "start = int(input())\n",
    "dic = {}\n",
    "for i in range(1,v+1):\n",
    "    dic[i]={}\n",
    "for _ in range(e):\n",
    "    a,b,c = map(int,input().split())\n",
    "    if b not in dic[a]:\n",
    "        dic[a][b] = float('inf')\n",
    "    if dic[a][b]>c:\n",
    "        dic[a][b]=c\n",
    "    \n",
    "answer = dijk(start,dic,v)\n",
    "#print(answer)\n",
    "for a in answer:\n",
    "    if a == float('inf'):\n",
    "        print('INF')\n",
    "    else:\n",
    "        print(a)"
   ]
  },
  {
   "cell_type": "code",
   "execution_count": 31,
   "metadata": {},
   "outputs": [
    {
     "data": {
      "text/plain": [
       "inf"
      ]
     },
     "execution_count": 31,
     "metadata": {},
     "output_type": "execute_result"
    }
   ],
   "source": [
    "4 5\n",
    "1\n",
    "1 3 2\n",
    "3 2 4\n",
    "1 4 2\n",
    "4 2 1\n",
    "1 3 5"
   ]
  },
  {
   "cell_type": "code",
   "execution_count": null,
   "metadata": {},
   "outputs": [],
   "source": [
    "5 6\n",
    "1\n",
    "5 1 1\n",
    "1 2 2\n",
    "1 3 3\n",
    "2 3 4\n",
    "2 4 5\n",
    "3 4 6"
   ]
  }
 ],
 "metadata": {
  "kernelspec": {
   "display_name": "Python 3",
   "language": "python",
   "name": "python3"
  },
  "language_info": {
   "codemirror_mode": {
    "name": "ipython",
    "version": 3
   },
   "file_extension": ".py",
   "mimetype": "text/x-python",
   "name": "python",
   "nbconvert_exporter": "python",
   "pygments_lexer": "ipython3",
   "version": "3.7.7"
  }
 },
 "nbformat": 4,
 "nbformat_minor": 4
}
