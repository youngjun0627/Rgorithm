{
 "cells": [
  {
   "cell_type": "code",
   "execution_count": 10,
   "metadata": {},
   "outputs": [
    {
     "name": "stdout",
     "output_type": "stream",
     "text": [
      "5\n",
      "2\n",
      "2 4\n",
      "[0, 2, 4, 5]\n",
      "50000\n",
      "25000\n",
      "12500\n",
      "6250\n",
      "3125\n",
      "1562\n",
      "781\n",
      "390\n",
      "195\n",
      "97\n",
      "48\n",
      "24\n",
      "12\n",
      "6\n",
      "3\n",
      "2\n",
      "2\n"
     ]
    }
   ],
   "source": [
    "n = int(input())\n",
    "m = int(input())\n",
    "garo = [0] + list(map(int,input().split())) + [n]\n",
    "\n",
    "_max = 100000\n",
    "_min = 1\n",
    "answer = 100000\n",
    "while _min<=_max:\n",
    "    mid = (_min+_max)//2\n",
    "    check = True\n",
    "    if garo[1]-garo[0]>mid:\n",
    "        check=False\n",
    "    if garo[-1]-garo[-2]>mid:\n",
    "        check=False\n",
    "    for i in range(1,len(garo)-2):\n",
    "        if 2*mid<(garo[i+1]-garo[i]):\n",
    "            check=False\n",
    "            break\n",
    "    if not check:\n",
    "        _min = mid+1\n",
    "    else:\n",
    "        \n",
    "        answer = min(answer,mid)\n",
    "        _max = mid-1\n",
    "print(answer)"
   ]
  },
  {
   "cell_type": "code",
   "execution_count": 6,
   "metadata": {},
   "outputs": [
    {
     "data": {
      "text/plain": [
       "50000"
      ]
     },
     "execution_count": 6,
     "metadata": {},
     "output_type": "execute_result"
    }
   ],
   "source": [
    "answer"
   ]
  },
  {
   "cell_type": "code",
   "execution_count": 3,
   "metadata": {},
   "outputs": [
    {
     "data": {
      "text/plain": [
       "1"
      ]
     },
     "execution_count": 3,
     "metadata": {},
     "output_type": "execute_result"
    }
   ],
   "source": [
    "ar"
   ]
  },
  {
   "cell_type": "code",
   "execution_count": null,
   "metadata": {},
   "outputs": [],
   "source": []
  }
 ],
 "metadata": {
  "kernelspec": {
   "display_name": "Python 3",
   "language": "python",
   "name": "python3"
  },
  "language_info": {
   "codemirror_mode": {
    "name": "ipython",
    "version": 3
   },
   "file_extension": ".py",
   "mimetype": "text/x-python",
   "name": "python",
   "nbconvert_exporter": "python",
   "pygments_lexer": "ipython3",
   "version": "3.7.7"
  }
 },
 "nbformat": 4,
 "nbformat_minor": 4
}
