{
 "cells": [
  {
   "cell_type": "code",
   "execution_count": 76,
   "metadata": {},
   "outputs": [
    {
     "name": "stdout",
     "output_type": "stream",
     "text": [
      "500000\n",
      "8\n",
      "0 2 3 4 6 7  8 9\n",
      "11117\n"
     ]
    }
   ],
   "source": [
    "from collections import deque\n",
    "\n",
    "start = 100\n",
    "\n",
    "n = int(input())\n",
    "co = int(input())\n",
    "if co==0:\n",
    "    errors = []\n",
    "else:\n",
    "    errors = list(map(int,input().split()))\n",
    "\n",
    "ans = abs(n-start)\n",
    "for i in range(1000001):\n",
    "    a = list(str(i))\n",
    "    \n",
    "    check = True\n",
    "    for _a in a:\n",
    "        if int(_a) in errors:\n",
    "            check = False\n",
    "            break\n",
    "    if not check:\n",
    "        continue\n",
    "        \n",
    "    ans = min(ans, len(str(i)) + abs(n-i))\n",
    "print(ans)"
   ]
  },
  {
   "cell_type": "code",
   "execution_count": 57,
   "metadata": {},
   "outputs": [
    {
     "data": {
      "text/plain": [
       "5453"
      ]
     },
     "execution_count": 57,
     "metadata": {},
     "output_type": "execute_result"
    }
   ],
   "source": [
    "f2"
   ]
  },
  {
   "cell_type": "code",
   "execution_count": null,
   "metadata": {},
   "outputs": [],
   "source": []
  }
 ],
 "metadata": {
  "kernelspec": {
   "display_name": "Python 3",
   "language": "python",
   "name": "python3"
  },
  "language_info": {
   "codemirror_mode": {
    "name": "ipython",
    "version": 3
   },
   "file_extension": ".py",
   "mimetype": "text/x-python",
   "name": "python",
   "nbconvert_exporter": "python",
   "pygments_lexer": "ipython3",
   "version": "3.7.7"
  }
 },
 "nbformat": 4,
 "nbformat_minor": 4
}
