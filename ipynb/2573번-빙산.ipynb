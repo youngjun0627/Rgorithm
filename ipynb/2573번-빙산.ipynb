{
 "cells": [
  {
   "cell_type": "code",
   "execution_count": 52,
   "metadata": {},
   "outputs": [
    {
     "name": "stdout",
     "output_type": "stream",
     "text": [
      "5 5\n",
      "0 0 0 0 0\n",
      "0 0 10 10 0\n",
      "0 10 0 10 0\n",
      "0 0 10 10 0\n",
      "0 0 0 0 0\n",
      "1\n"
     ]
    }
   ],
   "source": [
    "from collections import deque\n",
    "\n",
    "\n",
    "n,m = map(int,input().split())\n",
    "board = []\n",
    "icies = []\n",
    "for i in range(n):\n",
    "    _str = list(map(int, input().split()))\n",
    "    for j in range(m):\n",
    "        if _str[j]!=0:\n",
    "            icies.append((i,j))\n",
    "    board.append(_str)\n",
    "dy = [0,0,-1,1]\n",
    "dx = [-1,1,0,0]\n",
    "answer = 1\n",
    "\n",
    "def bfs(start,board):\n",
    "    q = deque()\n",
    "    q.append(start)\n",
    "    visit = set()\n",
    "    visit.add(start)\n",
    "    while q:\n",
    "        y,x = q.popleft()\n",
    "        for i in range(4):\n",
    "            ny = y+dy[i]\n",
    "            nx = x+dx[i]\n",
    "            if 0<=ny<n and 0<=nx<m and board[ny][nx]!=0:\n",
    "                if (ny,nx) not in visit:\n",
    "                    visit.add((ny,nx))\n",
    "                    q.append((ny,nx))\n",
    "    return visit\n",
    "\n",
    "while True:\n",
    "    temp = []\n",
    "    for idx,icy in enumerate(icies):\n",
    "        if icy==-1:\n",
    "            continue\n",
    "        cnt=0\n",
    "        for i in range(4):\n",
    "            y = icy[0] + dy[i]\n",
    "            x = icy[1] + dx[i]\n",
    "            if 0<=y<n and 0<=x<m:\n",
    "                if board[y][x]==0:\n",
    "                    cnt+=1\n",
    "        if board[icy[0]][icy[1]]-cnt<=0:\n",
    "            result = 0\n",
    "            icies[idx]=-1\n",
    "        else:\n",
    "            result = board[icy[0]][icy[1]]-cnt\n",
    "        temp.append((icy[0],icy[1],result))\n",
    "    for t in temp:\n",
    "        y,x,result = t\n",
    "        board[y][x] = result\n",
    "    \n",
    "    \n",
    "    check = False\n",
    "    for icy in icies:\n",
    "        if icy!=-1:\n",
    "            check=True\n",
    "            break\n",
    "         \n",
    "    if not check:\n",
    "        answer=0\n",
    "        break\n",
    "        \n",
    "    cnt=1\n",
    "    visit = set()\n",
    "    r_ice=0\n",
    "    for icy in icies:\n",
    "        if icy==-1:\n",
    "            continue\n",
    "        r_ice+=1\n",
    "    for icy in icies:\n",
    "        if icy==-1 or icy in visit:\n",
    "            continue\n",
    "        start = icy\n",
    "        visit = visit.union(bfs(start,board))\n",
    "        if len(visit)==r_ice:\n",
    "            break\n",
    "        else:\n",
    "            cnt+=1\n",
    "        \n",
    "    if cnt>=2:\n",
    "        break\n",
    "    else:\n",
    "        answer+=1\n",
    "print(answer)"
   ]
  },
  {
   "cell_type": "code",
   "execution_count": 50,
   "metadata": {},
   "outputs": [
    {
     "data": {
      "text/plain": [
       "12"
      ]
     },
     "execution_count": 50,
     "metadata": {},
     "output_type": "execute_result"
    }
   ],
   "source": [
    "r_ice"
   ]
  },
  {
   "cell_type": "code",
   "execution_count": null,
   "metadata": {},
   "outputs": [],
   "source": []
  }
 ],
 "metadata": {
  "kernelspec": {
   "display_name": "Python 3",
   "language": "python",
   "name": "python3"
  },
  "language_info": {
   "codemirror_mode": {
    "name": "ipython",
    "version": 3
   },
   "file_extension": ".py",
   "mimetype": "text/x-python",
   "name": "python",
   "nbconvert_exporter": "python",
   "pygments_lexer": "ipython3",
   "version": "3.7.7"
  }
 },
 "nbformat": 4,
 "nbformat_minor": 4
}
