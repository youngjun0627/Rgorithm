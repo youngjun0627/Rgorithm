{
 "cells": [
  {
   "cell_type": "code",
   "execution_count": 15,
   "metadata": {},
   "outputs": [
    {
     "name": "stdout",
     "output_type": "stream",
     "text": [
      "1\n",
      "4 2 1\n",
      "2 3 3\n",
      "3 4 4\n",
      "4 2 8\n",
      "[2147483647, 0, 2147483639, 2147483647, 2147483647]\n",
      "[2147483647, 0, 2147483638, 2147483642, 2147483646]\n",
      "[2147483647, 0, 2147483637, 2147483641, 2147483645]\n",
      "YES\n"
     ]
    }
   ],
   "source": [
    "def belman(dic,n):\n",
    "    result = [int(1e9) for _ in range(n+1)]\n",
    "    #result[start] = 0\n",
    "    for i in range(n):\n",
    "        for cur in range(1,n+1):\n",
    "            for _next in dic[cur]:\n",
    "                for dist in dic[cur][_next]:\n",
    "                    if result[_next] > dist + result[cur]:\n",
    "                        result[_next] = dist + result[cur]\n",
    "                        if i==n-1:\n",
    "                            return False\n",
    "    return True\n",
    "\n",
    "\n",
    "tc = int(input())\n",
    "for _ in range(tc):\n",
    "    n,m,w = map(int,input().split())\n",
    "    dic = {i:{} for i in range(1,n+1)}\n",
    "    for _ in range(m):\n",
    "        s,e,t = map(int,input().split())\n",
    "        if e not in dic[s]:\n",
    "            dic[s][e] = []\n",
    "        dic[s][e].append(t)\n",
    "        if s not in dic[e]:\n",
    "            dic[e][s] = []\n",
    "        dic[e][s].append(t)\n",
    "    for _ in range(w):\n",
    "        s,e,t = map(int,input().split())\n",
    "        if e not in dic[s]:\n",
    "            dic[s][e] = []\n",
    "        dic[s][e].append(-t)\n",
    "    '''\n",
    "    answer = True\n",
    "    for i in range(1,n+1):\n",
    "        if not belman(i,dic,n):\n",
    "            answer = False\n",
    "            break\n",
    "    '''\n",
    "    answer = belman(dic,n)\n",
    "    if not answer:\n",
    "        print('YES')\n",
    "    else:\n",
    "        print(\"NO\")\n"
   ]
  },
  {
   "cell_type": "markdown",
   "metadata": {},
   "source": [
    "4 2 1\n",
    "2 3 3\n",
    "3 4 4\n",
    "4 2 8"
   ]
  }
 ],
 "metadata": {
  "kernelspec": {
   "display_name": "Python 3",
   "language": "python",
   "name": "python3"
  },
  "language_info": {
   "codemirror_mode": {
    "name": "ipython",
    "version": 3
   },
   "file_extension": ".py",
   "mimetype": "text/x-python",
   "name": "python",
   "nbconvert_exporter": "python",
   "pygments_lexer": "ipython3",
   "version": "3.7.7"
  }
 },
 "nbformat": 4,
 "nbformat_minor": 4
}
