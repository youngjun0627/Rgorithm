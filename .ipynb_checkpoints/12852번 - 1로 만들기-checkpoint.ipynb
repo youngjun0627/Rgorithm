{
 "cells": [
  {
   "cell_type": "code",
   "execution_count": 51,
   "metadata": {},
   "outputs": [
    {
     "name": "stdout",
     "output_type": "stream",
     "text": [
      "642\n",
      "10\n",
      "642 321 320 160 80 40 20 10 9 3 1\n"
     ]
    }
   ],
   "source": [
    "dp = [0 for _ in range(10**6+1)]\n",
    "dp[0] = 0 # X\n",
    "dp[1] = 0 # 0\n",
    "dp[2] = 1 # 2\n",
    "dp[3] = 1 # 3\n",
    "\n",
    "dp2 = [[] for _ in range(10**6+1)]\n",
    "dp2[0] = ['0']\n",
    "dp2[1] = ['1']\n",
    "dp2[2] = ['2','1']\n",
    "dp2[3] = ['3','1']\n",
    "for i in range(4,10**6+1):\n",
    "    dp[i] = dp[i-1]+1\n",
    "    dp2[i] = [str(i)] + dp2[i-1]\n",
    "    if i%2==0 and dp[i//2]+1 < dp[i]:\n",
    "        dp[i] = dp[i//2]+1\n",
    "        dp2[i] = [str(i)] + dp2[i//2]\n",
    "    if i%3==0 and dp[i//3] +1 < dp[i]:\n",
    "        dp[i] = dp[i//3]+1\n",
    "        dp2[i] = [str(i)] + dp2[i//3]\n",
    "        \n",
    "n = int(input())\n",
    "ans=''\n",
    "print(dp[n])\n",
    "for idx, s in enumerate(dp2[n]):\n",
    "    if idx==0:\n",
    "        ans += s\n",
    "        continue\n",
    "    ans += ' ' + s\n",
    "print(ans)"
   ]
  },
  {
   "cell_type": "code",
   "execution_count": 46,
   "metadata": {},
   "outputs": [
    {
     "data": {
      "text/plain": [
       "['5', '4', '2', '2', '1']"
      ]
     },
     "execution_count": 46,
     "metadata": {},
     "output_type": "execute_result"
    }
   ],
   "source": [
    "dp2[10]"
   ]
  },
  {
   "cell_type": "code",
   "execution_count": 31,
   "metadata": {},
   "outputs": [
    {
     "data": {
      "text/plain": [
       "1"
      ]
     },
     "execution_count": 31,
     "metadata": {},
     "output_type": "execute_result"
    }
   ],
   "source": [
    "256%3\n"
   ]
  },
  {
   "cell_type": "code",
   "execution_count": null,
   "metadata": {},
   "outputs": [],
   "source": []
  }
 ],
 "metadata": {
  "kernelspec": {
   "display_name": "Python 3",
   "language": "python",
   "name": "python3"
  },
  "language_info": {
   "codemirror_mode": {
    "name": "ipython",
    "version": 3
   },
   "file_extension": ".py",
   "mimetype": "text/x-python",
   "name": "python",
   "nbconvert_exporter": "python",
   "pygments_lexer": "ipython3",
   "version": "3.7.7"
  }
 },
 "nbformat": 4,
 "nbformat_minor": 4
}
