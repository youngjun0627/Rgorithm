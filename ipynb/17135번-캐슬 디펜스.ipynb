{
 "cells": [
  {
   "cell_type": "code",
   "execution_count": 26,
   "metadata": {},
   "outputs": [
    {
     "name": "stdout",
     "output_type": "stream",
     "text": [
      "5 5 5 \n",
      "1 1 1 1 1\n",
      "1 1 1 1 1\n",
      "1 1 1 1 1\n",
      "1 1 1 1 1\n",
      "1 1 1 1 1\n",
      "15\n"
     ]
    }
   ],
   "source": [
    "from itertools import combinations\n",
    "import copy\n",
    "\n",
    "n,m,d = map(int,input().split())\n",
    "board = []\n",
    "enemies = []\n",
    "for i in range(n):\n",
    "    _str = list(map(int,input().split()))\n",
    "    for j in range(m):\n",
    "        if _str[j]==1:\n",
    "            enemies.append([i,j,0])\n",
    "    board.append(_str)\n",
    "answer = 0\n",
    "for comb in combinations([i for i in range(m)],3):\n",
    "    temp = copy.deepcopy(enemies)\n",
    "    archer = []\n",
    "    for c in comb:\n",
    "        archer.append((n,c))\n",
    "    cnt=0\n",
    "    for _ in range(n):\n",
    "        targets = []\n",
    "        for arc in archer:\n",
    "            ay,ax = arc\n",
    "            target = [-1,-1,-1]\n",
    "            for idx,enemy in enumerate(temp):\n",
    "                ey,ex,state = enemy\n",
    "                if state:\n",
    "                    continue\n",
    "                if ey>=n:\n",
    "                    continue\n",
    "                if abs(ay-ey) + abs(ax-ex) < abs(target[0]-ay) + abs(target[1]-ax):\n",
    "                    dist = abs(ay-ey) + abs(ax-ex)\n",
    "                    target = [ey,ex,idx]\n",
    "                elif abs(ay-ey) + abs(ax-ex) == abs(target[0]-ay) + abs(target[1]-ax):\n",
    "                    if ex<target[1]:\n",
    "                        target = [ey,ex,idx]\n",
    "                    \n",
    "            if abs(target[0]-ay) + abs(target[1]-ax) > d:\n",
    "                continue\n",
    "            else:\n",
    "                targets.append(target)\n",
    "        \n",
    "        for target in targets:\n",
    "            if temp[target[2]][2]:\n",
    "                continue\n",
    "            temp[target[2]][2]=1\n",
    "            cnt+=1\n",
    "        for i in range(len(temp)):\n",
    "            temp[i][0]+=1\n",
    "            \n",
    "    answer = max(answer,cnt)\n",
    "print(answer)"
   ]
  },
  {
   "cell_type": "code",
   "execution_count": 25,
   "metadata": {},
   "outputs": [
    {
     "ename": "TypeError",
     "evalue": "unhashable type: 'list'",
     "output_type": "error",
     "traceback": [
      "\u001b[1;31m---------------------------------------------------------------------------\u001b[0m",
      "\u001b[1;31mTypeError\u001b[0m                                 Traceback (most recent call last)",
      "\u001b[1;32m<ipython-input-25-c32806e905ae>\u001b[0m in \u001b[0;36m<module>\u001b[1;34m\u001b[0m\n\u001b[1;32m----> 1\u001b[1;33m \u001b[0mset\u001b[0m\u001b[1;33m(\u001b[0m\u001b[1;33m[\u001b[0m\u001b[1;33m[\u001b[0m\u001b[1;36m4\u001b[0m\u001b[1;33m,\u001b[0m \u001b[1;36m2\u001b[0m\u001b[1;33m,\u001b[0m \u001b[1;36m2\u001b[0m\u001b[1;33m]\u001b[0m\u001b[1;33m,\u001b[0m \u001b[1;33m[\u001b[0m\u001b[1;36m4\u001b[0m\u001b[1;33m,\u001b[0m \u001b[1;36m3\u001b[0m\u001b[1;33m,\u001b[0m \u001b[1;36m3\u001b[0m\u001b[1;33m]\u001b[0m\u001b[1;33m,\u001b[0m \u001b[1;33m[\u001b[0m\u001b[1;36m4\u001b[0m\u001b[1;33m,\u001b[0m \u001b[1;36m4\u001b[0m\u001b[1;33m,\u001b[0m \u001b[1;36m4\u001b[0m\u001b[1;33m]\u001b[0m\u001b[1;33m]\u001b[0m\u001b[1;33m)\u001b[0m\u001b[1;33m\u001b[0m\u001b[1;33m\u001b[0m\u001b[0m\n\u001b[0m",
      "\u001b[1;31mTypeError\u001b[0m: unhashable type: 'list'"
     ]
    }
   ],
   "source": [
    "set([[4, 2, 2], [4, 3, 3], [4, 4, 4]])"
   ]
  },
  {
   "cell_type": "code",
   "execution_count": null,
   "metadata": {},
   "outputs": [],
   "source": []
  }
 ],
 "metadata": {
  "kernelspec": {
   "display_name": "Python 3",
   "language": "python",
   "name": "python3"
  },
  "language_info": {
   "codemirror_mode": {
    "name": "ipython",
    "version": 3
   },
   "file_extension": ".py",
   "mimetype": "text/x-python",
   "name": "python",
   "nbconvert_exporter": "python",
   "pygments_lexer": "ipython3",
   "version": "3.7.7"
  }
 },
 "nbformat": 4,
 "nbformat_minor": 4
}
