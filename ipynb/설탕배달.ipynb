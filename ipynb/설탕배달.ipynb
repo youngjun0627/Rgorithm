{
 "cells": [
  {
   "cell_type": "code",
   "execution_count": 16,
   "metadata": {},
   "outputs": [
    {
     "name": "stdout",
     "output_type": "stream",
     "text": [
      "11\n",
      "-1\n"
     ]
    }
   ],
   "source": [
    "N = int(input())\n",
    "array = [0 for _ in range(50000)]\n",
    "_item = (3,5)\n",
    "for index in range(len(array)):\n",
    "    if index == 0:\n",
    "        continue\n",
    "    if index%_item[0]==0 and index%_item[1]==0:# 3,5으로 나눴을때\n",
    "        array[index] = min(array[index-_item[0]]+1,array[index-_item[1]]+1)\n",
    "    elif index%_item[0]==0 :# 3으로 나눴을때\n",
    "        array[index] = array[index-_item[0]]+1\n",
    "    elif index%_item[1]==0 :# 3으로 나눴을때\n",
    "        array[index] = array[index-_item[1]]+1\n",
    "    else:\n",
    "        continue\n",
    "if array[N]==0:\n",
    "    print(-1)\n",
    "else:\n",
    "    print(array[N])"
   ]
  },
  {
   "cell_type": "code",
   "execution_count": 28,
   "metadata": {},
   "outputs": [
    {
     "name": "stdout",
     "output_type": "stream",
     "text": [
      "11\n",
      "3\n"
     ]
    }
   ],
   "source": [
    "'''\n",
    "N = int(input())\n",
    "array = [i for i in range(50000)]\n",
    "index = 0\n",
    "for idx in range(len(array)):\n",
    "    number = array[idx]\n",
    "    check = 0\n",
    "    while True:\n",
    "        if N%5==0:\n",
    "            check+=N/5\n",
    "            break\n",
    "        number -= 3\n",
    "        check += 1\n",
    "        if number<0:\n",
    "            array[idx] = -1\n",
    "            break\n",
    "    array[idx]=check\n",
    "print(array[N])\n",
    "'''\n",
    "\n",
    "N = int(input())\n",
    "check = 0\n",
    "while True:\n",
    "    if N%5==0:\n",
    "        check+=N//5\n",
    "        print(check)\n",
    "        break\n",
    "    N-=3\n",
    "    check+=1\n",
    "    if N<0:\n",
    "        print(-1)\n",
    "        break\n"
   ]
  },
  {
   "cell_type": "code",
   "execution_count": 26,
   "metadata": {},
   "outputs": [
    {
     "name": "stdout",
     "output_type": "stream",
     "text": [
      "11\n",
      "-1\n",
      "3\n"
     ]
    }
   ],
   "source": [
    "number = int(input())\n",
    "check = 0\n",
    "while True:\n",
    "    if N%5==0:\n",
    "        check+=N/5\n",
    "        break\n",
    "    number -= 3\n",
    "    check += 1\n",
    "    if number<0:\n",
    "        #array[idx] = -1\n",
    "        print(-1)\n",
    "        break\n",
    "    #array[idx]=check\n",
    "print(check-1)"
   ]
  },
  {
   "cell_type": "code",
   "execution_count": null,
   "metadata": {},
   "outputs": [],
   "source": []
  }
 ],
 "metadata": {
  "kernelspec": {
   "display_name": "Python 3",
   "language": "python",
   "name": "python3"
  },
  "language_info": {
   "codemirror_mode": {
    "name": "ipython",
    "version": 3
   },
   "file_extension": ".py",
   "mimetype": "text/x-python",
   "name": "python",
   "nbconvert_exporter": "python",
   "pygments_lexer": "ipython3",
   "version": "3.7.7"
  }
 },
 "nbformat": 4,
 "nbformat_minor": 4
}
