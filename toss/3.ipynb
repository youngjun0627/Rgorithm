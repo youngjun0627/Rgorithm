{
 "cells": [
  {
   "cell_type": "code",
   "execution_count": 13,
   "metadata": {},
   "outputs": [
    {
     "name": "stdout",
     "output_type": "stream",
     "text": [
      "()((({}})({}[]]\n",
      "[]\n",
      "['(']\n",
      "[]\n",
      "['(']\n",
      "['(', '(']\n",
      "['(', '(', '(']\n",
      "['(', '(', '(', '{']\n",
      "['(', '(', '(']\n"
     ]
    },
    {
     "data": {
      "text/plain": [
       "False"
      ]
     },
     "execution_count": 13,
     "metadata": {},
     "output_type": "execute_result"
    }
   ],
   "source": [
    "\n",
    "def solution(user_input):\n",
    "    stack = []\n",
    "    left_char = ['(','[','{']\n",
    "    right_char = [')',']','}']\n",
    "\n",
    "\n",
    "    size = -1\n",
    "    plus_cnt=0\n",
    "    for i in range(len(user_input)):\n",
    "        #print(stack)\n",
    "        cur_char = user_input[i]\n",
    "        if cur_char in left_char:\n",
    "            stack.append(cur_char)\n",
    "            size+=1\n",
    "            for _ in range(plus_cnt):\n",
    "                stack.append(cur_char)\n",
    "                size+=1\n",
    "            plus_cnt=0\n",
    "        elif cur_char in right_char:\n",
    "            index = right_char.index(cur_char)\n",
    "            if stack[size]==left_char[index]:\n",
    "                stack.pop()\n",
    "                size-=1\n",
    "            else:\n",
    "                return False\n",
    "            for _ in range(plus_cnt):\n",
    "                if stack[size]==left_char[index]:\n",
    "                    stack.pop()\n",
    "                    size-=1\n",
    "                else:\n",
    "                    return False\n",
    "            plus_cnt=0\n",
    "        elif cur_char=='-':\n",
    "            stack.append(stack[size])\n",
    "            size+=1\n",
    "        elif cur_char == '+':\n",
    "            plus_cnt+=1\n",
    "    if stack:\n",
    "        return False\n",
    "    return True\n",
    "\n",
    "user_input = input()\n",
    "print(solution(user_input))\n"
   ]
  },
  {
   "cell_type": "code",
   "execution_count": 2,
   "metadata": {},
   "outputs": [
    {
     "data": {
      "text/plain": [
       "0"
      ]
     },
     "execution_count": 2,
     "metadata": {},
     "output_type": "execute_result"
    }
   ],
   "source": [
    "li = [1,2,3,4]\n",
    "li.index(1)"
   ]
  },
  {
   "cell_type": "code",
   "execution_count": null,
   "metadata": {},
   "outputs": [],
   "source": []
  }
 ],
 "metadata": {
  "kernelspec": {
   "display_name": "Python 3",
   "language": "python",
   "name": "python3"
  },
  "language_info": {
   "codemirror_mode": {
    "name": "ipython",
    "version": 3
   },
   "file_extension": ".py",
   "mimetype": "text/x-python",
   "name": "python",
   "nbconvert_exporter": "python",
   "pygments_lexer": "ipython3",
   "version": "3.7.7"
  }
 },
 "nbformat": 4,
 "nbformat_minor": 4
}
