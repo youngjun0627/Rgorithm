{
 "cells": [
  {
   "cell_type": "code",
   "execution_count": 1,
   "metadata": {},
   "outputs": [
    {
     "name": "stdout",
     "output_type": "stream",
     "text": [
      "[4, 1, 2, 3]\n"
     ]
    }
   ],
   "source": [
    "li=[1,2,3]\n",
    "li.insert(0,4)\n",
    "print(li)"
   ]
  },
  {
   "cell_type": "code",
   "execution_count": null,
   "metadata": {},
   "outputs": [],
   "source": [
    "def solution(sticker):\n",
    "    answer=0\n",
    "    if len(sticker)==1:\n",
    "        return sticker[0]\n",
    "    DP = []\n",
    "    DP.append(sticker[0])\n",
    "    DP.append(DP[0])\n",
    "    i=2\n",
    "    while i<len(sticker)-1:\n",
    "        DP.append(max(DP[i-1],DP[i-2]+sticker[i]))\n",
    "        i+=1\n",
    "    \n",
    "    DP2 = [0]\n",
    "    DP2.append(sticker[1])\n",
    "    i=2\n",
    "    while i<len(sticker):\n",
    "        DP2.append(max(DP2[i-1],DP2[i-2]+sticker[i]))\n",
    "        i+=1\n",
    "\n",
    "    answer = max(DP[len(DP)-1],DP2[len(DP2)-1])\n",
    "    return answer"
   ]
  }
 ],
 "metadata": {
  "kernelspec": {
   "display_name": "Python 3",
   "language": "python",
   "name": "python3"
  },
  "language_info": {
   "codemirror_mode": {
    "name": "ipython",
    "version": 3
   },
   "file_extension": ".py",
   "mimetype": "text/x-python",
   "name": "python",
   "nbconvert_exporter": "python",
   "pygments_lexer": "ipython3",
   "version": "3.7.7"
  }
 },
 "nbformat": 4,
 "nbformat_minor": 4
}
