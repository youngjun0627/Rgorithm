{
 "cells": [
  {
   "cell_type": "code",
   "execution_count": 8,
   "metadata": {},
   "outputs": [
    {
     "name": "stdout",
     "output_type": "stream",
     "text": [
      "8 17\n",
      "...XXXXXX..XX.XXX\n",
      "....XXXXXXXXX.XXX\n",
      "...XXXXXXXXXXXX..\n",
      "..XXXXX.LXXXXXX..\n",
      ".XXXXXX..XXXXXX..\n",
      "XXXXXXX...XXXX...\n",
      "..XXXXX...XXX....\n",
      "....XXXXX.XXXL...\n",
      "2\n"
     ]
    }
   ],
   "source": [
    "from collections import deque\n",
    "\n",
    "r,c = map(int,input().split())\n",
    "\n",
    "board = []\n",
    "ori = []\n",
    "q = deque()\n",
    "visit=set()\n",
    "for i in range(r):\n",
    "    _str = list(input())\n",
    "    for j in range(c):\n",
    "        if _str[j]=='.':\n",
    "            q.append((i,j,0))\n",
    "            visit.add((i,j))\n",
    "        if _str[j]=='L':\n",
    "            ori.append((i,j))\n",
    "    board.append(_str)\n",
    "    \n",
    "\n",
    "dy=[0,0,-1,1]\n",
    "dx = [-1,1,0,0]\n",
    "_q = deque()\n",
    "_q.append(ori[0])\n",
    "_visit = set()\n",
    "_visit.add(ori[0])\n",
    "def check():\n",
    "    while _q:\n",
    "        cy,cx = _q.popleft()\n",
    "        if cy==ori[1][0] and cx ==ori[1][1]:\n",
    "            return True\n",
    "        for i in range(4):\n",
    "            ny = cy+dy[i]\n",
    "            nx = cx+dx[i]\n",
    "            if 0<=ny<r and 0<=nx<c and (ny,nx) not in _visit and board[ny][nx]!='X':\n",
    "                _q.append((ny,nx))\n",
    "                _visit.add((ny,nx))\n",
    "    _q.append((cy,cx))\n",
    "    return False\n",
    "answer = 0\n",
    "pre_day=0\n",
    "while q:\n",
    "    cy,cx,day = q.popleft()\n",
    "    if pre_day != day:\n",
    "        if check():\n",
    "            answer = day\n",
    "            break\n",
    "        pre_day = day\n",
    "    for i in range(4):\n",
    "        ny = cy+dy[i]\n",
    "        nx = cx+dx[i]\n",
    "        if 0<=ny<r and 0<=nx<c and (ny,nx) not in visit and board[ny][nx]=='X':\n",
    "            board[ny][nx]='.'\n",
    "            visit.add((ny,nx))\n",
    "            q.append((ny,nx,day+1))\n",
    "print(answer)"
   ]
  },
  {
   "cell_type": "code",
   "execution_count": null,
   "metadata": {},
   "outputs": [],
   "source": []
  }
 ],
 "metadata": {
  "kernelspec": {
   "display_name": "Python 3",
   "language": "python",
   "name": "python3"
  },
  "language_info": {
   "codemirror_mode": {
    "name": "ipython",
    "version": 3
   },
   "file_extension": ".py",
   "mimetype": "text/x-python",
   "name": "python",
   "nbconvert_exporter": "python",
   "pygments_lexer": "ipython3",
   "version": "3.7.7"
  }
 },
 "nbformat": 4,
 "nbformat_minor": 4
}
