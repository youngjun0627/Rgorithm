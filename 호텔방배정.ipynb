{
 "cells": [
  {
   "cell_type": "code",
   "execution_count": null,
   "metadata": {},
   "outputs": [],
   "source": [
    "import sys\n",
    "\n",
    "sys.setrecursionlimit(100000)\n",
    "\n",
    "def solution(k, room_number):\n",
    "    answer = []\n",
    "    arr={}\n",
    "    for number in room_number:\n",
    "        func(number, arr)\n",
    "    answer = list(arr.keys())\n",
    "    return answer\n",
    "\n",
    "def func(number, arr):\n",
    "    if number not in arr:\n",
    "        arr[number]=number+1\n",
    "        return number\n",
    "    emptynumber = func(arr[number],arr)\n",
    "    #print(emptynumber)\n",
    "    arr[number]=emptynumber+1\n",
    "    return emptynumber"
   ]
  },
  {
   "cell_type": "code",
   "execution_count": 12,
   "metadata": {},
   "outputs": [
    {
     "data": {
      "text/plain": [
       "[1, 3, 4, 2, 5, 6]"
      ]
     },
     "execution_count": 12,
     "metadata": {},
     "output_type": "execute_result"
    }
   ],
   "source": [
    "import sys\n",
    "\n",
    "sys.setrecursionlimit(100000)\n",
    "\n",
    "def find(x,parent):\n",
    "    if parent[x]==x:\n",
    "        return x\n",
    "    else:\n",
    "        parent[x]=find(parent[x],parent)\n",
    "        return parent[x]\n",
    "\n",
    "def union(x,y,parent):\n",
    "    a = find(x,parent)\n",
    "    b = find(y,parent)\n",
    "    if a>b:\n",
    "        parent[b] = a\n",
    "    else:\n",
    "        parent[a] = b\n",
    "\n",
    "def solution(k, room_number):\n",
    "    answer=[]\n",
    "    parent = [i for i in range(k)]\n",
    "    for number in room_number:\n",
    "        a = find(number,parent)\n",
    "        parent[a]+=1\n",
    "        answer.append(a)\n",
    "        union(parent[a],parent[parent[a]],parent)\n",
    "    \n",
    "    return answer\n",
    "k=10\n",
    "room_number = [1,3,4,1,3,1]\n",
    "solution(k,room_number)\n",
    "    "
   ]
  },
  {
   "cell_type": "code",
   "execution_count": null,
   "metadata": {},
   "outputs": [],
   "source": []
  }
 ],
 "metadata": {
  "kernelspec": {
   "display_name": "Python 3",
   "language": "python",
   "name": "python3"
  },
  "language_info": {
   "codemirror_mode": {
    "name": "ipython",
    "version": 3
   },
   "file_extension": ".py",
   "mimetype": "text/x-python",
   "name": "python",
   "nbconvert_exporter": "python",
   "pygments_lexer": "ipython3",
   "version": "3.7.7"
  }
 },
 "nbformat": 4,
 "nbformat_minor": 4
}
