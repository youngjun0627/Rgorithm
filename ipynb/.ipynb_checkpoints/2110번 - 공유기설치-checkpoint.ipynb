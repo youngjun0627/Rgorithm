{
 "cells": [
  {
   "cell_type": "code",
   "execution_count": 35,
   "metadata": {},
   "outputs": [
    {
     "name": "stdout",
     "output_type": "stream",
     "text": [
      "5 3\n",
      "1\n",
      "2\n",
      "8\n",
      "4\n",
      "9\n",
      "2 1 4\n",
      "4 1 4\n",
      "8 1 4\n",
      "9 8 4\n",
      "2 1 1\n",
      "4 2 1\n",
      "8 4 1\n",
      "9 8 1\n",
      "2 1 2\n",
      "4 1 2\n",
      "8 4 2\n",
      "9 8 2\n",
      "2 1 3\n",
      "4 1 3\n",
      "8 4 3\n",
      "9 8 3\n",
      "3\n"
     ]
    }
   ],
   "source": [
    "n,c = map(int,input().split())\n",
    "house = []\n",
    "for _ in range(n):\n",
    "    house.append(int(input()))\n",
    "    \n",
    "    \n",
    "house.sort()\n",
    "\n",
    "answer = 0\n",
    "\n",
    "\n",
    "_min = 0\n",
    "_max = house[len(house)-1]\n",
    "\n",
    "while _min<=_max:\n",
    "    mid = (_max+_min)//2\n",
    "    start = house[0]\n",
    "    cnt=1\n",
    "    for i in range(1,len(house)):\n",
    "        #aprint(house[i], start, mid)\n",
    "        if house[i]-start>=mid:\n",
    "            start = house[i]\n",
    "            cnt+=1\n",
    "    \n",
    "    if cnt>=c:\n",
    "        _min = mid+1\n",
    "        answer = max(mid,answer)\n",
    "    else:\n",
    "        _max = mid-1\n",
    "print(answer)"
   ]
  },
  {
   "cell_type": "code",
   "execution_count": null,
   "metadata": {},
   "outputs": [],
   "source": []
  }
 ],
 "metadata": {
  "kernelspec": {
   "display_name": "Python 3",
   "language": "python",
   "name": "python3"
  },
  "language_info": {
   "codemirror_mode": {
    "name": "ipython",
    "version": 3
   },
   "file_extension": ".py",
   "mimetype": "text/x-python",
   "name": "python",
   "nbconvert_exporter": "python",
   "pygments_lexer": "ipython3",
   "version": "3.7.7"
  }
 },
 "nbformat": 4,
 "nbformat_minor": 4
}
