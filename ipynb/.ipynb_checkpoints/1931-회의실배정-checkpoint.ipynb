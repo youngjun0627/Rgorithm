{
 "cells": [
  {
   "cell_type": "code",
   "execution_count": 7,
   "metadata": {},
   "outputs": [
    {
     "name": "stdout",
     "output_type": "stream",
     "text": [
      "11\n",
      "1 4\n",
      "3 5\n",
      "0 6\n",
      "5 7\n",
      "5 9\n",
      "3 8\n",
      "6 10\n",
      "8 11\n",
      "8 12\n",
      "2 13\n",
      "12 14\n",
      "[(12, 14), (2, 13), (8, 12), (8, 11), (6, 10), (5, 9), (3, 8), (5, 7), (0, 6), (3, 5), (1, 4)]\n",
      "1\n"
     ]
    }
   ],
   "source": [
    "def inputs():\n",
    "    n = int(input())\n",
    "    times = []\n",
    "    for _ in range(n):\n",
    "        a,b = map(int,input().split())\n",
    "\n",
    "        times.append((a,b))\n",
    "    times.sort(key = lambda x : (x[1],x[0]))\n",
    "    return times\n",
    "def solution(times):\n",
    "    pre = -1\n",
    "    cnt=0\n",
    "    for time in times:\n",
    "        start, end = time\n",
    "        if pre==-1:\n",
    "            pre=end\n",
    "            cnt+=1\n",
    "            continue\n",
    "        if start>=pre:\n",
    "            cnt+=1\n",
    "            pre=end\n",
    "            \n",
    "    print(cnt)\n",
    "if __name__=='__main__':\n",
    "    times = inputs()\n",
    "    #print(times)\n",
    "    solution(times)"
   ]
  },
  {
   "cell_type": "code",
   "execution_count": 4,
   "metadata": {},
   "outputs": [
    {
     "data": {
      "text/plain": [
       "[(1, 4),\n",
       " (3, 5),\n",
       " (0, 6),\n",
       " (5, 7),\n",
       " (3, 8),\n",
       " (5, 9),\n",
       " (6, 10),\n",
       " (8, 11),\n",
       " (8, 12),\n",
       " (2, 13),\n",
       " (12, 14)]"
      ]
     },
     "execution_count": 4,
     "metadata": {},
     "output_type": "execute_result"
    }
   ],
   "source": [
    "times"
   ]
  },
  {
   "cell_type": "code",
   "execution_count": null,
   "metadata": {},
   "outputs": [],
   "source": []
  }
 ],
 "metadata": {
  "kernelspec": {
   "display_name": "Python 3",
   "language": "python",
   "name": "python3"
  },
  "language_info": {
   "codemirror_mode": {
    "name": "ipython",
    "version": 3
   },
   "file_extension": ".py",
   "mimetype": "text/x-python",
   "name": "python",
   "nbconvert_exporter": "python",
   "pygments_lexer": "ipython3",
   "version": "3.7.7"
  }
 },
 "nbformat": 4,
 "nbformat_minor": 4
}
