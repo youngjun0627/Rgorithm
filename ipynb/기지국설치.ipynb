{
 "cells": [
  {
   "cell_type": "code",
   "execution_count": 23,
   "metadata": {},
   "outputs": [
    {
     "name": "stdout",
     "output_type": "stream",
     "text": [
      "[3, 10]\n",
      "5\n"
     ]
    }
   ],
   "source": [
    "def solution(n, stations, w):\n",
    "    answer = 0\n",
    "    distance=[]\n",
    "    for idx, station in enumerate(stations):\n",
    "        if idx==0:\n",
    "            if station==1:\n",
    "                continue\n",
    "            else:\n",
    "                distance.append(station-1-w)\n",
    "                continue\n",
    "        distance.append(station-stations[idx-1]-2*w-1)\n",
    "    if stations[len(stations)-1]!=n:\n",
    "        distance.append(n-stations[len(stations)-1]-w)\n",
    "    print(distance)\n",
    "    for d in distance:\n",
    "        if d%(1+2*w)==0:\n",
    "            answer+=(d//(1+2*w))\n",
    "        else:\n",
    "            answer+=(d//(1+2*w))+1\n",
    "    \n",
    "\n",
    "    return answer\n",
    "\n",
    "#7~16\n",
    "n=16\n",
    "stations=[5]\n",
    "w = 1\n",
    "print(solution(n,stations,w))"
   ]
  },
  {
   "cell_type": "code",
   "execution_count": null,
   "metadata": {},
   "outputs": [],
   "source": []
  }
 ],
 "metadata": {
  "kernelspec": {
   "display_name": "Python 3",
   "language": "python",
   "name": "python3"
  },
  "language_info": {
   "codemirror_mode": {
    "name": "ipython",
    "version": 3
   },
   "file_extension": ".py",
   "mimetype": "text/x-python",
   "name": "python",
   "nbconvert_exporter": "python",
   "pygments_lexer": "ipython3",
   "version": "3.7.7"
  }
 },
 "nbformat": 4,
 "nbformat_minor": 4
}
