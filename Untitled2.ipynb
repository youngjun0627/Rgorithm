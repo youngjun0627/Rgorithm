{
 "cells": [
  {
   "cell_type": "code",
   "execution_count": 7,
   "metadata": {},
   "outputs": [
    {
     "name": "stdout",
     "output_type": "stream",
     "text": [
      "0 1\n",
      "0 2\n",
      "0 3\n",
      "0 4\n",
      "1 5\n",
      "2 6\n",
      "[0, 0, 0, 0, 1, 2, 0]\n"
     ]
    }
   ],
   "source": [
    "def solution(word, pages):\n",
    "    answer = []\n",
    "    idx = 0\n",
    "    word_arr = failurefunc(word)\n",
    "    ex_urls = '<a href='\n",
    "    ex_urls_arr = failurefunc(ex_urls)\n",
    "    for page in pages:\n",
    "        i=0\n",
    "        header = None\n",
    "        links=[]\n",
    "        while i<len(page):\n",
    "            if page[i]==word[idx]:\n",
    "                if idx==len(word):\n",
    "                    basicscore+=1\n",
    "                    idx=word[idx]\n",
    "                else:\n",
    "                    idx+=1\n",
    "            else:\n",
    "                idx = word_arr[idx]\n",
    "            \n",
    "            if page[i]==ex_urls[idx2]:\n",
    "                if idx2==len(ex_urls):\n",
    "                    j=i\n",
    "                    while True:\n",
    "                        if page[j]=='>':\n",
    "                            break\n",
    "                        j+=1\n",
    "                    links.append(page[i:j])\n",
    "            i+=1\n",
    "    return answer[0]\n",
    "\n",
    "\n",
    "def failurefunc(p):\n",
    "    failurearr = [0 for _ in range(len(p))]\n",
    "    i=0\n",
    "    j=1\n",
    "    while j<len(p):\n",
    "        print(i,j)\n",
    "        if p[i]==p[j]:\n",
    "            failurearr[j]=failurearr[j-1]+1\n",
    "            i+=1\n",
    "            j+=1\n",
    "            \n",
    "        else:\n",
    "            if i>0:\n",
    "                i=failurearr[i]-1\n",
    "            \n",
    "            j+=1\n",
    "    return failurearr\n",
    "        \n",
    "temp = 'adhbadc'\n",
    "print(KMP(temp,temp))"
   ]
  },
  {
   "cell_type": "code",
   "execution_count": null,
   "metadata": {},
   "outputs": [],
   "source": []
  }
 ],
 "metadata": {
  "kernelspec": {
   "display_name": "Python 3",
   "language": "python",
   "name": "python3"
  },
  "language_info": {
   "codemirror_mode": {
    "name": "ipython",
    "version": 3
   },
   "file_extension": ".py",
   "mimetype": "text/x-python",
   "name": "python",
   "nbconvert_exporter": "python",
   "pygments_lexer": "ipython3",
   "version": "3.7.7"
  }
 },
 "nbformat": 4,
 "nbformat_minor": 4
}
