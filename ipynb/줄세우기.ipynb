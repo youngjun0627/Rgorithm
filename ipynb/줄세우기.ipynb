{
 "cells": [
  {
   "cell_type": "code",
   "execution_count": 21,
   "metadata": {},
   "outputs": [
    {
     "name": "stdout",
     "output_type": "stream",
     "text": [
      "4 2\n",
      "4 2\n",
      "3 1\n",
      "3 4 1 2\n"
     ]
    }
   ],
   "source": [
    "n,m = map(int,input().split())\n",
    "dic={}\n",
    "q = []\n",
    "count_arr = {}\n",
    "path=[]\n",
    "visit = set()\n",
    "for i in range(1,n+1):\n",
    "    dic[i]=[]\n",
    "    count_arr[i]=0\n",
    "\n",
    "for _ in range(m):\n",
    "    a,b = map(int,input().split())\n",
    "    dic[a].append(b)\n",
    "    count_arr[b]+=1\n",
    "    \n",
    "for k,v in count_arr.items():\n",
    "    if v==0:\n",
    "        q.append(k)\n",
    "        visit.add(k)\n",
    "\n",
    "\n",
    "while q:    \n",
    "    cur = q.pop(0)\n",
    "    for _next in dic[cur]:\n",
    "        count_arr[_next]-=1\n",
    "        if count_arr[_next]==0:\n",
    "            q.append(_next)\n",
    "        \n",
    "        \n",
    "    path.append(cur)\n",
    "answer=str(path[0])\n",
    "for i,p in enumerate(path):\n",
    "    if i==0:\n",
    "        continue\n",
    "    answer+=' '+str(p)\n",
    "print(answer)\n",
    "        "
   ]
  },
  {
   "cell_type": "code",
   "execution_count": null,
   "metadata": {},
   "outputs": [],
   "source": []
  }
 ],
 "metadata": {
  "kernelspec": {
   "display_name": "Python 3",
   "language": "python",
   "name": "python3"
  },
  "language_info": {
   "codemirror_mode": {
    "name": "ipython",
    "version": 3
   },
   "file_extension": ".py",
   "mimetype": "text/x-python",
   "name": "python",
   "nbconvert_exporter": "python",
   "pygments_lexer": "ipython3",
   "version": "3.7.7"
  }
 },
 "nbformat": 4,
 "nbformat_minor": 4
}
