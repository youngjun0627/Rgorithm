{
 "cells": [
  {
   "cell_type": "code",
   "execution_count": 28,
   "metadata": {},
   "outputs": [],
   "source": [
    "dic={}\n",
    "with open('trainlist01.txt','r') as f:\n",
    "    while True:\n",
    "        _str = f.readline()\n",
    "        if _str=='':\n",
    "            break\n",
    "        value,k = _str.split()\n",
    "        if k not in dic:\n",
    "            dic[k]=[]\n",
    "        dic[k].append(value)\n",
    "    f.close()\n",
    "with open('temp.txt','w') as f:\n",
    "    cnt=0\n",
    "    \n",
    "    for k,v in dic.items():\n",
    "        \n",
    "        for e in v:\n",
    "            cnt+=1\n",
    "            if cnt==10:\n",
    "                cnt=0\n",
    "                break\n",
    "            f.write('{} {}\\n'.format(e,k))\n",
    "    f.close()"
   ]
  },
  {
   "cell_type": "code",
   "execution_count": 55,
   "metadata": {},
   "outputs": [],
   "source": [
    "def ufuck(x,y,z):\n",
    "    return x+y+z\n",
    "\n",
    "def main():\n",
    "    a,b,c = 1,2,3\n",
    "    result = ufuck(a,b,c)\n",
    "    print(result)"
   ]
  },
  {
   "cell_type": "code",
   "execution_count": 54,
   "metadata": {},
   "outputs": [
    {
     "name": "stdout",
     "output_type": "stream",
     "text": [
      "6\n"
     ]
    }
   ],
   "source": [
    "main()"
   ]
  },
  {
   "cell_type": "code",
   "execution_count": null,
   "metadata": {},
   "outputs": [],
   "source": []
  }
 ],
 "metadata": {
  "kernelspec": {
   "display_name": "Python 3",
   "language": "python",
   "name": "python3"
  },
  "language_info": {
   "codemirror_mode": {
    "name": "ipython",
    "version": 3
   },
   "file_extension": ".py",
   "mimetype": "text/x-python",
   "name": "python",
   "nbconvert_exporter": "python",
   "pygments_lexer": "ipython3",
   "version": "3.7.7"
  }
 },
 "nbformat": 4,
 "nbformat_minor": 4
}
