{
 "cells": [
  {
   "cell_type": "code",
   "execution_count": 38,
   "metadata": {},
   "outputs": [
    {
     "name": "stdout",
     "output_type": "stream",
     "text": [
      "5 3\n",
      "4 4 1 1\n",
      "4\n"
     ]
    }
   ],
   "source": [
    "n,k = map(int,input().split())\n",
    "blocks = [0] + list(map(int,input().split()))\n",
    "result = []\n",
    "cnt = 1\n",
    "for i in range(1,n):\n",
    "    if blocks[i]<=k:\n",
    "        cnt+=1\n",
    "    else:\n",
    "        result.append(cnt)\n",
    "        cnt=1\n",
    "if cnt:\n",
    "    result.append(cnt)\n",
    "answer = 0\n",
    "if len(result)==1:\n",
    "    answer = result[0]\n",
    "else:\n",
    "    for i in range(len(result)-1):\n",
    "        answer = max(answer, result[i] + result[i+1])\n",
    "print(answer)"
   ]
  },
  {
   "cell_type": "code",
   "execution_count": 34,
   "metadata": {},
   "outputs": [
    {
     "data": {
      "text/plain": [
       "[2, 1]"
      ]
     },
     "execution_count": 34,
     "metadata": {},
     "output_type": "execute_result"
    }
   ],
   "source": [
    "result"
   ]
  },
  {
   "cell_type": "code",
   "execution_count": null,
   "metadata": {},
   "outputs": [],
   "source": []
  }
 ],
 "metadata": {
  "kernelspec": {
   "display_name": "Python 3",
   "language": "python",
   "name": "python3"
  },
  "language_info": {
   "codemirror_mode": {
    "name": "ipython",
    "version": 3
   },
   "file_extension": ".py",
   "mimetype": "text/x-python",
   "name": "python",
   "nbconvert_exporter": "python",
   "pygments_lexer": "ipython3",
   "version": "3.7.7"
  }
 },
 "nbformat": 4,
 "nbformat_minor": 4
}
