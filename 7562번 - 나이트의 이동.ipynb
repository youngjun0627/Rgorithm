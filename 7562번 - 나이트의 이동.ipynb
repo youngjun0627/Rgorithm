{
 "cells": [
  {
   "cell_type": "code",
   "execution_count": 48,
   "metadata": {},
   "outputs": [
    {
     "name": "stdout",
     "output_type": "stream",
     "text": [
      "3\n",
      "8\n",
      "0 0\n",
      "7 0\n",
      "5\n",
      "100\n",
      "0 0\n",
      "30 50\n",
      "28\n",
      "10\n",
      "1 1\n",
      "1 1\n",
      "0\n"
     ]
    }
   ],
   "source": [
    "from collections import deque\n",
    "\n",
    "for _ in range(int(input())):\n",
    "    n = int(input())\n",
    "    board = [[0 for _ in range(n)] for _ in range(n)]\n",
    "    start = tuple(map(int,input().split()))\n",
    "    end = tuple(map(int,input().split()))\n",
    "    q = deque()\n",
    "    q.append((start[0],start[1],0))\n",
    "    visit = set()\n",
    "    visit.add(start)\n",
    "    dy = [-2,-1,1,2,2,1,-1,-2]\n",
    "    dx = [1,2,2,1,-1,-2,-2,-1]\n",
    "    result=0\n",
    "    while q:\n",
    "        y,x,cnt = q.popleft()\n",
    "        if y==end[0] and x==end[1]:\n",
    "            result=cnt\n",
    "            break\n",
    "        for i in range(8):\n",
    "            ny = y+dy[i]\n",
    "            nx = x+dx[i]\n",
    "            if 0<=ny<n and 0<=nx<n:\n",
    "                if (ny,nx) not in visit:\n",
    "                    visit.add((ny,nx))\n",
    "                    q.append((ny,nx,cnt+1))\n",
    "    print(result)"
   ]
  },
  {
   "cell_type": "code",
   "execution_count": 44,
   "metadata": {},
   "outputs": [
    {
     "name": "stdout",
     "output_type": "stream",
     "text": [
      "[2, 0, 1, 0, 0]\n"
     ]
    },
    {
     "data": {
      "text/plain": [
       "1"
      ]
     },
     "execution_count": 44,
     "metadata": {},
     "output_type": "execute_result"
    }
   ],
   "source": [
    "food_times = [3,1,2,1,1]\n",
    "k=5\n",
    "solution(food_times, k)"
   ]
  },
  {
   "cell_type": "code",
   "execution_count": null,
   "metadata": {},
   "outputs": [],
   "source": []
  },
  {
   "cell_type": "code",
   "execution_count": null,
   "metadata": {},
   "outputs": [],
   "source": []
  }
 ],
 "metadata": {
  "kernelspec": {
   "display_name": "Python 3",
   "language": "python",
   "name": "python3"
  },
  "language_info": {
   "codemirror_mode": {
    "name": "ipython",
    "version": 3
   },
   "file_extension": ".py",
   "mimetype": "text/x-python",
   "name": "python",
   "nbconvert_exporter": "python",
   "pygments_lexer": "ipython3",
   "version": "3.7.7"
  }
 },
 "nbformat": 4,
 "nbformat_minor": 4
}
