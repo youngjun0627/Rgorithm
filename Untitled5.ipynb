{
 "cells": [
  {
   "cell_type": "code",
   "execution_count": 10,
   "metadata": {},
   "outputs": [
    {
     "name": "stdout",
     "output_type": "stream",
     "text": [
      "8\n",
      "1 9\n",
      "3 9\n",
      "2 2\n",
      "4 1\n",
      "6 4\n",
      "10 10\n",
      "9 7\n",
      "7 6\n",
      "3\n"
     ]
    }
   ],
   "source": [
    "elec_list = []\n",
    "n = int(input())\n",
    "for _ in range(n):\n",
    "    elec_list.append(list(map(int,input().split())))\n",
    "    \n",
    "elec_list.sort()\n",
    "dp = [1 for _ in range(n)]\n",
    "for i in range(n):\n",
    "    for j in range(i):\n",
    "        #print(dp)\n",
    "        if elec_list[i][1]>elec_list[j][1]:\n",
    "            dp[i] = max(dp[j]+1,dp[i])\n",
    "            \n",
    "print(n-max(dp))"
   ]
  },
  {
   "cell_type": "code",
   "execution_count": 9,
   "metadata": {},
   "outputs": [
    {
     "data": {
      "text/plain": [
       "[1, 1, 2, 1, 2, 3, 4, 5]"
      ]
     },
     "execution_count": 9,
     "metadata": {},
     "output_type": "execute_result"
    }
   ],
   "source": [
    "8\n",
    "1 8\n",
    "3 9\n",
    "2 2\n",
    "4 1\n",
    "6 4\n",
    "10 10\n",
    "9 7\n",
    "7 6"
   ]
  },
  {
   "cell_type": "code",
   "execution_count": null,
   "metadata": {},
   "outputs": [],
   "source": []
  }
 ],
 "metadata": {
  "kernelspec": {
   "display_name": "Python 3",
   "language": "python",
   "name": "python3"
  },
  "language_info": {
   "codemirror_mode": {
    "name": "ipython",
    "version": 3
   },
   "file_extension": ".py",
   "mimetype": "text/x-python",
   "name": "python",
   "nbconvert_exporter": "python",
   "pygments_lexer": "ipython3",
   "version": "3.7.7"
  }
 },
 "nbformat": 4,
 "nbformat_minor": 4
}
