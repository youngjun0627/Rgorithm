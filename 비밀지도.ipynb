{
 "cells": [
  {
   "cell_type": "code",
   "execution_count": 22,
   "metadata": {},
   "outputs": [
    {
     "name": "stdout",
     "output_type": "stream",
     "text": [
      "111111\n",
      "111001\n",
      "110011\n",
      "011110\n",
      "011111\n",
      "111010\n"
     ]
    },
    {
     "data": {
      "text/plain": [
       "['######', '###  #', '##  ##', ' #### ', ' #####', '### # ']"
      ]
     },
     "execution_count": 22,
     "metadata": {},
     "output_type": "execute_result"
    }
   ],
   "source": [
    "def solution(n, arr1, arr2):\n",
    "    answer = []\n",
    "    \n",
    "    for a,b in zip(arr1,arr2):\n",
    "        c = a|b\n",
    "        s = str(bin(c))[2:]\n",
    "        while len(s)<n:\n",
    "            s='0'+s\n",
    "        print(s)\n",
    "        temp=''\n",
    "        for i in s:\n",
    "            if i=='1':\n",
    "                temp+='#'\n",
    "            else:\n",
    "                temp+=\" \"\n",
    "        answer.append(temp)\n",
    "        temp=''\n",
    "        \n",
    "    return answer\n",
    "\n",
    "n=6\n",
    "arr1 =[46,33,33,22,31,50]\n",
    "arr2 = [27,56,19,14,14,10]\n",
    "solution(n,arr1,arr2)"
   ]
  },
  {
   "cell_type": "code",
   "execution_count": null,
   "metadata": {},
   "outputs": [],
   "source": []
  }
 ],
 "metadata": {
  "kernelspec": {
   "display_name": "Python 3",
   "language": "python",
   "name": "python3"
  },
  "language_info": {
   "codemirror_mode": {
    "name": "ipython",
    "version": 3
   },
   "file_extension": ".py",
   "mimetype": "text/x-python",
   "name": "python",
   "nbconvert_exporter": "python",
   "pygments_lexer": "ipython3",
   "version": "3.7.7"
  }
 },
 "nbformat": 4,
 "nbformat_minor": 4
}
