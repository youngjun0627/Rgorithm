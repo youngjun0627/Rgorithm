{
 "cells": [
  {
   "cell_type": "code",
   "execution_count": 9,
   "metadata": {},
   "outputs": [],
   "source": [
    "def solution(jobs):\n",
    "    answer = 0\n",
    "    start = 0\n",
    "    jobs_length = len(jobs)\n",
    "    jobs = sorted(jobs, key=lambda x:x[1])\n",
    "    while len(jobs)>0:\n",
    "        for i in range(len(jobs)):\n",
    "            if jobs[i][0]<=start:\n",
    "                start +=jobs[i][1]\n",
    "                answer+=start-jobs[i][0]\n",
    "                jobs.pop(i)\n",
    "                break\n",
    "            else:\n",
    "                if i==len(jobs)-1:\n",
    "                    start+=1\n",
    "    return answer//jobs_length"
   ]
  },
  {
   "cell_type": "code",
   "execution_count": 10,
   "metadata": {},
   "outputs": [
    {
     "name": "stdout",
     "output_type": "stream",
     "text": [
      "550 500\n",
      "6 6\n",
      "7 7\n"
     ]
    }
   ],
   "source": [
    "#print(solution([[0, 10], [2, 10], [9, 10], [15, 2]]), 14)\n",
    "#rint(solution([[0, 10], [2, 12], [9, 19], [15, 17]]), 25)\n",
    "#print(solution([[0, 3], [1, 9], [2, 6]]), 9)\n",
    "#print(solution([[0, 1]]), 1)\n",
    "#print(solution([[1000, 1000]]), 1000)\n",
    "#print(solution([[0, 1], [0, 1], [0, 1]]), 2)\n",
    "#print(solution([[0, 1], [0, 1], [0, 1], [0, 1]]), 2)\n",
    "#print(solution([[0, 1], [1000, 1000]]), 500)\n",
    "print(solution([[100, 100], [1000, 1000]]), 500)\n",
    "print(solution([[10, 10], [30, 10], [50, 2], [51, 2]]), 6)\n",
    "print(solution([[0, 3], [1, 9], [2, 6], [30, 3]]), 7)\n"
   ]
  },
  {
   "cell_type": "code",
   "execution_count": null,
   "metadata": {},
   "outputs": [],
   "source": []
  }
 ],
 "metadata": {
  "kernelspec": {
   "display_name": "Python 3",
   "language": "python",
   "name": "python3"
  },
  "language_info": {
   "codemirror_mode": {
    "name": "ipython",
    "version": 3
   },
   "file_extension": ".py",
   "mimetype": "text/x-python",
   "name": "python",
   "nbconvert_exporter": "python",
   "pygments_lexer": "ipython3",
   "version": "3.7.7"
  }
 },
 "nbformat": 4,
 "nbformat_minor": 4
}
