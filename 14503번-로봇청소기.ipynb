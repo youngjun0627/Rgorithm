{
 "cells": [
  {
   "cell_type": "code",
   "execution_count": 25,
   "metadata": {},
   "outputs": [
    {
     "name": "stdout",
     "output_type": "stream",
     "text": [
      "6 2 1 0\n",
      "5 2 0 0\n",
      "5 1 3 0\n",
      "6 1 2 0\n",
      "6 1 1 1\n",
      "6 1 0 2\n",
      "6 1 3 3\n",
      "7 1 2 0\n",
      "7 2 1 0\n",
      "7 2 0 1\n",
      "7 2 3 2\n",
      "7 2 2 3\n",
      "7 3 1 0\n",
      "7 3 0 1\n",
      "7 3 3 2\n",
      "7 3 2 3\n",
      "7 4 1 0\n",
      "7 4 0 1\n",
      "7 4 3 2\n",
      "7 4 2 3\n",
      "7 5 1 0\n",
      "6 5 0 0\n",
      "6 5 3 1\n",
      "6 5 2 2\n",
      "6 5 1 3\n",
      "5 5 0 0\n",
      "5 4 3 0\n",
      "5 4 2 1\n",
      "5 4 1 2\n",
      "5 4 0 3\n",
      "5 3 3 0\n",
      "5 3 2 1\n",
      "5 3 1 2\n",
      "5 3 0 3\n",
      "5 3 3 4\n",
      "5 4 3 0\n",
      "5 4 2 1\n",
      "5 4 1 2\n",
      "5 4 0 3\n",
      "5 4 3 4\n",
      "5 5 3 0\n",
      "5 5 2 1\n",
      "5 5 1 2\n",
      "5 5 0 3\n",
      "5 5 3 4\n",
      "13\n"
     ]
    }
   ],
   "source": [
    "from collections import deque\n",
    "\n",
    "def check(y,x,o):\n",
    "    if o==0:\n",
    "        return y,x-1,3\n",
    "    if o==1:\n",
    "        return y-1,x,0\n",
    "    if o==2:\n",
    "        return y, x+1,1\n",
    "    if o==3:\n",
    "        return y+1, x, 2\n",
    "\n",
    "def check2(y,x,o, board):\n",
    "    if o==0:\n",
    "        return y+1,x,0\n",
    "    if o==1:\n",
    "        return y,x-1,1\n",
    "    if o==2:\n",
    "        return y-1,x,2\n",
    "    if o==3:\n",
    "        return y,x+1,3\n",
    "\n",
    "n,m = map(int,input().split())\n",
    "board = []\n",
    "not_clean = []\n",
    "r,c,o = map(int,input().split())\n",
    "for i in range(n):\n",
    "    _str = list(map(int,input().split()))\n",
    "    for j in range(m):\n",
    "        if _str[j]==0:\n",
    "            not_clean.append((i,j))\n",
    "    board.append(_str)\n",
    "\n",
    "not_clean = []\n",
    "for i in range(n):\n",
    "    for j in range(m):\n",
    "        if board[i][j]==0:\n",
    "            not_clean.append((i,j))\n",
    "\n",
    "q = deque()\n",
    "q.append((r,c,o,0))\n",
    "answer = 0\n",
    "while q:\n",
    "    y,x,o,cnt = q.popleft()\n",
    "    #print(y,x,o,cnt)\n",
    "    if (y,x) in not_clean:\n",
    "        not_clean.remove((y,x))\n",
    "        answer += 1\n",
    "    if cnt==4:\n",
    "        ny,nx,o = check2(y,x,o,board)\n",
    "        if board[ny][nx]!=1:\n",
    "            q.append((ny,nx,o,0))\n",
    "            continue\n",
    "        else:\n",
    "            break\n",
    "    ny,nx,no = check(y,x,o)\n",
    "    if (ny,nx) in not_clean:\n",
    "        q.append((ny,nx,no,0))\n",
    "    else:\n",
    "        q.append((y,x,no,cnt+1))\n",
    "print(answer)"
   ]
  },
  {
   "cell_type": "code",
   "execution_count": 7,
   "metadata": {},
   "outputs": [
    {
     "data": {
      "text/plain": [
       "[(1, 1)]"
      ]
     },
     "execution_count": 7,
     "metadata": {},
     "output_type": "execute_result"
    }
   ],
   "source": [
    "n,m = 11 ,10\n",
    "r,c,o = 7,4,0\n",
    "board = [[1, 1 ,1, 1, 1, 1, 1, 1, 1, 1],\n",
    "[1, 0, 0, 0, 0, 0, 0, 0, 0, 1],\n",
    "[1, 0, 0, 0, 1 ,1 ,1, 1, 0, 1],\n",
    "[1, 0, 0, 1, 1 ,0, 0, 0 ,0, 1],\n",
    "[1, 0, 1, 1 ,0 ,0, 0, 0 ,0 ,1],\n",
    "[1, 0, 0, 0 ,0 ,0, 0, 0 ,0 ,1],\n",
    "[1, 0, 0, 0 ,0 ,0, 0, 1 ,0 ,1],\n",
    "[1, 0, 0, 0 ,0 ,0, 1, 1, 0 ,1],\n",
    "[1, 0, 0, 0 ,0 ,0 ,1 ,1 ,0 ,1],\n",
    "[1, 0, 0, 0 ,0 ,0 ,0 ,0 ,0 ,1],\n",
    "[1, 1, 1, 1 ,1 ,1, 1 ,1 ,1 ,1]]"
   ]
  },
  {
   "cell_type": "code",
   "execution_count": null,
   "metadata": {},
   "outputs": [],
   "source": []
  }
 ],
 "metadata": {
  "kernelspec": {
   "display_name": "Python 3",
   "language": "python",
   "name": "python3"
  },
  "language_info": {
   "codemirror_mode": {
    "name": "ipython",
    "version": 3
   },
   "file_extension": ".py",
   "mimetype": "text/x-python",
   "name": "python",
   "nbconvert_exporter": "python",
   "pygments_lexer": "ipython3",
   "version": "3.7.7"
  }
 },
 "nbformat": 4,
 "nbformat_minor": 4
}
