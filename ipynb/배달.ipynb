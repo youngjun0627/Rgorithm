{
 "cells": [
  {
   "cell_type": "code",
   "execution_count": 16,
   "metadata": {},
   "outputs": [
    {
     "name": "stdout",
     "output_type": "stream",
     "text": [
      "[0, 1, 2, 5, 4, 5]\n"
     ]
    },
    {
     "data": {
      "text/plain": [
       "4"
      ]
     },
     "execution_count": 16,
     "metadata": {},
     "output_type": "execute_result"
    }
   ],
   "source": [
    "def solution(N, road, K):\n",
    "    answer = 0\n",
    "    board = [[99999999 for _ in range(N)] for _ in range(N)]\n",
    "    for r in road:\n",
    "        if board[r[0]-1][r[1]-1]>r[2]:\n",
    "            board[r[0]-1][r[1]-1] = r[2]\n",
    "            board[r[1]-1][r[0]-1] = r[2]\n",
    "    distance = [9999999 for _ in range(N)]\n",
    "    distance[0]=0\n",
    "    start = 0\n",
    "    visit = set()\n",
    "    while True:\n",
    "        if len(visit)==N:\n",
    "            break\n",
    "        _min=99999999\n",
    "        for idx,dis in enumerate(distance):\n",
    "            if dis<_min and idx not in visit:\n",
    "                _min=dis\n",
    "                start = idx\n",
    "        for _next in range(N):\n",
    "            if start==_next:\n",
    "                continue\n",
    "            distance[_next] = min(distance[_next],distance[start]+board[start][_next])\n",
    "        visit.add(start)\n",
    "    print(distance)\n",
    "    for a in distance:\n",
    "        if a<=K:\n",
    "            answer+=1\n",
    "    return answer\n",
    "\n",
    "#road = [[1,2,1],[2,3,3],[5,2,2],[1,4,2],[5,3,1],[5,4,2]]\n",
    "#N=5\n",
    "#K=3\n",
    "road = [[1,2,1],[1,3,2],[2,3,2],[3,4,3],[3,5,2],[3,5,3],[5,6,1]]\n",
    "N=6\n",
    "K=4\n",
    "solution(N,road,K)"
   ]
  },
  {
   "cell_type": "code",
   "execution_count": null,
   "metadata": {},
   "outputs": [],
   "source": []
  }
 ],
 "metadata": {
  "kernelspec": {
   "display_name": "Python 3",
   "language": "python",
   "name": "python3"
  },
  "language_info": {
   "codemirror_mode": {
    "name": "ipython",
    "version": 3
   },
   "file_extension": ".py",
   "mimetype": "text/x-python",
   "name": "python",
   "nbconvert_exporter": "python",
   "pygments_lexer": "ipython3",
   "version": "3.7.7"
  }
 },
 "nbformat": 4,
 "nbformat_minor": 4
}
