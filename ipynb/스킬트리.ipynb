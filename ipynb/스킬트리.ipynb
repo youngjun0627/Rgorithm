{
 "cells": [
  {
   "cell_type": "code",
   "execution_count": 20,
   "metadata": {},
   "outputs": [
    {
     "name": "stdout",
     "output_type": "stream",
     "text": [
      "{'C': 1, 'B': 1}\n",
      "{'C': 1, 'B': 1}\n",
      "{'C': 1}\n",
      "{'C': 0, 'B': 1}\n",
      "{'C': 1, 'B': 1}\n",
      "{'C': 1}\n",
      "{'C': 0, 'B': 1}\n",
      "{'C': 1, 'B': 1}\n"
     ]
    },
    {
     "data": {
      "text/plain": [
       "2"
      ]
     },
     "execution_count": 20,
     "metadata": {},
     "output_type": "execute_result"
    }
   ],
   "source": [
    "import copy\n",
    "\n",
    "def solution(skill, skill_trees):\n",
    "    answer = 0\n",
    "    dic = {}\n",
    "    for sk in skill[::-1]:\n",
    "        dic[sk] = {}\n",
    "        idx = 0\n",
    "        while True:\n",
    "            if sk==skill[idx]:\n",
    "                break\n",
    "            dic[sk][skill[idx]]=1\n",
    "            idx+=1\n",
    "    for sk in skill_trees:\n",
    "        check=True\n",
    "        _dic = copy.deepcopy(dic)\n",
    "        for s in sk:\n",
    "            if s in dic:\n",
    "                for k,v in _dic.items():\n",
    "                    if s in v:\n",
    "                        #print(v)\n",
    "                        _dic[k][s]=0\n",
    "                if sum(_dic[s].values())==0:\n",
    "                    continue\n",
    "                else:\n",
    "                    check=False\n",
    "                    break\n",
    "                \n",
    "        if check:\n",
    "            answer+=1\n",
    "    return answer\n",
    "\n",
    "skill = \"CBD\"\n",
    "skill_trees = [\"BACDE\", \"CBADF\", \"AECB\", \"BDA\"]\n",
    "solution(skill, skill_trees)\n"
   ]
  },
  {
   "cell_type": "code",
   "execution_count": 18,
   "metadata": {},
   "outputs": [
    {
     "name": "stdout",
     "output_type": "stream",
     "text": [
      "{'a': 2}\n",
      "{'a': 2}\n"
     ]
    }
   ],
   "source": [
    "dic = {'a':1}\n",
    "\n",
    "dic2 = dic\n",
    "dic2['a']=2\n",
    "\n",
    "print(dic2)\n",
    "print(dic)"
   ]
  },
  {
   "cell_type": "code",
   "execution_count": null,
   "metadata": {},
   "outputs": [],
   "source": []
  }
 ],
 "metadata": {
  "kernelspec": {
   "display_name": "Python 3",
   "language": "python",
   "name": "python3"
  },
  "language_info": {
   "codemirror_mode": {
    "name": "ipython",
    "version": 3
   },
   "file_extension": ".py",
   "mimetype": "text/x-python",
   "name": "python",
   "nbconvert_exporter": "python",
   "pygments_lexer": "ipython3",
   "version": "3.7.7"
  }
 },
 "nbformat": 4,
 "nbformat_minor": 4
}
