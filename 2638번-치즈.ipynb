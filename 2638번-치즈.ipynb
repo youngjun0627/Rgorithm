{
 "cells": [
  {
   "cell_type": "code",
   "execution_count": 3,
   "metadata": {},
   "outputs": [
    {
     "name": "stdout",
     "output_type": "stream",
     "text": [
      "3\n"
     ]
    }
   ],
   "source": [
    "from collections import deque\n",
    "\n",
    "n,m = map(int,input().split())\n",
    "\n",
    "board = []\n",
    "for _ in range(n):\n",
    "    board.append(list(map(int,input().split())))\n",
    "    \n",
    "\n",
    "def search_empty(board,n,m):\n",
    "    global visit\n",
    "    for i in range(n):\n",
    "        for j in range(m):\n",
    "            if board[i][j]==0 and (i,j) not in visit:\n",
    "                return (i,j)\n",
    "    return (-1,-1)\n",
    "\n",
    "def init_cnt_board(n,m):\n",
    "    global cnt_board\n",
    "    for i in range(n):\n",
    "        for j in range(m):\n",
    "            cnt_board[i][j]=0\n",
    "            \n",
    "cnt_board = [[0 for _ in range(m)] for _ in range(n)]\n",
    "visit = set()\n",
    "\n",
    "def bfs(start,board):\n",
    "    global cnt_board\n",
    "    global visit\n",
    "    q = deque()\n",
    "    q.append(start)\n",
    "    visit.add(start)\n",
    "    dy = [0,0,-1,1]\n",
    "    dx = [-1,1,0,0]\n",
    "    result = []\n",
    "    check = False\n",
    "    while q:\n",
    "        y,x = q.popleft()\n",
    "        for i in range(4):\n",
    "            ny = y+dy[i]\n",
    "            nx = x+dx[i]\n",
    "            if 0<=ny<n and 0<=nx<m:\n",
    "                if (ny,nx) not in visit:\n",
    "                    if board[ny][nx]==0:\n",
    "                        visit.add((ny,nx))\n",
    "                        q.append((ny,nx))\n",
    "                    else:\n",
    "                        result.append((ny,nx))\n",
    "            else:\n",
    "                check = True\n",
    "    if check:\n",
    "        for y,x in result:\n",
    "            cnt_board[y][x]+=1\n",
    "    \n",
    "def renew_board(n,m):\n",
    "    global cnt_board\n",
    "    global board\n",
    "    for i in range(n):\n",
    "        for j in range(m):\n",
    "            if cnt_board[i][j]>1:\n",
    "                board[i][j]=0\n",
    "                \n",
    "def check_board(n,m):\n",
    "    global board\n",
    "    for i in range(n):\n",
    "        for j in range(m):\n",
    "            if board[i][j]:\n",
    "                return False\n",
    "    return True\n",
    "\n",
    "def solution(board,n,m):\n",
    "    global visit\n",
    "    answer = 0\n",
    "    for i in range(10000):\n",
    "        while True:\n",
    "            start = search_empty(board,n,m)\n",
    "            if start[0]!=-1:\n",
    "                bfs(start,board)\n",
    "            else:\n",
    "                renew_board(n,m)\n",
    "                init_cnt_board(n,m)\n",
    "                visit.clear()\n",
    "                break\n",
    "        if check_board(n,m):\n",
    "            answer = i\n",
    "            break\n",
    "        #print(cnt_board)\n",
    "    return answer\n",
    "\n",
    "print(solution(board,n,m)+1)"
   ]
  },
  {
   "cell_type": "code",
   "execution_count": 1,
   "metadata": {},
   "outputs": [],
   "source": [
    "n,m = 8,9\n",
    "board = [[0, 0, 0, 0, 0, 0, 0, 0, 0],\n",
    "[0, 0, 0, 0, 0, 0, 0, 0, 0],\n",
    "[0, 1, 1 ,0 ,0, 0 ,1, 1 ,0],\n",
    "[0, 1, 0 ,1, 1 ,1, 0 ,1 ,0],\n",
    "[0, 1, 0 ,0, 1 ,0 ,0 ,1, 0],\n",
    "[0, 1, 0 ,1, 1, 1 ,0 ,1 ,0],\n",
    "[0, 1, 1 ,0 ,0 ,0 ,1 ,1 ,0],\n",
    "[0, 0, 0 ,0, 0 ,0, 0 ,0 ,0]]"
   ]
  },
  {
   "cell_type": "code",
   "execution_count": 2,
   "metadata": {},
   "outputs": [
    {
     "ename": "NameError",
     "evalue": "name 'solution' is not defined",
     "output_type": "error",
     "traceback": [
      "\u001b[1;31m---------------------------------------------------------------------------\u001b[0m",
      "\u001b[1;31mNameError\u001b[0m                                 Traceback (most recent call last)",
      "\u001b[1;32m<ipython-input-2-bf10cc4a2fa8>\u001b[0m in \u001b[0;36m<module>\u001b[1;34m\u001b[0m\n\u001b[1;32m----> 1\u001b[1;33m \u001b[0msolution\u001b[0m\u001b[1;33m(\u001b[0m\u001b[0mboard\u001b[0m\u001b[1;33m,\u001b[0m\u001b[0mn\u001b[0m\u001b[1;33m,\u001b[0m\u001b[0mm\u001b[0m\u001b[1;33m)\u001b[0m\u001b[1;33m\u001b[0m\u001b[1;33m\u001b[0m\u001b[0m\n\u001b[0m",
      "\u001b[1;31mNameError\u001b[0m: name 'solution' is not defined"
     ]
    }
   ],
   "source": [
    "solution(board,n,m)"
   ]
  },
  {
   "cell_type": "code",
   "execution_count": null,
   "metadata": {},
   "outputs": [],
   "source": []
  }
 ],
 "metadata": {
  "kernelspec": {
   "display_name": "Python 3",
   "language": "python",
   "name": "python3"
  },
  "language_info": {
   "codemirror_mode": {
    "name": "ipython",
    "version": 3
   },
   "file_extension": ".py",
   "mimetype": "text/x-python",
   "name": "python",
   "nbconvert_exporter": "python",
   "pygments_lexer": "ipython3",
   "version": "3.7.7"
  }
 },
 "nbformat": 4,
 "nbformat_minor": 4
}
