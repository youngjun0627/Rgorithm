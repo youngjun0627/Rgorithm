{
 "cells": [
  {
   "cell_type": "code",
   "execution_count": 54,
   "metadata": {},
   "outputs": [],
   "source": [
    "def solution(lines):\n",
    "    answer = 0\n",
    "    times=[]\n",
    "    readyq = []\n",
    "    for line in lines:\n",
    "        start,end = changetime(line)\n",
    "        readyq.append((start,end))\n",
    "        times.append((start+ 0.001 - 0.9991 ,start))\n",
    "        times.append((start,start-0.001+0.9991))\n",
    "        times.append((end+ 0.001 - 0.9991 ,end))\n",
    "        times.append((end,end- 0.001 + 0.9991 ))\n",
    "    \n",
    "    for time in times:\n",
    "        time1,time2=time\n",
    "        cnt=0\n",
    "        for ready in readyq:\n",
    "            start = ready[0]\n",
    "            end = ready[1]\n",
    "            if (time1>=start and time1<=end) or (time2 <=end and time2>=start) or (start>=time1 and end<=time2) or (start<=time1 and end>=time2):\n",
    "                cnt+=1\n",
    "        answer=max(answer,cnt)\n",
    "    \n",
    "    \n",
    "    return answer\n",
    "\n",
    "def changetime(time):\n",
    "    a,b,c = time.split(' ')\n",
    "    h,m,s = b.split(':')\n",
    "    t = float(h)*24*60+float(m)*60+float(s)\n",
    "    start = t-float(c[:-1])+0.001\n",
    "    end=t\n",
    "    return start,end"
   ]
  },
  {
   "cell_type": "code",
   "execution_count": 55,
   "metadata": {},
   "outputs": [
    {
     "data": {
      "text/plain": [
       "5"
      ]
     },
     "execution_count": 55,
     "metadata": {},
     "output_type": "execute_result"
    }
   ],
   "source": [
    "lines = [\"2016-09-15 20:59:57.421 0.351s\", \"2016-09-15 20:59:58.233 1.181s\", \"2016-09-15 20:59:58.299 0.8s\", \"2016-09-15 20:59:58.688 1.041s\", \"2016-09-15 20:59:59.591 1.412s\", \"2016-09-15 21:00:00.464 1.466s\", \"2016-09-15 21:00:00.741 1.581s\", \"2016-09-15 21:00:00.748 2.31s\", \"2016-09-15 21:00:00.966 0.381s\", \"2016-09-15 21:00:02.066 2.62s\"]\n",
    "solution(lines)"
   ]
  },
  {
   "cell_type": "code",
   "execution_count": 31,
   "metadata": {},
   "outputs": [
    {
     "ename": "TypeError",
     "evalue": "unsupported operand type(s) for +: 'int' and 'datetime.timedelta'",
     "output_type": "error",
     "traceback": [
      "\u001b[1;31m---------------------------------------------------------------------------\u001b[0m",
      "\u001b[1;31mTypeError\u001b[0m                                 Traceback (most recent call last)",
      "\u001b[1;32m<ipython-input-31-69b96996d0f5>\u001b[0m in \u001b[0;36m<module>\u001b[1;34m\u001b[0m\n\u001b[1;32m----> 1\u001b[1;33m \u001b[1;36m1\u001b[0m \u001b[1;33m+\u001b[0m \u001b[0mtimedelta\u001b[0m\u001b[1;33m(\u001b[0m\u001b[0mmilliseconds\u001b[0m\u001b[1;33m=\u001b[0m\u001b[1;36m999\u001b[0m\u001b[1;33m)\u001b[0m\u001b[1;33m\u001b[0m\u001b[1;33m\u001b[0m\u001b[0m\n\u001b[0m",
      "\u001b[1;31mTypeError\u001b[0m: unsupported operand type(s) for +: 'int' and 'datetime.timedelta'"
     ]
    }
   ],
   "source": [
    "1 + timedelta(milliseconds=999)"
   ]
  },
  {
   "cell_type": "code",
   "execution_count": null,
   "metadata": {},
   "outputs": [],
   "source": []
  }
 ],
 "metadata": {
  "kernelspec": {
   "display_name": "Python 3",
   "language": "python",
   "name": "python3"
  },
  "language_info": {
   "codemirror_mode": {
    "name": "ipython",
    "version": 3
   },
   "file_extension": ".py",
   "mimetype": "text/x-python",
   "name": "python",
   "nbconvert_exporter": "python",
   "pygments_lexer": "ipython3",
   "version": "3.7.7"
  }
 },
 "nbformat": 4,
 "nbformat_minor": 4
}
