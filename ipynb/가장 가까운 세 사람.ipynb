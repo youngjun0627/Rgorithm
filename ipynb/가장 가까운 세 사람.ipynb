{
 "cells": [
  {
   "cell_type": "code",
   "execution_count": 9,
   "metadata": {},
   "outputs": [
    {
     "name": "stdout",
     "output_type": "stream",
     "text": [
      "1\n",
      "4\n",
      "esfp esfp abcd esfp\n",
      "0\n"
     ]
    }
   ],
   "source": [
    "from itertools import combinations\n",
    "\n",
    "case_number = int(input())\n",
    "for _ in range(case_number):\n",
    "    length = int(input())\n",
    "    students = list(input().split())\n",
    "    result=9999999\n",
    "    #students.sort(key=lambda x:(x[0],[1],[2],x[3]))\n",
    "    for comb in combinations(students,3):\n",
    "        a,b,c=comb\n",
    "        cnt=0\n",
    "        for k in range(4):\n",
    "            if a[k]!=b[k]:\n",
    "                cnt+=1\n",
    "            if b[k]!=c[k]:\n",
    "                cnt+=1\n",
    "            if c[k]!=a[k]:\n",
    "                cnt+=1\n",
    "        result=min(cnt,result)\n",
    "        if result==0:\n",
    "            break\n",
    "    \n",
    "    print(result)"
   ]
  },
  {
   "cell_type": "code",
   "execution_count": null,
   "metadata": {},
   "outputs": [],
   "source": []
  }
 ],
 "metadata": {
  "kernelspec": {
   "display_name": "Python 3",
   "language": "python",
   "name": "python3"
  },
  "language_info": {
   "codemirror_mode": {
    "name": "ipython",
    "version": 3
   },
   "file_extension": ".py",
   "mimetype": "text/x-python",
   "name": "python",
   "nbconvert_exporter": "python",
   "pygments_lexer": "ipython3",
   "version": "3.7.7"
  }
 },
 "nbformat": 4,
 "nbformat_minor": 4
}
