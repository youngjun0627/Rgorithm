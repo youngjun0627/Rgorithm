{
 "cells": [
  {
   "cell_type": "code",
   "execution_count": 50,
   "metadata": {},
   "outputs": [],
   "source": [
    "import heapq\n",
    "\n",
    "def solution(land, height):\n",
    "    answer = 0\n",
    "    start = (0,0,0)\n",
    "    n=len(land)\n",
    "    total = n**2\n",
    "    visit = set()\n",
    "    dy = [0,0,-1,1]\n",
    "    dx = [-1,1,0,0]\n",
    "    pq = []\n",
    "    pq.append(start)\n",
    "    while len(visit)<total:\n",
    "        c,y,x = heapq.heappop(pq)\n",
    "        \n",
    "        if (y,x) in visit:\n",
    "            continue\n",
    "        answer+=c\n",
    "        visit.add((y,x))\n",
    "        for i in range(4):\n",
    "            ny = y+dy[i]\n",
    "            nx = x+dx[i]\n",
    "            if 0<=ny<n and 0<=nx<n:\n",
    "                if abs(land[ny][nx]-land[y][x])<=height:\n",
    "                    heapq.heappush(pq,(0,ny,nx))\n",
    "                else:\n",
    "                    heapq.heappush(pq,(abs(land[ny][nx]-land[y][x]),ny,nx))\n",
    "                \n",
    "    return answer\n",
    "                "
   ]
  },
  {
   "cell_type": "code",
   "execution_count": 51,
   "metadata": {},
   "outputs": [
    {
     "data": {
      "text/plain": [
       "18"
      ]
     },
     "execution_count": 51,
     "metadata": {},
     "output_type": "execute_result"
    }
   ],
   "source": [
    "a= [[10, 11, 10, 11], [2, 21, 20, 10], [1, 20, 21, 11], [2, 1, 2, 1]]\n",
    "height = 1\n",
    "solution(a,height)"
   ]
  },
  {
   "cell_type": "code",
   "execution_count": null,
   "metadata": {},
   "outputs": [],
   "source": []
  }
 ],
 "metadata": {
  "kernelspec": {
   "display_name": "Python 3",
   "language": "python",
   "name": "python3"
  },
  "language_info": {
   "codemirror_mode": {
    "name": "ipython",
    "version": 3
   },
   "file_extension": ".py",
   "mimetype": "text/x-python",
   "name": "python",
   "nbconvert_exporter": "python",
   "pygments_lexer": "ipython3",
   "version": "3.7.7"
  }
 },
 "nbformat": 4,
 "nbformat_minor": 4
}
