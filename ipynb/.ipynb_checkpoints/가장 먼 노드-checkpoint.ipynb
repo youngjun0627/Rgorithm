{
 "cells": [
  {
   "cell_type": "code",
   "execution_count": null,
   "metadata": {},
   "outputs": [],
   "source": [
    "from collections import deque\n",
    "def solution(n, edge):\n",
    "    answer = 0\n",
    "    graph = {}\n",
    "    for e in edge:\n",
    "        a = e[0]\n",
    "        b = e[1]\n",
    "        if a not in graph:\n",
    "            graph[a]=[]\n",
    "        if b not in graph:\n",
    "            graph[b]=[]\n",
    "        graph[a].append(b)\n",
    "        graph[b].append(a)\n",
    "    start = 1\n",
    "    arr = [0 for _ in range(n+1)]\n",
    "    q = deque()\n",
    "    q.append((start,0))\n",
    "    visit = set()\n",
    "    visit.add(start)\n",
    "    while q:\n",
    "        cur,cnt = q.popleft()\n",
    "        arr[cur]=cnt\n",
    "        for _next in graph[cur]:\n",
    "            if _next not in visit:\n",
    "                q.append((_next,cnt+1))\n",
    "                visit.add(_next)\n",
    "    arr.sort(key=lambda x:-x)\n",
    "    _max=0\n",
    "    print(arr)\n",
    "    for idx, value in enumerate(arr):\n",
    "        if idx==0:\n",
    "            _max = value\n",
    "            answer+=1\n",
    "            continue\n",
    "        if _max==value:\n",
    "            answer+=1\n",
    "        else:\n",
    "            break\n",
    "                \n",
    "    return answer"
   ]
  }
 ],
 "metadata": {
  "kernelspec": {
   "display_name": "Python 3",
   "language": "python",
   "name": "python3"
  },
  "language_info": {
   "codemirror_mode": {
    "name": "ipython",
    "version": 3
   },
   "file_extension": ".py",
   "mimetype": "text/x-python",
   "name": "python",
   "nbconvert_exporter": "python",
   "pygments_lexer": "ipython3",
   "version": "3.7.7"
  }
 },
 "nbformat": 4,
 "nbformat_minor": 4
}
