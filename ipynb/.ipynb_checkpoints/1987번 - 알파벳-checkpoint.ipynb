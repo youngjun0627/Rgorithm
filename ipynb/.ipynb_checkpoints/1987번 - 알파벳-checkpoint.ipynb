{
 "cells": [
  {
   "cell_type": "code",
   "execution_count": 19,
   "metadata": {},
   "outputs": [
    {
     "name": "stdout",
     "output_type": "stream",
     "text": [
      "2 4\n",
      "CAAB\n",
      "ADCB\n",
      "3\n"
     ]
    }
   ],
   "source": [
    "\n",
    "r,c = map(int,input().split())\n",
    "board = []\n",
    "for _ in range(r):\n",
    "    board.append(list(input()))\n",
    "    \n",
    "ans = 0\n",
    "al = [0]*26\n",
    "def dfs(start,visit,cnt):\n",
    "    global ans\n",
    "    dy = [0,0,-1,1]\n",
    "    dx = [-1,1,0,0]\n",
    "    #visit = _visit[:]\n",
    "    ans = max(ans, cnt)\n",
    "    #print(start, visit,cnt)\n",
    "    for i in range(4):\n",
    "        ny = start[0] + dy[i]\n",
    "        nx = start[1] + dx[i]\n",
    "        if 0<=ny<r and 0<=nx<c :\n",
    "            if visit[ord(board[ny][nx])-65]==0:\n",
    "                visit[ord(board[ny][nx])-65]=1\n",
    "                dfs((ny,nx), visit, cnt+1)\n",
    "                visit[ord(board[ny][nx])-65]=0\n",
    "al[ord(board[0][0])-65]=1\n",
    "dfs((0,0),al,0)\n",
    "print(ans+1)"
   ]
  },
  {
   "cell_type": "code",
   "execution_count": 11,
   "metadata": {},
   "outputs": [],
   "source": [
    "al = [0]*26"
   ]
  },
  {
   "cell_type": "code",
   "execution_count": 14,
   "metadata": {},
   "outputs": [],
   "source": [
    "al[ord('G')-65]=1"
   ]
  },
  {
   "cell_type": "code",
   "execution_count": 15,
   "metadata": {},
   "outputs": [
    {
     "data": {
      "text/plain": [
       "[0, 0, 0, 0, 0, 0, 1, 0, 0, 0, 0, 0, 0, 0, 0, 0, 0, 0, 0, 0, 0, 0, 0, 0, 0, 0]"
      ]
     },
     "execution_count": 15,
     "metadata": {},
     "output_type": "execute_result"
    }
   ],
   "source": [
    "al"
   ]
  },
  {
   "cell_type": "code",
   "execution_count": null,
   "metadata": {},
   "outputs": [],
   "source": []
  }
 ],
 "metadata": {
  "kernelspec": {
   "display_name": "Python 3",
   "language": "python",
   "name": "python3"
  },
  "language_info": {
   "codemirror_mode": {
    "name": "ipython",
    "version": 3
   },
   "file_extension": ".py",
   "mimetype": "text/x-python",
   "name": "python",
   "nbconvert_exporter": "python",
   "pygments_lexer": "ipython3",
   "version": "3.7.7"
  }
 },
 "nbformat": 4,
 "nbformat_minor": 4
}
