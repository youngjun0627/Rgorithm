{
 "cells": [
  {
   "cell_type": "code",
   "execution_count": 73,
   "metadata": {},
   "outputs": [
    {
     "name": "stdout",
     "output_type": "stream",
     "text": [
      "0\n"
     ]
    }
   ],
   "source": [
    "import math\n",
    "\n",
    "n = int(input())\n",
    "A = list(map(int,input().split()))\n",
    "B = {b:i for i,b in enumerate(list(map(int,input().split())))}\n",
    "\n",
    "height = math.ceil(math.log2(n))\n",
    "tree = [0] * (1<<(height+1))\n",
    "\n",
    "def update(node, start, end, idx):\n",
    "    if idx<start or idx>end: # 해당 범위 바깥\n",
    "        return 0\n",
    "    if start == end:\n",
    "        tree[node] = 1\n",
    "        return 1\n",
    "    mid = (start + end)//2\n",
    "    left = node*2\n",
    "    right = node*2+1\n",
    "    update(left, start,mid, idx)\n",
    "    update(right, mid+1,end,idx)\n",
    "    tree[node] = tree[left] + tree[right]\n",
    "    return tree[node]\n",
    "\n",
    "def query(node, start, end, left, right):\n",
    "    if right<start or left>end:\n",
    "        return 0\n",
    "    if left<=start and right>=end:\n",
    "        return tree[node]\n",
    "    mid = (start+end)//2\n",
    "    return query(node*2, start,mid, left, right) + query(node*2+1, mid+1, end, left, right)\n",
    "\n",
    "answer = 0\n",
    "for number in A:\n",
    "    idx = B[number]\n",
    "    answer+=query(1,0,n-1,idx,n-1)\n",
    "    update(1,0,n-1,idx)\n",
    "print(answer)"
   ]
  },
  {
   "cell_type": "code",
   "execution_count": 78,
   "metadata": {},
   "outputs": [
    {
     "name": "stdout",
     "output_type": "stream",
     "text": [
      "5\n",
      "1 2 3 4 5\n",
      "2 4 1 3  5\n",
      "3\n"
     ]
    }
   ],
   "source": []
  },
  {
   "cell_type": "code",
   "execution_count": 66,
   "metadata": {},
   "outputs": [],
   "source": [
    "a = list(set([random.randint(0,1000000) for r in range(500000)]))\n",
    "b = sorted(a)"
   ]
  },
  {
   "cell_type": "code",
   "execution_count": 67,
   "metadata": {},
   "outputs": [
    {
     "data": {
      "text/plain": [
       "393692"
      ]
     },
     "execution_count": 67,
     "metadata": {},
     "output_type": "execute_result"
    }
   ],
   "source": [
    "len(a)"
   ]
  },
  {
   "cell_type": "code",
   "execution_count": null,
   "metadata": {},
   "outputs": [],
   "source": []
  }
 ],
 "metadata": {
  "kernelspec": {
   "display_name": "Python 3",
   "language": "python",
   "name": "python3"
  },
  "language_info": {
   "codemirror_mode": {
    "name": "ipython",
    "version": 3
   },
   "file_extension": ".py",
   "mimetype": "text/x-python",
   "name": "python",
   "nbconvert_exporter": "python",
   "pygments_lexer": "ipython3",
   "version": "3.7.7"
  }
 },
 "nbformat": 4,
 "nbformat_minor": 4
}
