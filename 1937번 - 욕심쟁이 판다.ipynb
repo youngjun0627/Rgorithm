{
 "cells": [
  {
   "cell_type": "code",
   "execution_count": 36,
   "metadata": {},
   "outputs": [
    {
     "name": "stdout",
     "output_type": "stream",
     "text": [
      "4\n",
      "14 9  12 10\n",
      "1 11 5 4\n",
      "7 15 2 13\n",
      "6 3 16 8\n",
      "0 0 1\n",
      "0 1 2\n",
      "0 2 1\n",
      "0 3 2\n",
      "1 0 2\n",
      "1 1 2\n",
      "1 2 2\n",
      "1 3 2\n",
      "2 0 2\n",
      "2 1 1\n",
      "2 2 2\n",
      "2 3 1\n",
      "3 0 2\n",
      "3 1 2\n",
      "3 2 1\n",
      "3 3 2\n",
      "2\n"
     ]
    }
   ],
   "source": [
    "import sys\n",
    "sys.setrecursionlimit(60000)\n",
    "\n",
    "n = int(input())\n",
    "board = []\n",
    "dp = [[-1 for _ in range(n)] for _ in range(n)]\n",
    "for _ in range(n):\n",
    "    board.append(list(map(int,input().split())))\n",
    "    \n",
    "    \n",
    "def dfs(start):\n",
    "    global dp, board, n\n",
    "    y,x = start\n",
    "    if dp[y][x]!=-1:\n",
    "        return dp[y][x]\n",
    "    dp[y][x]=1\n",
    "    dy = [0,0,-1,1]\n",
    "    dx = [-1,1,0,0]\n",
    "    temp = 0\n",
    "    for i in range(4):\n",
    "        ny = y+dy[i]\n",
    "        nx = x+dx[i]\n",
    "        if 0<=ny<n and 0<=nx<n and board[ny][nx]>board[y][x]:\n",
    "            temp = max(temp,dfs((ny,nx)))\n",
    "    dp[y][x]+=temp\n",
    "    \n",
    "    return dp[y][x]\n",
    "\n",
    "\n",
    "    \n",
    "answer = 0\n",
    "for i in range(n):\n",
    "    for j in range(n):\n",
    "        answer = max(answer,dfs((i,j)))\n",
    "print(answer)\n"
   ]
  },
  {
   "cell_type": "code",
   "execution_count": 35,
   "metadata": {},
   "outputs": [
    {
     "data": {
      "text/plain": [
       "[[1, 2, 1, 2], [2, 2, 2, 2], [2, 1, 2, 1], [2, 2, 1, 2]]"
      ]
     },
     "execution_count": 35,
     "metadata": {},
     "output_type": "execute_result"
    }
   ],
   "source": [
    "dp"
   ]
  },
  {
   "cell_type": "code",
   "execution_count": null,
   "metadata": {},
   "outputs": [],
   "source": []
  }
 ],
 "metadata": {
  "kernelspec": {
   "display_name": "Python 3",
   "language": "python",
   "name": "python3"
  },
  "language_info": {
   "codemirror_mode": {
    "name": "ipython",
    "version": 3
   },
   "file_extension": ".py",
   "mimetype": "text/x-python",
   "name": "python",
   "nbconvert_exporter": "python",
   "pygments_lexer": "ipython3",
   "version": "3.7.7"
  }
 },
 "nbformat": 4,
 "nbformat_minor": 4
}
