{
 "cells": [
  {
   "cell_type": "code",
   "execution_count": 37,
   "metadata": {},
   "outputs": [
    {
     "name": "stdout",
     "output_type": "stream",
     "text": [
      "7\n",
      "0 5 0 0 0 0 0\n",
      "0 0 1 0 0 0 0\n",
      "0 0 0 0 0 0 0\n",
      "0 0 0 1 1 0 0\n",
      "0 0 0 0 0 2 0\n",
      "0 0 0 0 0 0 0\n",
      "0 0 0 0 0 0 0\n"
     ]
    },
    {
     "ename": "NameError",
     "evalue": "name 'x_min' is not defined",
     "output_type": "error",
     "traceback": [
      "\u001b[1;31m---------------------------------------------------------------------------\u001b[0m",
      "\u001b[1;31mNameError\u001b[0m                                 Traceback (most recent call last)",
      "\u001b[1;32m<ipython-input-37-87531ad58d03>\u001b[0m in \u001b[0;36m<module>\u001b[1;34m\u001b[0m\n\u001b[0;32m     31\u001b[0m \u001b[0my1\u001b[0m\u001b[1;33m,\u001b[0m\u001b[0mx1\u001b[0m \u001b[1;33m=\u001b[0m \u001b[0mgyu\u001b[0m\u001b[1;33m\u001b[0m\u001b[1;33m\u001b[0m\u001b[0m\n\u001b[0;32m     32\u001b[0m \u001b[0my2\u001b[0m\u001b[1;33m,\u001b[0m\u001b[0mx2\u001b[0m \u001b[1;33m=\u001b[0m \u001b[0mprofessor\u001b[0m\u001b[1;33m\u001b[0m\u001b[1;33m\u001b[0m\u001b[0m\n\u001b[1;32m---> 33\u001b[1;33m \u001b[0mcheck\u001b[0m\u001b[1;33m(\u001b[0m\u001b[0mx1\u001b[0m\u001b[1;33m,\u001b[0m\u001b[0my1\u001b[0m\u001b[1;33m,\u001b[0m\u001b[0mx2\u001b[0m\u001b[1;33m,\u001b[0m\u001b[0my2\u001b[0m\u001b[1;33m)\u001b[0m\u001b[1;33m\u001b[0m\u001b[1;33m\u001b[0m\u001b[0m\n\u001b[0m\u001b[0;32m     34\u001b[0m \u001b[0mprint\u001b[0m\u001b[1;33m(\u001b[0m\u001b[0mint\u001b[0m\u001b[1;33m(\u001b[0m\u001b[0manswer\u001b[0m\u001b[1;33m)\u001b[0m\u001b[1;33m)\u001b[0m\u001b[1;33m\u001b[0m\u001b[1;33m\u001b[0m\u001b[0m\n",
      "\u001b[1;32m<ipython-input-37-87531ad58d03>\u001b[0m in \u001b[0;36mcheck\u001b[1;34m(x1, y1, x2, y2)\u001b[0m\n\u001b[0;32m     14\u001b[0m \u001b[1;32mdef\u001b[0m \u001b[0mcheck\u001b[0m\u001b[1;33m(\u001b[0m\u001b[0mx1\u001b[0m\u001b[1;33m,\u001b[0m\u001b[0my1\u001b[0m\u001b[1;33m,\u001b[0m\u001b[0mx2\u001b[0m\u001b[1;33m,\u001b[0m\u001b[0my2\u001b[0m\u001b[1;33m)\u001b[0m\u001b[1;33m:\u001b[0m\u001b[1;33m\u001b[0m\u001b[1;33m\u001b[0m\u001b[0m\n\u001b[0;32m     15\u001b[0m     \u001b[0mcnt\u001b[0m \u001b[1;33m=\u001b[0m \u001b[1;36m0\u001b[0m\u001b[1;33m\u001b[0m\u001b[1;33m\u001b[0m\u001b[0m\n\u001b[1;32m---> 16\u001b[1;33m     \u001b[0mx_min\u001b[0m\u001b[1;33m.\u001b[0m\u001b[0mx_max\u001b[0m \u001b[1;33m=\u001b[0m \u001b[0mmin\u001b[0m\u001b[1;33m(\u001b[0m\u001b[0mx1\u001b[0m\u001b[1;33m,\u001b[0m\u001b[0mx2\u001b[0m\u001b[1;33m)\u001b[0m\u001b[1;33m,\u001b[0m\u001b[0mmax\u001b[0m\u001b[1;33m(\u001b[0m\u001b[0mx1\u001b[0m\u001b[1;33m,\u001b[0m\u001b[0mx2\u001b[0m\u001b[1;33m)\u001b[0m\u001b[1;33m\u001b[0m\u001b[1;33m\u001b[0m\u001b[0m\n\u001b[0m\u001b[0;32m     17\u001b[0m     \u001b[0my_min\u001b[0m\u001b[1;33m.\u001b[0m\u001b[0my_max\u001b[0m \u001b[1;33m=\u001b[0m \u001b[0mmin\u001b[0m\u001b[1;33m(\u001b[0m\u001b[0my1\u001b[0m\u001b[1;33m,\u001b[0m\u001b[0my2\u001b[0m\u001b[1;33m)\u001b[0m\u001b[1;33m,\u001b[0m\u001b[0mmax\u001b[0m\u001b[1;33m(\u001b[0m\u001b[0my1\u001b[0m\u001b[1;33m,\u001b[0m\u001b[0my2\u001b[0m\u001b[1;33m)\u001b[0m\u001b[1;33m\u001b[0m\u001b[1;33m\u001b[0m\u001b[0m\n\u001b[0;32m     18\u001b[0m     \u001b[1;32mfor\u001b[0m \u001b[0my\u001b[0m \u001b[1;32min\u001b[0m \u001b[0mrange\u001b[0m\u001b[1;33m(\u001b[0m\u001b[0my_min\u001b[0m\u001b[1;33m,\u001b[0m\u001b[0my_max\u001b[0m\u001b[1;33m+\u001b[0m\u001b[1;36m1\u001b[0m\u001b[1;33m)\u001b[0m\u001b[1;33m:\u001b[0m\u001b[1;33m\u001b[0m\u001b[1;33m\u001b[0m\u001b[0m\n",
      "\u001b[1;31mNameError\u001b[0m: name 'x_min' is not defined"
     ]
    }
   ],
   "source": [
    "n = int(input())\n",
    "board = []\n",
    "gyu = None\n",
    "professor = None\n",
    "for i in range(n):\n",
    "    temp = list(map(int,input().split()))\n",
    "    for j in range(n):\n",
    "        if temp[j]==2:\n",
    "            gyu = (i,j)\n",
    "        elif temp[j]==5:\n",
    "            professor = (i,j)\n",
    "    board.append(temp)\n",
    "    \n",
    "def check(x1,y1,x2,y2):\n",
    "    cnt = 0\n",
    "    x_min,x_max = min(x1,x2),max(x1,x2)\n",
    "    y_min,y_max = min(y1,y2),max(y1,y2)\n",
    "    for y in range(y_min,y_max+1):\n",
    "        for x in range(x_min,x_max+1):\n",
    "            if board[y][x]==1:\n",
    "                cnt+=1\n",
    "    if cnt>=3 and (x1-x2)**2 + (y1-y2)**2 >=25:\n",
    "        if x1==x2 or y1==y2:\n",
    "            return True\n",
    "        else:\n",
    "            if (x1-x2)**2 + (y1-y2)**2 >=25:\n",
    "                return True\n",
    "    else:\n",
    "        return False\n",
    "        \n",
    "y1,x1 = gyu\n",
    "y2,x2 = professor\n",
    "answer = check(x1,y1,x2,y2)\n",
    "print(int(answer))"
   ]
  },
  {
   "cell_type": "code",
   "execution_count": 38,
   "metadata": {},
   "outputs": [
    {
     "name": "stdout",
     "output_type": "stream",
     "text": [
      "1\n"
     ]
    }
   ],
   "source": [
    "def check(x1,y1,x2,y2):\n",
    "    cnt = 0\n",
    "    x_min,x_max = min(x1,x2),max(x1,x2)\n",
    "    y_min,y_max = min(y1,y2),max(y1,y2)\n",
    "    for y in range(y_min,y_max+1):\n",
    "        for x in range(x_min,x_max+1):\n",
    "            if board[y][x]==1:\n",
    "                cnt+=1\n",
    "    if cnt>=3 and (x1-x2)**2 + (y1-y2)**2 >=25:\n",
    "        if x1==x2 or y1==y2:\n",
    "            return True\n",
    "        else:\n",
    "            if (x1-x2)**2 + (y1-y2)**2 >=25:\n",
    "                return True\n",
    "    else:\n",
    "        return False\n",
    "        \n",
    "y1,x1 = gyu\n",
    "y2,x2 = professor\n",
    "check(x1,y1,x2,y2)\n",
    "print(int(answer))"
   ]
  },
  {
   "cell_type": "code",
   "execution_count": null,
   "metadata": {},
   "outputs": [],
   "source": []
  }
 ],
 "metadata": {
  "kernelspec": {
   "display_name": "Python 3",
   "language": "python",
   "name": "python3"
  },
  "language_info": {
   "codemirror_mode": {
    "name": "ipython",
    "version": 3
   },
   "file_extension": ".py",
   "mimetype": "text/x-python",
   "name": "python",
   "nbconvert_exporter": "python",
   "pygments_lexer": "ipython3",
   "version": "3.7.7"
  }
 },
 "nbformat": 4,
 "nbformat_minor": 4
}
