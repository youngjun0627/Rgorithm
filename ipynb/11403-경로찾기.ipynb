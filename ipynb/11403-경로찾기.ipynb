{
 "cells": [
  {
   "cell_type": "code",
   "execution_count": 19,
   "metadata": {},
   "outputs": [
    {
     "name": "stdout",
     "output_type": "stream",
     "text": [
      "6 5\n",
      "1 6\n",
      "2 4 5\n",
      "2 1 2\n",
      "2 2 3\n",
      "2 3 4\n",
      "2  5 6\n",
      "0\n"
     ]
    }
   ],
   "source": [
    "n,m = map(int,input().split())\n",
    "temp = input()\n",
    "if temp.startswith('0'):\n",
    "    answer = m\n",
    "    for _ in range(m):\n",
    "        input()\n",
    "else:\n",
    "    answer=[1 for _ in range(m)]\n",
    "    trues = set(list(map(int,temp.split()))[1:])\n",
    "    parties = []\n",
    "    for _ in range(m):\n",
    "        temp = input()\n",
    "        people = list(map(int,temp.split()))[1:]\n",
    "        parties.append(people)\n",
    "    for _ in range(m):\n",
    "        for idx,people in enumerate(parties):\n",
    "            for person in people:\n",
    "                if person in trues:\n",
    "                    trues = trues.union(people)\n",
    "                    answer[idx]=0\n",
    "                    break\n",
    "    answer = sum(answer)\n",
    "print(answer)"
   ]
  },
  {
   "cell_type": "code",
   "execution_count": 20,
   "metadata": {},
   "outputs": [
    {
     "data": {
      "text/plain": [
       "{1, 2, 3, 4, 5, 6}"
      ]
     },
     "execution_count": 20,
     "metadata": {},
     "output_type": "execute_result"
    }
   ],
   "source": [
    "trues"
   ]
  },
  {
   "cell_type": "code",
   "execution_count": null,
   "metadata": {},
   "outputs": [],
   "source": []
  }
 ],
 "metadata": {
  "kernelspec": {
   "display_name": "Python 3",
   "language": "python",
   "name": "python3"
  },
  "language_info": {
   "codemirror_mode": {
    "name": "ipython",
    "version": 3
   },
   "file_extension": ".py",
   "mimetype": "text/x-python",
   "name": "python",
   "nbconvert_exporter": "python",
   "pygments_lexer": "ipython3",
   "version": "3.7.7"
  }
 },
 "nbformat": 4,
 "nbformat_minor": 4
}
