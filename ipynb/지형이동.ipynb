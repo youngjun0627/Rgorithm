{
 "cells": [
  {
   "cell_type": "code",
   "execution_count": 44,
   "metadata": {},
   "outputs": [
    {
     "data": {
      "text/plain": [
       "18"
      ]
     },
     "execution_count": 44,
     "metadata": {},
     "output_type": "execute_result"
    }
   ],
   "source": [
    "from collections import deque\n",
    "import sys\n",
    "\n",
    "sys.setrecursionlimit(100000)\n",
    "\n",
    "def solution(land, height):\n",
    "    answer = 0\n",
    "    N = len(land)\n",
    "    size = N*N\n",
    "    key = {}\n",
    "    temp = [(i,j) for j in range(N) for i in range(N)]\n",
    "    k=0\n",
    "    for t in temp:\n",
    "        key[t]=k\n",
    "        k+=1\n",
    "    parent = [i for i in range(size)]\n",
    "    q = deque()\n",
    "    start = (0,0)\n",
    "    visit=set()\n",
    "    visit.add(start)\n",
    "    q.append(start)\n",
    "    while q:\n",
    "        cy,cx = q.popleft()\n",
    "        dy=[0,0,-1,1]\n",
    "        dx=[1,-1,0,0]\n",
    "        for i in range(4):\n",
    "            ny = cy+dy[i]\n",
    "            nx = cx+dx[i]\n",
    "            if ny<N and ny>=0 and nx<N and nx>=0:\n",
    "                if abs(land[ny][nx]-land[cy][cx])<=height:\n",
    "                    union(key[(ny,nx)],key[(cy,cx)],parent)\n",
    "                if (ny,nx) not in visit:\n",
    "                    visit.add((ny,nx))\n",
    "                    q.append((ny,nx))\n",
    "    \n",
    "    q = deque()\n",
    "    start = (0,0)\n",
    "    visit=set()\n",
    "    visit.add(start)\n",
    "    q.append(start)\n",
    "    result = {}\n",
    "    '''\n",
    "    totalvisit = set()\n",
    "    totalparent = set(parent)\n",
    "    '''\n",
    "    while q:\n",
    "        cy,cx = q.popleft()\n",
    "        dy=[0,0,-1,1]\n",
    "        dx=[1,-1,0,0]\n",
    "        for i in range(4):\n",
    "            ny = cy+dy[i]\n",
    "            nx = cx+dx[i]\n",
    "            if ny<N and ny>=0 and nx<N and nx>=0:\n",
    "                if (ny,nx) not in visit:\n",
    "                    parent1 = find(key[(ny,nx)],parent)\n",
    "                    parent2 = find(key[(cy,cx)],parent)\n",
    "                    if parent1 != parent2:\n",
    "                        if parent1<parent2:\n",
    "                            if (parent1,parent2) not in result:\n",
    "                                result[(parent1,parent2)]=9999999\n",
    "                            result[(parent1,parent2)] = min(result[(parent1,parent2)],abs(land[ny][nx]-land[cy][cx]))\n",
    "                        else:\n",
    "                            if (parent2,parent1) not in result:\n",
    "                                result[(parent2,parent1)]=9999999\n",
    "                            result[(parent2,parent1)] = min(result[(parent2,parent1)],abs(land[ny][nx]-land[cy][cx]))\n",
    "                    '''\n",
    "                    for k,v in result.items():\n",
    "                        start,end = k\n",
    "                        totalvisit.add(start)\n",
    "                        totalvisit.add(end)\n",
    "                        if len(totalvisit)==len(totalparent):\n",
    "                            return\n",
    "                    '''\n",
    "                    visit.add((ny,nx))\n",
    "                    q.append((ny,nx))\n",
    "    result = sorted(result.items(),key=lambda x:x[0])\n",
    "    totalcheck = set()\n",
    "    totalparent = set(parent)\n",
    "    for re in result:\n",
    "        (a,b),cost = re\n",
    "        totalcheck.add(a)\n",
    "        totalcheck.add(b)\n",
    "        answer+=cost\n",
    "        if len(totalcheck)==len(totalparent):\n",
    "            break\n",
    "    \n",
    "    return answer\n",
    "\n",
    "def find(x,parent):\n",
    "    if parent[x]==x:\n",
    "        return x\n",
    "    else:\n",
    "        parent[x]=find(parent[x],parent)\n",
    "        return parent[x]\n",
    "    \n",
    "def union(x,y,parent):\n",
    "    a = find(x,parent)\n",
    "    b = find(y,parent)\n",
    "    if a<b:\n",
    "        parent[b]=a\n",
    "    else:\n",
    "        parent[a]=b\n",
    "\n",
    "land = [[10, 11, 10, 11], [2, 21, 20, 10], [1, 20, 21, 11], [2, 1, 2, 1]]\n",
    "height = 1\n",
    "solution(land,height)"
   ]
  },
  {
   "cell_type": "code",
   "execution_count": 20,
   "metadata": {},
   "outputs": [
    {
     "ename": "TypeError",
     "evalue": "unhashable type: 'list'",
     "output_type": "error",
     "traceback": [
      "\u001b[1;31m---------------------------------------------------------------------------\u001b[0m",
      "\u001b[1;31mTypeError\u001b[0m                                 Traceback (most recent call last)",
      "\u001b[1;32m<ipython-input-20-22d512ac4182>\u001b[0m in \u001b[0;36m<module>\u001b[1;34m\u001b[0m\n\u001b[1;32m----> 1\u001b[1;33m \u001b[0mdic\u001b[0m\u001b[1;33m[\u001b[0m\u001b[1;33m[\u001b[0m\u001b[1;36m1\u001b[0m\u001b[1;33m,\u001b[0m\u001b[1;36m2\u001b[0m\u001b[1;33m,\u001b[0m\u001b[1;36m3\u001b[0m\u001b[1;33m]\u001b[0m\u001b[1;33m]\u001b[0m\u001b[1;33m=\u001b[0m\u001b[1;36m1\u001b[0m\u001b[1;33m\u001b[0m\u001b[1;33m\u001b[0m\u001b[0m\n\u001b[0m",
      "\u001b[1;31mTypeError\u001b[0m: unhashable type: 'list'"
     ]
    }
   ],
   "source": [
    "dic[]=1"
   ]
  },
  {
   "cell_type": "code",
   "execution_count": 19,
   "metadata": {},
   "outputs": [
    {
     "data": {
      "text/plain": [
       "1"
      ]
     },
     "execution_count": 19,
     "metadata": {},
     "output_type": "execute_result"
    }
   ],
   "source": [
    "dic[(1,2)]"
   ]
  },
  {
   "cell_type": "code",
   "execution_count": null,
   "metadata": {},
   "outputs": [],
   "source": []
  }
 ],
 "metadata": {
  "kernelspec": {
   "display_name": "Python 3",
   "language": "python",
   "name": "python3"
  },
  "language_info": {
   "codemirror_mode": {
    "name": "ipython",
    "version": 3
   },
   "file_extension": ".py",
   "mimetype": "text/x-python",
   "name": "python",
   "nbconvert_exporter": "python",
   "pygments_lexer": "ipython3",
   "version": "3.7.7"
  }
 },
 "nbformat": 4,
 "nbformat_minor": 4
}
