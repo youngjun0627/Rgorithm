{
 "cells": [
  {
   "cell_type": "code",
   "execution_count": 11,
   "metadata": {},
   "outputs": [
    {
     "name": "stdout",
     "output_type": "stream",
     "text": [
      "6\n",
      "3\n",
      "3 5\n",
      "5 5\n",
      "2 3\n",
      "[[0, 0], [3, 5], [5, 5], [2, 3]]\n",
      "9\n",
      "2\n",
      "2\n",
      "1\n"
     ]
    }
   ],
   "source": [
    "import sys\n",
    "sys.setrecursionlimit(100000)\n",
    "# bfs로 하면 시간초과!!\n",
    "\n",
    "n = int(input())\n",
    "w = int(input())\n",
    "cars = [[1,1],[n,n]]\n",
    "events = []\n",
    "for _ in range(w):\n",
    "    a,b = map(int,input().split())\n",
    "    events.append([a,b])\n",
    "events = [[0,0]] + events\n",
    "\n",
    "def calc(a,b):\n",
    "    y1,x1 = a\n",
    "    y2,x2 = b\n",
    "    return abs(y1-y2) + abs(x1-x2)\n",
    "\n",
    "dp = [[-1] * (w+1) for _ in range(w+1)]\n",
    "\n",
    "\n",
    "\n",
    "def dfs(car1, car2):\n",
    "    if car1 == w or car2 == w:\n",
    "        return 0\n",
    "    if dp[car1][car2]!=-1:\n",
    "        return dp[car1][car2]\n",
    "    next_event = max(car1,car2)+1\n",
    "    \n",
    "    if car1==0:\n",
    "        dist1 = calc([1,1], events[next_event])\n",
    "    else:\n",
    "        dist1 = calc(events[car1], events[next_event])\n",
    "    if car2==0:\n",
    "        dist2 = calc(events[next_event],[n,n])\n",
    "    else:\n",
    "        dist2 = calc(events[next_event], events[car2])\n",
    "    \n",
    "    result1 = dist1+dfs(next_event, car2)\n",
    "    result2 = dist2+dfs(car1, next_event)\n",
    "    dp[car1][car2] = min(result1, result2)\n",
    "    return dp[car1][car2]\n",
    "\n",
    "def dfs2(car1,car2):\n",
    "    if car1 == w or car2 == w:\n",
    "        return\n",
    "    \n",
    "    next_event = max(car1,car2)+1\n",
    "    \n",
    "    if car1==0:\n",
    "        dist1 = calc([1,1], events[next_event])\n",
    "    else:\n",
    "        dist1 = calc(events[car1], events[next_event])\n",
    "    if car2==0:\n",
    "        dist2 = calc(events[next_event],[n,n])\n",
    "    else:\n",
    "        dist2 = calc(events[next_event], events[car2])\n",
    "    \n",
    "    if dist1 + dp[next_event][car2] < dist2 + dp[car1][next_event]:\n",
    "        print(1)\n",
    "        dfs2(next_event,car2)\n",
    "    else:\n",
    "        print(2)\n",
    "        dfs2(car1,next_event)\n",
    "print(dfs(0,0))\n",
    "dfs2(0,0)"
   ]
  },
  {
   "cell_type": "code",
   "execution_count": 12,
   "metadata": {},
   "outputs": [
    {
     "data": {
      "text/plain": [
       "[[9, 5, 3, -1], [5, -1, 3, -1], [5, 3, -1, -1], [-1, -1, -1, -1]]"
      ]
     },
     "execution_count": 12,
     "metadata": {},
     "output_type": "execute_result"
    }
   ],
   "source": [
    "dp"
   ]
  },
  {
   "cell_type": "code",
   "execution_count": null,
   "metadata": {},
   "outputs": [],
   "source": []
  }
 ],
 "metadata": {
  "kernelspec": {
   "display_name": "Python 3",
   "language": "python",
   "name": "python3"
  },
  "language_info": {
   "codemirror_mode": {
    "name": "ipython",
    "version": 3
   },
   "file_extension": ".py",
   "mimetype": "text/x-python",
   "name": "python",
   "nbconvert_exporter": "python",
   "pygments_lexer": "ipython3",
   "version": "3.7.7"
  }
 },
 "nbformat": 4,
 "nbformat_minor": 4
}
