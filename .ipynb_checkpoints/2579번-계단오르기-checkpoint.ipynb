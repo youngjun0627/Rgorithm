{
 "cells": [
  {
   "cell_type": "code",
   "execution_count": 29,
   "metadata": {},
   "outputs": [
    {
     "name": "stdout",
     "output_type": "stream",
     "text": [
      "3\n",
      "2\n",
      "3\n",
      "1\n",
      "5\n"
     ]
    },
    {
     "data": {
      "text/plain": [
       "'\\n\\na1\\na1, a1+a2\\na1+a2, a1+a3, a2+a3\\na1+a2, a1+a3, a2+a3, a1+a2+a4, a1+a3+a4\\n\\na1+a2, a1+a3, a2+a3, a1+a2+a4, a1+a3+a4, a1+a2+a4+a5, a1+a3+a4+a5, a1+a3+a5, a2+a3+a5\\nmax(dp[i-1],dp[i-2]+arr[i],dp[i-3]+arr[i-1]+arr[i])\\n'"
      ]
     },
     "execution_count": 29,
     "metadata": {},
     "output_type": "execute_result"
    }
   ],
   "source": [
    "\n",
    "n=int(input())\n",
    "arr = []\n",
    "dp = [0 for _ in range(n)]\n",
    "for _ in range(n):\n",
    "    arr.append(int(input()))\n",
    "\n",
    "\n",
    "for i in range(len(arr)):\n",
    "    if i==0:\n",
    "        dp[i]=arr[0]\n",
    "        continue\n",
    "    if i==1:\n",
    "        dp[i] = arr[0]+arr[1]\n",
    "        continue\n",
    "    if i==2:\n",
    "        dp[i] = max(arr[1]+arr[2],arr[2]+arr[0])\n",
    "        continue\n",
    "    dp[i] = max(arr[i]+dp[i-2],dp[i-3]+arr[i-1]+arr[i])\n",
    "\n",
    "'''\n",
    "\n",
    "a1\n",
    "a1, a1+a2\n",
    "a1+a2, a1+a3, a2+a3\n",
    "a1+a2, a1+a3, a2+a3, a1+a2+a4, a1+a3+a4\n",
    "\n",
    "a1+a2, a1+a3, a2+a3, a1+a2+a4, a1+a3+a4, a1+a2+a4+a5, a1+a3+a4+a5, a1+a3+a5, a2+a3+a5\n",
    "max(dp[i-1],dp[i-2]+arr[i],dp[i-3]+arr[i-1]+arr[i])\n",
    "'''\n",
    "\n",
    "print(dp[n-1])"
   ]
  },
  {
   "cell_type": "code",
   "execution_count": 27,
   "metadata": {},
   "outputs": [
    {
     "data": {
      "text/plain": [
       "[4, 7, 7, 8, 9]"
      ]
     },
     "execution_count": 27,
     "metadata": {},
     "output_type": "execute_result"
    }
   ],
   "source": [
    "dp"
   ]
  },
  {
   "cell_type": "code",
   "execution_count": null,
   "metadata": {},
   "outputs": [],
   "source": []
  }
 ],
 "metadata": {
  "kernelspec": {
   "display_name": "Python 3",
   "language": "python",
   "name": "python3"
  },
  "language_info": {
   "codemirror_mode": {
    "name": "ipython",
    "version": 3
   },
   "file_extension": ".py",
   "mimetype": "text/x-python",
   "name": "python",
   "nbconvert_exporter": "python",
   "pygments_lexer": "ipython3",
   "version": "3.7.7"
  }
 },
 "nbformat": 4,
 "nbformat_minor": 4
}
