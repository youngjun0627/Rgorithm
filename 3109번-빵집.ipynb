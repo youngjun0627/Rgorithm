{
 "cells": [
  {
   "cell_type": "code",
   "execution_count": 2,
   "metadata": {},
   "outputs": [
    {
     "name": "stdout",
     "output_type": "stream",
     "text": [
      "5 5\n",
      ".xx..\n",
      "..x..\n",
      ".....\n",
      "...x.\n",
      "...x.\n",
      "2\n"
     ]
    }
   ],
   "source": [
    "r,c = map(int,input().split())\n",
    "board = []\n",
    "for _ in range(r):\n",
    "    board.append(list(input()))\n",
    "dy = [-1,0,1]\n",
    "dx = [1,1,1]\n",
    "visit = [[False] * c for _ in range(r)]\n",
    "def dfs(start):\n",
    "    y,x = start\n",
    "    visit[y][x] = True\n",
    "    if x==c-1:\n",
    "        return True\n",
    "    for i in range(3):\n",
    "        ny = y+dy[i]\n",
    "        nx = x+dx[i]\n",
    "        if 0<=ny<r and 0<=nx<c and not visit[ny][nx] and board[ny][nx]=='.':\n",
    "            if dfs((ny,nx)):\n",
    "                return True\n",
    "    return False\n",
    "\n",
    "answer = 0\n",
    "for i in range(r):\n",
    "    start = (i,0)\n",
    "    if dfs(start):\n",
    "        answer+=1\n",
    "print(answer)\n",
    "                "
   ]
  },
  {
   "cell_type": "code",
   "execution_count": null,
   "metadata": {},
   "outputs": [],
   "source": []
  }
 ],
 "metadata": {
  "kernelspec": {
   "display_name": "Python 3",
   "language": "python",
   "name": "python3"
  },
  "language_info": {
   "codemirror_mode": {
    "name": "ipython",
    "version": 3
   },
   "file_extension": ".py",
   "mimetype": "text/x-python",
   "name": "python",
   "nbconvert_exporter": "python",
   "pygments_lexer": "ipython3",
   "version": "3.7.7"
  }
 },
 "nbformat": 4,
 "nbformat_minor": 4
}
