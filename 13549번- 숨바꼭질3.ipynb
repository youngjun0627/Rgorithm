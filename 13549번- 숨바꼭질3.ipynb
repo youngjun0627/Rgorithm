{
 "cells": [
  {
   "cell_type": "code",
   "execution_count": 13,
   "metadata": {},
   "outputs": [
    {
     "name": "stdout",
     "output_type": "stream",
     "text": [
      "5 17\n"
     ]
    },
    {
     "data": {
      "text/plain": [
       "2"
      ]
     },
     "execution_count": 13,
     "metadata": {},
     "output_type": "execute_result"
    }
   ],
   "source": [
    "from collections import deque\n",
    "\n",
    "n,k = map(int,input().split())\n",
    "\n",
    "def bfs(start,end):\n",
    "    q = deque()\n",
    "    q.append((start,0))\n",
    "    visit = set()\n",
    "    visit.add(start)\n",
    "    answer = 99999999\n",
    "    while q:\n",
    "        cur,cnt = q.popleft()\n",
    "        if cur==end:\n",
    "            answer = min(answer,cnt)\n",
    "            continue\n",
    "        if cur*2<=100000 and cur*2 not in visit:\n",
    "            visit.add(cur*2)\n",
    "            q.appendleft((cur*2,cnt))\n",
    "        if cur+1<=100000 and cur+1 not in visit:\n",
    "            visit.add(cur+1)\n",
    "            q.append((cur+1,cnt+1))\n",
    "        if cur-1>=0 and cur-1 not in visit:\n",
    "            visit.add(cur-1)\n",
    "            q.append((cur-1,cnt+1))\n",
    "    return answer\n",
    "print(bfs(n,k))"
   ]
  },
  {
   "cell_type": "code",
   "execution_count": null,
   "metadata": {},
   "outputs": [],
   "source": []
  }
 ],
 "metadata": {
  "kernelspec": {
   "display_name": "Python 3",
   "language": "python",
   "name": "python3"
  },
  "language_info": {
   "codemirror_mode": {
    "name": "ipython",
    "version": 3
   },
   "file_extension": ".py",
   "mimetype": "text/x-python",
   "name": "python",
   "nbconvert_exporter": "python",
   "pygments_lexer": "ipython3",
   "version": "3.7.7"
  }
 },
 "nbformat": 4,
 "nbformat_minor": 4
}
