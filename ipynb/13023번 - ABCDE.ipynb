{
 "cells": [
  {
   "cell_type": "code",
   "execution_count": 13,
   "metadata": {},
   "outputs": [
    {
     "name": "stdout",
     "output_type": "stream",
     "text": [
      "5 5\n",
      "0 1\n",
      "0 2\n",
      "2 3\n",
      "2 4\n",
      "3 4\n",
      "1\n"
     ]
    }
   ],
   "source": [
    "\n",
    "def dfs(start,dic,depth):\n",
    "    global answer\n",
    "    \n",
    "    visit[start]=True\n",
    "    if depth>=4:\n",
    "        answer = True\n",
    "        return\n",
    "    for _next in dic[start]:\n",
    "        if not visit[_next]:\n",
    "            dfs(_next,dic,depth+1)\n",
    "            visit[_next]=False\n",
    "    visit[start]=False\n",
    "            \n",
    "n,m = map(int,input().split())\n",
    "\n",
    "answer = False\n",
    "visit = [False for _ in range(n)]\n",
    "dic = {}\n",
    "for _ in range(m):\n",
    "    a,b = map(int,input().split())\n",
    "    if a not in dic:\n",
    "        dic[a] = []\n",
    "    if b not in dic:\n",
    "        dic[b] = []\n",
    "        \n",
    "    dic[a].append(b)\n",
    "    dic[b].append(a)\n",
    "for i in range(n):\n",
    "    dfs(i,dic,0)\n",
    "print(int(answer))"
   ]
  },
  {
   "cell_type": "markdown",
   "metadata": {},
   "source": [
    "## "
   ]
  }
 ],
 "metadata": {
  "kernelspec": {
   "display_name": "Python 3",
   "language": "python",
   "name": "python3"
  },
  "language_info": {
   "codemirror_mode": {
    "name": "ipython",
    "version": 3
   },
   "file_extension": ".py",
   "mimetype": "text/x-python",
   "name": "python",
   "nbconvert_exporter": "python",
   "pygments_lexer": "ipython3",
   "version": "3.7.7"
  }
 },
 "nbformat": 4,
 "nbformat_minor": 4
}
