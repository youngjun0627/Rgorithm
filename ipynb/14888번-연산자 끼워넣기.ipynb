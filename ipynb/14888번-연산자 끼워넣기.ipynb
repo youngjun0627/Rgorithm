{
 "cells": [
  {
   "cell_type": "code",
   "execution_count": 29,
   "metadata": {},
   "outputs": [
    {
     "name": "stdout",
     "output_type": "stream",
     "text": [
      "6\n",
      "1 2 3 4 5 6\n",
      "2 1 1 1 \n",
      "54\n",
      "-24\n"
     ]
    }
   ],
   "source": [
    "# 백트래킹 해보자(완전탐색)\n",
    "\n",
    "import sys\n",
    "\n",
    "sys.setrecursionlimit(200000)\n",
    "\n",
    "def operate(a,m,b):\n",
    "    if m=='+':\n",
    "        return a+b\n",
    "    elif m=='-':\n",
    "        return a-b\n",
    "    elif m=='*':\n",
    "        return a*b\n",
    "    elif m=='/':\n",
    "        if a<0 and b>0:\n",
    "            return -((-a)//b)\n",
    "        else:\n",
    "            return a//b\n",
    "        \n",
    "def solution(idx, cur_num, n, numbers, operators):\n",
    "    global _min, _max\n",
    "    if idx==n-1:\n",
    "        _max = max(_max, cur_num)\n",
    "        _min = min(_min, cur_num)\n",
    "        return\n",
    "    op = ['+','-','*','/']\n",
    "    next_num = cur_num\n",
    "    for i in range(len(operators)):\n",
    "        if operators[i]>0:\n",
    "            operators[i]-=1\n",
    "            next_num = operate(cur_num, op[i],numbers[idx+1])\n",
    "            solution(idx+1, next_num,n,numbers,operators)\n",
    "            operators[i]+=1\n",
    "\n",
    "_min = 1000000001\n",
    "_max = -1000000001\n",
    "n = int(input())\n",
    "numbers =list(map(int,input().split()))\n",
    "operators = list(map(int,input().split()))\n",
    "solution(0,numbers[0],n,numbers,operators)\n",
    "print(_max)\n",
    "print(_min)"
   ]
  },
  {
   "cell_type": "code",
   "execution_count": null,
   "metadata": {},
   "outputs": [],
   "source": []
  }
 ],
 "metadata": {
  "kernelspec": {
   "display_name": "Python 3",
   "language": "python",
   "name": "python3"
  },
  "language_info": {
   "codemirror_mode": {
    "name": "ipython",
    "version": 3
   },
   "file_extension": ".py",
   "mimetype": "text/x-python",
   "name": "python",
   "nbconvert_exporter": "python",
   "pygments_lexer": "ipython3",
   "version": "3.7.7"
  }
 },
 "nbformat": 4,
 "nbformat_minor": 4
}
