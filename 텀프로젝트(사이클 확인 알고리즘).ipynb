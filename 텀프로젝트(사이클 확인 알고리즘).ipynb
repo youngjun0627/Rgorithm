{
 "cells": [
  {
   "cell_type": "code",
   "execution_count": 3,
   "metadata": {},
   "outputs": [],
   "source": [
    "# dfs 이용\n",
    "\n",
    "# 무향 그래프\n",
    "from collections import deque\n",
    "\n",
    "def dfs(start,dic):\n",
    "    visit = set()\n",
    "    stack = deque()\n",
    "    stack.appendleft(start)\n",
    "    while stack:\n",
    "        cur = stack.popleft()\n",
    "        if cur in visit:\n",
    "            return True\n",
    "        for _next in dic[cur]:\n",
    "            if _next not in visit:\n",
    "                stack.appendleft(_next)\n",
    "        visit.add(cur)\n",
    "        '''\n",
    "        일반 dfs\n",
    "        for _next in dic[cur]:\n",
    "            if _next not in visit:\n",
    "                visit.add(_next)\n",
    "                stack.appendleft(_next)\n",
    "        '''\n",
    "    return False\n",
    "\n",
    "# union find 이용\n",
    "\n",
    "def find(x):\n",
    "    if parent[x]==x:\n",
    "        return x\n",
    "    else:\n",
    "        parent[x]=find(parent[x])\n",
    "        return parent[x]\n",
    "\n",
    "def union(x,y):\n",
    "    x = find(x)\n",
    "    y = find(y)\n",
    "    if x!=y:\n",
    "        parent[x] = y\n",
    "\n",
    "def iscycle(node1,node2):\n",
    "    if find(node1)==find(node2):\n",
    "        return True\n",
    "    else:\n",
    "        union(node1,node2)\n",
    "        return False\n",
    "    \n",
    "    # 위 방법으로 사이클 없는 그래프 만들수 있음\n",
    "    \n",
    "\n",
    "\n"
   ]
  },
  {
   "cell_type": "code",
   "execution_count": 2,
   "metadata": {},
   "outputs": [
    {
     "name": "stdout",
     "output_type": "stream",
     "text": [
      "['__add__', '__bool__', '__class__', '__contains__', '__copy__', '__delattr__', '__delitem__', '__dir__', '__doc__', '__eq__', '__format__', '__ge__', '__getattribute__', '__getitem__', '__gt__', '__hash__', '__iadd__', '__imul__', '__init__', '__init_subclass__', '__iter__', '__le__', '__len__', '__lt__', '__mul__', '__ne__', '__new__', '__reduce__', '__reduce_ex__', '__repr__', '__reversed__', '__rmul__', '__setattr__', '__setitem__', '__sizeof__', '__str__', '__subclasshook__', 'append', 'appendleft', 'clear', 'copy', 'count', 'extend', 'extendleft', 'index', 'insert', 'maxlen', 'pop', 'popleft', 'remove', 'reverse', 'rotate']\n"
     ]
    }
   ],
   "source": [
    "# 유향 그래프\n",
    "\n",
    "def dfs(node):\n",
    "    visited.add(node)\n",
    "    visitstack.append(node)\n",
    "    for _next in dic[node]:\n",
    "        if _next not in visited:\n",
    "            if "
   ]
  },
  {
   "cell_type": "code",
   "execution_count": 11,
   "metadata": {},
   "outputs": [
    {
     "name": "stdout",
     "output_type": "stream",
     "text": [
      "2\n",
      "7\n",
      "3 1 3 7 3 4 6\n",
      "3\n",
      "8\n",
      "1 2 3 4 5 6 7 8\n",
      "0\n"
     ]
    }
   ],
   "source": [
    "import sys\n",
    "sys.setrecursionlimit(100000)\n",
    "\n",
    "def dfs(x, students, cycle):\n",
    "    global result\n",
    "    global visit\n",
    "    visit[x] = True\n",
    "    cycle.append(x)\n",
    "    _next = students[x]-1\n",
    "    if visit[_next]:\n",
    "        if _next in cycle:\n",
    "            result += cycle[cycle.index(_next):]\n",
    "        return\n",
    "    else:\n",
    "        dfs(_next,students, cycle)\n",
    "\n",
    "T = int(input())\n",
    "for _ in range(T):\n",
    "    result = []\n",
    "    n = int(input())\n",
    "    students = list(map(int,input().split()))\n",
    "    visit = [False for _ in range(n)]\n",
    "    for i in range(n):\n",
    "        if not visit[i]:\n",
    "            cycle = []\n",
    "            dfs(i,students,cycle)\n",
    "    print(n-len(result))"
   ]
  },
  {
   "cell_type": "code",
   "execution_count": null,
   "metadata": {},
   "outputs": [],
   "source": []
  }
 ],
 "metadata": {
  "kernelspec": {
   "display_name": "Python 3",
   "language": "python",
   "name": "python3"
  },
  "language_info": {
   "codemirror_mode": {
    "name": "ipython",
    "version": 3
   },
   "file_extension": ".py",
   "mimetype": "text/x-python",
   "name": "python",
   "nbconvert_exporter": "python",
   "pygments_lexer": "ipython3",
   "version": "3.7.7"
  }
 },
 "nbformat": 4,
 "nbformat_minor": 4
}
