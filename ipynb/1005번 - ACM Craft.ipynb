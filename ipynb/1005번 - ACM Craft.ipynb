{
 "cells": [
  {
   "cell_type": "code",
   "execution_count": 35,
   "metadata": {},
   "outputs": [
    {
     "name": "stdout",
     "output_type": "stream",
     "text": [
      "1\n",
      "8 8\n",
      "10 20 1 5 8 7 1 43\n",
      "1 2\n",
      "1 3\n",
      "2 4\n",
      "2 5\n",
      "3 6\n",
      "5 7\n",
      "6 7\n",
      "7 8\n",
      "[0, 1, 1, 1, 1, 1, 2, 1]\n",
      "7\n",
      "39\n"
     ]
    }
   ],
   "source": [
    "from collections import deque\n",
    "\n",
    "for _ in range(int(input())):\n",
    "    n,k = map(int,input().split())\n",
    "    building_times = list(map(int,input().split()))\n",
    "    dic = {}\n",
    "    for i in range(1,n+1):\n",
    "        dic[i] = []\n",
    "        \n",
    "    indegree = [0 for _ in range(n)]\n",
    "    for _ in range(k):\n",
    "        x,y = map(int,input().split())\n",
    "        dic[x].append(y)\n",
    "        indegree[y-1]+=1\n",
    "    \n",
    "    result = [0 for _ in range(n)]\n",
    "    q=deque()\n",
    "    for k,v in enumerate(indegree):\n",
    "        if v==0:\n",
    "            q.append(k+1)\n",
    "            result[k]=building_times[k]\n",
    "    print(indegree)\n",
    "    w = int(input())\n",
    "    \n",
    "    \n",
    "    \n",
    "    while q:\n",
    "        cur = q.popleft()\n",
    "        for _next in dic[cur]:\n",
    "            result[_next-1] = max(result[_next-1],result[cur-1]+building_times[_next-1])\n",
    "            indegree[_next-1]-=1\n",
    "            if indegree[_next-1]==0:\n",
    "                q.append(_next)\n",
    "        \n",
    "    answer = result[w-1]\n",
    "    print(answer)"
   ]
  },
  {
   "cell_type": "code",
   "execution_count": 8,
   "metadata": {},
   "outputs": [
    {
     "data": {
      "text/plain": [
       "{1: [], 2: [1], 3: [1], 4: [2], 5: [2], 6: [3], 7: [5, 6], 8: [7]}"
      ]
     },
     "execution_count": 8,
     "metadata": {},
     "output_type": "execute_result"
    }
   ],
   "source": [
    "1\n",
    "8 8 \n",
    "10 20 1 5 8 7 1  43\n",
    "1 2\n",
    "1 3\n",
    "2 4\n",
    "2 5\n",
    "3 6\n",
    "5 7\n",
    "6 7\n",
    "7 8\n",
    "7\n",
    "40"
   ]
  },
  {
   "cell_type": "code",
   "execution_count": 37,
   "metadata": {},
   "outputs": [
    {
     "data": {
      "text/plain": [
       "[0, 0, 0, 0, 0, 0, 0, 0]"
      ]
     },
     "execution_count": 37,
     "metadata": {},
     "output_type": "execute_result"
    }
   ],
   "source": [
    "indegree"
   ]
  },
  {
   "cell_type": "code",
   "execution_count": null,
   "metadata": {},
   "outputs": [],
   "source": []
  }
 ],
 "metadata": {
  "kernelspec": {
   "display_name": "Python 3",
   "language": "python",
   "name": "python3"
  },
  "language_info": {
   "codemirror_mode": {
    "name": "ipython",
    "version": 3
   },
   "file_extension": ".py",
   "mimetype": "text/x-python",
   "name": "python",
   "nbconvert_exporter": "python",
   "pygments_lexer": "ipython3",
   "version": "3.7.7"
  }
 },
 "nbformat": 4,
 "nbformat_minor": 4
}
