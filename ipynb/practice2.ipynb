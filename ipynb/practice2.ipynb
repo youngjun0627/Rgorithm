{
 "cells": [
  {
   "cell_type": "code",
   "execution_count": 18,
   "metadata": {},
   "outputs": [
    {
     "name": "stdout",
     "output_type": "stream",
     "text": [
      "deque(['uid1234'])\n",
      "deque([])\n",
      "deque(['uid1234', 'uid4567'])\n",
      "deque([])\n",
      "deque(['uid1234', 'uid4567'])\n",
      "deque(['uid1234'])\n",
      "deque(['uid1234', 'uid4567', 'uid1234'])\n",
      "deque(['uid1234'])\n",
      "deque(['uid1234', 'uid4567', 'uid1234'])\n",
      "deque(['uid1234'])\n"
     ]
    },
    {
     "data": {
      "text/plain": [
       "['Prodo님이 들어왔습니다.', 'Ryan님이 들어왔습니다.', 'Prodo님이 나갔습니다.', 'Prodo님이 들어왔습니다.']"
      ]
     },
     "execution_count": 18,
     "metadata": {},
     "output_type": "execute_result"
    }
   ],
   "source": [
    "from collections import deque\n",
    "\n",
    "def solution(record):\n",
    "    answer = []\n",
    "    arr = []\n",
    "    Enter_user = deque()\n",
    "    Leave_user = deque()\n",
    "    dic = {}\n",
    "    for sentence in record:\n",
    "        string_array = sentence.split()\n",
    "        if string_array[0]=='Enter':\n",
    "            Enter_user.append(string_array[1])\n",
    "            dic[string_array[1]] = string_array[2]\n",
    "            arr.append('E')\n",
    "        elif string_array[0]=='Leave':\n",
    "            Leave_user.append(string_array[1])\n",
    "            arr.append('L')\n",
    "        else : #Change\n",
    "            index = min(len(Leave_user),len(Enter_user))\n",
    "            for i in range(index):\n",
    "                if Enter_user[i]==string_array[1]:\n",
    "                    dic[Enter_user[i]] = string_array[2]\n",
    "                if Leave_user[i]==string_array[1]:\n",
    "                    dic[Leave_user[i]] = string_array[2]\n",
    "            if index==len(Enter_user):\n",
    "                for i in range(index,len(Leave_user)):\n",
    "                    if Leave_user[i]==string_array[1]:\n",
    "                        dic[Leave_user[i]] = string_array[2]\n",
    "            else:\n",
    "                for i in range(index,len(Enter_user)):\n",
    "                    if Enter_user[i]==string_array[1]:\n",
    "                        dic[Enter_user[i]] = string_array[2]\n",
    "        print(Enter_user)\n",
    "        print(Leave_user)\n",
    "    for a in arr:\n",
    "        if a=='E':\n",
    "            answer.append(dic[Enter_user.popleft()]+\"님이 들어왔습니다.\")\n",
    "        elif a=='L':\n",
    "            answer.append(dic[Leave_user.popleft()]+\"님이 나갔습니다.\")\n",
    "            \n",
    "            \n",
    "    return answer\n",
    "\n",
    "record = [\"Enter uid1234 Muzi\", \"Enter uid4567 Prodo\",\"Leave uid1234\",\"Enter uid1234 Prodo\",\"Change uid4567 Ryan\"]\n",
    "solution(record)"
   ]
  },
  {
   "cell_type": "code",
   "execution_count": 18,
   "metadata": {},
   "outputs": [
    {
     "ename": "UnboundLocalError",
     "evalue": "local variable 'j' referenced before assignment",
     "output_type": "error",
     "traceback": [
      "\u001b[1;31m---------------------------------------------------------------------------\u001b[0m",
      "\u001b[1;31mUnboundLocalError\u001b[0m                         Traceback (most recent call last)",
      "\u001b[1;32m<ipython-input-18-dd7897e6e35b>\u001b[0m in \u001b[0;36m<module>\u001b[1;34m\u001b[0m\n\u001b[0;32m     38\u001b[0m \u001b[0mland\u001b[0m \u001b[1;33m=\u001b[0m \u001b[1;33m[\u001b[0m\u001b[1;33m[\u001b[0m\u001b[1;36m1\u001b[0m\u001b[1;33m,\u001b[0m \u001b[1;36m4\u001b[0m\u001b[1;33m,\u001b[0m \u001b[1;36m8\u001b[0m\u001b[1;33m,\u001b[0m \u001b[1;36m10\u001b[0m\u001b[1;33m]\u001b[0m\u001b[1;33m,\u001b[0m \u001b[1;33m[\u001b[0m\u001b[1;36m5\u001b[0m\u001b[1;33m,\u001b[0m \u001b[1;36m5\u001b[0m\u001b[1;33m,\u001b[0m \u001b[1;36m5\u001b[0m\u001b[1;33m,\u001b[0m \u001b[1;36m5\u001b[0m\u001b[1;33m]\u001b[0m\u001b[1;33m,\u001b[0m \u001b[1;33m[\u001b[0m\u001b[1;36m10\u001b[0m\u001b[1;33m,\u001b[0m \u001b[1;36m10\u001b[0m\u001b[1;33m,\u001b[0m \u001b[1;36m10\u001b[0m\u001b[1;33m,\u001b[0m \u001b[1;36m10\u001b[0m\u001b[1;33m]\u001b[0m\u001b[1;33m,\u001b[0m \u001b[1;33m[\u001b[0m\u001b[1;36m10\u001b[0m\u001b[1;33m,\u001b[0m \u001b[1;36m10\u001b[0m\u001b[1;33m,\u001b[0m \u001b[1;36m10\u001b[0m\u001b[1;33m,\u001b[0m \u001b[1;36m20\u001b[0m\u001b[1;33m]\u001b[0m\u001b[1;33m]\u001b[0m\u001b[1;33m\u001b[0m\u001b[1;33m\u001b[0m\u001b[0m\n\u001b[0;32m     39\u001b[0m \u001b[0mheight\u001b[0m \u001b[1;33m=\u001b[0m \u001b[1;36m3\u001b[0m\u001b[1;33m\u001b[0m\u001b[1;33m\u001b[0m\u001b[0m\n\u001b[1;32m---> 40\u001b[1;33m \u001b[0msolution\u001b[0m\u001b[1;33m(\u001b[0m\u001b[0mland\u001b[0m\u001b[1;33m,\u001b[0m\u001b[0mheight\u001b[0m\u001b[1;33m)\u001b[0m\u001b[1;33m\u001b[0m\u001b[1;33m\u001b[0m\u001b[0m\n\u001b[0m",
      "\u001b[1;32m<ipython-input-18-dd7897e6e35b>\u001b[0m in \u001b[0;36msolution\u001b[1;34m(land, height)\u001b[0m\n\u001b[0;32m      6\u001b[0m     \u001b[1;32mglobal\u001b[0m \u001b[0mlandarr\u001b[0m\u001b[1;33m\u001b[0m\u001b[1;33m\u001b[0m\u001b[0m\n\u001b[0;32m      7\u001b[0m     \u001b[0mN\u001b[0m \u001b[1;33m=\u001b[0m \u001b[0mlen\u001b[0m\u001b[1;33m(\u001b[0m\u001b[0mland\u001b[0m\u001b[1;33m)\u001b[0m\u001b[1;33m\u001b[0m\u001b[1;33m\u001b[0m\u001b[0m\n\u001b[1;32m----> 8\u001b[1;33m     \u001b[0mlandarr\u001b[0m \u001b[1;33m=\u001b[0m \u001b[1;33m[\u001b[0m\u001b[1;33m(\u001b[0m\u001b[0mi\u001b[0m\u001b[1;33m,\u001b[0m\u001b[0mj\u001b[0m\u001b[1;33m)\u001b[0m \u001b[1;32mfor\u001b[0m \u001b[0mi\u001b[0m \u001b[1;32min\u001b[0m \u001b[0mrange\u001b[0m\u001b[1;33m(\u001b[0m\u001b[0mN\u001b[0m\u001b[1;33m)\u001b[0m \u001b[1;32mfor\u001b[0m \u001b[0mj\u001b[0m \u001b[1;32min\u001b[0m \u001b[0mrange\u001b[0m\u001b[1;33m(\u001b[0m\u001b[0mj\u001b[0m\u001b[1;33m)\u001b[0m\u001b[1;33m]\u001b[0m\u001b[1;33m\u001b[0m\u001b[1;33m\u001b[0m\u001b[0m\n\u001b[0m\u001b[0;32m      9\u001b[0m     \u001b[0mdic\u001b[0m \u001b[1;33m=\u001b[0m \u001b[1;33m{\u001b[0m\u001b[1;33m}\u001b[0m\u001b[1;33m\u001b[0m\u001b[1;33m\u001b[0m\u001b[0m\n\u001b[0;32m     10\u001b[0m     \u001b[0mkeycount\u001b[0m\u001b[1;33m=\u001b[0m\u001b[1;36m1\u001b[0m\u001b[1;33m\u001b[0m\u001b[1;33m\u001b[0m\u001b[0m\n",
      "\u001b[1;32m<ipython-input-18-dd7897e6e35b>\u001b[0m in \u001b[0;36m<listcomp>\u001b[1;34m(.0)\u001b[0m\n\u001b[0;32m      6\u001b[0m     \u001b[1;32mglobal\u001b[0m \u001b[0mlandarr\u001b[0m\u001b[1;33m\u001b[0m\u001b[1;33m\u001b[0m\u001b[0m\n\u001b[0;32m      7\u001b[0m     \u001b[0mN\u001b[0m \u001b[1;33m=\u001b[0m \u001b[0mlen\u001b[0m\u001b[1;33m(\u001b[0m\u001b[0mland\u001b[0m\u001b[1;33m)\u001b[0m\u001b[1;33m\u001b[0m\u001b[1;33m\u001b[0m\u001b[0m\n\u001b[1;32m----> 8\u001b[1;33m     \u001b[0mlandarr\u001b[0m \u001b[1;33m=\u001b[0m \u001b[1;33m[\u001b[0m\u001b[1;33m(\u001b[0m\u001b[0mi\u001b[0m\u001b[1;33m,\u001b[0m\u001b[0mj\u001b[0m\u001b[1;33m)\u001b[0m \u001b[1;32mfor\u001b[0m \u001b[0mi\u001b[0m \u001b[1;32min\u001b[0m \u001b[0mrange\u001b[0m\u001b[1;33m(\u001b[0m\u001b[0mN\u001b[0m\u001b[1;33m)\u001b[0m \u001b[1;32mfor\u001b[0m \u001b[0mj\u001b[0m \u001b[1;32min\u001b[0m \u001b[0mrange\u001b[0m\u001b[1;33m(\u001b[0m\u001b[0mj\u001b[0m\u001b[1;33m)\u001b[0m\u001b[1;33m]\u001b[0m\u001b[1;33m\u001b[0m\u001b[1;33m\u001b[0m\u001b[0m\n\u001b[0m\u001b[0;32m      9\u001b[0m     \u001b[0mdic\u001b[0m \u001b[1;33m=\u001b[0m \u001b[1;33m{\u001b[0m\u001b[1;33m}\u001b[0m\u001b[1;33m\u001b[0m\u001b[1;33m\u001b[0m\u001b[0m\n\u001b[0;32m     10\u001b[0m     \u001b[0mkeycount\u001b[0m\u001b[1;33m=\u001b[0m\u001b[1;36m1\u001b[0m\u001b[1;33m\u001b[0m\u001b[1;33m\u001b[0m\u001b[0m\n",
      "\u001b[1;31mUnboundLocalError\u001b[0m: local variable 'j' referenced before assignment"
     ]
    }
   ],
   "source": [
    "from collections import deque\n",
    "\n",
    "\n",
    "def solution(land, height):\n",
    "    answer = 0\n",
    "    N = len(land)\n",
    "    landarr = set()\n",
    "    dic = {}\n",
    "    keycount=1\n",
    "    while True:\n",
    "        bfs((0,0),land,N,height)\n",
    "        dic[keycount]=bfs((0,0),land,N,height)\n",
    "    print(bfs((0,0),1,land,len(land),height))\n",
    "    return answer\n",
    "\n",
    "def bfs(start,board,N,height):\n",
    "    starty,startx = start\n",
    "    group = []\n",
    "    dx = [-1,0,0,1]\n",
    "    dy = [0,1,-1,0]\n",
    "    q = deque()\n",
    "    visit = set()\n",
    "    q.append((starty,startx))\n",
    "    visit.add((starty,startx))\n",
    "    group.append((starty,startx))\n",
    "    while q:\n",
    "        cy,cx = q.popleft()\n",
    "        for i in range(4):\n",
    "            ny = cy+dy[i]\n",
    "            nx = cx+dx[i]\n",
    "            if ny<N and ny>=0 and nx<N and nx>=0:\n",
    "                if (ny,nx) not in visit:\n",
    "                    if abs(board[cy][cx]-board[ny][nx])<=height:\n",
    "                        visit.add((ny,nx))\n",
    "                        q.append((ny,nx))\n",
    "                        group.append((ny,nx))\n",
    "                    else:\n",
    "                        \n",
    "    return group\n",
    "land = [[1, 4, 8, 10], [5, 5, 5, 5], [10, 10, 10, 10], [10, 10, 10, 20]]\n",
    "height = 3\n",
    "solution(land,height)"
   ]
  },
  {
   "cell_type": "code",
   "execution_count": 3,
   "metadata": {},
   "outputs": [
    {
     "name": "stdout",
     "output_type": "stream",
     "text": [
      "{1} {1, 3, 6} {1}\n",
      "{1, 2} {2, 5} {2}\n",
      "{2, 3, 4} {3} {3}\n"
     ]
    },
    {
     "data": {
      "text/plain": [
       "3"
      ]
     },
     "execution_count": 3,
     "metadata": {},
     "output_type": "execute_result"
    }
   ],
   "source": [
    "\n",
    "from itertools import accumulate\n",
    "\n",
    "def solution(cookie):\n",
    "    answer = 0\n",
    "    for m in range(len(cookie)-1):\n",
    "        a = set(accumulate(reversed(cookie[:m+1])))\n",
    "        b = set(accumulate(cookie[m+1:]))\n",
    "        c = a & b\n",
    "        print(a,b,c)\n",
    "        \n",
    "        if c:\n",
    "            answer = max(*c, answer)\n",
    "    return answer\n",
    "cookie = [1,1,2,3]\n",
    "solution(cookie)"
   ]
  },
  {
   "cell_type": "code",
   "execution_count": 24,
   "metadata": {},
   "outputs": [
    {
     "name": "stdout",
     "output_type": "stream",
     "text": [
      "ICN\n",
      "ATL\n"
     ]
    },
    {
     "data": {
      "text/plain": [
       "['ICN', 'ATL']"
      ]
     },
     "execution_count": 24,
     "metadata": {},
     "output_type": "execute_result"
    }
   ],
   "source": [
    "#카카오 여행경로\n",
    "\n",
    "from collections import deque\n",
    "\n",
    "def solution(tickets):\n",
    "    dic = {}\n",
    "    for ticket in tickets:\n",
    "        a,b = ticket\n",
    "        if a not in dic:\n",
    "            dic[a] = []\n",
    "        dic[a].append(b)\n",
    "    for value in dic.values():\n",
    "        value.sort()\n",
    "    result = []\n",
    "    start = 'ICN'\n",
    "    s = deque()\n",
    "    s.appendleft(start)\n",
    "    visit = set()\n",
    "    visit.add(start)\n",
    "    result.append(start)\n",
    "    while s:\n",
    "        cur = s.popleft()\n",
    "        print(cur)\n",
    "        if cur not in dic:\n",
    "            break\n",
    "        if len(dic[cur])!=0:\n",
    "            value = dic[cur][0]\n",
    "            dic[cur].remove(value)\n",
    "            result.append(value)\n",
    "            s.appendleft(value)\n",
    "            '''\n",
    "        for value in dic[cur]:\n",
    "            if value not in visit:\n",
    "                visit.add(value)\n",
    "                result.append(value)\n",
    "                q.append(value)\n",
    "           ''' \n",
    "                \n",
    "            \n",
    "    return result\n",
    "\n",
    "tickets = [['ICN', 'SFO'], ['ICN', 'ATL'], ['ALT', 'ICN']]\n",
    "solution(tickets)"
   ]
  },
  {
   "cell_type": "code",
   "execution_count": null,
   "metadata": {},
   "outputs": [],
   "source": []
  }
 ],
 "metadata": {
  "kernelspec": {
   "display_name": "Python 3",
   "language": "python",
   "name": "python3"
  },
  "language_info": {
   "codemirror_mode": {
    "name": "ipython",
    "version": 3
   },
   "file_extension": ".py",
   "mimetype": "text/x-python",
   "name": "python",
   "nbconvert_exporter": "python",
   "pygments_lexer": "ipython3",
   "version": "3.7.6"
  }
 },
 "nbformat": 4,
 "nbformat_minor": 4
}
