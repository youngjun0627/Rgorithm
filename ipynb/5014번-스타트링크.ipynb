{
 "cells": [
  {
   "cell_type": "code",
   "execution_count": 4,
   "metadata": {},
   "outputs": [
    {
     "name": "stdout",
     "output_type": "stream",
     "text": [
      "10 1  10 2 1\n",
      "6\n"
     ]
    }
   ],
   "source": [
    "from collections import deque\n",
    "\n",
    "f,s,g,u,d = map(int,input().split())\n",
    "\n",
    "def bfs(start,end,up,down, total):\n",
    "    q = deque()\n",
    "    visit = set()\n",
    "    q.append((start,0))\n",
    "    visit.add(start)\n",
    "    result = -1\n",
    "    while q:\n",
    "        cur,cnt = q.popleft()\n",
    "        if cur==end:\n",
    "            result = cnt\n",
    "            break\n",
    "        if cur+up<=total and cur+up not in visit:\n",
    "            visit.add(cur+up)\n",
    "            q.append((cur+up,cnt+1))\n",
    "        if cur-down >=1 and cur-down not in visit:\n",
    "            visit.add(cur-down)\n",
    "            q.append((cur-down,cnt+1))\n",
    "    return result\n",
    "\n",
    "answer = bfs(s,g,u,d,f)\n",
    "if answer!=-1:\n",
    "    print(answer)\n",
    "else:\n",
    "    print('use the stairs')"
   ]
  },
  {
   "cell_type": "code",
   "execution_count": null,
   "metadata": {},
   "outputs": [],
   "source": []
  }
 ],
 "metadata": {
  "kernelspec": {
   "display_name": "Python 3",
   "language": "python",
   "name": "python3"
  },
  "language_info": {
   "codemirror_mode": {
    "name": "ipython",
    "version": 3
   },
   "file_extension": ".py",
   "mimetype": "text/x-python",
   "name": "python",
   "nbconvert_exporter": "python",
   "pygments_lexer": "ipython3",
   "version": "3.7.7"
  }
 },
 "nbformat": 4,
 "nbformat_minor": 4
}
