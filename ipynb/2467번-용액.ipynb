{
 "cells": [
  {
   "cell_type": "code",
   "execution_count": 108,
   "metadata": {},
   "outputs": [
    {
     "name": "stdout",
     "output_type": "stream",
     "text": [
      "4\n",
      "-100 -2 -1 103\n",
      "-100 103\n"
     ]
    }
   ],
   "source": [
    "# 오름차순으로 주어짐\n",
    "# 투포인터 이용\n",
    "import sys\n",
    "sys.setrecursionlimit(100000)\n",
    "\n",
    "n = int(input())\n",
    "liquids = list(map(int,input().split()))\n",
    "left = 0\n",
    "right = n-1\n",
    "_min = 2000000000\n",
    "answer = []\n",
    "\n",
    "def func(left, right):\n",
    "    global _min, answer\n",
    "    if left>=right:\n",
    "        return\n",
    "    cur = liquids[left]+liquids[right]\n",
    "    if _min > abs(cur):\n",
    "        answer = [liquids[left], liquids[right]]\n",
    "        _min = abs(cur)\n",
    "    if cur>=0:\n",
    "        func(left,right-1)\n",
    "    else:\n",
    "        func(left+1,right)\n",
    "func(left,right)\n",
    "_str = ''\n",
    "for ans in answer:\n",
    "    _str += str(ans) + ' '\n",
    "print(_str[:-1])"
   ]
  },
  {
   "cell_type": "code",
   "execution_count": 106,
   "metadata": {},
   "outputs": [
    {
     "name": "stdout",
     "output_type": "stream",
     "text": [
      "-99 98\n"
     ]
    }
   ],
   "source": [
    "_str = ''\n",
    "for ans in answer:\n",
    "    _str += str(ans) + ' '\n",
    "print(_str[:-1])"
   ]
  },
  {
   "cell_type": "code",
   "execution_count": 103,
   "metadata": {},
   "outputs": [
    {
     "data": {
      "text/plain": [
       "[-99, 98]"
      ]
     },
     "execution_count": 103,
     "metadata": {},
     "output_type": "execute_result"
    }
   ],
   "source": [
    "answer"
   ]
  },
  {
   "cell_type": "code",
   "execution_count": null,
   "metadata": {},
   "outputs": [],
   "source": []
  }
 ],
 "metadata": {
  "kernelspec": {
   "display_name": "Python 3",
   "language": "python",
   "name": "python3"
  },
  "language_info": {
   "codemirror_mode": {
    "name": "ipython",
    "version": 3
   },
   "file_extension": ".py",
   "mimetype": "text/x-python",
   "name": "python",
   "nbconvert_exporter": "python",
   "pygments_lexer": "ipython3",
   "version": "3.7.7"
  }
 },
 "nbformat": 4,
 "nbformat_minor": 4
}
