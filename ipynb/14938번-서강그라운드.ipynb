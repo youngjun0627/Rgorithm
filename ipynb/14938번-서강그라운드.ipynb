{
 "cells": [
  {
   "cell_type": "code",
   "execution_count": 6,
   "metadata": {},
   "outputs": [
    {
     "name": "stdout",
     "output_type": "stream",
     "text": [
      "5 5 4\n",
      "5 7 8 2 3\n",
      "1 4 5\n",
      "5 2 4\n",
      "3 2 3\n",
      "1 2 3\n",
      "[9999999, 0, 3, 6, 5, 7] 14\n",
      "[9999999, 3, 0, 3, 8, 4] 23\n",
      "[9999999, 6, 3, 0, 11, 7] 15\n",
      "[9999999, 5, 8, 11, 0, 12] 7\n",
      "[9999999, 7, 4, 7, 12, 0] 10\n",
      "23\n"
     ]
    }
   ],
   "source": [
    "import heapq\n",
    "\n",
    "n,m,r= map(int,input().split())\n",
    "items = [0] + list(map(int,input().split()))\n",
    "\n",
    "dic = {i:{} for i in range(1,n+1)}\n",
    "for _ in range(r):\n",
    "    a,b,c = map(int,input().split())\n",
    "    dic[a][b] = c\n",
    "    dic[b][a] = c\n",
    "\n",
    "def dijk(start,dic,n):\n",
    "    result = [9999999 for _ in range(n+1)]\n",
    "    result[start] = 0\n",
    "    hq = [(0,start)]\n",
    "    visit = set()\n",
    "    while hq:\n",
    "        cur_dist, cur_index = heapq.heappop(hq)\n",
    "        visit.add(cur_index)\n",
    "        for next_index in dic[cur_index]:\n",
    "            next_dist = dic[cur_index][next_index]\n",
    "            if next_index not in visit and next_dist + cur_dist < result[next_index]:\n",
    "                result[next_index] = next_dist + cur_dist\n",
    "                heapq.heappush(hq, (result[next_index],next_index))\n",
    "    return result\n",
    "\n",
    "def get_item(items, dists, max_dist):\n",
    "    result = 0\n",
    "    for idx,dist in enumerate(dists):\n",
    "        if dist<=max_dist:\n",
    "            result+=items[idx]\n",
    "    return result\n",
    "        \n",
    "answer = 0\n",
    "for start in range(1,n+1):\n",
    "    dists = dijk(start,dic,n)\n",
    "    item = get_item(items, dists, m)\n",
    "    answer = max(answer, item)\n",
    "print(answer)\n",
    "    \n"
   ]
  },
  {
   "cell_type": "code",
   "execution_count": null,
   "metadata": {},
   "outputs": [],
   "source": []
  }
 ],
 "metadata": {
  "kernelspec": {
   "display_name": "Python 3",
   "language": "python",
   "name": "python3"
  },
  "language_info": {
   "codemirror_mode": {
    "name": "ipython",
    "version": 3
   },
   "file_extension": ".py",
   "mimetype": "text/x-python",
   "name": "python",
   "nbconvert_exporter": "python",
   "pygments_lexer": "ipython3",
   "version": "3.7.7"
  }
 },
 "nbformat": 4,
 "nbformat_minor": 4
}
