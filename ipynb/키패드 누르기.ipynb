{
 "cells": [
  {
   "cell_type": "code",
   "execution_count": null,
   "metadata": {},
   "outputs": [],
   "source": [
    "def solution(numbers, hand):\n",
    "    answer = ''\n",
    "    dic = {'0':(3,1),'1':(0,0),'2':(0,1),'3':(0,2),'4':(1,0),'5':(1,1),'6':(1,2),'7':(2,0),'8':(2,1),'9':(2,2)}\n",
    "    left = [1,4,7]\n",
    "    right = [3,6,9]\n",
    "    cur_L = (3,0)\n",
    "    cur_R = (3,2)\n",
    "    while len(numbers)>0:\n",
    "        number = numbers.pop(0)\n",
    "        if number in left:\n",
    "            answer+=('L')\n",
    "            cur_L = dic[str(number)]\n",
    "        elif number in right:\n",
    "            answer+=('R')\n",
    "            cur_R = dic[str(number)]\n",
    "        else:\n",
    "            a = abs(cur_L[0]-dic[str(number)][0])+abs(cur_L[1]-dic[str(number)][1])\n",
    "            b = abs(cur_R[0]-dic[str(number)][0])+abs(cur_R[1]-dic[str(number)][1])\n",
    "            if a>b:\n",
    "                answer+=('R')\n",
    "                cur_R = dic[str(number)]\n",
    "            elif a<b:\n",
    "                answer+=('L')\n",
    "                cur_L = dic[str(number)]\n",
    "            else:\n",
    "                if hand=='left':\n",
    "                    answer+=('L')\n",
    "                    cur_L = dic[str(number)]\n",
    "                else:\n",
    "                    answer+=('R')\n",
    "                    cur_R = dic[str(number)]\n",
    "                    \n",
    "                    \n",
    "    return answer"
   ]
  },
  {
   "cell_type": "code",
   "execution_count": 2,
   "metadata": {},
   "outputs": [],
   "source": [
    "dic = {'0':(3,1),'1':(0,0),'2':(0,1),'3':(0,2),'4':(1,0),'5':(1,1),'6':(1,2),'7':(2,0),'8':(2,1),'9':(2,2)}"
   ]
  },
  {
   "cell_type": "code",
   "execution_count": 3,
   "metadata": {},
   "outputs": [
    {
     "data": {
      "text/plain": [
       "{'0': (3, 1),\n",
       " '1': (0, 0),\n",
       " '2': (0, 1),\n",
       " '3': (0, 2),\n",
       " '4': (1, 0),\n",
       " '5': (1, 1),\n",
       " '6': (1, 2),\n",
       " '7': (2, 0),\n",
       " '8': (2, 1),\n",
       " '9': (2, 2)}"
      ]
     },
     "execution_count": 3,
     "metadata": {},
     "output_type": "execute_result"
    }
   ],
   "source": [
    "dic"
   ]
  },
  {
   "cell_type": "code",
   "execution_count": null,
   "metadata": {},
   "outputs": [],
   "source": []
  }
 ],
 "metadata": {
  "kernelspec": {
   "display_name": "Python 3",
   "language": "python",
   "name": "python3"
  },
  "language_info": {
   "codemirror_mode": {
    "name": "ipython",
    "version": 3
   },
   "file_extension": ".py",
   "mimetype": "text/x-python",
   "name": "python",
   "nbconvert_exporter": "python",
   "pygments_lexer": "ipython3",
   "version": "3.7.7"
  }
 },
 "nbformat": 4,
 "nbformat_minor": 4
}
