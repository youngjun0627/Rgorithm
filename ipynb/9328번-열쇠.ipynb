{
 "cells": [
  {
   "cell_type": "code",
   "execution_count": 63,
   "metadata": {},
   "outputs": [
    {
     "name": "stdout",
     "output_type": "stream",
     "text": [
      "1\n",
      "3 3\n",
      "***\n",
      "*$*\n",
      "Aa.\n",
      "0\n",
      "0\n"
     ]
    }
   ],
   "source": [
    "from collections import deque\n",
    "\n",
    "T = int(input())\n",
    "\n",
    "def bfs(board,h,w,keys):\n",
    "    answer = 0\n",
    "    q=deque()\n",
    "    q.append((0,0))\n",
    "    visit = [[False]*w for _ in range(h)]\n",
    "    visit[0][0]=True\n",
    "    no_enter = {chr(ord('a')+i):[] for i in range(26)}\n",
    "    dy = [0,0,-1,1]\n",
    "    dx = [-1,1,0,0]\n",
    "    \n",
    "    while q:\n",
    "        y,x = q.popleft()\n",
    "        if board[y][x] =='$':\n",
    "            answer += 1\n",
    "        for i in range(4):\n",
    "            ny = y+dy[i]\n",
    "            nx = x+dx[i]\n",
    "            if not (0<=ny<h and 0<=nx<w):\n",
    "                continue\n",
    "            if visit[ny][nx]:\n",
    "                continue\n",
    "            visit[ny][nx] = True\n",
    "            ch = board[ny][nx]\n",
    "            if ch=='*':\n",
    "                continue\n",
    "            if 'a'<=ch<='z':\n",
    "                keys[ch]=True\n",
    "                q.append((ny,nx))\n",
    "                for _y, _x in no_enter[ch]:\n",
    "                    q.append((_y,_x))\n",
    "                no_enter[ch].clear()\n",
    "            elif 'A'<=ch<='Z':\n",
    "                ch = ch.lower()\n",
    "                if keys[ch]:\n",
    "                    q.append((ny,nx))\n",
    "                else:\n",
    "                    no_enter[ch].append((ny,nx))\n",
    "            else:\n",
    "                q.append((ny,nx))\n",
    "    return answer\n",
    "\n",
    "for _ in range(T):\n",
    "    h,w = map(int,input().split())\n",
    "    h+=2\n",
    "    w+=2\n",
    "    board = []\n",
    "    for i in range(h):\n",
    "        if i==0 or i==h-1:\n",
    "            board.append(['.']*w)\n",
    "            continue\n",
    "        board.append(list(input()))\n",
    "        board[i] = ['.'] + board[i] + ['.'] # 칸 늘려주기\n",
    "    \n",
    "    keys = {chr(ord('a')+i):False for i in range(26)}\n",
    "    \n",
    "    pre_keys = input()\n",
    "    if pre_keys == '0':\n",
    "        pre_keys = ''\n",
    "    for i in pre_keys:\n",
    "        keys[i]=True\n",
    "    print(bfs(board,h,w,keys))\n",
    "    "
   ]
  },
  {
   "cell_type": "code",
   "execution_count": 60,
   "metadata": {},
   "outputs": [
    {
     "data": {
      "text/plain": [
       "['.',\n",
       " '.',\n",
       " '.',\n",
       " ['.', '*', '*', '*', '.'],\n",
       " ['.', '*', '$', '*', '.'],\n",
       " ['.', 'A', 'a', '.', '.'],\n",
       " '.',\n",
       " '.',\n",
       " '.']"
      ]
     },
     "execution_count": 60,
     "metadata": {},
     "output_type": "execute_result"
    }
   ],
   "source": [
    "board"
   ]
  },
  {
   "cell_type": "code",
   "execution_count": 55,
   "metadata": {},
   "outputs": [
    {
     "data": {
      "text/plain": [
       "{'a': False,\n",
       " 'b': False,\n",
       " 'c': False,\n",
       " 'd': False,\n",
       " 'e': False,\n",
       " 'f': False,\n",
       " 'g': False,\n",
       " 'h': False,\n",
       " 'i': False,\n",
       " 'j': False,\n",
       " 'k': False,\n",
       " 'l': False,\n",
       " 'm': False,\n",
       " 'n': False,\n",
       " 'o': False,\n",
       " 'p': False,\n",
       " 'q': False,\n",
       " 'r': False,\n",
       " 's': False,\n",
       " 't': False,\n",
       " 'u': False,\n",
       " 'v': False,\n",
       " 'w': False,\n",
       " 'x': False,\n",
       " 'y': False,\n",
       " 'z': False}"
      ]
     },
     "execution_count": 55,
     "metadata": {},
     "output_type": "execute_result"
    }
   ],
   "source": [
    "keys"
   ]
  },
  {
   "cell_type": "code",
   "execution_count": null,
   "metadata": {},
   "outputs": [],
   "source": []
  }
 ],
 "metadata": {
  "kernelspec": {
   "display_name": "Python 3",
   "language": "python",
   "name": "python3"
  },
  "language_info": {
   "codemirror_mode": {
    "name": "ipython",
    "version": 3
   },
   "file_extension": ".py",
   "mimetype": "text/x-python",
   "name": "python",
   "nbconvert_exporter": "python",
   "pygments_lexer": "ipython3",
   "version": "3.7.7"
  }
 },
 "nbformat": 4,
 "nbformat_minor": 4
}
