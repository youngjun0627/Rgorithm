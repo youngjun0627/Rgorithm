{
 "cells": [
  {
   "cell_type": "code",
   "execution_count": 23,
   "metadata": {},
   "outputs": [
    {
     "name": "stdout",
     "output_type": "stream",
     "text": [
      "100 200 1\n",
      "125\n"
     ]
    }
   ],
   "source": [
    "a, b, c = map(int,input().split())\n",
    "\n",
    "\n",
    "\n",
    "result = 0\n",
    "for i in range(a,b+1):\n",
    "    cnt=0\n",
    "    n=i\n",
    "    while True:\n",
    "        if n%2==0:\n",
    "            n = n//2\n",
    "        else:\n",
    "            n = n*3+1\n",
    "            if n>b//3 and c>0:\n",
    "                n+=10\n",
    "                c-=1\n",
    "        cnt+=1\n",
    "        if n == 1:\n",
    "            break\n",
    "    \n",
    "    if result<cnt:\n",
    "        result = cnt\n",
    "    \n",
    "print(result+1)\n"
   ]
  },
  {
   "cell_type": "code",
   "execution_count": null,
   "metadata": {},
   "outputs": [],
   "source": []
  },
  {
   "cell_type": "code",
   "execution_count": null,
   "metadata": {},
   "outputs": [],
   "source": []
  }
 ],
 "metadata": {
  "kernelspec": {
   "display_name": "Python 3",
   "language": "python",
   "name": "python3"
  },
  "language_info": {
   "codemirror_mode": {
    "name": "ipython",
    "version": 3
   },
   "file_extension": ".py",
   "mimetype": "text/x-python",
   "name": "python",
   "nbconvert_exporter": "python",
   "pygments_lexer": "ipython3",
   "version": "3.7.7"
  }
 },
 "nbformat": 4,
 "nbformat_minor": 4
}
