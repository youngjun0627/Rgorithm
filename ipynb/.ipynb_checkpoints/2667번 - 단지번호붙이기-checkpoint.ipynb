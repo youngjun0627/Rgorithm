{
 "cells": [
  {
   "cell_type": "code",
   "execution_count": 11,
   "metadata": {},
   "outputs": [
    {
     "name": "stdout",
     "output_type": "stream",
     "text": [
      "4\n",
      "0110\n",
      "1001\n",
      "1001\n",
      "0110\n",
      "0 1\n",
      "0 2\n",
      "1 0\n",
      "2 0\n",
      "1 3\n",
      "2 3\n",
      "3 1\n",
      "3 2\n",
      "4\n",
      "2\n",
      "2\n",
      "2\n",
      "2\n"
     ]
    }
   ],
   "source": [
    "from collections import deque\n",
    "\n",
    "def bfs(start, board,n):\n",
    "    q = deque()\n",
    "    q.append(start)\n",
    "    dy = [0,0,-1,1]\n",
    "    dx = [-1,1,0,0]\n",
    "    visit = set()\n",
    "    cnt=0\n",
    "    visit.add(start)\n",
    "    while q:\n",
    "        cy,cx = q.popleft()\n",
    "        cnt+=1\n",
    "        for i in range(4):\n",
    "            ny = cy+dy[i]\n",
    "            nx = cx+dx[i]\n",
    "            if ny>=0 and ny<n and nx>=0 and nx<n and board[ny][nx]==1:\n",
    "                if (ny,nx) not in visit:\n",
    "                    visit.add((ny,nx))\n",
    "                    board[ny][nx]=0\n",
    "                    q.append((ny,nx))\n",
    "    \n",
    "    return cnt\n",
    "                \n",
    "n = int(input())\n",
    "starts = []\n",
    "board = [[0 for _ in range(n)] for _ in range(n)]\n",
    "for i in range(n):\n",
    "    temp = input()\n",
    "    for j in range(n):\n",
    "        if temp[j]=='1':\n",
    "            starts.append((i,j))\n",
    "        board[i][j]=int(temp[j])\n",
    "\n",
    "cnt2=0\n",
    "cnt=[]\n",
    "for start in starts:\n",
    "    if board[start[0]][start[1]]!=0:\n",
    "        cnt.append(bfs(start,board,n))\n",
    "        cnt2 +=1\n",
    "cnt.sort()\n",
    "print(cnt2)\n",
    "for a in cnt:\n",
    "    print(a)\n",
    "    "
   ]
  },
  {
   "cell_type": "code",
   "execution_count": null,
   "metadata": {},
   "outputs": [],
   "source": []
  }
 ],
 "metadata": {
  "kernelspec": {
   "display_name": "Python 3",
   "language": "python",
   "name": "python3"
  },
  "language_info": {
   "codemirror_mode": {
    "name": "ipython",
    "version": 3
   },
   "file_extension": ".py",
   "mimetype": "text/x-python",
   "name": "python",
   "nbconvert_exporter": "python",
   "pygments_lexer": "ipython3",
   "version": "3.7.7"
  }
 },
 "nbformat": 4,
 "nbformat_minor": 4
}
