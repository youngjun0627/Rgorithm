{
 "cells": [
  {
   "cell_type": "code",
   "execution_count": 42,
   "metadata": {},
   "outputs": [
    {
     "name": "stdout",
     "output_type": "stream",
     "text": [
      "1 1 [[1, 0, 1, 1], [1, 0, 1, 1], [1, 1, 1, 1]]\n",
      "1 2 [[1, 0, 1, 1], [1, 0, 1, 1], [1, 1, 1, 1]]\n",
      "1 3 [[1, 0, 1, 1], [1, 0, 1, 1], [1, 1, 1, 1]]\n",
      "2 1 [[1, 0, 1, 1], [1, 0, 1, 2], [1, 1, 1, 1]]\n",
      "2 2 [[1, 0, 1, 1], [1, 0, 1, 2], [1, 1, 1, 1]]\n",
      "2 3 [[1, 0, 1, 1], [1, 0, 1, 2], [1, 1, 2, 1]]\n"
     ]
    },
    {
     "data": {
      "text/plain": [
       "4"
      ]
     },
     "execution_count": 42,
     "metadata": {},
     "output_type": "execute_result"
    }
   ],
   "source": [
    "def solution(m,n,puddles):\n",
    "    grid = [[0]*(m+1) for i in range(n+1)] \n",
    "    if puddles != [[]]:                   \n",
    "        for a, b in puddles:\n",
    "            grid[b][a] = -1                \n",
    "    grid[1][1] = 1\n",
    "    for j in range(1,n+1):\n",
    "        for k in range(1,m+1):\n",
    "            if j == k == 1:                \n",
    "                continue\n",
    "            if grid[j][k] == -1:          \n",
    "                grid[j][k] = 0\n",
    "                continue\n",
    "            grid[j][k] = (grid[j][k-1] + grid[j-1][k])%1000000007   \n",
    "\n",
    "    return grid[n][m]\n",
    "\n"
   ]
  },
  {
   "cell_type": "code",
   "execution_count": null,
   "metadata": {},
   "outputs": [],
   "source": []
  }
 ],
 "metadata": {
  "kernelspec": {
   "display_name": "Python 3",
   "language": "python",
   "name": "python3"
  },
  "language_info": {
   "codemirror_mode": {
    "name": "ipython",
    "version": 3
   },
   "file_extension": ".py",
   "mimetype": "text/x-python",
   "name": "python",
   "nbconvert_exporter": "python",
   "pygments_lexer": "ipython3",
   "version": "3.7.6"
  }
 },
 "nbformat": 4,
 "nbformat_minor": 4
}
