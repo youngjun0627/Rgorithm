{
 "cells": [
  {
   "cell_type": "code",
   "execution_count": 24,
   "metadata": {},
   "outputs": [
    {
     "name": "stdout",
     "output_type": "stream",
     "text": [
      "7 10:00:00\n",
      "03:50\n",
      "03:50\n",
      "03:50\n",
      "03:50\n",
      "03:50\n",
      "03:50\n",
      "03:50\n",
      "7 1\n"
     ]
    }
   ],
   "source": [
    "def change_time(time):\n",
    "    m,s = map(int,time.split(':'))\n",
    "    return m*60 + s\n",
    "\n",
    "def change_practice_time(time):\n",
    "    h,m,s = map(int,time.split(':'))\n",
    "    return h*3600 + m*60 + s\n",
    "n, practice_time = input().split()\n",
    "n = int(n)\n",
    "practice_time = change_practice_time(practice_time)\n",
    "times = []\n",
    "for i in range(n):\n",
    "    temp = input()\n",
    "    if i==0:\n",
    "        times.append(change_time(temp))\n",
    "    else:\n",
    "        times.append(change_time(temp)-times[i-1])\n",
    "\n",
    "idx=0\n",
    "answer = 0\n",
    "for start in range(len(times)):\n",
    "    \n",
    "    p_time = practice_time\n",
    "    cnt=0\n",
    "    \n",
    "    _min = start\n",
    "    _max = len(times)-1\n",
    "    result = 0\n",
    "    while _min<=_max:\n",
    "        mid = (_min+_max)//2\n",
    "        time = times[mid]-times[start]\n",
    "        if time>p_time:\n",
    "            _max=mid-1\n",
    "        else:\n",
    "            result = max(result,mid)\n",
    "            #print(start,result)\n",
    "            _min=mid+1\n",
    "    if result-start>answer:\n",
    "        \n",
    "        answer = result-start\n",
    "        idx = start\n",
    "print(answer,idx+1)\n",
    "\n",
    "    \n",
    "'''\n",
    "    for time in times[start:]:\n",
    "        if p_time>=time:\n",
    "            p_time-=time\n",
    "            cnt+=1\n",
    "        else:\n",
    "            if p_time>0:\n",
    "                cnt+=1\n",
    "            \n",
    "            break\n",
    "    if cnt>_max:\n",
    "        _max = cnt\n",
    "        idx = start\n",
    "print(_max, idx+1)\n",
    "'''"
   ]
  },
  {
   "cell_type": "code",
   "execution_count": 25,
   "metadata": {},
   "outputs": [
    {
     "data": {
      "text/plain": [
       "34390"
      ]
     },
     "execution_count": 25,
     "metadata": {},
     "output_type": "execute_result"
    }
   ],
   "source": []
  },
  {
   "cell_type": "code",
   "execution_count": 14,
   "metadata": {},
   "outputs": [
    {
     "name": "stdout",
     "output_type": "stream",
     "text": [
      "6\n",
      "s b 3\n",
      "b h 10\n",
      "s t 4\n",
      "s h 6\n",
      "t h 5\n",
      "b t 5\n",
      "12\n"
     ]
    }
   ],
   "source": [
    "from queue import PriorityQueue\n",
    "from collections import deque\n",
    "\n",
    "def bfs(start,dic):\n",
    "    q = deque()\n",
    "    q.append(start)\n",
    "    visit=set()\n",
    "    visit.add(start)\n",
    "    while q:\n",
    "        cur = q.popleft()\n",
    "        for _next in dic[cur]:\n",
    "            if _next not in visit:\n",
    "                visit.add(_next)\n",
    "                q.append(_next)\n",
    "    return len(visit)\n",
    "            \n",
    "\n",
    "n = int(input())\n",
    "#dic = {}\n",
    "country = set()\n",
    "pq = PriorityQueue()\n",
    "parent = {}\n",
    "for _ in range(n):\n",
    "    a,b,c= input().split()\n",
    "    if a not in country:\n",
    "        country.add(a)\n",
    "    if b not in country:\n",
    "        country.add(b)\n",
    "    pq.put((int(c),a,b))\n",
    "    \n",
    "\n",
    "    \n",
    "\n",
    "answer=0\n",
    "dic={}\n",
    "visit=set()\n",
    "while not pq.empty():\n",
    "    cost,a,b = pq.get()\n",
    "    if a in visit and b in visit:\n",
    "        continue\n",
    "    else:\n",
    "        answer+=cost\n",
    "        visit.add(a)\n",
    "        visit.add(b)\n",
    "        if a not in dic:\n",
    "            dic[a]=[]\n",
    "        if b not in dic:\n",
    "            dic[b]=[]\n",
    "        dic[a].append(b)\n",
    "        dic[b].append(a)\n",
    "        \n",
    "    if bfs(a,dic)==len(country):\n",
    "        break\n",
    "print(answer)\n",
    "    \n",
    "    \n"
   ]
  },
  {
   "cell_type": "code",
   "execution_count": null,
   "metadata": {},
   "outputs": [],
   "source": [
    "# 3\n",
    "from collections import deque\n",
    "\n",
    "def bfs(start,dic,end):\n",
    "    \n",
    "    q = deque()\n",
    "    q.append(start)\n",
    "    visit=set()\n",
    "    visit.add(start)\n",
    "    result=False\n",
    "    while q:\n",
    "        cur = q.popleft()\n",
    "        if cur==end:\n",
    "            result=True\n",
    "            break\n",
    "        if cur not in dic:\n",
    "            return False\n",
    "        for _next in dic[cur]:\n",
    "            if _next not in visit:\n",
    "                visit.add(_next)\n",
    "                q.append(_next)\n",
    "    return result\n",
    "\n",
    "n,q = map(int,input().split())\n",
    "dic = {}\n",
    "for _ in range(n-1):\n",
    "    a,b = map(int,input().split())\n",
    "    if b not in dic:\n",
    "        dic[b]=[]\n",
    "    dic[b].append(a)\n",
    "for _ in range(q):\n",
    "    a,b = map(int,input().split())\n",
    "    result = bfs(b,dic,a)\n",
    "    if result:\n",
    "        print('yes')\n",
    "    else:\n",
    "        print('no')\n"
   ]
  },
  {
   "cell_type": "code",
   "execution_count": 23,
   "metadata": {},
   "outputs": [
    {
     "name": "stdout",
     "output_type": "stream",
     "text": [
      "1\n",
      "asdgsogasngkoasngpoasognbjasbsojkgbaspdgboasigbpasfwqqasdgsogasngkoasngpoasognbjasbsojkgbaspdgboasigbpasfwqqasdgsogasngkoasngpoasognbjasbsojkgbaspdgboasigbpasfwqqasdgsogasngkoasngpoasognbjasbsojkgbaspdgboasigbpasfwqqasdgsogasngkoasngpoasognbjasbsojkgbaspdgboasigbpasfwqqasdgsogasngkoasngpoasognbjasbsojkgbaspdgboasigbpasfwqqasdgsogasngkoasngpoasognbjasbsojkgbaspdgboasigbpasfwqqasdgsogasngkoasngpoasognbjasbsojkgbaspdgboasigbpasfwqqasdgsogasngkoasngpoasognbjasbsojkgbaspdgboasigbpasfwqqasdgsogasngkoasngpoasognbjasbsojkgbaspdgboasigbpasfwqqasdgsogasngkoasngpoasognbjasbsojkgbaspdgboasigbpasfwqqasdgsogasngkoasngpoasognbjasbsojkgbaspdgboasigbpasfwqqasdgsogasngkoasngpoasognbjasbsojkgbaspdgboasigbpasfwqqasdgsogasngkoasngpoasognbjasbsojkgbaspdgboasigbpasfwqqasdgsogasngkoasngpoasognbjasbsojkgbaspdgboasigbpasfwqqasdgsogasngkoasngpoasognbjasbsojkgbaspdgboasigbpasfwqqasdgsogasngkoasngpoasognbjasbsojkgbaspdgboasigbpasfwqqasdgsogasngkoasngpoasognbjasbsojkgbaspdgboasigbpasfwqqasdgsogasngkoasngpoasognbjasbsojkgbaspdgboasigbpasfwqqasdgsogasngkoasngpoasognbjasbsojkgbaspdgboasigbpasfwqqasdgsogasngkoasngpoasognbjasbsojkgbaspdgboasigbpasfwqqasdgsogasngkoasngpoasognbjasbsojkgbaspdgboasigbpasfwqqasdgsogasngkoasngpoasognbjasbsojkgbaspdgboasigbpasfwqqasdgsogasngkoasngpoasognbjasbsojkgbaspdgboasigbpasfwqqasdgsogasngkoasngpoasognbjasbsojkgbaspdgboasigbpasfwqqasdgsogasngkoasngpoasognbjasbsojkgbaspdgboasigbpasfwqqasdgsogasngkoasngpoasognbjasbsojkgbaspdgboasigbpasfwqqasdgsogasngkoasngpoasognbjasbsojkgbaspdgboasigbpasfwqqasdgsogasngkoasngpoasognbjasbsojkgbaspdgboasigbpasfwqqasdgsogasngkoasngpoasognbjasbsojkgbaspdgboasigbpasfwqqasdgsogasngkoasngpoasognbjasbsojkgbaspdgboasigbpasfwqqasdgsogasngkoasngpoasognbjasbsojkgbaspdgboasigbpasfwqqasdgsogasngkoasngpoasognbjasbsojkgbaspdgboasigbpasfwqqasdgsogasngkoasngpoasognbjasbsojkgbaspdgboasigbpasfwqqasdgsogasngkoasngpoasognbjasbsojkgbaspdgboasigbpasfwqqasdgsogasngkoasngpoasognbjasbsojkgbaspdgboasigbpasfwqqasdgsogasngkoasngpoasognbjasbsojkgbaspdgboasigbpasfwqqasdgsogasngkoasngpoasognbjasbsojkgbaspdgboasigbpasfwqqasdgsogasngkoasngpoasognbjasbsojkgbaspdgboasigbpasfwqqasdgsogasngkoasngpoasognbjasbsojkgbaspdgboasigbpasfwqqasdgsogasngkoasngpoasognbjasbsojkgbaspdgboasigbpasfwqqasdgsogasngkoasngpoasognbjasbsojkgbaspdgboasigbpasfwqqasdgsogasngkoasngpoasognbjasbsojkgbaspdgboasigbpasfwqqasdgsogasngkoasngpoasognbjasbsojkgbaspdgboasigbpasfwqqasdgsogasngkoasngpoasognbjasbsojkgbaspdgboasigbpasfwqqasdgsogasngkoasngpoasognbjasbsojkgbaspdgboasigbpasfwqqasdgsogasngkoasngpoasognbjasbsojkgbaspdgboasigbpasfwqqasdgsogasngkoasngpoasognbjasbsojkgbaspdgboasigbpasfwqqasdgsogasngkoasngpoasognbjasbsojkgbaspdgboasigbpasfwqqasdgsogasngkoasngpoasognbjasbsojkgbaspdgboasigbpasfwqqasdgsogasngkoasngpoasognbjasbsojkgbaspdgboasigbpasfwqqasdgsogasngkoasngpoasognbjasbsojkgbaspdgboasigbpasfwqqasdgsogasngkoasngpoasognbjasbsojkgbaspdgboasigbpasfwqqasdgsogasngkoasngpoasognbjasbsojkgbaspdgboasigbpasfwqqasdgsogasngkoasngpoasognbjasbsojkgbaspdgboasigbpasfwqqasdgsogasngkoasngpoasognbjasbsojkgbaspdgboasigbpasfwqqasdgsogasngkoasngpoasognbjasbsojkgbaspdgboasigbpasfwqqasdgsogasngkoasngpoasognbjasbsojkgbaspdgboasigbpasfwqqvasdgsogasngkoasngpoasognbjasbsojkgbaspdgboasigbpasfwqqasdgsogasngkoasngpoasognbjasbsojkgbaspdgboasigbpasfwqqasdgsogasngkoasngpoasognbjasbsojkgbaspdgboasigbpasfwqqasdgsogasngkoasngpoasognbjasbsojkgbaspdgboasigbpasfwqqasdgsogasngkoasngpoasognbjasbsojkgbaspdgboasigbpasfwqqasdgsogasngkoasngpoasognbjasbsojkgbaspdgboasigbpasfwqqasdgsogasngkoasngpoasognbjasbsojkgbaspdgboasigbpasfwqqasdgsogasngkoasngpoasognbjasbsojkgbaspdgboasigbpasfwqqasdgsogasngkoasngpoasognbjasbsojkgbaspdgboasigbpasfwqqasdgsogasngkoasngpoasognbjasbsojkgbaspdgboasigbpasfwqqasdgsogasngkoasngpoasognbjasbsojkgbaspdgboasigbpasfwqqasdgsogasngkoasngpoasognbjasbsojkgbaspdgboasigbpasfwqqasdgsogasngkoasngpoasognbjasbsojkgbaspdgboasigbpasfwqqasdgsogasngkoasngpoasognbjasbsojkgbaspdgboasigbpasfwqqasdgsogasngkoasngpoasognbjasbsojkgbaspdgboasigbpasfwqqasdgsogasngkoasngpoasognbjasbsojkgbaspdgboasigbpasfwqqasdgsogasngkoasngpoasognbjasbsojkgbaspdgboasigbpasfwqqasdgsogasngkoasngpoasognbjasbsojkgbaspdgboasigbpasfwqqasdgsogasngkoasngpoasognbjasbsojkgbaspdgboasigbpasfwqqasdgsogasngkoasngpoasognbjasbsojkgbaspdgboasigbpasfwqqasdgsogasngkoasngpoasognbjasbsojkgbaspdgboasigbpasfwqqasdgsogasngkoasngpoasognbjasbsojkgbaspdgboasigbpasfwqqasdgsogasngkoasngpoasognbjasbsojkgbaspdgboasigbpasfwqqasdgsogasngkoasngpoasognbjasbsojkgbaspdgboasigbpasfwqqasdgsogasngkoasngpoasognbjasbsojkgbaspdgboasigbpasfwqqasdgsogasngkoasngpoasognbjasbsojkgbaspdgboasigbpasfwqqasdgsogasngkoasngpoasognbjasbsojkgbaspdgboasigbpasfwqqasdgsogasngkoasngpoasognbjasbsojkgbaspdgboasigbpasfwqqasdgsogasngkoasngpoasognbjasbsojkgbaspdgboasigbpasfwqqasdgsogasngkoasngpoasognbjasbsojkgbaspdgboasigbpasfwqqasdgsogasngkoasngpoasognbjasbsojkgbaspdgboasigbpasfwqqasdgsogasngkoasngpoasognbjasbsojkgbaspdgboasigbpasfwqqasdgsogasngkoasngpoasognbjasbsojkgbaspdgboasigbpasfwqqasdgsogasngkoasngpoasognbjasbsojkgbaspdgboasigbpasfwqqasdgsogasngkoasngpoasognbjasbsojkgbaspdgboasigbpasfwqqasdgsogasngkoasngpoasognbjasbsojkgbaspdgboasigbpasfwqqasdgsogasngkoasngpoasognbjasbsojkgbaspdgboasigbpasfwqqasdgsogasngkoasngpoasognbjasbsojkgbaspdgboasigbpasfwqqasdgsogasngkoasngpoasognbjasbsojkgbaspdgboasigbpasfwqqasdgsogasngkoasngpoasognbjasbsojkgbaspdgboasigbpasfwqqasdgsogasngkoasngpoasognbjasbsojkgbaspdgboasigbpasfwqqasdgsogasngkoasngpoasognbjasbsojkgbaspdgboasigbpasfwqqasdgsogasngkoasngpoasognbjasbsojkgbaspdgboasigbpasfwqqasdgsogasngkoasngpoasognbjasbsojkgbaspdgboasigbpasfwqqasdgsogasngkoasngpoasognbjasbsojkgbaspdgboasigbpasfwqqasdgsogasngkoasngpoasognbjasbsojkgbaspdgboasigbpasfwqqasdgsogasngkoasngpoasognbjasbsojkgbaspdgboasigbpasfwqqasdgsogasngkoasngpoasognbjasbsojkgbaspdgboasigbpasfwqqasdgsogasngkoasngpoasognbjasbsojkgbaspdgboasigbpasfwqqasdgsogasngkoasngpoasognbjasbsojkgbaspdgboasigbpasfwqqasdgsogasngkoasngpoasognbjasbsojkgbaspdgboasigbpasfwqqasdgsogasngkoasngpoasognbjasbsojkgbaspdgboasigbpasfwqqasdgsogasngkoasngpoasognbjasbsojkgbaspdgboasigbpasfwqqasdgsogasngkoasngpoasognbjasbsojkgbaspdgboasigbpasfwqqasdgsogasngkoasngpoasognbjasbsojkgbaspdgboasigbpasfwqqasdgsogasngkoasngpoasognbjasbsojkgbaspdgboasigbpasfwqqasdgsogasngkoasngpoasognbjasbsojkgbaspdgboasigbpasfwqqasdgsogasngkoasngpoasognbjasbsojkgbaspdgboasigbpasfwqqvasdgsogasngkoasngpoasognbjasbsojkgbaspdgboasigbpasfwqqasdgsogasngkoasngpoasognbjasbsojkgbaspdgboasigbpasfwqqasdgsogasngkoasngpoasognbjasbsojkgbaspdgboasigbpasfwqqasdgsogasngkoasngpoasognbjasbsojkgbaspdgboasigbpasfwqqasdgsogasngkoasngpoasognbjasbsojkgbaspdgboasigbpasfwqqasdgsogasngkoasngpoasognbjasbsojkgbaspdgboasigbpasfwqqasdgsogasngkoasngpoasognbjasbsojkgbaspdgboasigbpasfwqqasdgsogasngkoasngpoasognbjasbsojkgbaspdgboasigbpasfwqqasdgsogasngkoasngpoasognbjasbsojkgbaspdgboasigbpasfwqqasdgsogasngkoasngpoasognbjasbsojkgbaspdgboasigbpasfwqqasdgsogasngkoasngpoasognbjasbsojkgbaspdgboasigbpasfwqqasdgsogasngkoasngpoasognbjasbsojkgbaspdgboasigbpasfwqqasdgsogasngkoasngpoasognbjasbsojkgbaspdgboasigbpasfwqqasdgsogasngkoasngpoasognbjasbsojkgbaspdgboasigbpasfwqqasdgsogasngkoasngpoasognbjasbsojkgbaspdgboasigbpasfwqqasdgsogasngkoasngpoasognbjasbsojkgbaspdgboasigbpasfwqqasdgsogasngkoasngpoasognbjasbsojkgbaspdgboasigbpasfwqqasdgsogasngkoasngpoasognbjasbsojkgbaspdgboasigbpasfwqqasdgsogasngkoasngpoasognbjasbsojkgbaspdgboasigbpasfwqqasdgsogasngkoasngpoasognbjasbsojkgbaspdgboasigbpasfwqqasdgsogasngkoasngpoasognbjasbsojkgbaspdgboasigbpasfwqqasdgsogasngkoasngpoasognbjasbsojkgbaspdgboasigbpasfwqqasdgsogasngkoasngpoasognbjasbsojkgbaspdgboasigbpasfwqqasdgsogasngkoasngpoasognbjasbsojkgbaspdgboasigbpasfwqqasdgsogasngkoasngpoasognbjasbsojkgbaspdgboasigbpasfwqqasdgsogasngkoasngpoasognbjasbsojkgbaspdgboasigbpasfwqqasdgsogasngkoasngpoasognbjasbsojkgbaspdgboasigbpasfwqqasdgsogasngkoasngpoasognbjasbsojkgbaspdgboasigbpasfwqqasdgsogasngkoasngpoasognbjasbsojkgbaspdgboasigbpasfwqqasdgsogasngkoasngpoasognbjasbsojkgbaspdgboasigbpasfwqqasdgsogasngkoasngpoasognbjasbsojkgbaspdgboasigbpasfwqqasdgsogasngkoasngpoasognbjasbsojkgbaspdgboasigbpasfwqqasdgsogasngkoasngpoasognbjasbsojkgbaspdgboasigbpasfwqqasdgsogasngkoasngpoasognbjasbsojkgbaspdgboasigbpasfwqqasdgsogasngkoasngpoasognbjasbsojkgbaspdgboasigbpasfwqqasdgsogasngkoasngpoasognbjasbsojkgbaspdgboasigbpasfwqqasdgsogasngkoasngpoasognbjasbsojkgbaspdgboasigbpasfwqqasdgsogasngkoasngpoasognbjasbsojkgbaspdgboasigbpasfwqqasdgsogasngkoasngpoasognbjasbsojkgbaspdgboasigbpasfwqqasdgsogasngkoasngpoasognbjasbsojkgbaspdgboasigbpasfwqqasdgsogasngkoasngpoasognbjasbsojkgbaspdgboasigbpasfwqqasdgsogasngkoasngpoasognbjasbsojkgbaspdgboasigbpasfwqqasdgsogasngkoasngpoasognbjasbsojkgbaspdgboasigbpasfwqqasdgsogasngkoasngpoasognbjasbsojkgbaspdgboasigbpasfwqqasdgsogasngkoasngpoasognbjasbsojkgbaspdgboasigbpasfwqqasdgsogasngkoasngpoasognbjasbsojkgbaspdgboasigbpasfwqqasdgsogasngkoasngpoasognbjasbsojkgbaspdgboasigbpasfwqqasdgsogasngkoasngpoasognbjasbsojkgbaspdgboasigbpasfwqqasdgsogasngkoasngpoasognbjasbsojkgbaspdgboasigbpasfwqqasdgsogasngkoasngpoasognbjasbsojkgbaspdgboasigbpasfwqqasdgsogasngkoasngpoasognbjasbsojkgbaspdgboasigbpasfwqqasdgsogasngkoasngpoasognbjasbsojkgbaspdgboasigbpasfwqqasdgsogasngkoasngpoasognbjasbsojkgbaspdgboasigbpasfwqqasdgsogasngkoasngpoasognbjasbsojkgbaspdgboasigbpasfwqqasdgsogasngkoasngpoasognbjasbsojkgbaspdgboasigbpasfwqqasdgsogasngkoasngpoasognbjasbsojkgbaspdgboasigbpasfwqqasdgsogasngkoasngpoasognbjasbsojkgbaspdgboasigbpasfwqqasdgsogasngkoasngpoasognbjasbsojkgbaspdgboasigbpasfwqqv\n"
     ]
    },
    {
     "name": "stdout",
     "output_type": "stream",
     "text": [
      "1\n",
      "koasngpo\n",
      "1\n"
     ]
    }
   ],
   "source": [
    "# 4\n",
    "\n",
    "def func(_str):\n",
    "    arr = [0 for _ in range(len(_str))]\n",
    "    p1 = 0\n",
    "    p2 = 1\n",
    "    while p2<len(_str):\n",
    "        \n",
    "        if _str[p1]==_str[p2]:\n",
    "            arr[p2]=arr[p2-1]+1\n",
    "            p1+=1\n",
    "            p2+=1\n",
    "        else:\n",
    "            p1=arr[p1]\n",
    "            if p1==0:\n",
    "                p2+=1\n",
    "    return arr\n",
    "\n",
    "n = int(input())\n",
    "nlist = []\n",
    "for _ in range(n):\n",
    "    nlist.append(input())\n",
    "q = int(input())\n",
    "for _ in range(q):\n",
    "    query = input().strip()\n",
    "    arr = func(query)\n",
    "    \n",
    "    cnt=0\n",
    "    for name in nlist:\n",
    "        \n",
    "        idx=0\n",
    "        idx2=0\n",
    "        \n",
    "        result=False\n",
    "        while idx2<len(name):\n",
    "            \n",
    "            if query[idx]==name[idx2]:\n",
    "                \n",
    "                idx+=1\n",
    "                idx2+=1\n",
    "                if idx>=len(query):\n",
    "                    \n",
    "                    result = True\n",
    "                    break\n",
    "            else:\n",
    "                if idx!=0:\n",
    "                    idx = arr[idx-1]\n",
    "                else:                    \n",
    "                    idx2+=1\n",
    "        if result:\n",
    "            cnt+=1\n",
    "    print(cnt)\n",
    "        "
   ]
  },
  {
   "cell_type": "code",
   "execution_count": 13,
   "metadata": {},
   "outputs": [
    {
     "data": {
      "text/plain": [
       "[0, 0, 0, 0, 0, 0, 0, 0, 0, 0, 0, 1, 2]"
      ]
     },
     "execution_count": 13,
     "metadata": {},
     "output_type": "execute_result"
    }
   ],
   "source": [
    "\n",
    "\n",
    "\n",
    "_str='bsaczaaadaabs'\n",
    "func(_str)"
   ]
  },
  {
   "cell_type": "code",
   "execution_count": 22,
   "metadata": {},
   "outputs": [
    {
     "data": {
      "text/plain": [
       "3133"
      ]
     },
     "execution_count": 22,
     "metadata": {},
     "output_type": "execute_result"
    }
   ],
   "source": [
    "a = 'asdgsogasngkoasngpoasognbjasbsojkgbaspdgboasigbpasfwqqasdgsogasngkoasngpoasognbjasbsojkgbaspdgboasigbpasfwqqasdgsogasngkoasngpoasognbjasbsojkgbaspdgboasigbpasfwqqasdgsogasngkoasngpoasognbjasbsojkgbaspdgboasigbpasfwqqasdgsogasngkoasngpoasognbjasbsojkgbaspdgboasigbpasfwqqasdgsogasngkoasngpoasognbjasbsojkgbaspdgboasigbpasfwqqasdgsogasngkoasngpoasognbjasbsojkgbaspdgboasigbpasfwqqasdgsogasngkoasngpoasognbjasbsojkgbaspdgboasigbpasfwqqasdgsogasngkoasngpoasognbjasbsojkgbaspdgboasigbpasfwqqasdgsogasngkoasngpoasognbjasbsojkgbaspdgboasigbpasfwqqasdgsogasngkoasngpoasognbjasbsojkgbaspdgboasigbpasfwqqasdgsogasngkoasngpoasognbjasbsojkgbaspdgboasigbpasfwqqasdgsogasngkoasngpoasognbjasbsojkgbaspdgboasigbpasfwqqasdgsogasngkoasngpoasognbjasbsojkgbaspdgboasigbpasfwqqasdgsogasngkoasngpoasognbjasbsojkgbaspdgboasigbpasfwqqasdgsogasngkoasngpoasognbjasbsojkgbaspdgboasigbpasfwqqasdgsogasngkoasngpoasognbjasbsojkgbaspdgboasigbpasfwqqasdgsogasngkoasngpoasognbjasbsojkgbaspdgboasigbpasfwqqasdgsogasngkoasngpoasognbjasbsojkgbaspdgboasigbpasfwqqasdgsogasngkoasngpoasognbjasbsojkgbaspdgboasigbpasfwqqasdgsogasngkoasngpoasognbjasbsojkgbaspdgboasigbpasfwqqasdgsogasngkoasngpoasognbjasbsojkgbaspdgboasigbpasfwqqasdgsogasngkoasngpoasognbjasbsojkgbaspdgboasigbpasfwqqasdgsogasngkoasngpoasognbjasbsojkgbaspdgboasigbpasfwqqasdgsogasngkoasngpoasognbjasbsojkgbaspdgboasigbpasfwqqasdgsogasngkoasngpoasognbjasbsojkgbaspdgboasigbpasfwqqasdgsogasngkoasngpoasognbjasbsojkgbaspdgboasigbpasfwqqasdgsogasngkoasngpoasognbjasbsojkgbaspdgboasigbpasfwqqasdgsogasngkoasngpoasognbjasbsojkgbaspdgboasigbpasfwqqasdgsogasngkoasngpoasognbjasbsojkgbaspdgboasigbpasfwqqasdgsogasngkoasngpoasognbjasbsojkgbaspdgboasigbpasfwqqasdgsogasngkoasngpoasognbjasbsojkgbaspdgboasigbpasfwqqasdgsogasngkoasngpoasognbjasbsojkgbaspdgboasigbpasfwqqasdgsogasngkoasngpoasognbjasbsojkgbaspdgboasigbpasfwqqasdgsogasngkoasngpoasognbjasbsojkgbaspdgboasigbpasfwqqasdgsogasngkoasngpoasognbjasbsojkgbaspdgboasigbpasfwqqasdgsogasngkoasngpoasognbjasbsojkgbaspdgboasigbpasfwqqasdgsogasngkoasngpoasognbjasbsojkgbaspdgboasigbpasfwqqasdgsogasngkoasngpoasognbjasbsojkgbaspdgboasigbpasfwqqasdgsogasngkoasngpoasognbjasbsojkgbaspdgboasigbpasfwqqasdgsogasngkoasngpoasognbjasbsojkgbaspdgboasigbpasfwqqasdgsogasngkoasngpoasognbjasbsojkgbaspdgboasigbpasfwqqasdgsogasngkoasngpoasognbjasbsojkgbaspdgboasigbpasfwqqasdgsogasngkoasngpoasognbjasbsojkgbaspdgboasigbpasfwqqasdgsogasngkoasngpoasognbjasbsojkgbaspdgboasigbpasfwqqasdgsogasngkoasngpoasognbjasbsojkgbaspdgboasigbpasfwqqasdgsogasngkoasngpoasognbjasbsojkgbaspdgboasigbpasfwqqasdgsogasngkoasngpoasognbjasbsojkgbaspdgboasigbpasfwqqasdgsogasngkoasngpoasognbjasbsojkgbaspdgboasigbpasfwqqasdgsogasngkoasngpoasognbjasbsojkgbaspdgboasigbpasfwqqasdgsogasngkoasngpoasognbjasbsojkgbaspdgboasigbpasfwqqasdgsogasngkoasngpoasognbjasbsojkgbaspdgboasigbpasfwqqasdgsogasngkoasngpoasognbjasbsojkgbaspdgboasigbpasfwqqasdgsogasngkoasngpoasognbjasbsojkgbaspdgboasigbpasfwqqasdgsogasngkoasngpoasognbjasbsojkgbaspdgboasigbpasfwqqasdgsogasngkoasngpoasognbjasbsojkgbaspdgboasigbpasfwqqasdgsogasngkoasngpoasognbjasbsojkgbaspdgboasigbpasfwqqasdgsogasngkoasngpoasognbjasbsojkgbaspdgboasigbpasfwqqvasdgsogasngkoasngpoasognbjasbsojkgbaspdgboasigbpasfwqqasdgsogasngkoasngpoasognbjasbsojkgbaspdgboasigbpasfwqqasdgsogasngkoasngpoasognbjasbsojkgbaspdgboasigbpasfwqqasdgsogasngkoasngpoasognbjasbsojkgbaspdgboasigbpasfwqqasdgsogasngkoasngpoasognbjasbsojkgbaspdgboasigbpasfwqqasdgsogasngkoasngpoasognbjasbsojkgbaspdgboasigbpasfwqqasdgsogasngkoasngpoasognbjasbsojkgbaspdgboasigbpasfwqqasdgsogasngkoasngpoasognbjasbsojkgbaspdgboasigbpasfwqqasdgsogasngkoasngpoasognbjasbsojkgbaspdgboasigbpasfwqqasdgsogasngkoasngpoasognbjasbsojkgbaspdgboasigbpasfwqqasdgsogasngkoasngpoasognbjasbsojkgbaspdgboasigbpasfwqqasdgsogasngkoasngpoasognbjasbsojkgbaspdgboasigbpasfwqqasdgsogasngkoasngpoasognbjasbsojkgbaspdgboasigbpasfwqqasdgsogasngkoasngpoasognbjasbsojkgbaspdgboasigbpasfwqqasdgsogasngkoasngpoasognbjasbsojkgbaspdgboasigbpasfwqqasdgsogasngkoasngpoasognbjasbsojkgbaspdgboasigbpasfwqqasdgsogasngkoasngpoasognbjasbsojkgbaspdgboasigbpasfwqqasdgsogasngkoasngpoasognbjasbsojkgbaspdgboasigbpasfwqqasdgsogasngkoasngpoasognbjasbsojkgbaspdgboasigbpasfwqqasdgsogasngkoasngpoasognbjasbsojkgbaspdgboasigbpasfwqqasdgsogasngkoasngpoasognbjasbsojkgbaspdgboasigbpasfwqqasdgsogasngkoasngpoasognbjasbsojkgbaspdgboasigbpasfwqqasdgsogasngkoasngpoasognbjasbsojkgbaspdgboasigbpasfwqqasdgsogasngkoasngpoasognbjasbsojkgbaspdgboasigbpasfwqqasdgsogasngkoasngpoasognbjasbsojkgbaspdgboasigbpasfwqqasdgsogasngkoasngpoasognbjasbsojkgbaspdgboasigbpasfwqqasdgsogasngkoasngpoasognbjasbsojkgbaspdgboasigbpasfwqqasdgsogasngkoasngpoasognbjasbsojkgbaspdgboasigbpasfwqqasdgsogasngkoasngpoasognbjasbsojkgbaspdgboasigbpasfwqqasdgsogasngkoasngpoasognbjasbsojkgbaspdgboasigbpasfwqqasdgsogasngkoasngpoasognbjasbsojkgbaspdgboasigbpasfwqqasdgsogasngkoasngpoasognbjasbsojkgbaspdgboasigbpasfwqqasdgsogasngkoasngpoasognbjasbsojkgbaspdgboasigbpasfwqqasdgsogasngkoasngpoasognbjasbsojkgbaspdgboasigbpasfwqqasdgsogasngkoasngpoasognbjasbsojkgbaspdgboasigbpasfwqqasdgsogasngkoasngpoasognbjasbsojkgbaspdgboasigbpasfwqqasdgsogasngkoasngpoasognbjasbsojkgbaspdgboasigbpasfwqqasdgsogasngkoasngpoasognbjasbsojkgbaspdgboasigbpasfwqqasdgsogasngkoasngpoasognbjasbsojkgbaspdgboasigbpasfwqqasdgsogasngkoasngpoasognbjasbsojkgbaspdgboasigbpasfwqqasdgsogasngkoasngpoasognbjasbsojkgbaspdgboasigbpasfwqqasdgsogasngkoasngpoasognbjasbsojkgbaspdgboasigbpasfwqqasdgsogasngkoasngpoasognbjasbsojkgbaspdgboasigbpasfwqqasdgsogasngkoasngpoasognbjasbsojkgbaspdgboasigbpasfwqqasdgsogasngkoasngpoasognbjasbsojkgbaspdgboasigbpasfwqqasdgsogasngkoasngpoasognbjasbsojkgbaspdgboasigbpasfwqqasdgsogasngkoasngpoasognbjasbsojkgbaspdgboasigbpasfwqqasdgsogasngkoasngpoasognbjasbsojkgbaspdgboasigbpasfwqqasdgsogasngkoasngpoasognbjasbsojkgbaspdgboasigbpasfwqqasdgsogasngkoasngpoasognbjasbsojkgbaspdgboasigbpasfwqqasdgsogasngkoasngpoasognbjasbsojkgbaspdgboasigbpasfwqqasdgsogasngkoasngpoasognbjasbsojkgbaspdgboasigbpasfwqqasdgsogasngkoasngpoasognbjasbsojkgbaspdgboasigbpasfwqqasdgsogasngkoasngpoasognbjasbsojkgbaspdgboasigbpasfwqqasdgsogasngkoasngpoasognbjasbsojkgbaspdgboasigbpasfwqqasdgsogasngkoasngpoasognbjasbsojkgbaspdgboasigbpasfwqqasdgsogasngkoasngpoasognbjasbsojkgbaspdgboasigbpasfwqqasdgsogasngkoasngpoasognbjasbsojkgbaspdgboasigbpasfwqqv'\n",
    "_list = []\n",
    "for _ in range(1000):\n",
    "    _list.append(a)\n",
    "quer"
   ]
  },
  {
   "cell_type": "code",
   "execution_count": null,
   "metadata": {},
   "outputs": [],
   "source": []
  }
 ],
 "metadata": {
  "kernelspec": {
   "display_name": "Python 3",
   "language": "python",
   "name": "python3"
  },
  "language_info": {
   "codemirror_mode": {
    "name": "ipython",
    "version": 3
   },
   "file_extension": ".py",
   "mimetype": "text/x-python",
   "name": "python",
   "nbconvert_exporter": "python",
   "pygments_lexer": "ipython3",
   "version": "3.7.7"
  }
 },
 "nbformat": 4,
 "nbformat_minor": 4
}
