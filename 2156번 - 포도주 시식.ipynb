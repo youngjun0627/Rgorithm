{
 "cells": [
  {
   "cell_type": "code",
   "execution_count": 10,
   "metadata": {},
   "outputs": [
    {
     "name": "stdout",
     "output_type": "stream",
     "text": [
      "6\n",
      "6\n",
      "10\n",
      "13\n",
      "9\n",
      "8\n",
      "1\n",
      "[6, 16, 23, 28, 33, 33]\n"
     ]
    }
   ],
   "source": [
    "n = int(input())\n",
    "juices = []\n",
    "arr = []\n",
    "for _ in range(n):\n",
    "    juices.append(int(input()))\n",
    "    \n",
    "for idx in range(len(juices)):\n",
    "    if idx==0:\n",
    "        arr.append(juices[idx])\n",
    "        continue\n",
    "    if idx==1:\n",
    "        arr.append(juices[idx]+juices[idx-1])\n",
    "        continue\n",
    "    if idx==2:\n",
    "        arr.append(max(arr[idx-1], juices[idx-1]+juices[idx],juices[idx-2]+juices[idx]))\n",
    "        continue\n",
    "    arr.append(max(arr[idx-1], arr[idx-3]+juices[idx-1]+juices[idx], arr[idx-2]+juices[idx]))\n",
    "print(arr[-1])"
   ]
  },
  {
   "cell_type": "code",
   "execution_count": null,
   "metadata": {},
   "outputs": [],
   "source": []
  }
 ],
 "metadata": {
  "kernelspec": {
   "display_name": "Python 3",
   "language": "python",
   "name": "python3"
  },
  "language_info": {
   "codemirror_mode": {
    "name": "ipython",
    "version": 3
   },
   "file_extension": ".py",
   "mimetype": "text/x-python",
   "name": "python",
   "nbconvert_exporter": "python",
   "pygments_lexer": "ipython3",
   "version": "3.7.7"
  }
 },
 "nbformat": 4,
 "nbformat_minor": 4
}
