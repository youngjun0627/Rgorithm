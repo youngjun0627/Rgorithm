{
 "cells": [
  {
   "cell_type": "code",
   "execution_count": 9,
   "metadata": {},
   "outputs": [
    {
     "name": "stdout",
     "output_type": "stream",
     "text": [
      "13 5 2 9\n",
      "0 9\n"
     ]
    }
   ],
   "source": [
    "m, seed, x1, x2 = map(int,input().split())\n",
    "A,C = 0,0\n",
    "\n",
    "\n",
    "_min,_max = 0,m\n",
    "while _min<=_max:\n",
    "    a = (_min+_max)//2\n",
    "    if a==(x1-x2)//(seed-x1):\n",
    "        A=a\n",
    "        break\n",
    "    if a>(x1-x2)//(seed-x1):\n",
    "        _max=a-1\n",
    "    else:\n",
    "        _min=a+1\n",
    "_mid,_max = 0,m\n",
    "while _min<=_max:\n",
    "    c = (_min+_max)//2\n",
    "    if c == (x2-A*A*seed//(A+1)):\n",
    "        C=c\n",
    "        break\n",
    "    if c > (x2-A*A*seed//(A+1)):\n",
    "        _max=c-1\n",
    "    else:\n",
    "        _min=c+1\n",
    "        \n",
    "\n",
    "    \n",
    "print('{} {}'.format(A,C))\n"
   ]
  },
  {
   "cell_type": "code",
   "execution_count": null,
   "metadata": {},
   "outputs": [],
   "source": []
  }
 ],
 "metadata": {
  "kernelspec": {
   "display_name": "Python 3",
   "language": "python",
   "name": "python3"
  },
  "language_info": {
   "codemirror_mode": {
    "name": "ipython",
    "version": 3
   },
   "file_extension": ".py",
   "mimetype": "text/x-python",
   "name": "python",
   "nbconvert_exporter": "python",
   "pygments_lexer": "ipython3",
   "version": "3.7.7"
  }
 },
 "nbformat": 4,
 "nbformat_minor": 4
}
