{
 "cells": [
  {
   "cell_type": "code",
   "execution_count": 87,
   "metadata": {},
   "outputs": [
    {
     "name": "stdout",
     "output_type": "stream",
     "text": [
      "{'A': 0, 'B': 1, 'C': 2, 'D': 3, 'E': 4, 'F': 5, 'G': 6, 'H': 7, 'I': 8, 'J': 9, 'K': 10, 'L': 11, 'M': 12, 'N': 13, 'O': 12, 'P': 11, 'Q': 10, 'R': 9, 'S': 8, 'T': 7, 'U': 6, 'V': 5, 'W': 4, 'X': 3, 'Y': 2, 'Z': 1}\n"
     ]
    }
   ],
   "source": [
    "dic = {}\n",
    "for i in range(26):\n",
    "    if i<13:\n",
    "        dic[chr(ord('A')+i)]=i\n",
    "    else:\n",
    "        dic[chr(ord('A')+i)]=26-i\n",
    "print(dic)\n",
    "def solution(name):\n",
    "    answer = 0\n",
    "    length = len(name)\n",
    "    name = [''.join(name[i]) for i in range(len(name))]\n",
    "    temp = ['A' for i in range(len(name))]\n",
    "    cur = 0\n",
    "    temp[0]=name[0]\n",
    "    answer+=dic[name[0]]\n",
    "    \n",
    "    while temp!=name:\n",
    "        \n",
    "        for cnt in range(1,len(name)//2+1):\n",
    "            \n",
    "            forward = cur+cnt\n",
    "            if forward<len(name):\n",
    "                if temp[forward]!=name[forward]:\n",
    "                    cur=forward\n",
    "                    answer+=cnt\n",
    "                    break\n",
    "            if cur-cnt<0:\n",
    "                backward = cur-cnt+len(name)\n",
    "            else:\n",
    "                backward = cur-cnt\n",
    "                \n",
    "            if temp[backward]!=name[backward]:\n",
    "                cur=backward\n",
    "                answer+=cnt\n",
    "                break\n",
    "            #print(temp[backward],name[backward])\n",
    "        #print(forward, backward)\n",
    "        temp[cur]=name[cur]\n",
    "        answer+=dic[name[cur]]\n",
    "    return answer\n"
   ]
  },
  {
   "cell_type": "code",
   "execution_count": 88,
   "metadata": {},
   "outputs": [
    {
     "data": {
      "text/plain": [
       "56"
      ]
     },
     "execution_count": 88,
     "metadata": {},
     "output_type": "execute_result"
    }
   ],
   "source": [
    "solution('JEROEN')"
   ]
  },
  {
   "cell_type": "code",
   "execution_count": 10,
   "metadata": {},
   "outputs": [
    {
     "name": "stdout",
     "output_type": "stream",
     "text": [
      "['__add__', '__class__', '__contains__', '__delattr__', '__dir__', '__doc__', '__eq__', '__format__', '__ge__', '__getattribute__', '__getitem__', '__getnewargs__', '__gt__', '__hash__', '__init__', '__init_subclass__', '__iter__', '__le__', '__len__', '__lt__', '__mod__', '__mul__', '__ne__', '__new__', '__reduce__', '__reduce_ex__', '__repr__', '__rmod__', '__rmul__', '__setattr__', '__sizeof__', '__str__', '__subclasshook__', 'capitalize', 'casefold', 'center', 'count', 'encode', 'endswith', 'expandtabs', 'find', 'format', 'format_map', 'index', 'isalnum', 'isalpha', 'isascii', 'isdecimal', 'isdigit', 'isidentifier', 'islower', 'isnumeric', 'isprintable', 'isspace', 'istitle', 'isupper', 'join', 'ljust', 'lower', 'lstrip', 'maketrans', 'partition', 'replace', 'rfind', 'rindex', 'rjust', 'rpartition', 'rsplit', 'rstrip', 'split', 'splitlines', 'startswith', 'strip', 'swapcase', 'title', 'translate', 'upper', 'zfill']\n"
     ]
    }
   ],
   "source": [
    "print(dir(str))"
   ]
  },
  {
   "cell_type": "code",
   "execution_count": null,
   "metadata": {},
   "outputs": [],
   "source": []
  }
 ],
 "metadata": {
  "kernelspec": {
   "display_name": "Python 3",
   "language": "python",
   "name": "python3"
  },
  "language_info": {
   "codemirror_mode": {
    "name": "ipython",
    "version": 3
   },
   "file_extension": ".py",
   "mimetype": "text/x-python",
   "name": "python",
   "nbconvert_exporter": "python",
   "pygments_lexer": "ipython3",
   "version": "3.7.7"
  }
 },
 "nbformat": 4,
 "nbformat_minor": 4
}
