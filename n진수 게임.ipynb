{
 "cells": [
  {
   "cell_type": "code",
   "execution_count": 57,
   "metadata": {},
   "outputs": [],
   "source": [
    "def solution(n,t,m,p):\n",
    "    _max = 1000\n",
    "    answer=''\n",
    "    total = ['0']\n",
    "    for i in range(_max):\n",
    "        result = changenumber(i,n)\n",
    "        total.extend(result[::-1])\n",
    "    cnt=0\n",
    "    \n",
    "    for i in range(len(total)):\n",
    "        if i%m==p-1:\n",
    "            answer+=total[i]\n",
    "        \n",
    "        if len(answer)==t:\n",
    "            break\n",
    "    return answer\n",
    "\n",
    "def changenumber(number,n):\n",
    "    result = []\n",
    "    while number>0:\n",
    "        r = str(number%n)\n",
    "        number = number//n\n",
    "        if r=='10':\n",
    "            r = 'A'\n",
    "        elif r=='11':\n",
    "            r='B'\n",
    "        elif r=='12':\n",
    "            r='C'\n",
    "        elif r=='13':\n",
    "            r='D'\n",
    "        elif r=='14':\n",
    "            r='E'\n",
    "        elif r=='15':\n",
    "            r='F'\n",
    "            \n",
    "        result.append(r)\n",
    "    return result\n",
    "result = solution(2,4,2,1)"
   ]
  },
  {
   "cell_type": "code",
   "execution_count": 58,
   "metadata": {},
   "outputs": [
    {
     "data": {
      "text/plain": [
       "'0111'"
      ]
     },
     "execution_count": 58,
     "metadata": {},
     "output_type": "execute_result"
    }
   ],
   "source": [
    "result"
   ]
  },
  {
   "cell_type": "code",
   "execution_count": null,
   "metadata": {},
   "outputs": [],
   "source": []
  },
  {
   "cell_type": "code",
   "execution_count": null,
   "metadata": {},
   "outputs": [],
   "source": []
  },
  {
   "cell_type": "code",
   "execution_count": null,
   "metadata": {},
   "outputs": [],
   "source": []
  }
 ],
 "metadata": {
  "kernelspec": {
   "display_name": "Python 3",
   "language": "python",
   "name": "python3"
  },
  "language_info": {
   "codemirror_mode": {
    "name": "ipython",
    "version": 3
   },
   "file_extension": ".py",
   "mimetype": "text/x-python",
   "name": "python",
   "nbconvert_exporter": "python",
   "pygments_lexer": "ipython3",
   "version": "3.7.7"
  }
 },
 "nbformat": 4,
 "nbformat_minor": 4
}
