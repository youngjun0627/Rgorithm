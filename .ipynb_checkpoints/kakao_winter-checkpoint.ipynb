{
 "cells": [
  {
   "cell_type": "code",
   "execution_count": 1,
   "metadata": {},
   "outputs": [
    {
     "data": {
      "text/plain": [
       "4"
      ]
     },
     "execution_count": 1,
     "metadata": {},
     "output_type": "execute_result"
    }
   ],
   "source": [
    "'''\n",
    "from collections import deque\n",
    "\n",
    "def solution(board, moves):\n",
    "    answer = 0\n",
    "    dic={}\n",
    "    for i in range(0,len(board[0])):\n",
    "        dic[i]=deque()\n",
    "    for i in range(len(board)-1,0,-1):\n",
    "        for index in range(len(board[i])):\n",
    "            if board[i][index]!=0:\n",
    "                dic[index].appendleft(board[i][index])\n",
    "    for key,value in dic.items():\n",
    "        print(key,value)\n",
    "    s = deque()\n",
    "    for m in moves:\n",
    "        if dic[m-1]:\n",
    "            cur = dic[m-1].popleft()\n",
    "            if s:\n",
    "                if s[0]==cur:\n",
    "                    s.popleft()\n",
    "                    answer+=2\n",
    "                    continue\n",
    "            s.appendleft(cur)\n",
    "            print(s)\n",
    "            \n",
    "        else:\n",
    "            continue\n",
    "        \n",
    "    return answer\n",
    "board=[[0,0,0,0,0,0],[0,0,0,1,0,3],[0,0,2,5,0,1],[0,0,2,4,4,2],[0,0,5,1,3,1]]\n",
    "\n",
    "moves=[1,4,3,4,1,2,1,4]\n",
    "solution(board,moves)\n",
    "'''\n",
    "\n",
    "from collections import deque\n",
    "\n",
    "def solution(board,moves):\n",
    "    answer=0\n",
    "    stack = deque()\n",
    "    for m in moves:\n",
    "        for i in range(len(board)):\n",
    "            if board[i][m-1]!=0:\n",
    "                if stack:\n",
    "                    if stack[0]==board[i][m-1]:\n",
    "                        stack.popleft()\n",
    "                        answer+=2\n",
    "                    else:\n",
    "                        stack.appendleft(board[i][m-1])\n",
    "                else:\n",
    "                    stack.appendleft(board[i][m-1])\n",
    "                board[i][m-1]=0\n",
    "                break\n",
    "                \n",
    "    return answer\n",
    "board=[[0,0,0,0,0],[0,0,1,0,3],[0,2,5,0,1],[4,2,4,4,2],[3,5,1,3,1]]\n",
    "\n",
    "moves=[1,5,3,5,1,2,1,4]\n",
    "solution(board,moves)"
   ]
  },
  {
   "cell_type": "code",
   "execution_count": 49,
   "metadata": {},
   "outputs": [
    {
     "name": "stdout",
     "output_type": "stream",
     "text": [
      "['frodo', 'fradi']\n",
      "['frodo', 'crodo']\n",
      "['abc123', 'frodoc']\n",
      "['abc123', 'frodoc']\n",
      "[['frodo', 'fradi'], ['frodo', 'crodo'], ['abc123', 'frodoc'], ['abc123', 'frodoc']]\n"
     ]
    },
    {
     "data": {
      "text/plain": [
       "0"
      ]
     },
     "execution_count": 49,
     "metadata": {},
     "output_type": "execute_result"
    }
   ],
   "source": [
    "from itertools import combinations\n",
    "def solution(user_id, banned_id):\n",
    "    answer = 0\n",
    "    saver=[]\n",
    "    for ban in banned_id:\n",
    "        result = list(filter (lambda x : len(x)==len(ban),user_id))\n",
    "        \n",
    "        for index in range(len(ban)):\n",
    "            if ban[index]=='*':\n",
    "                continue\n",
    "            else:\n",
    "                for user in user_id:\n",
    "                    if user in result:\n",
    "                        if user[index]!=ban[index]:\n",
    "                            result.remove(user)\n",
    "        saver.append(result)\n",
    "        print(result)\n",
    "    print(saver)\n",
    "    \n",
    "    return answer\n",
    "def search(arr,n):\n",
    "    stack = deque()\n",
    "    visit = set()\n",
    "    index=0\n",
    "    for a in arr[index]:\n",
    "        stack.appendleft((a,index))\n",
    "        visit.add((a,index))\n",
    "    result = []\n",
    "    while stack:\n",
    "        current_string, current_index = stack.popleft()\n",
    "        print(current_string, current_index)\n",
    "        if current_string not in result:\n",
    "            result.append(current_string)\n",
    "        for a in arr[current_index+1]:\n",
    "            stack.appendleft((a,current_index+1)\n",
    "user_id = [\"frodo\", \"fradi\", \"crodo\", \"abc123\", \"frodoc\"]\n",
    "banned_id = [\"fr*d*\", \"*rodo\", \"******\", \"******\"]\n",
    "solution(user_id,banned_id)"
   ]
  },
  {
   "cell_type": "code",
   "execution_count": 36,
   "metadata": {},
   "outputs": [
    {
     "name": "stdout",
     "output_type": "stream",
     "text": [
      "['abc123', 'frodoc']\n",
      "['__and__', '__class__', '__contains__', '__delattr__', '__dir__', '__doc__', '__eq__', '__format__', '__ge__', '__getattribute__', '__gt__', '__hash__', '__iand__', '__init__', '__init_subclass__', '__ior__', '__isub__', '__iter__', '__ixor__', '__le__', '__len__', '__lt__', '__ne__', '__new__', '__or__', '__rand__', '__reduce__', '__reduce_ex__', '__repr__', '__ror__', '__rsub__', '__rxor__', '__setattr__', '__sizeof__', '__str__', '__sub__', '__subclasshook__', '__xor__', 'add', 'clear', 'copy', 'difference', 'difference_update', 'discard', 'intersection', 'intersection_update', 'isdisjoint', 'issubset', 'issuperset', 'pop', 'remove', 'symmetric_difference', 'symmetric_difference_update', 'union', 'update']\n"
     ]
    }
   ],
   "source": [
    "user_id = [\"frodo\", \"fradi\", \"crodo\", \"abc123\", \"frodoc\"]\n",
    "result = list(filter (lambda x : len(x)>5,user_id))\n",
    "print(result)\n",
    "print(dir(set))"
   ]
  },
  {
   "cell_type": "code",
   "execution_count": null,
   "metadata": {},
   "outputs": [],
   "source": []
  }
 ],
 "metadata": {
  "kernelspec": {
   "display_name": "Python 3",
   "language": "python",
   "name": "python3"
  },
  "language_info": {
   "codemirror_mode": {
    "name": "ipython",
    "version": 3
   },
   "file_extension": ".py",
   "mimetype": "text/x-python",
   "name": "python",
   "nbconvert_exporter": "python",
   "pygments_lexer": "ipython3",
   "version": "3.7.6"
  }
 },
 "nbformat": 4,
 "nbformat_minor": 4
}
