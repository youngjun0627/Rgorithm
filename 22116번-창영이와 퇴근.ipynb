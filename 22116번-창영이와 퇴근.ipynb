{
 "cells": [
  {
   "cell_type": "code",
   "execution_count": 1,
   "metadata": {},
   "outputs": [
    {
     "name": "stdout",
     "output_type": "stream",
     "text": [
      "3\n",
      "3 5 3\n",
      "2 4 2\n",
      "2 5 2\n",
      "2\n"
     ]
    }
   ],
   "source": [
    "import sys\n",
    "sys.setrecursionlimit(250000)\n",
    "\n",
    "n = int(input())\n",
    "board = []\n",
    "for _ in range(n):\n",
    "    board.append(list(map(int,input().split())))\n",
    "    \n",
    "def dfs(start, board, n, result):\n",
    "    global answer\n",
    "    global visit\n",
    "    \n",
    "    if start==(n-1,n-1):\n",
    "        answer = min(answer,result)\n",
    "        return\n",
    "    \n",
    "    y,x = start\n",
    "    dy = [0,0,-1,1]\n",
    "    dx = [-1,1,0,0]\n",
    "    for i in range(4):\n",
    "        ny = y + dy[i]\n",
    "        nx = x + dx[i]\n",
    "        if 0<=ny<n and 0<=nx<n and visit[ny][nx]==0:\n",
    "            visit[ny][nx]=1\n",
    "            dfs((ny,nx),board,n,max(result, abs(board[ny][nx]-board[y][x])))\n",
    "            visit[ny][nx]=0\n",
    "            \n",
    "visit = [[0 for _ in range(n)] for _ in range(n)]\n",
    "visit[0][0]=1\n",
    "answer = 1000000001\n",
    "dfs((0,0),board,n,0)\n",
    "print(answer)"
   ]
  },
  {
   "cell_type": "code",
   "execution_count": 66,
   "metadata": {},
   "outputs": [
    {
     "name": "stdout",
     "output_type": "stream",
     "text": [
      "3\n",
      "3 4 3\n",
      "2 5 2\n",
      "5 2 2\n",
      "1\n"
     ]
    }
   ],
   "source": [
    "from collections import deque\n",
    "\n",
    "n = int(input())\n",
    "board = []\n",
    "for _ in range(n):\n",
    "    board.append(list(map(int,input().split())))\n",
    "    \n",
    "def bfs(start, board, n, k):\n",
    "    q = deque()\n",
    "    q.append(start)\n",
    "    dy = [0,0,-1,1]\n",
    "    dx = [-1,1,0,0]\n",
    "    visit = [[0] * n for _ in range(n)]\n",
    "    visit[0][0] = 1\n",
    "    while q:\n",
    "        y,x = q.popleft()\n",
    "        if (y,x)==(n-1,n-1):\n",
    "            return True\n",
    "        \n",
    "        for i in range(4):\n",
    "            ny = y + dy[i]\n",
    "            nx = x + dx[i]\n",
    "            if 0<=ny<n and 0<=nx<n and visit[ny][nx]==0 and abs(board[ny][nx]-board[y][x]) <= k:\n",
    "                visit[ny][nx] = 1\n",
    "                q.append((ny,nx))\n",
    "        \n",
    "    return False\n",
    "\n",
    "def solution(start,board,n):\n",
    "    if n==1:\n",
    "        return 0\n",
    "    _min = 0\n",
    "    _max = 1000000000\n",
    "    answer = _max\n",
    "    while _min<=_max:\n",
    "        mid = (_min+_max)//2\n",
    "        if bfs(start,board,n,mid):\n",
    "            answer = min(answer, mid)\n",
    "            _max = mid-1\n",
    "        else:\n",
    "            _min = mid+1\n",
    "    return answer\n",
    "        \n",
    "\n",
    "print(solution((0,0),board,n))\n"
   ]
  },
  {
   "cell_type": "code",
   "execution_count": null,
   "metadata": {},
   "outputs": [],
   "source": [
    "1000000000"
   ]
  }
 ],
 "metadata": {
  "kernelspec": {
   "display_name": "Python 3",
   "language": "python",
   "name": "python3"
  },
  "language_info": {
   "codemirror_mode": {
    "name": "ipython",
    "version": 3
   },
   "file_extension": ".py",
   "mimetype": "text/x-python",
   "name": "python",
   "nbconvert_exporter": "python",
   "pygments_lexer": "ipython3",
   "version": "3.7.7"
  }
 },
 "nbformat": 4,
 "nbformat_minor": 4
}
