{
 "cells": [
  {
   "cell_type": "code",
   "execution_count": 3,
   "metadata": {},
   "outputs": [
    {
     "data": {
      "text/plain": [
       "4"
      ]
     },
     "execution_count": 3,
     "metadata": {},
     "output_type": "execute_result"
    }
   ],
   "source": [
    "def solution(money):\n",
    "    dp1 = []\n",
    "    dp2 = []\n",
    "    dp1.append(money[0])\n",
    "    dp1.append(money[0])\n",
    "    dp2.append(0)\n",
    "    dp2.append(money[1])\n",
    "    for i in range(2,len(money)-1):\n",
    "        dp1.append(max(dp1[i-2]+money[i],dp1[i-1]))\n",
    "    for i in range(2,len(money)):\n",
    "        dp2.append(max(dp2[i-2]+money[i],dp2[i-1]))\n",
    "    answer = max(dp1[len(dp1)-1],dp2[len(dp2)-1])\n",
    "    return answer\n",
    "\n",
    "money = [1,2,3,1]\n",
    "solution(money)\n",
    "    "
   ]
  },
  {
   "cell_type": "code",
   "execution_count": null,
   "metadata": {},
   "outputs": [],
   "source": []
  }
 ],
 "metadata": {
  "kernelspec": {
   "display_name": "Python 3",
   "language": "python",
   "name": "python3"
  },
  "language_info": {
   "codemirror_mode": {
    "name": "ipython",
    "version": 3
   },
   "file_extension": ".py",
   "mimetype": "text/x-python",
   "name": "python",
   "nbconvert_exporter": "python",
   "pygments_lexer": "ipython3",
   "version": "3.7.6"
  }
 },
 "nbformat": 4,
 "nbformat_minor": 4
}
