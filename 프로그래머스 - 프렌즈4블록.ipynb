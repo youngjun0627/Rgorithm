{
 "cells": [
  {
   "cell_type": "code",
   "execution_count": 31,
   "metadata": {},
   "outputs": [],
   "source": [
    "from collections import deque\n",
    "\n",
    "def check(point,board):\n",
    "    y,x = point\n",
    "    check_list = [(y,x), (y+1,x), (y,x+1), (y+1,x+1)]\n",
    "    for i, elem in enumerate(check_list):\n",
    "        if i==0:\n",
    "            pre = board[elem[0]][elem[1]]\n",
    "            continue\n",
    "        if pre!=board[elem[0]][elem[1]]:\n",
    "            return False\n",
    "    return True\n",
    "\n",
    "def solution(m, n, _board):\n",
    "    answer = 0\n",
    "    board = [[0 for _ in range(n)] for _ in range(m)]\n",
    "    for i in range(m):\n",
    "        for j in range(n):\n",
    "            board[i][j] = _board[i][j]\n",
    "    \n",
    "    while True:\n",
    "        remove_list=[]\n",
    "        for i in range(m-1):\n",
    "            for j in range(n-1):\n",
    "                if board[i][j]==0:\n",
    "                    continue\n",
    "                point = (i,j)\n",
    "                if check(point,board):\n",
    "                    remove_list.append((i,j))\n",
    "        if not remove_list:\n",
    "            break\n",
    "        for re in remove_list:\n",
    "            dy = [0,0,1,1]\n",
    "            dx = [0,1,0,1]\n",
    "            for i in range(4):\n",
    "                ny = re[0]+dy[i]\n",
    "                nx = re[1]+dx[i]\n",
    "                if board[ny][nx]!=0:\n",
    "                    answer+=1\n",
    "                board[ny][nx]=0\n",
    "        for j in range(n):\n",
    "            temp = []\n",
    "            for i in range(m):\n",
    "                if board[i][j]!=0:\n",
    "                    temp.append(board[i][j])\n",
    "            temp = [0]*(m-len(temp)) + temp\n",
    "            for i in range(m):\n",
    "                board[i][j] = temp[i]\n",
    "        \n",
    "    return answer"
   ]
  },
  {
   "cell_type": "code",
   "execution_count": 32,
   "metadata": {},
   "outputs": [
    {
     "data": {
      "text/plain": [
       "15"
      ]
     },
     "execution_count": 32,
     "metadata": {},
     "output_type": "execute_result"
    }
   ],
   "source": [
    "board = [\"TTTANT\", \"RRFACC\", \"RRRFCC\", \"TRRRAA\", \"TTMMMF\", \"TMMTTJ\"]\n",
    "m = 6\n",
    "n = 6\n",
    "solution(m,n,board)"
   ]
  },
  {
   "cell_type": "code",
   "execution_count": null,
   "metadata": {},
   "outputs": [],
   "source": []
  }
 ],
 "metadata": {
  "kernelspec": {
   "display_name": "Python 3",
   "language": "python",
   "name": "python3"
  },
  "language_info": {
   "codemirror_mode": {
    "name": "ipython",
    "version": 3
   },
   "file_extension": ".py",
   "mimetype": "text/x-python",
   "name": "python",
   "nbconvert_exporter": "python",
   "pygments_lexer": "ipython3",
   "version": "3.7.7"
  }
 },
 "nbformat": 4,
 "nbformat_minor": 4
}
