{
 "cells": [
  {
   "cell_type": "code",
   "execution_count": 2,
   "metadata": {
    "scrolled": true
   },
   "outputs": [
    {
     "name": "stdout",
     "output_type": "stream",
     "text": [
      "\n"
     ]
    }
   ],
   "source": [
    "'''\n",
    "함수 작성법\n",
    "타입스크립트나 C++, JAVA에서 문장에 끝에 ;을 붙이고\n",
    "보통 괄호로 묶음\n",
    "example)\n",
    "// a와 b중 큰수를 리턴하는 함수\n",
    "int function(int a, int b){\n",
    "    result = 0;\n",
    "    if(a>b){\n",
    "        result=a;\n",
    "    }\n",
    "    else{\n",
    "        result = b;\n",
    "    }\n",
    "    return result;\n",
    "}\n",
    "\n",
    "파이썬에서는 세미콜론 안붙이고 괄호대신 들여쓰기로 문단구분함\n",
    "위 코드내용을 파이썬으로 고치면\n",
    "def function(a,b):\n",
    "    result=0\n",
    "    if a>b:\n",
    "        result = a\n",
    "    else:\n",
    "        result=b\n",
    "    return result\n",
    "\n",
    "본 main에서 위 함수 function을 호출할때 result를 받게됌.\n",
    "(참고로 함수에 return 값이 꼭 필요하지는 않음)\n",
    "'''\n"
   ]
  },
  {
   "cell_type": "code",
   "execution_count": null,
   "metadata": {},
   "outputs": [],
   "source": [
    "# 1번째 문제 답\n",
    "def func1(n):\n",
    "    for i in range(1,n+1):\n",
    "        print('*'*i)\n",
    "# 1번째 문제\n",
    "\n",
    "print('첫번째 문제')\n",
    "print('n이 5일때')\n",
    "print('----------------------------')\n",
    "func1(5)\n",
    "print('----------------------------')\n",
    "\n",
    "print('n이 8일때')\n",
    "func1(8)\n",
    "print('----------------------------')\n",
    "\n",
    "print('n이 3일때')\n",
    "func1(3)\n",
    "print('----------------------------')\n",
    "\n",
    "\n"
   ]
  },
  {
   "cell_type": "code",
   "execution_count": null,
   "metadata": {},
   "outputs": [],
   "source": [
    "# 두번째 문제 답\n",
    "def func2(n):\n",
    "    for i in range(n,0,-1):\n",
    "        print('*'*i)\n",
    "#두번째 문제\n",
    "print('두번째 문제')\n",
    "print('n이 5일때')\n",
    "print('----------------------------')\n",
    "func2(5)\n",
    "print('----------------------------')\n",
    "\n",
    "print('n이 8일때')\n",
    "func2(8)\n",
    "print('----------------------------')\n",
    "\n",
    "print('n이 3일때')\n",
    "func2(3)\n",
    "print('----------------------------')"
   ]
  },
  {
   "cell_type": "code",
   "execution_count": 14,
   "metadata": {},
   "outputs": [],
   "source": [
    "# 문제 : https://programmers.co.kr/learn/courses/30/lessons/68645\n",
    "\n",
    "def solution(n):\n",
    "    answer = []\n",
    "    \n",
    "    arr = [[0]* i for i in range(1,n+1)]\n",
    "    mode = 0\n",
    "    i=-1\n",
    "    j=0\n",
    "    number=1\n",
    "    end = 0\n",
    "    for t in range(1,n+1):\n",
    "        end+=t\n",
    "    \n",
    "    while number<=end:\n",
    "        #print(i,j,mode)\n",
    "        if mode==0:\n",
    "            i+=1\n",
    "            if i>=n or arr[i][j]!=0:\n",
    "                mode=1\n",
    "                i-=1\n",
    "                continue\n",
    "            if arr[i][j]==0:\n",
    "                arr[i][j]=number\n",
    "                number+=1\n",
    "        elif mode==1:\n",
    "            j+=1\n",
    "            if j>=n or arr[i][j]!=0:\n",
    "                mode=2\n",
    "                j-=1\n",
    "                continue\n",
    "            if arr[i][j]==0:\n",
    "                arr[i][j]=number\n",
    "                number+=1\n",
    "        elif mode==2:\n",
    "            i-=1\n",
    "            j-=1\n",
    "            if arr[i][j]!=0:\n",
    "                mode=0\n",
    "                i+=1\n",
    "                j+=1\n",
    "                continue\n",
    "            else:\n",
    "                arr[i][j]=number\n",
    "                number+=1\n",
    "            \n",
    "                \n",
    "    #print(arr)\n",
    "    for a in arr:\n",
    "        answer.extend(a)\n",
    "    return answer\n"
   ]
  },
  {
   "cell_type": "code",
   "execution_count": null,
   "metadata": {},
   "outputs": [],
   "source": []
  }
 ],
 "metadata": {
  "kernelspec": {
   "display_name": "Python 3",
   "language": "python",
   "name": "python3"
  },
  "language_info": {
   "codemirror_mode": {
    "name": "ipython",
    "version": 3
   },
   "file_extension": ".py",
   "mimetype": "text/x-python",
   "name": "python",
   "nbconvert_exporter": "python",
   "pygments_lexer": "ipython3",
   "version": "3.7.7"
  }
 },
 "nbformat": 4,
 "nbformat_minor": 4
}
