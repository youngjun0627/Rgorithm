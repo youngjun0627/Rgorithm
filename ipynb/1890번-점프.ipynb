{
 "cells": [
  {
   "cell_type": "code",
   "execution_count": 18,
   "metadata": {},
   "outputs": [
    {
     "name": "stdout",
     "output_type": "stream",
     "text": [
      "4\n",
      "2 3 3 1\n",
      "1 2 1 3\n",
      "1 2 3 1\n",
      "3 1 1 0\n"
     ]
    }
   ],
   "source": [
    "'''\n",
    "# bfs 메모리 초과\n",
    "\n",
    "from collections import deque\n",
    "n = int(input())\n",
    "board = []\n",
    "for _ in range(n):\n",
    "    board.append(list(map(int,input().split())))\n",
    "start = (0,0)\n",
    "q = deque()\n",
    "q.append(start)\n",
    "dy = [0,1]\n",
    "dx = [1,0]\n",
    "answer = 0 \n",
    "while q:\n",
    "    y,x = q.popleft()\n",
    "    c = board[y][x]\n",
    "    if y==n-1 and x==n-1:\n",
    "        answer+=1\n",
    "        continue\n",
    "    for i in range(2):\n",
    "        ny = y+dy[i]*c\n",
    "        nx = x+dx[i]*c\n",
    "        if 0<=ny<n and 0<=nx<n:\n",
    "            q.append((ny,nx))\n",
    "'''\n",
    "\n",
    "\n",
    "n = int(input())\n",
    "dp = [[0 for _ in range(n)] for _ in range(n)]\n",
    "board = []\n",
    "for _ in range(n):\n",
    "    board.append(list(map(int,input().split())))\n",
    "start = (0,0)\n",
    "dp[board[0][0]][0] = 1\n",
    "dp[0][board[0][0]] = 1\n",
    "for i in range(n):\n",
    "    for j in range(n):\n",
    "        if i==n-1 and j==n-1:\n",
    "            break\n",
    "        if dp[i][j]==0:\n",
    "            continue\n",
    "        if i+board[i][j]<n :\n",
    "            dp[i+board[i][j]][j] += dp[i][j] \n",
    "        if j+board[i][j]<n:\n",
    "            dp[i][j+board[i][j]] += dp[i][j] \n",
    "print(dp[n-1][n-1])"
   ]
  },
  {
   "cell_type": "code",
   "execution_count": 19,
   "metadata": {},
   "outputs": [
    {
     "data": {
      "text/plain": [
       "[[0, 0, 1, 0], [0, 0, 0, 0], [1, 1, 0, 1], [1, 0, 1, 3]]"
      ]
     },
     "execution_count": 19,
     "metadata": {},
     "output_type": "execute_result"
    }
   ],
   "source": [
    "dp"
   ]
  },
  {
   "cell_type": "code",
   "execution_count": null,
   "metadata": {},
   "outputs": [],
   "source": []
  }
 ],
 "metadata": {
  "kernelspec": {
   "display_name": "Python 3",
   "language": "python",
   "name": "python3"
  },
  "language_info": {
   "codemirror_mode": {
    "name": "ipython",
    "version": 3
   },
   "file_extension": ".py",
   "mimetype": "text/x-python",
   "name": "python",
   "nbconvert_exporter": "python",
   "pygments_lexer": "ipython3",
   "version": "3.7.7"
  }
 },
 "nbformat": 4,
 "nbformat_minor": 4
}
