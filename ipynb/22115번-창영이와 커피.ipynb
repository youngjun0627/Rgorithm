{
 "cells": [
  {
   "cell_type": "code",
   "execution_count": 64,
   "metadata": {},
   "outputs": [
    {
     "name": "stdout",
     "output_type": "stream",
     "text": [
      "1 0\n",
      "1\n",
      "0\n"
     ]
    }
   ],
   "source": [
    "n,k = map(int,input().split())\n",
    "\n",
    "coffees = list(map(int,input().split()))\n",
    "\n",
    "if k==0:\n",
    "    print(0)\n",
    "else:\n",
    "    dp = [[9999999,[0]] for _ in range(k+1)]\n",
    "    dp[0][0] = 0\n",
    "    for idx, coffee in enumerate(coffees):\n",
    "        if coffee>k:\n",
    "            continue\n",
    "        dp[coffee][0] = 1\n",
    "        dp[coffee][1] = [idx]\n",
    "    _max = sum(coffees)\n",
    "    for i in range(k+1):\n",
    "        for coffee in coffees:\n",
    "            if _max>=i>=coffee :\n",
    "                if not set(dp[i-coffee][1]).intersection(set(dp[coffee][1])):\n",
    "                    if dp[i][0]>dp[i-coffee][0] + dp[coffee][0]:\n",
    "                        dp[i][0] = dp[i-coffee][0] + dp[coffee][0]\n",
    "                        dp[i][1] = set(dp[i-coffee][1]).union(set(dp[coffee][1]))\n",
    "\n",
    "\n",
    "    if dp[k][0]==9999999:\n",
    "        print(-1)\n",
    "    else:\n",
    "        print(dp[k][0])"
   ]
  },
  {
   "cell_type": "code",
   "execution_count": 60,
   "metadata": {},
   "outputs": [
    {
     "data": {
      "text/plain": [
       "[1, [4]]"
      ]
     },
     "execution_count": 60,
     "metadata": {},
     "output_type": "execute_result"
    }
   ],
   "source": [
    "dp[k]"
   ]
  },
  {
   "cell_type": "code",
   "execution_count": null,
   "metadata": {},
   "outputs": [],
   "source": []
  }
 ],
 "metadata": {
  "kernelspec": {
   "display_name": "Python 3",
   "language": "python",
   "name": "python3"
  },
  "language_info": {
   "codemirror_mode": {
    "name": "ipython",
    "version": 3
   },
   "file_extension": ".py",
   "mimetype": "text/x-python",
   "name": "python",
   "nbconvert_exporter": "python",
   "pygments_lexer": "ipython3",
   "version": "3.7.7"
  }
 },
 "nbformat": 4,
 "nbformat_minor": 4
}
