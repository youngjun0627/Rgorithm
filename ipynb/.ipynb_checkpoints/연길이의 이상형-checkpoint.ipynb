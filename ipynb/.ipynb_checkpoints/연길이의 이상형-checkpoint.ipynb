{
 "cells": [
  {
   "cell_type": "code",
   "execution_count": 1,
   "metadata": {},
   "outputs": [
    {
     "name": "stdout",
     "output_type": "stream",
     "text": [
      "ESTJ\n",
      "INFP\n"
     ]
    }
   ],
   "source": [
    "_str = input()\n",
    "result=''\n",
    "arr = [['E','I'],['S','N'],['T','F'],['J','P']]\n",
    "for i in range(4):\n",
    "    a  = arr[i]\n",
    "    for _a in a:\n",
    "        if _a!=_str[i]:\n",
    "            result+=_a\n",
    "print(result)\n"
   ]
  },
  {
   "cell_type": "code",
   "execution_count": null,
   "metadata": {},
   "outputs": [],
   "source": []
  }
 ],
 "metadata": {
  "kernelspec": {
   "display_name": "Python 3",
   "language": "python",
   "name": "python3"
  },
  "language_info": {
   "codemirror_mode": {
    "name": "ipython",
    "version": 3
   },
   "file_extension": ".py",
   "mimetype": "text/x-python",
   "name": "python",
   "nbconvert_exporter": "python",
   "pygments_lexer": "ipython3",
   "version": "3.7.7"
  }
 },
 "nbformat": 4,
 "nbformat_minor": 4
}
