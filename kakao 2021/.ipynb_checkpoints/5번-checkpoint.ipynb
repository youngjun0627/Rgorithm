{
 "cells": [
  {
   "cell_type": "code",
   "execution_count": 85,
   "metadata": {},
   "outputs": [],
   "source": [
    "def change_time(_str):\n",
    "    a = list(_str.split('-'))\n",
    "    q=[]\n",
    "    for i in a:\n",
    "        z,x,c = i.split(':')\n",
    "        q.append((int(z)*3600+int(x)*60+int(c)))\n",
    "    return q[0],q[1]\n",
    "        \n",
    "def change(_str):\n",
    "    z,x,c = _str.split(':')\n",
    "    return (int(z)*3600+int(x)*60+int(c))\n",
    "\n",
    "def ichange(time):\n",
    "    h,s = divmod(time,3600)\n",
    "    \n",
    "    m,s = divmod(s,60)\n",
    "    h=str(h)\n",
    "    m=str(m)\n",
    "    s=str(s)\n",
    "    if len(h)==1:\n",
    "        h='0'+h\n",
    "    if len(m)==1:\n",
    "        m='0'+m\n",
    "    if len(s)==1:\n",
    "        s='0'+s\n",
    "    return h+':'+m+':'+s\n",
    "\n",
    "def solution(play_time, adv_time, logs):\n",
    "    for log in logs:\n",
    "        a,b = change_time(log)\n",
    "        logs_start_sec.append(a)\n",
    "        logs_end_sec.append(b)\n",
    "    play_time_sec = change(play_time)\n",
    "    adv_time_sec = change(adv_time)\n",
    "    total_time = {}\n",
    "    for i in range(len(logs)):\n",
    "        if logs_start_sec[i] not in total_time:\n",
    "            total_time[logs_start_sec[i]]=0\n",
    "        if logs_end_sec[i] not in total_time:\n",
    "            total_time[logs_end_sec[i]]=0\n",
    "        total_time[logs_start_sec[i]]+=1\n",
    "        total_time[logs_end_sec[i]]-=1\n",
    "\n",
    "def solution2(play_time, adv_time, logs):\n",
    "    answer = 0\n",
    "    cands = [0]\n",
    "    each_person = []\n",
    "    for log in logs:\n",
    "        a,b = change_time(log)\n",
    "        cands.append(a)\n",
    "        cands.append(b)\n",
    "        each_person.append((a,b))\n",
    "    adv_time = change(adv_time)\n",
    "    #print(cands)\n",
    "    temp=0\n",
    "    for cand in cands:\n",
    "        start = cand\n",
    "        end = start+adv_time\n",
    "        for i in range(1):\n",
    "            \n",
    "            \n",
    "            \n",
    "            result=0\n",
    "            for person in each_person:\n",
    "                #print(person[0], person[1], start, end)\n",
    "                \n",
    "                if person[0]>end or person[1]<start:\n",
    "                    continue\n",
    "                elif person[0]<=start and person[1]>=end:\n",
    "                    result+=end-start\n",
    "                elif person[0]>=start and person[1]>=end:\n",
    "                    result+=end-person[0]\n",
    "                elif person[0]>=start and person[1]<=end:\n",
    "                    result+=person[1]-person[0]\n",
    "                elif person[0]<=start and person[1]<=end:\n",
    "                    result+=person[1]-start\n",
    "                    \n",
    "            #print(result,start)\n",
    "            if answer<result:\n",
    "                temp=start\n",
    "                answer = result\n",
    "                \n",
    "            elif answer==result:\n",
    "                if temp>start:\n",
    "                    \n",
    "                    temp=start\n",
    "                    #print(temp)\n",
    "                    \n",
    "            \n",
    "    answer=temp\n",
    "    \n",
    "    answer = ichange(answer)\n",
    "    return answer"
   ]
  },
  {
   "cell_type": "code",
   "execution_count": 86,
   "metadata": {},
   "outputs": [
    {
     "data": {
      "text/plain": [
       "'00:00:00'"
      ]
     },
     "execution_count": 86,
     "metadata": {},
     "output_type": "execute_result"
    }
   ],
   "source": [
    "a = \"50:00:00\"\n",
    "b= \"50:00:00\"\n",
    "c=[\"15:36:51-38:21:49\", \"10:14:18-15:36:51\", \"38:21:49-42:51:45\"]\n",
    "solution(a,b,c)"
   ]
  },
  {
   "cell_type": "code",
   "execution_count": 73,
   "metadata": {},
   "outputs": [
    {
     "data": {
      "text/plain": [
       "'00:0:0'"
      ]
     },
     "execution_count": 73,
     "metadata": {},
     "output_type": "execute_result"
    }
   ],
   "source": [
    "ichange(3600)"
   ]
  },
  {
   "cell_type": "code",
   "execution_count": null,
   "metadata": {},
   "outputs": [],
   "source": []
  }
 ],
 "metadata": {
  "kernelspec": {
   "display_name": "Python 3",
   "language": "python",
   "name": "python3"
  },
  "language_info": {
   "codemirror_mode": {
    "name": "ipython",
    "version": 3
   },
   "file_extension": ".py",
   "mimetype": "text/x-python",
   "name": "python",
   "nbconvert_exporter": "python",
   "pygments_lexer": "ipython3",
   "version": "3.7.7"
  }
 },
 "nbformat": 4,
 "nbformat_minor": 4
}
