{
 "cells": [
  {
   "cell_type": "code",
   "execution_count": 16,
   "metadata": {},
   "outputs": [
    {
     "name": "stdout",
     "output_type": "stream",
     "text": [
      "1\n",
      "1\n",
      "1\n",
      "1\n"
     ]
    },
    {
     "data": {
      "text/plain": [
       "[1]"
      ]
     },
     "execution_count": 16,
     "metadata": {},
     "output_type": "execute_result"
    }
   ],
   "source": [
    "\n",
    "def solution(arr1,arr2):\n",
    "    result = []\n",
    "    for i in arr2:\n",
    "        cur = i\n",
    "        check = False\n",
    "        mid = len(arr1)//2\n",
    "        left = 0\n",
    "        right = len(arr1)-1\n",
    "        while left<=right:\n",
    "            mid = (left+right)//2\n",
    "            if arr1[mid]==cur:\n",
    "                result.append(1)\n",
    "                check = True\n",
    "                break\n",
    "            elif arr1[mid]<cur:\n",
    "                left = mid+1\n",
    "            elif arr1[mid]>cur:\n",
    "                right = mid-1\n",
    "        if check:\n",
    "            continue\n",
    "        else:\n",
    "            result.append(0)\n",
    "    return result\n",
    "\n",
    "N = int(input())\n",
    "arr1 = list(map(int,input().split()))\n",
    "M = int(input())\n",
    "arr2 = list(map(int,input().split()))\n",
    "\n",
    "arr1.sort()\n",
    "answer = solution(arr1,arr2)\n",
    "for i in answer:\n",
    "    print(i)"
   ]
  },
  {
   "cell_type": "code",
   "execution_count": 2,
   "metadata": {},
   "outputs": [
    {
     "name": "stdout",
     "output_type": "stream",
     "text": [
      "[1, 2, 3, 4, 5]\n"
     ]
    }
   ],
   "source": [
    "li = [1,2,5,4,3]\n",
    "li.sort()\n",
    "print(li)"
   ]
  },
  {
   "cell_type": "code",
   "execution_count": null,
   "metadata": {},
   "outputs": [],
   "source": []
  }
 ],
 "metadata": {
  "kernelspec": {
   "display_name": "Python 3",
   "language": "python",
   "name": "python3"
  },
  "language_info": {
   "codemirror_mode": {
    "name": "ipython",
    "version": 3
   },
   "file_extension": ".py",
   "mimetype": "text/x-python",
   "name": "python",
   "nbconvert_exporter": "python",
   "pygments_lexer": "ipython3",
   "version": "3.7.6"
  }
 },
 "nbformat": 4,
 "nbformat_minor": 4
}
