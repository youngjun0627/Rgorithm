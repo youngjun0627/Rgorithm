{
 "cells": [
  {
   "cell_type": "code",
   "execution_count": 15,
   "metadata": {},
   "outputs": [
    {
     "data": {
      "text/plain": [
       "[360, 958, 108, 0, 450, 18, 180, 1080]"
      ]
     },
     "execution_count": 15,
     "metadata": {},
     "output_type": "execute_result"
    }
   ],
   "source": [
    "\n",
    "def solution(enroll, referral, seller, amount):\n",
    "    answer = [0 for _ in range(len(enroll))]\n",
    "    dic={}\n",
    "    id_en = {}\n",
    "    for idx,en in enumerate(enroll):\n",
    "        dic[en]=[None,0]\n",
    "        id_en[en]=idx\n",
    "    for en,refer in zip(enroll, referral):\n",
    "        #dic[en]=[[],0]\n",
    "        if refer != '-':\n",
    "            dic[en][0] = refer\n",
    "        \n",
    "    \n",
    "    arr = [0 for _ in range(len(enroll))]\n",
    "    for se, a in zip(seller, amount):\n",
    "        a*=100\n",
    "        \n",
    "        if dic[se][0] == None:\n",
    "            dic[se][1] += a -int(a*0.1)\n",
    "        else:\n",
    "            dfs(se,dic,a)\n",
    "    for key in dic:\n",
    "        i = id_en[key]\n",
    "        answer[i] = int(dic[key][1])\n",
    "    return answer\n",
    "\n",
    "def dfs(start,dic,a):\n",
    "    if a//10==0:\n",
    "        dic[start][1] += a\n",
    "        return\n",
    "    else:\n",
    "        dic[start][1] += a-int(a*0.1)\n",
    "    if dic[start][0] == None:\n",
    "        return\n",
    "    a = int(a*0.1)\n",
    "    dfs(dic[start][0], dic, a)\n",
    "    \n",
    "    \n",
    "    \n",
    "enroll = [\"john\", \"mary\", \"edward\", \"sam\", \"emily\", \"jaimie\", \"tod\", \"young\"]\n",
    "referral = [\"-\", \"-\", \"mary\", \"edward\", \"mary\", \"mary\", \"jaimie\", \"edward\"]\n",
    "seller = [\"young\", \"john\", \"tod\", \"emily\", \"mary\"]\n",
    "amount = [12, 4, 2, 5, 10]\n",
    "solution(enroll, referral, seller, amount)\n",
    "\n",
    "#result = [360, 958, 108, 0, 450, 18, 180, 1080]"
   ]
  },
  {
   "cell_type": "code",
   "execution_count": 6,
   "metadata": {},
   "outputs": [
    {
     "data": {
      "text/plain": [
       "{'john': [None, 360.0],\n",
       " 'mary': [None, 900.0],\n",
       " 'edward': ['mary', 108.0],\n",
       " 'sam': ['edward', 0],\n",
       " 'emily': ['mary', 450.0],\n",
       " 'jaimie': ['mary', 18.0],\n",
       " 'tod': ['jaimie', 180.0],\n",
       " 'young': ['edward', 1080.0]}"
      ]
     },
     "execution_count": 6,
     "metadata": {},
     "output_type": "execute_result"
    }
   ],
   "source": [
    "dic"
   ]
  },
  {
   "cell_type": "code",
   "execution_count": null,
   "metadata": {},
   "outputs": [],
   "source": []
  }
 ],
 "metadata": {
  "kernelspec": {
   "display_name": "Python 3",
   "language": "python",
   "name": "python3"
  },
  "language_info": {
   "codemirror_mode": {
    "name": "ipython",
    "version": 3
   },
   "file_extension": ".py",
   "mimetype": "text/x-python",
   "name": "python",
   "nbconvert_exporter": "python",
   "pygments_lexer": "ipython3",
   "version": "3.7.7"
  }
 },
 "nbformat": 4,
 "nbformat_minor": 4
}
