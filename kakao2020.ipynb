{
 "cells": [
  {
   "cell_type": "code",
   "execution_count": 57,
   "metadata": {},
   "outputs": [
    {
     "name": "stdout",
     "output_type": "stream",
     "text": [
      "['__add__', '__class__', '__contains__', '__delattr__', '__dir__', '__doc__', '__eq__', '__format__', '__ge__', '__getattribute__', '__getitem__', '__getnewargs__', '__gt__', '__hash__', '__init__', '__init_subclass__', '__iter__', '__le__', '__len__', '__lt__', '__mod__', '__mul__', '__ne__', '__new__', '__reduce__', '__reduce_ex__', '__repr__', '__rmod__', '__rmul__', '__setattr__', '__sizeof__', '__str__', '__subclasshook__', 'capitalize', 'casefold', 'center', 'count', 'encode', 'endswith', 'expandtabs', 'find', 'format', 'format_map', 'index', 'isalnum', 'isalpha', 'isascii', 'isdecimal', 'isdigit', 'isidentifier', 'islower', 'isnumeric', 'isprintable', 'isspace', 'istitle', 'isupper', 'join', 'ljust', 'lower', 'lstrip', 'maketrans', 'partition', 'replace', 'rfind', 'rindex', 'rjust', 'rpartition', 'rsplit', 'rstrip', 'split', 'splitlines', 'startswith', 'strip', 'swapcase', 'title', 'translate', 'upper', 'zfill']\n",
      "edcba\n"
     ]
    }
   ],
   "source": [
    "s=\"abcde\"\n",
    "print(dir(s))\n",
    "print(s[::-1])"
   ]
  },
  {
   "cell_type": "code",
   "execution_count": 19,
   "metadata": {},
   "outputs": [
    {
     "name": "stdout",
     "output_type": "stream",
     "text": [
      "a\n"
     ]
    },
    {
     "data": {
      "text/plain": [
       "100000000"
      ]
     },
     "execution_count": 19,
     "metadata": {},
     "output_type": "execute_result"
    }
   ],
   "source": [
    "#2020 카카오 블라인드채용 1번\n",
    "\n",
    "def solution(s):\n",
    "    if len(s)==1:\n",
    "        return 1\n",
    "    answer=100000000\n",
    "    Maxsize=len(s)//2+1\n",
    "    for size in range(1,Maxsize):\n",
    "        substring=[]\n",
    "        result=\"\"\n",
    "        for i in range(0,len(s),size):\n",
    "            substring.append(s[i:i+size])\n",
    "        #print(substring)\n",
    "        pre = substring[0]\n",
    "        count=1\n",
    "        for i in range(1,len(substring)):\n",
    "            if pre == substring[i]:\n",
    "                count+=1\n",
    "            else:\n",
    "                if count==1:\n",
    "                    result+=pre\n",
    "                else:\n",
    "                    result += str(count)+pre\n",
    "                pre = substring[i]\n",
    "                count=1\n",
    "        if count==1:\n",
    "            result+=pre\n",
    "        else:\n",
    "            result += str(count)+pre\n",
    "        #print(result)\n",
    "        answer = min(answer,len(result))\n",
    "    return answer\n",
    "s = input()\n",
    "solution(s)"
   ]
  },
  {
   "cell_type": "code",
   "execution_count": 86,
   "metadata": {},
   "outputs": [
    {
     "name": "stdout",
     "output_type": "stream",
     "text": [
      "()))((()\n",
      "u,v () ))((()\n",
      "u,v ))(( ()\n",
      "temp: )(\n",
      "s ()\n",
      "u,v () \n",
      "()(())()\n"
     ]
    }
   ],
   "source": [
    "#2020 카카오 블라인드채용 2번\n",
    "\n",
    "def check(s):\n",
    "    cnt=0\n",
    "    for c in s:\n",
    "        if c=='(':\n",
    "            cnt+=1\n",
    "        else:\n",
    "            cnt-=1\n",
    "        if cnt<0:\n",
    "            return False\n",
    "    return True\n",
    "   \n",
    "    \n",
    "def solution(s):\n",
    "    if s==\"\":\n",
    "        return \"\"\n",
    "    u=\"\"\n",
    "    v=\"\"\n",
    "    cnt=0\n",
    "    for i in range(0,len(s)):\n",
    "        if s[i]=='(':\n",
    "            cnt+=1\n",
    "        else:\n",
    "            cnt-=1\n",
    "        u+=s[i]\n",
    "        if cnt==0:\n",
    "            v=s[i+1:len(s)]\n",
    "            break\n",
    "    \n",
    "    print(\"u,v\",u,v)\n",
    "    if check(u):\n",
    "        return u+solution(v)\n",
    "    else:\n",
    "        temp = u[1:-1]\n",
    "        print(\"temp:\",temp)\n",
    "        s=\"\"\n",
    "        for i in range(0,len(temp)):\n",
    "            if temp[i]=='(':\n",
    "                s+=')'\n",
    "            else:\n",
    "                s+='('\n",
    "        print(\"s\",s)\n",
    "            #print(\"temp:\",temp)\n",
    "        return '('+solution(v)+')' + s\n",
    "        '''\n",
    "        if len(u)==2 :\n",
    "            return '('+solution(v)+')'\n",
    "        else:\n",
    "            temp = u[::-1]\n",
    "            #print(\"temp:\",temp)\n",
    "            \n",
    "            return '('+solution(v)+')' + temp[1:len(temp)-1]\n",
    "        '''\n",
    "    \n",
    "    \n",
    "\n",
    "s = input()\n",
    "print(solution(s))"
   ]
  },
  {
   "cell_type": "code",
   "execution_count": 115,
   "metadata": {},
   "outputs": [
    {
     "data": {
      "text/plain": [
       "True"
      ]
     },
     "execution_count": 115,
     "metadata": {},
     "output_type": "execute_result"
    }
   ],
   "source": [
    "#2020 카카오 블라인드채용 3번\n",
    "\n",
    "def rotate(arr,M): #회전\n",
    "    result = set()\n",
    "    for s in arr:\n",
    "        result.add((s[1],M-s[0]-1))\n",
    "    return result\n",
    "\n",
    "    \n",
    "\n",
    "def solution(key, lock):\n",
    "    M = len(key)\n",
    "    N = len(lock)\n",
    "    key_space = set()\n",
    "    empty_space = set()\n",
    "    nonempty_space = set()\n",
    "    for i in range(N):\n",
    "        for j in range(N):\n",
    "            if lock[i][j]==0:\n",
    "                empty_space.add((i+M-1,j+M-1))\n",
    "            else:\n",
    "                nonempty_space.add((i+M-1,j+M-1))\n",
    "    for i in range(M):\n",
    "        for j in range(M):\n",
    "            if key[i][j]==1:\n",
    "                key_space.add((i,j))\n",
    "    for _ in range(4):\n",
    "        current_key = (rotate(key_space,M))\n",
    "        for i in range(0,N+M+M):\n",
    "            for j in range(0,N+M+M):\n",
    "                count=len(empty_space)\n",
    "                for current in current_key:\n",
    "                    current_y,current_x = current\n",
    "                    #print(current_y,current_x)\n",
    "                    if (current_y+i,current_x+j) in nonempty_space:\n",
    "                        break\n",
    "                    if (current_y+i,current_x+j) in empty_space:\n",
    "                        count-=1\n",
    "                    if count==0:\n",
    "                        return True\n",
    "        key_space = current_key\n",
    "    return False\n",
    "    \n",
    "    \n",
    "key = [[0, 0, 0], [1, 0, 0], [0, 1, 1]]\n",
    "lock = [[1, 1, 1], [1, 1, 0], [1, 0, 1]]\n",
    "\n",
    "solution(key,lock)\n",
    "\n"
   ]
  },
  {
   "cell_type": "code",
   "execution_count": 27,
   "metadata": {},
   "outputs": [
    {
     "name": "stdout",
     "output_type": "stream",
     "text": [
      "0\n",
      "1\n",
      "2\n",
      "3\n"
     ]
    },
    {
     "ename": "IndexError",
     "evalue": "list index out of range",
     "output_type": "error",
     "traceback": [
      "\u001b[1;31m---------------------------------------------------------------------------\u001b[0m",
      "\u001b[1;31mIndexError\u001b[0m                                Traceback (most recent call last)",
      "\u001b[1;32m<ipython-input-27-b620476b5f44>\u001b[0m in \u001b[0;36m<module>\u001b[1;34m\u001b[0m\n\u001b[0;32m     87\u001b[0m \u001b[0mwords\u001b[0m \u001b[1;33m=\u001b[0m \u001b[1;33m[\u001b[0m\u001b[1;34m\"frodo\"\u001b[0m\u001b[1;33m,\u001b[0m \u001b[1;34m\"front\"\u001b[0m\u001b[1;33m,\u001b[0m \u001b[1;34m\"frost\"\u001b[0m\u001b[1;33m,\u001b[0m \u001b[1;34m\"frozen\"\u001b[0m\u001b[1;33m,\u001b[0m \u001b[1;34m\"frame\"\u001b[0m\u001b[1;33m,\u001b[0m \u001b[1;34m\"kakao\"\u001b[0m\u001b[1;33m]\u001b[0m\u001b[1;33m\u001b[0m\u001b[1;33m\u001b[0m\u001b[0m\n\u001b[0;32m     88\u001b[0m \u001b[0mqueries\u001b[0m \u001b[1;33m=\u001b[0m \u001b[1;33m[\u001b[0m\u001b[1;34m\"fro??\"\u001b[0m\u001b[1;33m,\u001b[0m \u001b[1;34m\"????o\"\u001b[0m\u001b[1;33m,\u001b[0m \u001b[1;34m\"fr???\"\u001b[0m\u001b[1;33m,\u001b[0m \u001b[1;34m\"fro???\"\u001b[0m\u001b[1;33m,\u001b[0m \u001b[1;34m\"pro?\"\u001b[0m\u001b[1;33m]\u001b[0m\u001b[1;33m\u001b[0m\u001b[1;33m\u001b[0m\u001b[0m\n\u001b[1;32m---> 89\u001b[1;33m \u001b[0msolution\u001b[0m\u001b[1;33m(\u001b[0m\u001b[0mwords\u001b[0m\u001b[1;33m,\u001b[0m\u001b[0mqueries\u001b[0m\u001b[1;33m)\u001b[0m\u001b[1;33m\u001b[0m\u001b[1;33m\u001b[0m\u001b[0m\n\u001b[0m",
      "\u001b[1;32m<ipython-input-27-b620476b5f44>\u001b[0m in \u001b[0;36msolution\u001b[1;34m(words, queries)\u001b[0m\n\u001b[0;32m     80\u001b[0m                 \u001b[1;32mfor\u001b[0m \u001b[0mi\u001b[0m \u001b[1;32min\u001b[0m \u001b[0mrange\u001b[0m\u001b[1;33m(\u001b[0m\u001b[0mlen\u001b[0m\u001b[1;33m(\u001b[0m\u001b[0mresult\u001b[0m\u001b[1;33m)\u001b[0m\u001b[1;33m)\u001b[0m\u001b[1;33m:\u001b[0m\u001b[1;33m\u001b[0m\u001b[1;33m\u001b[0m\u001b[0m\n\u001b[0;32m     81\u001b[0m                     \u001b[0mprint\u001b[0m\u001b[1;33m(\u001b[0m\u001b[0mi\u001b[0m\u001b[1;33m)\u001b[0m\u001b[1;33m\u001b[0m\u001b[1;33m\u001b[0m\u001b[0m\n\u001b[1;32m---> 82\u001b[1;33m                     \u001b[1;32mif\u001b[0m \u001b[0mlen\u001b[0m\u001b[1;33m(\u001b[0m\u001b[0mprefix\u001b[0m\u001b[1;33m)\u001b[0m\u001b[1;33m!=\u001b[0m\u001b[0mlen\u001b[0m\u001b[1;33m(\u001b[0m\u001b[0mresult\u001b[0m\u001b[1;33m[\u001b[0m\u001b[0mi\u001b[0m\u001b[1;33m]\u001b[0m\u001b[1;33m)\u001b[0m\u001b[1;33m:\u001b[0m\u001b[1;33m\u001b[0m\u001b[1;33m\u001b[0m\u001b[0m\n\u001b[0m\u001b[0;32m     83\u001b[0m                         \u001b[0mresult\u001b[0m\u001b[1;33m.\u001b[0m\u001b[0mremove\u001b[0m\u001b[1;33m(\u001b[0m\u001b[0mresult\u001b[0m\u001b[1;33m[\u001b[0m\u001b[0mi\u001b[0m\u001b[1;33m]\u001b[0m\u001b[1;33m)\u001b[0m\u001b[1;33m\u001b[0m\u001b[1;33m\u001b[0m\u001b[0m\n\u001b[0;32m     84\u001b[0m                 \u001b[0manswer\u001b[0m\u001b[1;33m.\u001b[0m\u001b[0mappend\u001b[0m\u001b[1;33m(\u001b[0m\u001b[0mlen\u001b[0m\u001b[1;33m(\u001b[0m\u001b[0mresult\u001b[0m\u001b[1;33m)\u001b[0m\u001b[1;33m)\u001b[0m\u001b[1;33m\u001b[0m\u001b[1;33m\u001b[0m\u001b[0m\n",
      "\u001b[1;31mIndexError\u001b[0m: list index out of range"
     ]
    }
   ],
   "source": [
    "#2020 카카오 블라인드채용 4번\n",
    "\n",
    "class Node(object):\n",
    "    def __init__(self,key,data=None):\n",
    "        self.key = key\n",
    "        self.data = data #flag\n",
    "        self.children = {}\n",
    "class Trie(object):\n",
    "    def __init__(self):\n",
    "        self.head = Node(None)\n",
    "    def insert(self,string):\n",
    "        curr_node = self.head\n",
    "        for char in string:\n",
    "            if char not in curr_node.children:\n",
    "                curr_node.children[char] = Node(char)\n",
    "            curr_node = curr_node.children[char]\n",
    "        curr_node.data = string\n",
    "    def starts_with(self,prefix,length):\n",
    "        curr_node = self.head\n",
    "        result=[]\n",
    "        subtrie=None\n",
    "        for char in prefix:\n",
    "            if char in curr_node.children:\n",
    "                curr_node = curr_node.children[char] \n",
    "                subtrie = curr_node\n",
    "            else:\n",
    "                return None\n",
    "        queue = list(subtrie.children.values())\n",
    "        while queue: \n",
    "            curr = queue.pop() \n",
    "            if curr.data != None and len(curr.data)==length: \n",
    "                result.append(curr.data) \n",
    "            queue += list(curr.children.values()) \n",
    "        return result\n",
    "\n",
    "\n",
    "\n",
    "def solution(words, queries):\n",
    "    answer = []\n",
    "    trie = Trie()\n",
    "    for word in words:\n",
    "        trie.insert(word)\n",
    "        trie.insert(word[::-1])\n",
    "    for prefix in queries:\n",
    "        s=\"\"\n",
    "        if prefix[0]=='?':\n",
    "            pre = prefix[::-1]\n",
    "            for i in range(len(pre)):\n",
    "                if pre[i]=='?':\n",
    "                    break\n",
    "                s +=pre[i]\n",
    "            result = trie.starts_with(sn)\n",
    "            if result==None:\n",
    "                answer.append(0)\n",
    "            else:\n",
    "                answer.append(len(result))\n",
    "            #answer.append(len(trie.starts_with(prefix[::-1])))\n",
    "        else:\n",
    "            for i in range(len(prefix)):\n",
    "                if prefix[i]=='?':\n",
    "                    break\n",
    "                s +=prefix[i]\n",
    "            result = trie.starts_with(s)\n",
    "            #print(result)\n",
    "            if result==None:\n",
    "                answer.append(0)\n",
    "            else:\n",
    "                answer.append(len(result))\n",
    "    return answer\n",
    "\n",
    "words = [\"frodo\", \"front\", \"frost\", \"frozen\", \"frame\", \"kakao\"]\n",
    "queries = [\"fro??\", \"????o\", \"fr???\", \"fro???\", \"pro?\"]\n",
    "solution(words,queries)"
   ]
  },
  {
   "cell_type": "code",
   "execution_count": 26,
   "metadata": {},
   "outputs": [
    {
     "data": {
      "text/plain": [
       "[[0, 0, 0], [0, 1, 1], [1, 1, 1], [2, 1, 1], [3, 1, 1], [4, 0, 0]]"
      ]
     },
     "execution_count": 26,
     "metadata": {},
     "output_type": "execute_result"
    }
   ],
   "source": [
    "# 카카오 블라인드 채용 5번\n",
    "\n",
    "# n은 벽면 크기\n",
    "# build_frame -> x,y,a,b x,y좌표 a는 0이면 기둥 1은 보, b는 0은 삭제 1은 설치\n",
    "\n",
    "def check_wall(walls,boe,curr):\n",
    "    current_x,current_y = curr\n",
    "    if current_y==0:\n",
    "        return True\n",
    "    for b in boe:\n",
    "        b_x,b_y = b\n",
    "        if (current_x==b_x or current_x==b_x+1) and current_y==b_y:\n",
    "            return True\n",
    "    for w in walls:\n",
    "        w_x,w_y = w\n",
    "        if current_x==w_x and current_y==w_y+1:\n",
    "            return True\n",
    "    return False\n",
    "\n",
    "\n",
    "def check_boe(walls,boe,curr):\n",
    "    current_x,current_y = curr\n",
    "    if (current_x-1,current_y) in boe and (current_x+1,current_y) in boe:\n",
    "        return True\n",
    "    for w in walls:\n",
    "        w_x,w_y = w\n",
    "        if (current_x==w_x or current_x+1 == w_x) and current_y==w_y+1:\n",
    "            return True\n",
    "    return False\n",
    "\n",
    "\n",
    "\n",
    "def solution(n, build_frame):\n",
    "    answer = []\n",
    "    walls = set()\n",
    "    boe = set()\n",
    "    for x,y,a,b in build_frame:\n",
    "        if a==1:#보\n",
    "            if b==1:\n",
    "                if check_boe(walls,boe,(x,y)):\n",
    "                    boe.add((x,y))\n",
    "            else:\n",
    "                if (x,y) not in boe:\n",
    "                    continue\n",
    "                boe.remove((x,y))\n",
    "                for wall in walls:\n",
    "                    if not check_wall(walls,boe,wall):\n",
    "                        boe.add((x,y))\n",
    "                        break\n",
    "                for bo in boe:\n",
    "                    if not check_boe(walls,boe,bo):\n",
    "                        boe.add((x,y))\n",
    "                        break\n",
    "                \n",
    "        else:\n",
    "            if b==1:\n",
    "                if check_wall(walls,boe,(x,y)):\n",
    "                    walls.add((x,y))\n",
    "            else:\n",
    "                if (x,y) not in walls:\n",
    "                    continue\n",
    "                walls.remove((x,y))\n",
    "                for wall in walls:\n",
    "                    if not check_wall(walls,boe,wall):\n",
    "                        walls.add((x,y))\n",
    "                        break\n",
    "                for bo in boe:\n",
    "                    if not check_boe(walls,boe,bo):\n",
    "                        walls.add((x,y))\n",
    "                        break\n",
    "        \n",
    "    for w in walls:\n",
    "        a,b = w\n",
    "        answer.append([a,b,0])\n",
    "    for bo in boe:\n",
    "        a,b = bo\n",
    "        answer.append([a,b,1])\n",
    "    answer.sort()\n",
    "    return answer\n",
    "\n",
    "build_frame = [[0,0,0,1],[2,0,0,1],[4,0,0,1],[0,1,1,1],[1,1,1,1],[2,1,1,1],[3,1,1,1],[2,0,0,0],[1,1,1,0],[2,2,0,1]]\n",
    "n=5\n",
    "solution(n,build_frame)"
   ]
  },
  {
   "cell_type": "code",
   "execution_count": 2,
   "metadata": {},
   "outputs": [
    {
     "ename": "TypeError",
     "evalue": "'int' object is not iterable",
     "output_type": "error",
     "traceback": [
      "\u001b[1;31m---------------------------------------------------------------------------\u001b[0m",
      "\u001b[1;31mTypeError\u001b[0m                                 Traceback (most recent call last)",
      "\u001b[1;32m<ipython-input-2-ce1363c051e2>\u001b[0m in \u001b[0;36m<module>\u001b[1;34m\u001b[0m\n\u001b[0;32m      8\u001b[0m     \u001b[0manswer\u001b[0m \u001b[1;33m=\u001b[0m \u001b[1;36m0\u001b[0m\u001b[1;33m\u001b[0m\u001b[1;33m\u001b[0m\u001b[0m\n\u001b[0;32m      9\u001b[0m     \u001b[1;32mreturn\u001b[0m \u001b[0manswer\u001b[0m\u001b[1;33m\u001b[0m\u001b[1;33m\u001b[0m\u001b[0m\n\u001b[1;32m---> 10\u001b[1;33m \u001b[0mfunc1\u001b[0m\u001b[1;33m(\u001b[0m\u001b[1;33m[\u001b[0m\u001b[1;36m1\u001b[0m\u001b[1;33m,\u001b[0m\u001b[1;36m2\u001b[0m\u001b[1;33m,\u001b[0m\u001b[1;36m3\u001b[0m\u001b[1;33m,\u001b[0m\u001b[1;36m4\u001b[0m\u001b[1;33m]\u001b[0m\u001b[1;33m,\u001b[0m\u001b[1;36m2\u001b[0m\u001b[1;33m)\u001b[0m\u001b[1;33m\u001b[0m\u001b[1;33m\u001b[0m\u001b[0m\n\u001b[0m",
      "\u001b[1;32m<ipython-input-2-ce1363c051e2>\u001b[0m in \u001b[0;36mfunc1\u001b[1;34m(weak, num)\u001b[0m\n\u001b[0;32m      4\u001b[0m \u001b[1;33m\u001b[0m\u001b[0m\n\u001b[0;32m      5\u001b[0m \u001b[1;32mdef\u001b[0m \u001b[0mfunc1\u001b[0m\u001b[1;33m(\u001b[0m\u001b[0mweak\u001b[0m\u001b[1;33m,\u001b[0m\u001b[0mnum\u001b[0m\u001b[1;33m)\u001b[0m\u001b[1;33m:\u001b[0m\u001b[1;33m\u001b[0m\u001b[1;33m\u001b[0m\u001b[0m\n\u001b[1;32m----> 6\u001b[1;33m     \u001b[0mpermutations\u001b[0m\u001b[1;33m(\u001b[0m\u001b[0mlen\u001b[0m\u001b[1;33m(\u001b[0m\u001b[0mweak\u001b[0m\u001b[1;33m)\u001b[0m\u001b[1;33m,\u001b[0m\u001b[0mnum\u001b[0m\u001b[1;33m)\u001b[0m\u001b[1;33m\u001b[0m\u001b[1;33m\u001b[0m\u001b[0m\n\u001b[0m\u001b[0;32m      7\u001b[0m \u001b[1;32mdef\u001b[0m \u001b[0msolution\u001b[0m\u001b[1;33m(\u001b[0m\u001b[0mn\u001b[0m\u001b[1;33m,\u001b[0m \u001b[0mweak\u001b[0m\u001b[1;33m,\u001b[0m \u001b[0mdist\u001b[0m\u001b[1;33m)\u001b[0m\u001b[1;33m:\u001b[0m\u001b[1;33m\u001b[0m\u001b[1;33m\u001b[0m\u001b[0m\n\u001b[0;32m      8\u001b[0m     \u001b[0manswer\u001b[0m \u001b[1;33m=\u001b[0m \u001b[1;36m0\u001b[0m\u001b[1;33m\u001b[0m\u001b[1;33m\u001b[0m\u001b[0m\n",
      "\u001b[1;31mTypeError\u001b[0m: 'int' object is not iterable"
     ]
    }
   ],
   "source": [
    "# 카카오 블라인드 채용 6번\n",
    "from itertools import permutations\n",
    "from collections import deque\n",
    "\n",
    "def func1(weak,num):\n",
    "    permutations(len(weak),num)\n",
    "def solution(n, weak, dist):\n",
    "    answer = 0\n",
    "    return answer\n",
    "func1([1,2,3,4],2)"
   ]
  },
  {
   "cell_type": "code",
   "execution_count": 40,
   "metadata": {},
   "outputs": [
    {
     "name": "stdout",
     "output_type": "stream",
     "text": [
      "['__add__', '__bool__', '__class__', '__contains__', '__copy__', '__delattr__', '__delitem__', '__dir__', '__doc__', '__eq__', '__format__', '__ge__', '__getattribute__', '__getitem__', '__gt__', '__hash__', '__iadd__', '__imul__', '__init__', '__init_subclass__', '__iter__', '__le__', '__len__', '__lt__', '__mul__', '__ne__', '__new__', '__reduce__', '__reduce_ex__', '__repr__', '__reversed__', '__rmul__', '__setattr__', '__setitem__', '__sizeof__', '__str__', '__subclasshook__', 'append', 'appendleft', 'clear', 'copy', 'count', 'extend', 'extendleft', 'index', 'insert', 'maxlen', 'pop', 'popleft', 'remove', 'reverse', 'rotate']\n"
     ]
    }
   ],
   "source": [
    "# 카카오 블라인드 채용 7번\n",
    "\n",
    "from collections import deque\n",
    "\n",
    "def check_rotate_rightaxis(robot,board):\n",
    "    (y1,x1),(y2,x2)=robot\n",
    "    result = []\n",
    "    if board[y1+1][x1]==0 or board[y2+1][x2]==0:\n",
    "        result.append(((y2,x2),(y2+1,x2)))\n",
    "    if board[y1-1][x1]==0 or board[y2-1][x2]==0:\n",
    "        result.append(((y2-1,x2),(y2,x2)))\n",
    "    return result\n",
    "def check_rotate_leftaxis(robot,board):\n",
    "    (y1,x1),(y2,x2)=robot\n",
    "    result = []\n",
    "    if board[y1+1][x1]==0 or board[y2+1][x2]==0:\n",
    "        result.append(((y1,x1),(y1+1,x1)))\n",
    "    if board[y1-1][x1]==0 or board[y2-1][x2]==0:\n",
    "        result.append(((y1-1,x1),(y1,x1)))\n",
    "    return result\n",
    "def solution(board):\n",
    "    answer = 0\n",
    "    return answer\n"
   ]
  },
  {
   "cell_type": "code",
   "execution_count": null,
   "metadata": {},
   "outputs": [],
   "source": []
  }
 ],
 "metadata": {
  "kernelspec": {
   "display_name": "Python 3",
   "language": "python",
   "name": "python3"
  },
  "language_info": {
   "codemirror_mode": {
    "name": "ipython",
    "version": 3
   },
   "file_extension": ".py",
   "mimetype": "text/x-python",
   "name": "python",
   "nbconvert_exporter": "python",
   "pygments_lexer": "ipython3",
   "version": "3.7.6"
  }
 },
 "nbformat": 4,
 "nbformat_minor": 4
}
