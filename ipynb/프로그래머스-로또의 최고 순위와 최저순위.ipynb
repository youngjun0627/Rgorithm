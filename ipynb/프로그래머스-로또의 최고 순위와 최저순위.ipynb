{
 "cells": [
  {
   "cell_type": "code",
   "execution_count": 3,
   "metadata": {},
   "outputs": [
    {
     "data": {
      "text/plain": [
       "(1, 6)"
      ]
     },
     "execution_count": 3,
     "metadata": {},
     "output_type": "execute_result"
    }
   ],
   "source": [
    "def solution(lottos, win_nums):\n",
    "    cnt=0\n",
    "    zero_cnt=0\n",
    "    dic = {6:1, 5:2, 4:3, 3:4, 2:5, 1:6, 0:6}\n",
    "    for lotto in lottos:\n",
    "        if lotto in win_nums:\n",
    "            cnt+=1\n",
    "        elif lotto == 0:\n",
    "            zero_cnt+=1\n",
    "    answer = dic[cnt+zero_cnt], dic[cnt]\n",
    "    return answer\n",
    "\n",
    "a = [0,0,0,0,0,0]\n",
    "b = [38, 19, 20, 40, 15, 25]\n",
    "solution(a,b)"
   ]
  },
  {
   "cell_type": "code",
   "execution_count": null,
   "metadata": {},
   "outputs": [],
   "source": []
  }
 ],
 "metadata": {
  "kernelspec": {
   "display_name": "Python 3",
   "language": "python",
   "name": "python3"
  },
  "language_info": {
   "codemirror_mode": {
    "name": "ipython",
    "version": 3
   },
   "file_extension": ".py",
   "mimetype": "text/x-python",
   "name": "python",
   "nbconvert_exporter": "python",
   "pygments_lexer": "ipython3",
   "version": "3.7.7"
  }
 },
 "nbformat": 4,
 "nbformat_minor": 4
}
