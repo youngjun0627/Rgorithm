{
 "cells": [
  {
   "cell_type": "code",
   "execution_count": 22,
   "metadata": {},
   "outputs": [
    {
     "name": "stdout",
     "output_type": "stream",
     "text": [
      "[1, 5, 6, 10]\n",
      "[5, 6, 10, 13]\n",
      "[6, 10, 13, 17]\n",
      "[10, 13, 17, 18]\n"
     ]
    },
    {
     "data": {
      "text/plain": [
       "2"
      ]
     },
     "execution_count": 22,
     "metadata": {},
     "output_type": "execute_result"
    }
   ],
   "source": [
    "from itertools import permutations\n",
    "\n",
    "def solution(n, weak, dist):\n",
    "    answer = 9999999\n",
    "    dist.sort()\n",
    "    dist = dist[::-1]\n",
    "    for i in range(len(weak)):\n",
    "        start = weak[i]\n",
    "        _weak = weak[i:]\n",
    "        for j in range(len(weak)-len(_weak)):\n",
    "            _weak.append(weak[j]+n)\n",
    "        print(_weak)\n",
    "        for _dist in permutations(dist):\n",
    "            idx,cnt=0,1\n",
    "            pos_d = _weak[0]+_dist[idx]\n",
    "            for _w in _weak:\n",
    "                if _w<=pos_d:\n",
    "                    continue\n",
    "                cnt+=1\n",
    "                if cnt>len(dist):\n",
    "                    break\n",
    "                idx+=1\n",
    "                pos_d = _w+_dist[idx]\n",
    "            answer = min(answer,cnt)\n",
    "    if answer>len(dist):\n",
    "        return -1\n",
    "    else:\n",
    "        return answer\n",
    "\n",
    "\n",
    "n=12\n",
    "weak=[1,5,6,10]\n",
    "dist=[1,2,3,4]\n",
    "\n",
    "solution(n,weak,dist)"
   ]
  },
  {
   "cell_type": "code",
   "execution_count": 23,
   "metadata": {},
   "outputs": [
    {
     "name": "stdout",
     "output_type": "stream",
     "text": [
      "[1, 5, 6, 10]\n",
      "[5, 6, 10, 13]\n",
      "[6, 10, 13, 17]\n",
      "[10, 13, 17, 18]\n"
     ]
    }
   ],
   "source": [
    "weak_len = 4\n",
    "n=12\n",
    "for i in range(weak_len):\n",
    "    weak.append(weak[i] + n)\n",
    "\n",
    "for i in range(weak_len):\n",
    "        weak_order = [weak[j] for j in range(i, i + weak_len)]\n",
    "        print(weak_order)"
   ]
  },
  {
   "cell_type": "code",
   "execution_count": null,
   "metadata": {},
   "outputs": [],
   "source": []
  }
 ],
 "metadata": {
  "kernelspec": {
   "display_name": "Python 3",
   "language": "python",
   "name": "python3"
  },
  "language_info": {
   "codemirror_mode": {
    "name": "ipython",
    "version": 3
   },
   "file_extension": ".py",
   "mimetype": "text/x-python",
   "name": "python",
   "nbconvert_exporter": "python",
   "pygments_lexer": "ipython3",
   "version": "3.7.7"
  }
 },
 "nbformat": 4,
 "nbformat_minor": 4
}
