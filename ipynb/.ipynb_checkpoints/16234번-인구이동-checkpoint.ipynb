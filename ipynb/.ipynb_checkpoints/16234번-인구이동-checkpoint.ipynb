{
 "cells": [
  {
   "cell_type": "code",
   "execution_count": 5,
   "metadata": {},
   "outputs": [
    {
     "name": "stdout",
     "output_type": "stream",
     "text": [
      "2 40 50\n",
      "50 30\n",
      "20 40\n",
      "0\n"
     ]
    }
   ],
   "source": [
    "from collections import deque\n",
    "\n",
    "n,l,r = map(int,input().split())\n",
    "\n",
    "board = []\n",
    "for _ in range(n):\n",
    "    board.append(list(map(int,input().split())))\n",
    "    \n",
    "def bfs(start, idx):\n",
    "    global board\n",
    "    global visit\n",
    "    y,x = start\n",
    "    q.clear()\n",
    "    q.append((y,x))\n",
    "    visit.add((y,x))\n",
    "    dy = [0,0,-1,1]\n",
    "    dx = [-1,1,0,0]\n",
    "    result = [board[y][x],[(y,x)]]\n",
    "    while q:\n",
    "        y,x = q.popleft()\n",
    "        for i in range(4):\n",
    "            ny = y + dy[i]\n",
    "            nx = x + dx[i]\n",
    "            if 0<=ny<n and 0<=nx<n and (ny,nx) not in visit:\n",
    "                if l<=abs(board[ny][nx]-board[y][x])<=r:\n",
    "                    result[0]+=board[ny][nx]\n",
    "                    result[1].append((ny,nx))\n",
    "                    visit.add((ny,nx))\n",
    "                    q.append((ny,nx))\n",
    "    return result\n",
    "    \n",
    "answer=0\n",
    "q = deque()\n",
    "visit = set()\n",
    "for i in range(2000):\n",
    "    idx = 0\n",
    "    groups = {}\n",
    "    start = (0,0)\n",
    "    \n",
    "    check = False\n",
    "    for y in range(n):\n",
    "        for x in range(n):\n",
    "            start = (y,x)\n",
    "            if start not in visit:\n",
    "                groups[idx] = bfs(start, idx)\n",
    "                if len(visit)==n*n:\n",
    "                    check = True\n",
    "                    break\n",
    "                idx+=1\n",
    "        if check:\n",
    "            break\n",
    "    \n",
    "    if idx==n*n-1:\n",
    "        break\n",
    "    else:\n",
    "        for k,v in groups.items():\n",
    "            _sum = v[0]\n",
    "            _list = v[1]\n",
    "            e = _sum//len(_list)\n",
    "            for y,x in _list:\n",
    "                board[y][x]=e\n",
    "        answer+=1\n",
    "    visit.clear()\n",
    "    \n",
    "print(answer)    \n",
    "    "
   ]
  },
  {
   "cell_type": "code",
   "execution_count": 30,
   "metadata": {},
   "outputs": [
    {
     "name": "stdout",
     "output_type": "stream",
     "text": [
      "['__and__', '__class__', '__contains__', '__delattr__', '__dir__', '__doc__', '__eq__', '__format__', '__ge__', '__getattribute__', '__gt__', '__hash__', '__iand__', '__init__', '__init_subclass__', '__ior__', '__isub__', '__iter__', '__ixor__', '__le__', '__len__', '__lt__', '__ne__', '__new__', '__or__', '__rand__', '__reduce__', '__reduce_ex__', '__repr__', '__ror__', '__rsub__', '__rxor__', '__setattr__', '__sizeof__', '__str__', '__sub__', '__subclasshook__', '__xor__', 'add', 'clear', 'copy', 'difference', 'difference_update', 'discard', 'intersection', 'intersection_update', 'isdisjoint', 'issubset', 'issuperset', 'pop', 'remove', 'symmetric_difference', 'symmetric_difference_update', 'union', 'update']\n"
     ]
    }
   ],
   "source": [
    "print(dir(visit))"
   ]
  },
  {
   "cell_type": "code",
   "execution_count": 19,
   "metadata": {},
   "outputs": [
    {
     "data": {
      "text/plain": [
       "[[3, 2], [4, 5]]"
      ]
     },
     "execution_count": 19,
     "metadata": {},
     "output_type": "execute_result"
    }
   ],
   "source": [
    "visit"
   ]
  },
  {
   "cell_type": "code",
   "execution_count": null,
   "metadata": {},
   "outputs": [],
   "source": []
  }
 ],
 "metadata": {
  "kernelspec": {
   "display_name": "Python 3",
   "language": "python",
   "name": "python3"
  },
  "language_info": {
   "codemirror_mode": {
    "name": "ipython",
    "version": 3
   },
   "file_extension": ".py",
   "mimetype": "text/x-python",
   "name": "python",
   "nbconvert_exporter": "python",
   "pygments_lexer": "ipython3",
   "version": "3.7.7"
  }
 },
 "nbformat": 4,
 "nbformat_minor": 4
}
