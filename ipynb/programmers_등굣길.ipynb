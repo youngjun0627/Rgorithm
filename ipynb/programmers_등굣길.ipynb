{
 "cells": [
  {
   "cell_type": "code",
   "execution_count": 19,
   "metadata": {},
   "outputs": [
    {
     "name": "stdout",
     "output_type": "stream",
     "text": [
      "[[1, 1, 1, 1], [1, 0, 1, 2], [1, 1, 2, 4]]\n"
     ]
    },
    {
     "data": {
      "text/plain": [
       "4"
      ]
     },
     "execution_count": 19,
     "metadata": {},
     "output_type": "execute_result"
    }
   ],
   "source": [
    "def solution(m, n, puddles):\n",
    "    answer = 0\n",
    "    board = [[0 for _ in range(m)] for _ in range(n)]\n",
    "    board[0][0]=1\n",
    "    for i in range(0,n):\n",
    "        for j in range(0,m):\n",
    "            if [j+1,i+1] not in puddles:\n",
    "                if i==0 and j==0:\n",
    "                    continue\n",
    "                elif i==0 and j!=0:\n",
    "                    board[i][j] = board[i][j-1]\n",
    "                elif i!=0 and j==0:\n",
    "                    board[i][j] = board[i-1][j]\n",
    "                else:\n",
    "                    board[i][j] = board[i-1][j] + board[i][j-1]\n",
    "    print(board) \n",
    "    return board[n-1][m-1]%1000000007\n",
    "\n",
    "solution(4,3,[[2,2]])"
   ]
  },
  {
   "cell_type": "code",
   "execution_count": 20,
   "metadata": {},
   "outputs": [
    {
     "name": "stdout",
     "output_type": "stream",
     "text": [
      "[[1, 0, 0, 0, 0, 0, 0], [1, 0, 0, 0, 0, 0, 0], [1, 0, 0, 0, 0, 0, 0], [1, 1, 1, 0, 0, 0, 0]]\n",
      "0 0\n"
     ]
    }
   ],
   "source": [
    "#print(solution(2, 2, []), 2)\n",
    "#print(solution(3, 3, []), 6)\n",
    "#print(solution(3, 3, [[2, 2]]), 2)\n",
    "#print(solution(3, 3, [[2, 3]]), 3)\n",
    "#print(solution(3, 3, [[1, 3]]), 5)\n",
    "#print(solution(3, 3, [[1, 3], [3, 1]]), 4)\n",
    "#print(solution(3, 3, [[1, 3], [3, 1], [2, 3]]), 2)\n",
    "#print(solution(3, 3, [[1, 3], [3, 1], [2, 3], [2, 1]]), 1)\n",
    "print(solution(7, 4, [[2, 1], [2, 2], [2, 3], [4, 2], [4, 3], [4, 4], [6, 2], [6, 3]]), 0)\n",
    "#print(solution(4, 4, [[3, 2], [2, 4]]), 7)\n",
    "#print(solution(100, 100, []), 690285631)"
   ]
  },
  {
   "cell_type": "code",
   "execution_count": null,
   "metadata": {},
   "outputs": [],
   "source": [
    "def solution(m,n,puddles):\n",
    "    grid = [[0]*(m+1) for i in range(n+1)] \n",
    "    if puddles != [[]]:                   \n",
    "        for a, b in puddles:\n",
    "            grid[b][a] = -1                \n",
    "    grid[1][1] = 1\n",
    "    for j in range(1,n+1):\n",
    "        for k in range(1,m+1):\n",
    "            if j == k == 1:                \n",
    "                continue\n",
    "            if grid[j][k] == -1:          \n",
    "                grid[j][k] = 0\n",
    "                continue\n",
    "            grid[j][k] = (grid[j][k-1] + grid[j-1][k])%1000000007   \n",
    "\n",
    "    return grid[n][m]\n",
    "\n"
   ]
  }
 ],
 "metadata": {
  "kernelspec": {
   "display_name": "Python 3",
   "language": "python",
   "name": "python3"
  },
  "language_info": {
   "codemirror_mode": {
    "name": "ipython",
    "version": 3
   },
   "file_extension": ".py",
   "mimetype": "text/x-python",
   "name": "python",
   "nbconvert_exporter": "python",
   "pygments_lexer": "ipython3",
   "version": "3.7.7"
  }
 },
 "nbformat": 4,
 "nbformat_minor": 4
}
