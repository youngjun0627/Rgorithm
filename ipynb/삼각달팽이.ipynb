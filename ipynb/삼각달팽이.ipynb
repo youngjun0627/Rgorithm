{
 "cells": [
  {
   "cell_type": "code",
   "execution_count": 41,
   "metadata": {},
   "outputs": [
    {
     "data": {
      "text/plain": [
       "[1]"
      ]
     },
     "execution_count": 41,
     "metadata": {},
     "output_type": "execute_result"
    }
   ],
   "source": [
    "def solution(n):\n",
    "    answer = []\n",
    "    \n",
    "    arr = [[0]* i for i in range(1,n+1)]\n",
    "    mode = 0\n",
    "    i=-1\n",
    "    j=0\n",
    "    number=1\n",
    "    end = 0\n",
    "    for t in range(1,n+1):\n",
    "        end+=t\n",
    "    \n",
    "    while number<=end:\n",
    "        #print(i,j,mode)\n",
    "        if mode==0:\n",
    "            i+=1\n",
    "            if i>=n or arr[i][j]!=0:\n",
    "                mode=1\n",
    "                i-=1\n",
    "                continue\n",
    "            if arr[i][j]==0:\n",
    "                arr[i][j]=number\n",
    "                number+=1\n",
    "        elif mode==1:\n",
    "            j+=1\n",
    "            if j>=n or arr[i][j]!=0:\n",
    "                mode=2\n",
    "                j-=1\n",
    "                continue\n",
    "            if arr[i][j]==0:\n",
    "                arr[i][j]=number\n",
    "                number+=1\n",
    "        elif mode==2:\n",
    "            i-=1\n",
    "            j-=1\n",
    "            if arr[i][j]!=0:\n",
    "                mode=0\n",
    "                i+=1\n",
    "                j+=1\n",
    "                continue\n",
    "            else:\n",
    "                arr[i][j]=number\n",
    "                number+=1\n",
    "            \n",
    "                \n",
    "    #print(arr)\n",
    "    for a in arr:\n",
    "        answer.extend(a)\n",
    "    return answer\n",
    "n=1\n",
    "solution(n)"
   ]
  },
  {
   "cell_type": "code",
   "execution_count": 1,
   "metadata": {},
   "outputs": [
    {
     "data": {
      "text/plain": [
       "[[0], [0, 0], [0, 0, 0], [0, 0, 0, 0], [0, 0, 0, 0, 0]]"
      ]
     },
     "execution_count": 1,
     "metadata": {},
     "output_type": "execute_result"
    }
   ],
   "source": [
    "n=5\n",
    "arr = [[0]* i for i in range(1,n+1)]\n",
    "arr"
   ]
  },
  {
   "cell_type": "code",
   "execution_count": null,
   "metadata": {},
   "outputs": [],
   "source": []
  }
 ],
 "metadata": {
  "kernelspec": {
   "display_name": "Python 3",
   "language": "python",
   "name": "python3"
  },
  "language_info": {
   "codemirror_mode": {
    "name": "ipython",
    "version": 3
   },
   "file_extension": ".py",
   "mimetype": "text/x-python",
   "name": "python",
   "nbconvert_exporter": "python",
   "pygments_lexer": "ipython3",
   "version": "3.7.7"
  }
 },
 "nbformat": 4,
 "nbformat_minor": 4
}
