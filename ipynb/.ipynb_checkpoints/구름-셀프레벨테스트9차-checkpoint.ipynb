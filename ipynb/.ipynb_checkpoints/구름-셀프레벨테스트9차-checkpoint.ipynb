{
 "cells": [
  {
   "cell_type": "code",
   "execution_count": 4,
   "metadata": {},
   "outputs": [
    {
     "name": "stdout",
     "output_type": "stream",
     "text": [
      "6 5\n",
      "1 3 8  14 19 20\n",
      "3\n"
     ]
    }
   ],
   "source": [
    "# 고장난 컴퓨터\n",
    "n,c = map(int,input().split())\n",
    "times = list(map(int,input().split()))\n",
    "\n",
    "times = times[::-1]\n",
    "answer = 0\n",
    "for idx, time in enumerate(times):\n",
    "    if idx==0:\n",
    "        answer+=1\n",
    "        pre_time = time\n",
    "        continue\n",
    "    if pre_time-time>c:\n",
    "        break\n",
    "    answer+=1\n",
    "    pre_time = time\n",
    "print(answer)"
   ]
  },
  {
   "cell_type": "code",
   "execution_count": 5,
   "metadata": {},
   "outputs": [
    {
     "name": "stdout",
     "output_type": "stream",
     "text": [
      "3\n",
      "39\n"
     ]
    },
    {
     "data": {
      "text/plain": [
       "'\\n2 3 6 -> 3\\n22 23 26 32 33 36 62 63 66 -> 9\\n222 223 232 -> 27\\n'"
      ]
     },
     "execution_count": 5,
     "metadata": {},
     "output_type": "execute_result"
    }
   ],
   "source": [
    "# 재원넘버\n",
    "\n",
    "n = int(input())\n",
    "answer = 0\n",
    "for i in range(1,n+1):\n",
    "    answer+=3**i\n",
    "print(answer)\n",
    "'''\n",
    "2 3 6 -> 3\n",
    "22 23 26 32 33 36 62 63 66 -> 9\n",
    "222 223 232 -> 27\n",
    "'''"
   ]
  },
  {
   "cell_type": "code",
   "execution_count": 29,
   "metadata": {},
   "outputs": [
    {
     "name": "stdout",
     "output_type": "stream",
     "text": [
      "3\n",
      "0. 0.\n",
      "1. 1.\n",
      "2. 0.\n",
      "2.0\n",
      "RIGHT\n"
     ]
    }
   ],
   "source": [
    "# 탈옥수\n",
    "\n",
    "def func(x, m,_x,_y):\n",
    "    return m * (x-_x) + _y\n",
    "\n",
    "n = int(input())\n",
    "steps = []\n",
    "for i in range(n):\n",
    "    steps.append(list(map(float, input().split())))\n",
    "\n",
    "answer = []\n",
    "_x = 1\n",
    "_y = 1\n",
    "m = 1\n",
    "for i in range(2,n):\n",
    "    x = steps[i][0]\n",
    "    y = func(x,m,_x,_y)\n",
    "    \n",
    "    if m>0 and steps[i-2][1]<steps[i-1][1]:\n",
    "        if y>steps[i][1]:\n",
    "            answer.append('RIGHT')\n",
    "        else:\n",
    "            answer.append('LEFT')\n",
    "    elif m>0 and steps[i-2][1]>steps[i-1][1]:\n",
    "        if y>steps[i][1]:\n",
    "            answer.append('LEFT')\n",
    "        else:\n",
    "            answer.append('RIGHT')\n",
    "        \n",
    "    elif m<0 and steps[i-2][1]>steps[i-1][1]:\n",
    "        if y>steps[i][1]:\n",
    "            answer.append('RIGHT')\n",
    "        else:\n",
    "            answer.append('LEFT')\n",
    "    elif m<0 and steps[i-2][1]<steps[i-1][1]:\n",
    "        if y>steps[i][1]:\n",
    "            answer.append('LEFT')\n",
    "        else:\n",
    "            answer.append('RIGHT')\n",
    "    else:\n",
    "        break\n",
    "    _y = steps[i][1]\n",
    "    _x = steps[i][0]\n",
    "    m = (steps[i][1]-steps[i-1][1]) / (steps[i][0]-steps[i-1][0]) + 1e-4\n",
    "for ans in answer:\n",
    "    print(ans)"
   ]
  },
  {
   "cell_type": "code",
   "execution_count": 28,
   "metadata": {},
   "outputs": [
    {
     "data": {
      "text/plain": [
       "2.0"
      ]
     },
     "execution_count": 28,
     "metadata": {},
     "output_type": "execute_result"
    }
   ],
   "source": [
    "# 문자열 장난\n",
    "\n",
    "_str = input()\n",
    "\n",
    "abdc\n",
    "cdb\n"
   ]
  },
  {
   "cell_type": "code",
   "execution_count": null,
   "metadata": {},
   "outputs": [],
   "source": []
  }
 ],
 "metadata": {
  "kernelspec": {
   "display_name": "Python 3",
   "language": "python",
   "name": "python3"
  },
  "language_info": {
   "codemirror_mode": {
    "name": "ipython",
    "version": 3
   },
   "file_extension": ".py",
   "mimetype": "text/x-python",
   "name": "python",
   "nbconvert_exporter": "python",
   "pygments_lexer": "ipython3",
   "version": "3.7.7"
  }
 },
 "nbformat": 4,
 "nbformat_minor": 4
}
