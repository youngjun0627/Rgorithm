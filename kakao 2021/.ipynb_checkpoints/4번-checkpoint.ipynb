{
 "cells": [
  {
   "cell_type": "code",
   "execution_count": 13,
   "metadata": {},
   "outputs": [],
   "source": [
    "from queue import PriorityQueue\n",
    "'''\n",
    "하나 선택\n",
    "출발지에서 하나\n",
    "하나에서 각각\n",
    "총두번 다익스트라 고고\n",
    "'''\n",
    "def dijk(start,dic,n):\n",
    "    arr = [999999 for _ in range(n)]\n",
    "    arr[start-1]=0\n",
    "    pq = PriorityQueue()\n",
    "    pq.put((0,start))\n",
    "    visit=set()\n",
    "    visit.add(start)\n",
    "    while not pq.empty():\n",
    "        if len(visit)==n:\n",
    "            break\n",
    "        cost,start = pq.get()\n",
    "        visit.add(start)\n",
    "        for _next in dic[start]:\n",
    "            if _next not in visit:\n",
    "                if arr[_next-1] > cost+dic[start][_next]:\n",
    "                    arr[_next-1]=cost+dic[start][_next]\n",
    "                    pq.put((arr[_next-1],_next))\n",
    "    return arr\n",
    "\n",
    "def solution(n, s, a, b, fares):\n",
    "    answer = 9999999\n",
    "    dic = {}\n",
    "    for i in range(1,n+1):\n",
    "        dic[i]={}\n",
    "    for fare in fares:\n",
    "        i,j,c = fare\n",
    "        \n",
    "        dic[i][j]=c\n",
    "        dic[j][i]=c\n",
    "    for i in range(1,n+1):\n",
    "        \n",
    "            arr = dijk(i,dic,n)\n",
    "            #print(arr[s-1]+arr[a-1]+arr[b-1])\n",
    "            answer = min(answer,arr[s-1]+arr[a-1]+arr[b-1])\n",
    "    return answer\n",
    "\n"
   ]
  },
  {
   "cell_type": "code",
   "execution_count": 14,
   "metadata": {},
   "outputs": [
    {
     "data": {
      "text/plain": [
       "14"
      ]
     },
     "execution_count": 14,
     "metadata": {},
     "output_type": "execute_result"
    }
   ],
   "source": [
    "\n",
    "#fares = [[4, 1, 10], [3, 5, 24], [5, 6, 2], [3, 1, 41], [5, 1, 24], [4, 6, 50], [2, 4, 66], [2, 3, 22], [1, 6, 25]]\n",
    "#solution(6,4,6,2,fares)\n",
    "fares = [[5, 7, 9], [4, 6, 4], [3, 6, 1], [3, 2, 3], [2, 1, 6]]\n",
    "solution(7,3,4,1,fares)\n",
    "#fares = [[2,6,6], [6,3,7], [4,6,7], [6,5,11], [2,5,12], [5,3,20], [2,4,8], [4,3,9]]\n",
    "#solution(6,4,5,6,fares)"
   ]
  },
  {
   "cell_type": "code",
   "execution_count": null,
   "metadata": {},
   "outputs": [],
   "source": []
  },
  {
   "cell_type": "code",
   "execution_count": null,
   "metadata": {},
   "outputs": [],
   "source": []
  }
 ],
 "metadata": {
  "kernelspec": {
   "display_name": "Python 3",
   "language": "python",
   "name": "python3"
  },
  "language_info": {
   "codemirror_mode": {
    "name": "ipython",
    "version": 3
   },
   "file_extension": ".py",
   "mimetype": "text/x-python",
   "name": "python",
   "nbconvert_exporter": "python",
   "pygments_lexer": "ipython3",
   "version": "3.7.7"
  }
 },
 "nbformat": 4,
 "nbformat_minor": 4
}
