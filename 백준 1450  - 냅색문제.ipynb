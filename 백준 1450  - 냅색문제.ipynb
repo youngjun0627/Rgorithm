{
 "cells": [
  {
   "cell_type": "code",
   "execution_count": 7,
   "metadata": {},
   "outputs": [
    {
     "name": "stdout",
     "output_type": "stream",
     "text": [
      "2 1\n",
      "1 1\n",
      "3\n"
     ]
    }
   ],
   "source": [
    "from itertools import permutations\n",
    "\n",
    "a = []\n",
    "b = []\n",
    "def func(i,s,arr):\n",
    "    global a\n",
    "    if i>=len(arr):\n",
    "        a.append(s)\n",
    "        return\n",
    "    func(i+1,s,arr)\n",
    "    func(i+1,s+arr[i],arr)\n",
    "    \n",
    "def func2(i,s,arr):\n",
    "    global b\n",
    "    if i>=len(arr):\n",
    "        b.append(s)\n",
    "        return\n",
    "    func2(i+1,s,arr)\n",
    "    func2(i+1,s+arr[i],arr)\n",
    "    \n",
    "def upper_bound(arr,key):\n",
    "    _min =0\n",
    "    _max = len(arr)\n",
    "    while _min<_max:\n",
    "        mid = (_min+_max)//2\n",
    "        if  arr[mid] <= key:\n",
    "            _min = mid+1 \n",
    "        else:\n",
    "            _max = mid\n",
    "    return _max\n",
    "\n",
    "\n",
    "n,c = map(int,input().split())\n",
    "weights = list(map(int,input().split()))\n",
    "_a,_b = weights[:len(weights)//2], weights[len(weights)//2:]\n",
    "func(0,0,_a)\n",
    "func2(0,0,_b)\n",
    "a.sort()\n",
    "b.sort()\n",
    "cnt=0\n",
    "for i in a:\n",
    "    if i>c:\n",
    "        continue\n",
    "    t = upper_bound(b,c-i)\n",
    "    \n",
    "    cnt = cnt+t\n",
    "    \n",
    "            \n",
    "            \n",
    "print(cnt)"
   ]
  },
  {
   "cell_type": "code",
   "execution_count": 39,
   "metadata": {},
   "outputs": [
    {
     "data": {
      "text/plain": [
       "2"
      ]
     },
     "execution_count": 39,
     "metadata": {},
     "output_type": "execute_result"
    }
   ],
   "source": [
    "upper_bound([1,2,3,3,3,5],3)"
   ]
  },
  {
   "cell_type": "code",
   "execution_count": null,
   "metadata": {},
   "outputs": [],
   "source": []
  }
 ],
 "metadata": {
  "kernelspec": {
   "display_name": "Python 3",
   "language": "python",
   "name": "python3"
  },
  "language_info": {
   "codemirror_mode": {
    "name": "ipython",
    "version": 3
   },
   "file_extension": ".py",
   "mimetype": "text/x-python",
   "name": "python",
   "nbconvert_exporter": "python",
   "pygments_lexer": "ipython3",
   "version": "3.7.7"
  }
 },
 "nbformat": 4,
 "nbformat_minor": 4
}
