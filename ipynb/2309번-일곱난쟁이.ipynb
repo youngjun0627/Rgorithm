{
 "cells": [
  {
   "cell_type": "code",
   "execution_count": 1,
   "metadata": {},
   "outputs": [
    {
     "name": "stdout",
     "output_type": "stream",
     "text": [
      "20\n",
      "7\n",
      "23\n",
      "19\n",
      "10\n",
      "15\n",
      "25\n",
      "8\n",
      "13\n",
      "[7, 8, 10, 13, 19, 20, 23]\n"
     ]
    }
   ],
   "source": [
    "from itertools import combinations\n",
    "\n",
    "arr  = []\n",
    "for _ in range(9):\n",
    "    arr.append(int(input()))\n",
    "_sum = sum(arr)\n",
    "\n",
    "for comb in combinations(arr,2):\n",
    "    if _sum-sum(comb)==100:\n",
    "        arr.remove(comb[0])\n",
    "        arr.remove(comb[1])\n",
    "        arr.sort()\n",
    "        break\n",
    "for a in arr:\n",
    "    print(a)"
   ]
  },
  {
   "cell_type": "code",
   "execution_count": null,
   "metadata": {},
   "outputs": [],
   "source": []
  }
 ],
 "metadata": {
  "kernelspec": {
   "display_name": "Python 3",
   "language": "python",
   "name": "python3"
  },
  "language_info": {
   "codemirror_mode": {
    "name": "ipython",
    "version": 3
   },
   "file_extension": ".py",
   "mimetype": "text/x-python",
   "name": "python",
   "nbconvert_exporter": "python",
   "pygments_lexer": "ipython3",
   "version": "3.7.7"
  }
 },
 "nbformat": 4,
 "nbformat_minor": 4
}
