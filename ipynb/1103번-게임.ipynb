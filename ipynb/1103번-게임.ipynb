{
 "cells": [
  {
   "cell_type": "code",
   "execution_count": 19,
   "metadata": {},
   "outputs": [
    {
     "name": "stdout",
     "output_type": "stream",
     "text": [
      "4 4\n",
      "3HH2\n",
      "H1HH\n",
      "H2H1\n",
      "2219\n",
      "7\n"
     ]
    }
   ],
   "source": [
    "n,m = map(int,input().split())\n",
    "board = []\n",
    "for _ in range(n):\n",
    "    board.append(list(input()))\n",
    "    \n",
    "answer = -1\n",
    "\n",
    "visit = [[False]*m for _ in range(n)]\n",
    "dp = [[-1]*m for _ in range(n)]\n",
    "def dfs(start, cnt):\n",
    "    global answer\n",
    "    answer = max(answer,cnt)\n",
    "    y,x = start\n",
    "    dy = [0,0,-1,1]\n",
    "    dx = [-1,1,0,0]\n",
    "    v = int(board[y][x])\n",
    "    for i in range(4):\n",
    "        ny = y+(dy[i]*v)\n",
    "        nx = x+(dx[i]*v)\n",
    "        if (0<=ny<n and 0<=nx<m) and board[ny][nx]!='H' and dp[ny][nx]<cnt+1:\n",
    "            if visit[ny][nx]:\n",
    "                print(-1)\n",
    "                exit()\n",
    "            else:\n",
    "                visit[ny][nx]=True\n",
    "                dp[ny][nx]=cnt+1\n",
    "                dfs((ny,nx),cnt+1)\n",
    "                visit[ny][nx]=False\n",
    "                \n",
    "dfs((0,0),0)\n",
    "print(answer+1)"
   ]
  },
  {
   "cell_type": "code",
   "execution_count": 12,
   "metadata": {},
   "outputs": [
    {
     "data": {
      "text/plain": [
       "5"
      ]
     },
     "execution_count": 12,
     "metadata": {},
     "output_type": "execute_result"
    }
   ],
   "source": [
    "'''\n",
    "4 4\n",
    "3HH2\n",
    "H1HH\n",
    "H2H1\n",
    "2219\n",
    "8\n",
    "\n",
    "'''\n",
    "answer"
   ]
  },
  {
   "cell_type": "code",
   "execution_count": null,
   "metadata": {},
   "outputs": [],
   "source": []
  }
 ],
 "metadata": {
  "kernelspec": {
   "display_name": "Python 3",
   "language": "python",
   "name": "python3"
  },
  "language_info": {
   "codemirror_mode": {
    "name": "ipython",
    "version": 3
   },
   "file_extension": ".py",
   "mimetype": "text/x-python",
   "name": "python",
   "nbconvert_exporter": "python",
   "pygments_lexer": "ipython3",
   "version": "3.7.7"
  }
 },
 "nbformat": 4,
 "nbformat_minor": 4
}
