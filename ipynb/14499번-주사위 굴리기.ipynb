{
 "cells": [
  {
   "cell_type": "code",
   "execution_count": 39,
   "metadata": {},
   "outputs": [
    {
     "name": "stdout",
     "output_type": "stream",
     "text": [
      "2 2 1 0 1\n",
      "0 0 \n",
      "0 1\n",
      "1\n",
      "0\n"
     ]
    }
   ],
   "source": [
    "n,m,x,y,k = map(int,input().split())\n",
    "board = []\n",
    "for _ in range(n):\n",
    "    board.append(list(map(int,input().split())))\n",
    "    \n",
    "dice = [0,0,0,0,0,0] # 위, 가운데 북, 가운데 동, 가운데 남, 가운데 서, 아래\n",
    "def north():\n",
    "    temp = dice[0]\n",
    "    dice[0] = dice[4]\n",
    "    dice[4] = dice[5]\n",
    "    dice[5] = dice[1]\n",
    "    dice[1] = temp\n",
    "def south():\n",
    "    temp = dice[1]\n",
    "    dice[1] = dice[5]\n",
    "    dice[5] = dice[4]\n",
    "    dice[4] = dice[0]\n",
    "    dice[0] = temp\n",
    "def east():\n",
    "    temp = dice[0]\n",
    "    dice[0] = dice[3]\n",
    "    dice[3] = dice[5]\n",
    "    dice[5] = dice[2]\n",
    "    dice[2] = temp\n",
    "def west():\n",
    "    temp = dice[0]\n",
    "    dice[0] = dice[2]\n",
    "    dice[2] = dice[5]\n",
    "    dice[5] = dice[3]\n",
    "    dice[3] = temp\n",
    "def check(y,x):\n",
    "    if 0<=y<n and 0<=x<m:\n",
    "        return True\n",
    "    return False\n",
    "\n",
    "commands = list(map(int,input().split()))\n",
    "start = (x,y)\n",
    "d = [[],[0,1],[0,-1],[-1,0],[1,0]]\n",
    "answer = []\n",
    "for command in commands:\n",
    "    y,x = start\n",
    "    ny,nx = y+d[command][0], x+d[command][1]\n",
    "    if not check(ny,nx):\n",
    "        continue\n",
    "    \n",
    "    if command==1:\n",
    "        east()\n",
    "    elif command==2:\n",
    "        west()\n",
    "    elif command==3:\n",
    "        north()\n",
    "    elif command==4:\n",
    "        south()\n",
    "    if board[ny][nx]!=0:\n",
    "        dice[5]=board[ny][nx]\n",
    "        board[ny][nx]=0\n",
    "    else:\n",
    "        board[ny][nx] = dice[5]\n",
    "    answer.append(dice[0])\n",
    "    start = (ny,nx)\n",
    "    \n",
    "for ans in answer:\n",
    "    print(ans)"
   ]
  },
  {
   "cell_type": "code",
   "execution_count": 37,
   "metadata": {},
   "outputs": [
    {
     "data": {
      "text/plain": [
       "[]"
      ]
     },
     "execution_count": 37,
     "metadata": {},
     "output_type": "execute_result"
    }
   ],
   "source": [
    "answer"
   ]
  },
  {
   "cell_type": "code",
   "execution_count": null,
   "metadata": {},
   "outputs": [],
   "source": []
  }
 ],
 "metadata": {
  "kernelspec": {
   "display_name": "Python 3",
   "language": "python",
   "name": "python3"
  },
  "language_info": {
   "codemirror_mode": {
    "name": "ipython",
    "version": 3
   },
   "file_extension": ".py",
   "mimetype": "text/x-python",
   "name": "python",
   "nbconvert_exporter": "python",
   "pygments_lexer": "ipython3",
   "version": "3.7.7"
  }
 },
 "nbformat": 4,
 "nbformat_minor": 4
}
