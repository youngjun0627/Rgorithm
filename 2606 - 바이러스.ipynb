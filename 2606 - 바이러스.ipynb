{
 "cells": [
  {
   "cell_type": "code",
   "execution_count": 4,
   "metadata": {},
   "outputs": [
    {
     "name": "stdout",
     "output_type": "stream",
     "text": [
      "7\n",
      "6\n",
      "1 2 \n",
      "2 3\n",
      "1 5\n",
      "5 2\n",
      "5 6\n",
      "4 7\n",
      "[1, 2, 5, 3, 6]\n"
     ]
    }
   ],
   "source": [
    "from collections import deque\n",
    "\n",
    "def bfs(start,dic):\n",
    "    result = [start]\n",
    "    q = deque()\n",
    "    visit = set()\n",
    "    visit.add(start)\n",
    "    q.append(start)\n",
    "    while q:\n",
    "        cur = q.popleft()\n",
    "        for _next in dic[cur]:\n",
    "            if _next not in visit:\n",
    "                result.append(_next)\n",
    "                visit.add(_next)\n",
    "                q.append(_next)\n",
    "    return result\n",
    "\n",
    "if __name__=='__main__':\n",
    "    n = int(input())\n",
    "    dic = {}\n",
    "    for _ in range(int(input())):\n",
    "        a,b = map(int,input().split())\n",
    "        if a not in dic:\n",
    "            dic[a] = []\n",
    "        if b not in dic:\n",
    "            dic[b] = []\n",
    "        dic[a].append(b)\n",
    "        dic[b].append(a)\n",
    "\n",
    "    result = bfs(1,dic)\n",
    "    print(len(result)-1)"
   ]
  },
  {
   "cell_type": "code",
   "execution_count": null,
   "metadata": {},
   "outputs": [],
   "source": []
  }
 ],
 "metadata": {
  "kernelspec": {
   "display_name": "Python 3",
   "language": "python",
   "name": "python3"
  },
  "language_info": {
   "codemirror_mode": {
    "name": "ipython",
    "version": 3
   },
   "file_extension": ".py",
   "mimetype": "text/x-python",
   "name": "python",
   "nbconvert_exporter": "python",
   "pygments_lexer": "ipython3",
   "version": "3.7.7"
  }
 },
 "nbformat": 4,
 "nbformat_minor": 4
}
