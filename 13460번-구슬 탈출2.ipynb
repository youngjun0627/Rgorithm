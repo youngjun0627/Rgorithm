{
 "cells": [
  {
   "cell_type": "code",
   "execution_count": 71,
   "metadata": {},
   "outputs": [
    {
     "name": "stdout",
     "output_type": "stream",
     "text": [
      "2\n"
     ]
    }
   ],
   "source": [
    "def move(start,dy,dx,board):\n",
    "    y = start[0]\n",
    "    x = start[1]\n",
    "    c=0\n",
    "    while True:\n",
    "        if board[y+dy][x+dx]=='#':\n",
    "            break\n",
    "        if board[y+dy][x+dx]=='O':\n",
    "            y = y+dy\n",
    "            x = x+dx\n",
    "            break\n",
    "        y = y+dy\n",
    "        x = x+dx\n",
    "        c+=1\n",
    "    return y,x,c\n",
    "            \n",
    "answer = 11    \n",
    "\n",
    "def dfs(r,b,_board,cnt,visit):\n",
    "    global answer\n",
    "    if cnt>10:\n",
    "        return\n",
    "    dy = [0,0,-1,1]\n",
    "    dx = [-1,1,0,0]\n",
    "    visit = visit[:]\n",
    "    for i in range(4):\n",
    "        board = _board[:]\n",
    "        ry,rx,rc = move(r,dy[i],dx[i], board) # red\n",
    "        by,bx,bc = move(b,dy[i],dx[i], board) # blue\n",
    "            \n",
    "        if board[ry][rx]=='O' and board[by][bx]!='O':\n",
    "            answer=min(answer, cnt+1)\n",
    "        if board[by][bx]=='O':\n",
    "            continue\n",
    "        if board[ry][rx]!='O' and board[by][bx]!='O':\n",
    "            if ry==by and rx==bx:\n",
    "                if rc>bc:\n",
    "                    ry-=dy[i]\n",
    "                    rx-=dx[i]\n",
    "                else:\n",
    "                    by-=dy[i]\n",
    "                    bx-=dx[i]\n",
    "            if (ry,rx,by,bx) not in visit:\n",
    "                visit.append((ry,rx,by,bx))\n",
    "                board[ry][rx]='R'\n",
    "                board[by][bx]='B'\n",
    "                dfs((ry,rx), (by,bx), board, cnt+1,visit)\n",
    "\n",
    "n,m = map(int,input().split())\n",
    "board = []\n",
    "red = None\n",
    "blue = None\n",
    "for i in range(n):\n",
    "    temp = list(input())\n",
    "    for j in range(m):\n",
    "        if temp[j]=='B':\n",
    "            blue = (i,j)\n",
    "        if temp[j]=='R':\n",
    "            red = (i,j)\n",
    "    board.append(temp)\n",
    "\n",
    "visit = [(red[0],red[1],blue[0],blue[1])]\n",
    "dfs(red,blue,board,0,visit)\n",
    "\n",
    "if answer==11:\n",
    "    print(-1)\n",
    "else:\n",
    "    print(answer)"
   ]
  },
  {
   "cell_type": "markdown",
   "metadata": {},
   "source": [
    "### answer"
   ]
  },
  {
   "cell_type": "code",
   "execution_count": null,
   "metadata": {},
   "outputs": [],
   "source": []
  }
 ],
 "metadata": {
  "kernelspec": {
   "display_name": "Python 3",
   "language": "python",
   "name": "python3"
  },
  "language_info": {
   "codemirror_mode": {
    "name": "ipython",
    "version": 3
   },
   "file_extension": ".py",
   "mimetype": "text/x-python",
   "name": "python",
   "nbconvert_exporter": "python",
   "pygments_lexer": "ipython3",
   "version": "3.7.7"
  }
 },
 "nbformat": 4,
 "nbformat_minor": 4
}
