{
 "cells": [
  {
   "cell_type": "code",
   "execution_count": 7,
   "metadata": {},
   "outputs": [
    {
     "name": "stdout",
     "output_type": "stream",
     "text": [
      "o\n",
      "on\n",
      "\n",
      "\n",
      "s\n",
      "se\n",
      "sev\n",
      "seve\n",
      "\n",
      "e\n",
      "ei\n",
      "eig\n",
      "eigh\n",
      "\n"
     ]
    },
    {
     "data": {
      "text/plain": [
       "'1478'"
      ]
     },
     "execution_count": 7,
     "metadata": {},
     "output_type": "execute_result"
    }
   ],
   "source": [
    "# 1번\n",
    "def solution(s):\n",
    "    answer = ''\n",
    "    stack=''\n",
    "    dic = {'zero':0, 'one':1, 'two':2, 'three':3, 'four':4, 'five':5, 'six':6, 'seven':7, 'eight':8, 'nine':9}\n",
    "    \n",
    "    for i in s:\n",
    "        if i.isdigit():\n",
    "            answer+=i\n",
    "            \n",
    "        else:\n",
    "            stack+=i\n",
    "            if stack in dic.keys():\n",
    "                answer+=str(dic[stack])\n",
    "                stack=''\n",
    "    return int(answer)\n",
    "\n",
    "\n",
    "s = \"one4seveneight\"\n",
    "solution(s)"
   ]
  },
  {
   "cell_type": "code",
   "execution_count": 31,
   "metadata": {},
   "outputs": [],
   "source": [
    "# 2번\n",
    "from collections import deque\n",
    "\n",
    "def bfs(start,board,people):\n",
    "    q = deque()\n",
    "    cnt=0\n",
    "    visit = set()\n",
    "    q.append((0,start[0],start[1]))\n",
    "    dy = [0,0,-1,1]\n",
    "    dx = [-1,1,0,0]\n",
    "    visit.add(start)\n",
    "    result=-1\n",
    "    while q:\n",
    "        cnt,y,x = q.popleft()\n",
    "        if (y,x) in people and (y,x) != start:\n",
    "            result = cnt\n",
    "            break\n",
    "            \n",
    "        for i in range(4):\n",
    "            ny=y+dy[i]\n",
    "            nx=x+dx[i]\n",
    "            if 0<=ny<5 and 0<=nx<5 and board[ny][nx]!='X':\n",
    "                if (ny,nx) not in visit:\n",
    "                    visit.add((ny,nx))\n",
    "                    q.append((cnt+1,ny,nx))\n",
    "    \n",
    "    if result>2 or result==-1:\n",
    "        return True\n",
    "    else:\n",
    "        return False\n",
    "    \n",
    "def solution(places):\n",
    "    answer = []\n",
    "    for k in range(5):\n",
    "        people = []\n",
    "        board = [['' for _ in range(5)] for _ in range(5)]\n",
    "        for i in range(5):\n",
    "            for j in range(5):\n",
    "                if places[k][i][j]=='P':\n",
    "                    people.append((i,j))\n",
    "                board[i][j] = places[k][i][j]\n",
    "        check=True\n",
    "        for person in people:\n",
    "            if bfs(person,board,people):\n",
    "                continue\n",
    "            else:\n",
    "                check=False\n",
    "                break\n",
    "        if check:\n",
    "            answer.append(1)\n",
    "        else:\n",
    "            answer.append(0)\n",
    "        \n",
    "    return answer\n",
    "places = [[\"POOOP\", \"OXXOX\", \"OPXPX\", \"OOXOX\", \"POXXP\"], [\"POOPX\", \"OXPXP\", \"PXXXO\", \"OXXXO\", \"OOOPP\"], [\"PXOPX\", \"OXOXP\", \"OXPXX\", \"OXXXP\", \"POOXX\"], [\"OOOXX\", \"XOOOX\", \"OOOXX\", \"OXOOX\", \"OOOOO\"], [\"PXPXP\", \"XPXPX\", \"PXPXP\", \"XPXPX\", \"PXPXP\"]]\n",
    "solution(places)"
   ]
  },
  {
   "cell_type": "code",
   "execution_count": 61,
   "metadata": {},
   "outputs": [
    {
     "data": {
      "text/plain": [
       "'OOXOXOOO'"
      ]
     },
     "execution_count": 61,
     "metadata": {},
     "output_type": "execute_result"
    }
   ],
   "source": [
    "from collections import deque\n",
    "\n",
    "def solution(n, k, cmd):\n",
    "    answer = ''\n",
    "    origin_n = n\n",
    "    stack = deque()\n",
    "    for c in cmd:\n",
    "        if c.startswith('U'):\n",
    "            k-=int(c.split()[1])\n",
    "        elif c.startswith('D'):\n",
    "            k+=int(c.split()[1])\n",
    "        elif c.startswith('C'):\n",
    "            stack.appendleft(k)\n",
    "            if k==n-1:\n",
    "                k-=1\n",
    "            n-=1\n",
    "        elif c.startswith('Z'):\n",
    "            cur = stack.popleft()\n",
    "            if k>=cur:\n",
    "                k+=1\n",
    "            n+=1\n",
    "    stack = sorted(list(stack), key=lambda x : x)\n",
    "    for i in range(origin_n):\n",
    "        if i in stack:\n",
    "            answer+='X'\n",
    "        else:\n",
    "            answer+='O'\n",
    "            \n",
    "    return answer\n",
    "n=8\n",
    "k=2\n",
    "cmd = [\"D 2\",\"C\",\"U 3\",\"C\",\"D 4\",\"C\",\"U 2\",\"Z\",\"Z\",\"U 1\",\"C\"]\n",
    "solution(n,k,cmd)"
   ]
  },
  {
   "cell_type": "code",
   "execution_count": 119,
   "metadata": {},
   "outputs": [
    {
     "name": "stdout",
     "output_type": "stream",
     "text": [
      "1 0 {2: 1}\n",
      "1 9999999\n",
      "2 1 {1: 1, 3: 1}\n",
      "2 0\n",
      "2 9999999\n",
      "3 1 {}\n",
      "{1: [{2: 1}, {}], 2: [{4: 1}, {1: 1, 3: 1}], 3: [{2: 1}, {}], 4: [{}, {2: 1}]}\n",
      "[[9999999, 9999999], [0, 0], [1, 9999999], [2, 9999999], [9999999, 9999999]]\n"
     ]
    },
    {
     "data": {
      "text/plain": [
       "[9999999, 9999999]"
      ]
     },
     "execution_count": 119,
     "metadata": {},
     "output_type": "execute_result"
    }
   ],
   "source": [
    "import heapq\n",
    "\n",
    "def solution(n, start, end, roads, traps):\n",
    "    answer = 0\n",
    "    dic = {i:[{},{}] for i in range(1,n+1)}\n",
    "    for road in roads:\n",
    "        a,b,c = road\n",
    "        dic[a][0][b] = c\n",
    "        dic[b][1][a] = c\n",
    "    result = dijk(start,dic)\n",
    "    answer = result[end]\n",
    "    print(dic)\n",
    "    print(result)\n",
    "    return answer\n",
    "\n",
    "def dijk(start,dic):\n",
    "    hq = []\n",
    "    visit = set()\n",
    "    state = 0\n",
    "    visit.add((start,state))\n",
    "    result = [[9999999,9999999] for _ in range(len(dic)+1)]\n",
    "    reverses = [0 for _ in range(len(dic)+1)]\n",
    "    result[start]=[0,0]\n",
    "    heapq.heappush(hq, (0,start))\n",
    "    while hq:\n",
    "        c_dist, cur = heapq.heappop(hq)\n",
    "        state = 0\n",
    "        \n",
    "        if cur in traps:\n",
    "            reverses[cur] = int(not reverses[cur])\n",
    "            for _next in set(list(dic[cur][0].keys()) + list(dic[cur][1].keys())):\n",
    "                reverses[_next] = int(not reverses[cur])\n",
    "                \n",
    "            state = reverses[cur]\n",
    "        \n",
    "        if result[cur][state] < c_dist:\n",
    "            continue\n",
    "        print(cur,reverses[cur],dic[cur][state])\n",
    "        for _next in dic[cur][state]:\n",
    "            n_dist = c_dist + dic[cur][state][_next]\n",
    "            print(n_dist,result[_next][reverses[_next]])\n",
    "            if n_dist<result[_next][reverses[_next]] and (_next,reverses[_next]) not in visit:\n",
    "                result[_next][reverses[_next]]=n_dist\n",
    "                visit.add((_next, reverses[_next]))\n",
    "                #print(cur,_next, state, visit,n_dist, _next)\n",
    "                heapq.heappush(hq,(n_dist, _next))\n",
    "                \n",
    "    return result\n",
    "n=4\n",
    "start = 1\n",
    "end = 4\n",
    "roads = [[1, 2, 1], [3, 2, 1], [2, 4, 1]]\n",
    "traps = [2,3]\n",
    "solution(n,start,end,roads, traps)"
   ]
  },
  {
   "cell_type": "code",
   "execution_count": 69,
   "metadata": {},
   "outputs": [
    {
     "ename": "TypeError",
     "evalue": "'module' object is not callable",
     "output_type": "error",
     "traceback": [
      "\u001b[1;31m---------------------------------------------------------------------------\u001b[0m",
      "\u001b[1;31mTypeError\u001b[0m                                 Traceback (most recent call last)",
      "\u001b[1;32m<ipython-input-69-44e822d96e0a>\u001b[0m in \u001b[0;36m<module>\u001b[1;34m\u001b[0m\n\u001b[0;32m      1\u001b[0m \u001b[1;32mimport\u001b[0m \u001b[0mheapq\u001b[0m\u001b[1;33m\u001b[0m\u001b[1;33m\u001b[0m\u001b[0m\n\u001b[0;32m      2\u001b[0m \u001b[1;33m\u001b[0m\u001b[0m\n\u001b[1;32m----> 3\u001b[1;33m \u001b[0mhq\u001b[0m \u001b[1;33m=\u001b[0m \u001b[0mheapq\u001b[0m\u001b[1;33m(\u001b[0m\u001b[1;33m[\u001b[0m\u001b[1;33m]\u001b[0m\u001b[1;33m)\u001b[0m\u001b[1;33m\u001b[0m\u001b[1;33m\u001b[0m\u001b[0m\n\u001b[0m\u001b[0;32m      4\u001b[0m \u001b[0mprint\u001b[0m\u001b[1;33m(\u001b[0m\u001b[0mdir\u001b[0m\u001b[1;33m(\u001b[0m\u001b[0mhq\u001b[0m\u001b[1;33m)\u001b[0m\u001b[1;33m)\u001b[0m\u001b[1;33m\u001b[0m\u001b[1;33m\u001b[0m\u001b[0m\n",
      "\u001b[1;31mTypeError\u001b[0m: 'module' object is not callable"
     ]
    }
   ],
   "source": [
    "import heapq\n",
    "\n",
    "hq = \n",
    "print(dir(hq))"
   ]
  },
  {
   "cell_type": "code",
   "execution_count": null,
   "metadata": {},
   "outputs": [],
   "source": []
  }
 ],
 "metadata": {
  "kernelspec": {
   "display_name": "Python 3",
   "language": "python",
   "name": "python3"
  },
  "language_info": {
   "codemirror_mode": {
    "name": "ipython",
    "version": 3
   },
   "file_extension": ".py",
   "mimetype": "text/x-python",
   "name": "python",
   "nbconvert_exporter": "python",
   "pygments_lexer": "ipython3",
   "version": "3.7.7"
  }
 },
 "nbformat": 4,
 "nbformat_minor": 4
}
