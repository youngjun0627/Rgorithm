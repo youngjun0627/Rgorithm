{
 "cells": [
  {
   "cell_type": "code",
   "execution_count": 40,
   "metadata": {},
   "outputs": [
    {
     "data": {
      "text/plain": [
       "'HELLO'"
      ]
     },
     "execution_count": 40,
     "metadata": {},
     "output_type": "execute_result"
    }
   ],
   "source": [
    "def solution(m, musicinfos):\n",
    "    answer = ''\n",
    "    _name=''\n",
    "    sample = ['C', 'C#', 'D', 'D#', 'E', 'F', 'F#', 'G', 'G#', 'A', 'A#', 'B']\n",
    "    # c#을 H로 d#을 I f#을 J g#을 K a#을 M\n",
    "    result=[]\n",
    "    m=m.replace('C#','H')\n",
    "    m=m.replace('D#','I')\n",
    "    m=m.replace('F#','J')\n",
    "    m=m.replace('G#','K')\n",
    "    m=m.replace('A#','M')\n",
    "    for info in musicinfos:\n",
    "        start = info.split(',')[0]\n",
    "        end = info.split(',')[1]\n",
    "        name = info.split(',')[2]\n",
    "        melody = info.split(',')[3]\n",
    "        start = changetime(start)\n",
    "        end = changetime(end)\n",
    "        melody_length = len(melody)\n",
    "        _name=''\n",
    "        i=0\n",
    "        cnt=0\n",
    "        while cnt<(end-start):\n",
    "            if melody[(i+1)%melody_length]=='#':\n",
    "                if melody[i%melody_length]=='C':\n",
    "                    _name+='H'\n",
    "                elif melody[i%melody_length]=='D':\n",
    "                    _name+='I'\n",
    "                elif melody[i%melody_length]=='F':\n",
    "                    _name+='J'\n",
    "                elif melody[i%melody_length]=='G':\n",
    "                    _name+='K'\n",
    "                elif melody[i%melody_length]=='A':\n",
    "                    _name+='M'\n",
    "                #_name += melody[i%melody_length]+'#'\n",
    "                i+=2\n",
    "                cnt+=1\n",
    "                continue\n",
    "            _name += melody[i%melody_length]\n",
    "            i+=1\n",
    "            cnt+=1\n",
    "        #print(_name)\n",
    "        if m in _name:\n",
    "            result.append((name,start,end))\n",
    "        #print(m)\n",
    "    #print(result)\n",
    "    if len(result)==0:\n",
    "        return '(None)'\n",
    "    elif len(result)==1:\n",
    "        return result[0][0]\n",
    "    else:\n",
    "        prestart = 0\n",
    "        preend = 0\n",
    "        answer = None\n",
    "        for i, value in enumerate(result):\n",
    "            \n",
    "            if i==0:\n",
    "                prestart = value[1]\n",
    "                preend=value[2]\n",
    "                answer = value[0]\n",
    "                continue\n",
    "            elif (preend-prestart)<(value[2]-value[1]):\n",
    "                answer=value[0]\n",
    "                prestart = value[1]\n",
    "                preend=value[2]\n",
    "            elif (preend-prestart)==(value[2]-value[1]):\n",
    "                if value[1]<prestart:\n",
    "                    answer=value[0]\n",
    "                    prestart = value[1]\n",
    "                    preend=value[2]\n",
    "        \n",
    "        return answer\n",
    "            \n",
    "        \n",
    "\n",
    "def changetime(time):\n",
    "    h,m = time.split(':')\n",
    "    return int(h)*60+int(m)*1\n",
    "\n",
    "\n",
    "m='ABC'\n",
    "musicinfos=['10:00,10:14,HELLO,C#DEFGABC', '11:00,11:14,WORLD,ABCDEF']\n",
    "solution(m,musicinfos)"
   ]
  },
  {
   "cell_type": "code",
   "execution_count": 31,
   "metadata": {},
   "outputs": [],
   "source": [
    "a = 'asdasdfgaskg'\n",
    "b = 'afgakslnfsdaofbasdofdpasnfpasdasddfmdpfdmnfpsdnf'\n",
    "if a in b:\n",
    "    print('a')"
   ]
  },
  {
   "cell_type": "code",
   "execution_count": null,
   "metadata": {},
   "outputs": [],
   "source": []
  }
 ],
 "metadata": {
  "kernelspec": {
   "display_name": "Python 3",
   "language": "python",
   "name": "python3"
  },
  "language_info": {
   "codemirror_mode": {
    "name": "ipython",
    "version": 3
   },
   "file_extension": ".py",
   "mimetype": "text/x-python",
   "name": "python",
   "nbconvert_exporter": "python",
   "pygments_lexer": "ipython3",
   "version": "3.7.7"
  }
 },
 "nbformat": 4,
 "nbformat_minor": 4
}
