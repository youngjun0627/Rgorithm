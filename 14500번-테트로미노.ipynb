{
 "cells": [
  {
   "cell_type": "code",
   "execution_count": 5,
   "metadata": {},
   "outputs": [],
   "source": [
    "n, m = map(int, input().split())\n",
    "board = []\n",
    "for _ in range(n):\n",
    "    board.append(list(map(int,input().split())))\n",
    "\n",
    "tetromino = [\n",
    "    [(0,0), (0,1), (1,0), (1,1)],    \n",
    "    [(0,0), (0,1), (0,2), (0,3)],\n",
    "    [(0,0), (1,0), (2,0), (3,0)],    \n",
    "    [(0,0), (0,1), (0,2), (1,0)], \n",
    "    [(1,0), (1,1), (1,2), (0,2)],\n",
    "    [(0,0), (1,0), (1,1), (1,2)],\n",
    "    [(0,0), (0,1), (0,2), (1,2)],\n",
    "    [(0,0), (1,0), (2,0), (2,1)],\n",
    "    [(2,0), (2,1), (1,1), (0,1)],\n",
    "    [(0,0), (0,1), (1,0), (2,0)], \n",
    "    [(0,0), (0,1), (1,1), (2,1)],    \n",
    "    [(0,0), (0,1), (0,2), (1,1)],\n",
    "    [(1,0), (1,1), (1,2), (0,1)],\n",
    "    [(0,0), (1,0), (2,0), (1,1)],\n",
    "    [(1,0), (0,1), (1,1), (2,1)],\n",
    "    [(1,0), (2,0), (0,1), (1,1)],\n",
    "    [(0,0), (1,0), (1,1), (2,1)],\n",
    "    [(1,0), (0,1), (1,1), (0,2)],\n",
    "    [(0,0), (0,1), (1,1), (1,2)]\n",
    "]\n",
    "answer = 0\n",
    "for y in range(n):\n",
    "    for x in range(m):\n",
    "        for tetro in tetromino:\n",
    "            _sum = 0\n",
    "            for (dy,dx) in tetro:\n",
    "                if y+dy<n and x+dx<m:\n",
    "                    _sum += board[y+dy][x+dx]\n",
    "                else:\n",
    "                    _sum=0\n",
    "                    break\n",
    "            if _sum != 0:\n",
    "                answer = max(answer,_sum)\n",
    "print(answer)\n",
    "        "
   ]
  },
  {
   "cell_type": "code",
   "execution_count": 7,
   "metadata": {},
   "outputs": [
    {
     "data": {
      "text/plain": [
       "19"
      ]
     },
     "execution_count": 7,
     "metadata": {},
     "output_type": "execute_result"
    }
   ],
   "source": [
    "answer\n"
   ]
  },
  {
   "cell_type": "code",
   "execution_count": null,
   "metadata": {},
   "outputs": [],
   "source": []
  }
 ],
 "metadata": {
  "kernelspec": {
   "display_name": "Python 3",
   "language": "python",
   "name": "python3"
  },
  "language_info": {
   "codemirror_mode": {
    "name": "ipython",
    "version": 3
   },
   "file_extension": ".py",
   "mimetype": "text/x-python",
   "name": "python",
   "nbconvert_exporter": "python",
   "pygments_lexer": "ipython3",
   "version": "3.7.7"
  }
 },
 "nbformat": 4,
 "nbformat_minor": 4
}
