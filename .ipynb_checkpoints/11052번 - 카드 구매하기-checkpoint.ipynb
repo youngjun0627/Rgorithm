{
 "cells": [
  {
   "cell_type": "code",
   "execution_count": 53,
   "metadata": {},
   "outputs": [
    {
     "name": "stdout",
     "output_type": "stream",
     "text": [
      "5\n",
      "10 9 8 7 6\n",
      "[0, 10, 0, 0, 0, 0]\n",
      "[0, 10, 9, 0, 0, 0]\n",
      "[0, 10, 20, 0, 0, 0]\n",
      "[0, 10, 20, 8, 0, 0]\n",
      "[0, 10, 20, 30, 0, 0]\n",
      "[0, 10, 20, 30, 0, 0]\n",
      "[0, 10, 20, 30, 7, 0]\n",
      "[0, 10, 20, 30, 40, 0]\n",
      "[0, 10, 20, 30, 40, 0]\n",
      "[0, 10, 20, 30, 40, 0]\n",
      "[0, 10, 20, 30, 40, 6]\n",
      "[0, 10, 20, 30, 40, 50]\n",
      "[0, 10, 20, 30, 40, 50]\n",
      "[0, 10, 20, 30, 40, 50]\n",
      "[0, 10, 20, 30, 40, 50]\n"
     ]
    }
   ],
   "source": [
    "n = int(input())\n",
    "\n",
    "cards = list(map(int,input().split()))\n",
    "cards.insert(0,0)\n",
    "\n",
    "dp = [0 for _ in range(n+1)]\n",
    "for i in range(n+1):\n",
    "    dp[i]=cards[i]\n",
    "    for j in range(i):\n",
    "        dp[i] = max(dp[i], dp[i-j]+cards[j])\n",
    "print(dp[-1])"
   ]
  },
  {
   "cell_type": "code",
   "execution_count": 24,
   "metadata": {},
   "outputs": [
    {
     "data": {
      "text/plain": [
       "[0, 1]"
      ]
     },
     "execution_count": 24,
     "metadata": {},
     "output_type": "execute_result"
    }
   ],
   "source": [
    "dp"
   ]
  },
  {
   "cell_type": "code",
   "execution_count": null,
   "metadata": {},
   "outputs": [],
   "source": []
  }
 ],
 "metadata": {
  "kernelspec": {
   "display_name": "Python 3",
   "language": "python",
   "name": "python3"
  },
  "language_info": {
   "codemirror_mode": {
    "name": "ipython",
    "version": 3
   },
   "file_extension": ".py",
   "mimetype": "text/x-python",
   "name": "python",
   "nbconvert_exporter": "python",
   "pygments_lexer": "ipython3",
   "version": "3.7.7"
  }
 },
 "nbformat": 4,
 "nbformat_minor": 4
}
