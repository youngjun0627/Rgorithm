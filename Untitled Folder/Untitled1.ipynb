{
 "cells": [
  {
   "cell_type": "code",
   "execution_count": 29,
   "metadata": {},
   "outputs": [
    {
     "name": "stdout",
     "output_type": "stream",
     "text": [
      "{'XZ', 'AE', 'AB', 'ACD', 'ADE', 'CD', 'AD', 'XY', 'DE', 'AC', 'XYZ'}\n"
     ]
    }
   ],
   "source": [
    "from itertools import combinations\n",
    "\n",
    "def solution(orders, course):\n",
    "    answer = []\n",
    "    total_food = set()\n",
    "    for order in orders:\n",
    "        for food in order:\n",
    "            total_food.add(food)\n",
    "    #print(total_food)\n",
    "    result = []\n",
    "    for cour in course:\n",
    "        for comb in combinations(total_food,cour):\n",
    "            count=0\n",
    "            for order in orders:\n",
    "                cnt = 0\n",
    "                for c in comb:\n",
    "                    if c in order:\n",
    "                        cnt+=1\n",
    "                if cnt>=len(comb):\n",
    "                    count+=1\n",
    "            if count>=2:\n",
    "                comb = sorted(comb)\n",
    "                result.append(''.join(comb))\n",
    "    #print(result)\n",
    "    \n",
    "    for re in result:\n",
    "        temp = 0\n",
    "        for order in orders:\n",
    "            for r in re:\n",
    "                if r in order:\n",
    "                    temp+=1\n",
    "            if temp == len(re):\n",
    "                answer.append(re)\n",
    "    #print(result)\n",
    "    \n",
    "    #for order in orders:\n",
    "    #    if order in result:\n",
    "    #        answer.append(order)\n",
    "    #result = set(result)\n",
    "    #print(result)\n",
    "    answer.sort()\n",
    "    temp = answer\n",
    "    answer = []\n",
    "    for i in range(len(temp)-1):\n",
    "        for j in range(i,len(temp)):\n",
    "            if temp[i] not in temp[j]:\n",
    "                answer.append(temp[i])\n",
    "    answer = set(answer)\n",
    "    return answer\n",
    "\n",
    "orders = [\"ABCDE\", \"AB\", \"CD\", \"ADE\", \"XYZ\", \"XYZ\", \"ACD\"]\n",
    "course = [2,3,5]\n",
    "print(solution(orders,course))"
   ]
  },
  {
   "cell_type": "code",
   "execution_count": 5,
   "metadata": {},
   "outputs": [
    {
     "name": "stdout",
     "output_type": "stream",
     "text": [
      "A\n",
      "A\n",
      "C\n",
      "A\n",
      "B\n",
      "A\n",
      "['__add__', '__class__', '__contains__', '__delattr__', '__dir__', '__doc__', '__eq__', '__format__', '__ge__', '__getattribute__', '__getitem__', '__getnewargs__', '__gt__', '__hash__', '__init__', '__init_subclass__', '__iter__', '__le__', '__len__', '__lt__', '__mod__', '__mul__', '__ne__', '__new__', '__reduce__', '__reduce_ex__', '__repr__', '__rmod__', '__rmul__', '__setattr__', '__sizeof__', '__str__', '__subclasshook__', 'capitalize', 'casefold', 'center', 'count', 'encode', 'endswith', 'expandtabs', 'find', 'format', 'format_map', 'index', 'isalnum', 'isalpha', 'isascii', 'isdecimal', 'isdigit', 'isidentifier', 'islower', 'isnumeric', 'isprintable', 'isspace', 'istitle', 'isupper', 'join', 'ljust', 'lower', 'lstrip', 'maketrans', 'partition', 'replace', 'rfind', 'rindex', 'rjust', 'rpartition', 'rsplit', 'rstrip', 'split', 'splitlines', 'startswith', 'strip', 'swapcase', 'title', 'translate', 'upper', 'zfill']\n"
     ]
    }
   ],
   "source": [
    "lis = [\"ABCFG\", \"AC\", \"CDE\", \"ACDE\", \"BCFG\", \"ACDEH\"]\n",
    "for li in lis:\n",
    "    \n",
    "    \n",
    "print(dir(li))"
   ]
  },
  {
   "cell_type": "code",
   "execution_count": null,
   "metadata": {},
   "outputs": [],
   "source": []
  }
 ],
 "metadata": {
  "kernelspec": {
   "display_name": "Python 3",
   "language": "python",
   "name": "python3"
  },
  "language_info": {
   "codemirror_mode": {
    "name": "ipython",
    "version": 3
   },
   "file_extension": ".py",
   "mimetype": "text/x-python",
   "name": "python",
   "nbconvert_exporter": "python",
   "pygments_lexer": "ipython3",
   "version": "3.7.7"
  }
 },
 "nbformat": 4,
 "nbformat_minor": 4
}
