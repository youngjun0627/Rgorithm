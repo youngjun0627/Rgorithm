{
 "cells": [
  {
   "cell_type": "code",
   "execution_count": 7,
   "metadata": {},
   "outputs": [
    {
     "name": "stdout",
     "output_type": "stream",
     "text": [
      "3\n",
      "6 12 10\n",
      "402\n",
      "30 50 72\n",
      "1203\n",
      "5 10 10\n",
      "502\n"
     ]
    }
   ],
   "source": [
    "for _ in range(int(input())):\n",
    "    h,w,c = map(int,input().split())\n",
    "    a = c%h\n",
    "    if a==0:\n",
    "        a=h\n",
    "    a = str(a)\n",
    "    if c%h==0:\n",
    "        b = c//h\n",
    "    else:\n",
    "        b = c//h+1\n",
    "        \n",
    "    b = str(b)\n",
    "    if len(b)==1:\n",
    "        b = '0' + b\n",
    "    print(a+b)"
   ]
  },
  {
   "cell_type": "code",
   "execution_count": null,
   "metadata": {},
   "outputs": [],
   "source": []
  }
 ],
 "metadata": {
  "kernelspec": {
   "display_name": "Python 3",
   "language": "python",
   "name": "python3"
  },
  "language_info": {
   "codemirror_mode": {
    "name": "ipython",
    "version": 3
   },
   "file_extension": ".py",
   "mimetype": "text/x-python",
   "name": "python",
   "nbconvert_exporter": "python",
   "pygments_lexer": "ipython3",
   "version": "3.7.7"
  }
 },
 "nbformat": 4,
 "nbformat_minor": 4
}
