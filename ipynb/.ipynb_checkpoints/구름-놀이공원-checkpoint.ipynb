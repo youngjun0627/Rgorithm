{
 "cells": [
  {
   "cell_type": "code",
   "execution_count": 6,
   "metadata": {},
   "outputs": [
    {
     "name": "stdout",
     "output_type": "stream",
     "text": [
      "1\n",
      "5 3\n",
      "1 0 0 1 0\n",
      "0 1 0 0 1\n",
      "0 0 0 1 0 \n",
      "0 0 0 0 0\n",
      "0 0 1 0 0\n",
      "1\n"
     ]
    }
   ],
   "source": [
    "T = int(input())\n",
    "for _ in range(T):\n",
    "    n,k = map(int,input().split())\n",
    "    board = []\n",
    "    answer = 999999\n",
    "    for _ in range(n):\n",
    "        board.append(list(map(int,input().split())))\n",
    "    for i in range(n-k+1):\n",
    "        for j in range(n-k+1):\n",
    "            cnt=0\n",
    "            for ki in range(i,i+k):\n",
    "                for kj in range(j,j+k):\n",
    "                    if board[ki][kj]==1:\n",
    "                        cnt+=1\n",
    "            answer = min(answer, cnt)\n",
    "    print(answer)"
   ]
  },
  {
   "cell_type": "code",
   "execution_count": 5,
   "metadata": {},
   "outputs": [
    {
     "data": {
      "text/plain": [
       "1"
      ]
     },
     "execution_count": 5,
     "metadata": {},
     "output_type": "execute_result"
    }
   ],
   "source": [
    "i"
   ]
  },
  {
   "cell_type": "code",
   "execution_count": null,
   "metadata": {},
   "outputs": [],
   "source": []
  }
 ],
 "metadata": {
  "kernelspec": {
   "display_name": "Python 3",
   "language": "python",
   "name": "python3"
  },
  "language_info": {
   "codemirror_mode": {
    "name": "ipython",
    "version": 3
   },
   "file_extension": ".py",
   "mimetype": "text/x-python",
   "name": "python",
   "nbconvert_exporter": "python",
   "pygments_lexer": "ipython3",
   "version": "3.7.7"
  }
 },
 "nbformat": 4,
 "nbformat_minor": 4
}
