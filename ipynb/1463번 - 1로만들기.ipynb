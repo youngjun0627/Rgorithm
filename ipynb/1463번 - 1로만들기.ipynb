{
 "cells": [
  {
   "cell_type": "code",
   "execution_count": 31,
   "metadata": {},
   "outputs": [
    {
     "name": "stdout",
     "output_type": "stream",
     "text": [
      "11\n",
      "4\n"
     ]
    }
   ],
   "source": [
    "\n",
    "\n",
    "n = int(input())\n",
    "dp = [0 for _ in range(n+2)]\n",
    "for i in range(2,n+1):\n",
    "    dp[i]=dp[i-1]+1\n",
    "    if i%3==0:\n",
    "        dp[i] = min(dp[i//3]+1,dp[i-1]+1)\n",
    "        \n",
    "    if i%2==0:\n",
    "        dp[i] = min(dp[i//2]+1,dp[i-1]+1,dp[i])\n",
    "        \n",
    "        \n",
    "\n",
    "print(dp[n])\n",
    "    "
   ]
  },
  {
   "cell_type": "code",
   "execution_count": 3,
   "metadata": {},
   "outputs": [
    {
     "data": {
      "text/plain": [
       "2"
      ]
     },
     "execution_count": 3,
     "metadata": {},
     "output_type": "execute_result"
    }
   ],
   "source": [
    "10//5\n"
   ]
  },
  {
   "cell_type": "code",
   "execution_count": null,
   "metadata": {},
   "outputs": [],
   "source": [
    "-- 코드를 입력하세요\n",
    "SELECT INS.ANIMAL_ID, INS.ANIMAL_TYPE, INS.NAME\n",
    "FROM ANIMAL_INS AS INS\n",
    "LEFT JOIN ANIMAL_OUTS AS OUTS\n",
    "ON INS.ANIMAL_ID=OUTS.ANIMAL_ID\n",
    "WHERE SUBSTR(INS.SEX_UPON_INTAKE,1,6)='Intact'\n",
    "AND (SUBSTRING(OUTS.SEX_UPON_OUTCOME,1,6)='Spayed' OR SUBSTRING(OUTS.SEX_UPON_OUTCOME,1,8)='Neutered')\n",
    "ORDER BY INS.ANIMAL_ID"
   ]
  }
 ],
 "metadata": {
  "kernelspec": {
   "display_name": "Python 3",
   "language": "python",
   "name": "python3"
  },
  "language_info": {
   "codemirror_mode": {
    "name": "ipython",
    "version": 3
   },
   "file_extension": ".py",
   "mimetype": "text/x-python",
   "name": "python",
   "nbconvert_exporter": "python",
   "pygments_lexer": "ipython3",
   "version": "3.7.7"
  }
 },
 "nbformat": 4,
 "nbformat_minor": 4
}
