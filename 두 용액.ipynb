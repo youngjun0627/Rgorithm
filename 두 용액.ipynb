{
 "cells": [
  {
   "cell_type": "code",
   "execution_count": 22,
   "metadata": {},
   "outputs": [
    {
     "name": "stdout",
     "output_type": "stream",
     "text": [
      "4\n",
      "-3 1 2 10\n",
      "-3 2\n"
     ]
    }
   ],
   "source": [
    "import sys\n",
    "input = sys.stdin.readline\n",
    "\n",
    "n = int(input())\n",
    "arr = sorted(list(map(int, input().split())))\n",
    "\n",
    "start = 0\n",
    "end = n-1\n",
    "czero = abs(arr[start]+arr[end])\n",
    "cstart = start\n",
    "cend = end\n",
    "\n",
    "while start<end:\n",
    "    tmp = arr[start]+arr[end]\n",
    "    if abs(tmp) < czero:\n",
    "        cstart = start\n",
    "        cend = end\n",
    "        czero = abs(tmp)\n",
    "        if czero == 0:\n",
    "            break\n",
    "    if tmp > 0:\n",
    "        end -= 1\n",
    "    else:\n",
    "        start += 1\n",
    "\n",
    "print(arr[cstart], arr[cend])\n",
    "\n",
    " "
   ]
  },
  {
   "cell_type": "code",
   "execution_count": null,
   "metadata": {},
   "outputs": [],
   "source": []
  }
 ],
 "metadata": {
  "kernelspec": {
   "display_name": "Python 3",
   "language": "python",
   "name": "python3"
  },
  "language_info": {
   "codemirror_mode": {
    "name": "ipython",
    "version": 3
   },
   "file_extension": ".py",
   "mimetype": "text/x-python",
   "name": "python",
   "nbconvert_exporter": "python",
   "pygments_lexer": "ipython3",
   "version": "3.7.7"
  }
 },
 "nbformat": 4,
 "nbformat_minor": 4
}
