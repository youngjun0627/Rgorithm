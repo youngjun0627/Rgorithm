{
 "cells": [
  {
   "cell_type": "code",
   "execution_count": 15,
   "metadata": {},
   "outputs": [
    {
     "name": "stdout",
     "output_type": "stream",
     "text": [
      "1\n",
      "1,a \n",
      "1,a ,0\n"
     ]
    }
   ],
   "source": [
    "def kmp(P, T):\n",
    "    K = []\n",
    "    t = -1\n",
    "    K.append(t)\n",
    "    for k in range(1, len(P) + 1):\n",
    "        \n",
    "        while(t >= 0 and P[t] != P[k - 1]):\n",
    "            t = K[t]\n",
    "        t = t + 1\n",
    "        K.append(t)\n",
    "\n",
    "    m = 0\n",
    "    \n",
    "    result = []\n",
    "    for i in range(0, len(T)):\n",
    "        while (m >= 0 and P[m] != T[i]):\n",
    "            m = K[m]\n",
    "        m = m + 1\n",
    "        if m == len(P):\n",
    "            result.append((i - m + 1, i))\n",
    "            m = K[m]\n",
    "    return result\n",
    "\n",
    "\n",
    "n = int(input())\n",
    "\n",
    "dic={}\n",
    "for _ in range(n):\n",
    "    li = input().split(',')\n",
    "    if len(li)==1:\n",
    "        continue\n",
    "    U = int(li[0])\n",
    "    A = li[1]\n",
    "    if U in dic:\n",
    "        dic[U].append(A)\n",
    "    else:\n",
    "        dic[U]=[]\n",
    "        dic[U].append(A)\n",
    "\n",
    "check_list = ['TOSS','ZOSS','TZSS','TOZS','TOSZ','ZZSS','TZZS',\n",
    "             'TOZZ','ZOZS','ZOSZ','TZOZ','ZZZS','SZZZ','ZZZZ']\n",
    "answer=[]\n",
    "for key in dic:\n",
    "    cur_str = ''.join(dic[key])\n",
    "    cnt=0\n",
    "    result = 0\n",
    "    \n",
    "    for check_str in check_list:\n",
    "        index_list = kmp(check_str,cur_str)\n",
    "        pre_start = index_list[0][0]\n",
    "        pre_end = index_list[0][1]\n",
    "        for i in range(1,len(index_list)):\n",
    "            start = index_list[i][0]\n",
    "            end = index_list[i][1]\n",
    "            if start in range(pre_start,pre_end):\n",
    "                pre_start = start\n",
    "                pre_end = end\n",
    "                cnt+=1\n",
    "            else:\n",
    "                result = max(cnt,result)\n",
    "                cnt=0\n",
    "    answer.append((key,''.join(dic[key]),result))\n",
    "for an in answer:\n",
    "    print(str(an[0])+','+an[1]+','+str(an[2]))\n",
    "            \n",
    "            "
   ]
  },
  {
   "cell_type": "code",
   "execution_count": 35,
   "metadata": {},
   "outputs": [
    {
     "name": "stdout",
     "output_type": "stream",
     "text": [
      "dsf\n"
     ]
    },
    {
     "ename": "ValueError",
     "evalue": "invalid literal for int() with base 10: 'dsf'",
     "output_type": "error",
     "traceback": [
      "\u001b[1;31m---------------------------------------------------------------------------\u001b[0m",
      "\u001b[1;31mValueError\u001b[0m                                Traceback (most recent call last)",
      "\u001b[1;32m<ipython-input-35-de5dbc13e578>\u001b[0m in \u001b[0;36m<module>\u001b[1;34m\u001b[0m\n\u001b[0;32m     23\u001b[0m \u001b[1;33m\u001b[0m\u001b[0m\n\u001b[0;32m     24\u001b[0m \u001b[1;33m\u001b[0m\u001b[0m\n\u001b[1;32m---> 25\u001b[1;33m \u001b[0mn\u001b[0m \u001b[1;33m=\u001b[0m \u001b[0mint\u001b[0m\u001b[1;33m(\u001b[0m\u001b[0minput\u001b[0m\u001b[1;33m(\u001b[0m\u001b[1;33m)\u001b[0m\u001b[1;33m)\u001b[0m\u001b[1;33m\u001b[0m\u001b[1;33m\u001b[0m\u001b[0m\n\u001b[0m\u001b[0;32m     26\u001b[0m \u001b[1;33m\u001b[0m\u001b[0m\n\u001b[0;32m     27\u001b[0m \u001b[0mdic\u001b[0m\u001b[1;33m=\u001b[0m\u001b[1;33m{\u001b[0m\u001b[1;33m}\u001b[0m\u001b[1;33m\u001b[0m\u001b[1;33m\u001b[0m\u001b[0m\n",
      "\u001b[1;31mValueError\u001b[0m: invalid literal for int() with base 10: 'dsf'"
     ]
    }
   ],
   "source": [
    "def kmp(P, T):\n",
    "    K = []\n",
    "    t = -1\n",
    "    K.append(t)\n",
    "    for k in range(1, len(P) + 1):\n",
    "        \n",
    "        while(t >= 0 and P[t] != P[k - 1]):\n",
    "            t = K[t]\n",
    "        t = t + 1\n",
    "        K.append(t)\n",
    "\n",
    "    m = 0\n",
    "    \n",
    "    result = []\n",
    "    for i in range(0, len(T)):\n",
    "        while (m >= 0 and P[m] != T[i]):\n",
    "            m = K[m]\n",
    "        m = m + 1\n",
    "        if m == len(P):\n",
    "            result.append((i - m + 1, i))\n",
    "            m = K[m]\n",
    "    return result\n",
    "\n",
    "\n",
    "n = int(input())\n",
    "\n",
    "dic={}\n",
    "delete_index = set()\n",
    "for _ in range(n):\n",
    "    li = input().split(',')\n",
    "    if len(li)==1:\n",
    "        continue\n",
    "    U = int(li[0])\n",
    "    A = li[1]\n",
    "    if A=='X':\n",
    "        delete_index.add(U)\n",
    "        continue\n",
    "    if U in dic:\n",
    "        dic[U].append(A)\n",
    "    else:\n",
    "        dic[U]=[]\n",
    "        dic[U].append(A)\n",
    "\n",
    "\n",
    "check_list = ['TOSS','ZOSS','TZSS','TOZS','TOSZ','ZZSS','TZZS',\n",
    "             'TOZZ','ZOZS','ZOSZ','TZOZ','ZZZS','SZZZ','ZZZZ']\n",
    "answer={}\n",
    "for key in dic.keys():\n",
    "    if key in delete_index:\n",
    "        continue\n",
    "    cur_str = ''.join(dic[key])\n",
    "    cnt=0\n",
    "    result = 0\n",
    "    index_list = []\n",
    "    for check_str in check_list:\n",
    "        temp_list = kmp(check_str,cur_str)\n",
    "        index_list.extend(temp_list)\n",
    "    index_list.sort()\n",
    "    pre_start = -1\n",
    "    pre_end = -1\n",
    "    for index in index_list:\n",
    "        if pre_start == -1:\n",
    "            pre_start = index[0]\n",
    "            pre_end = index[1]\n",
    "            cnt+=1\n",
    "            continue\n",
    "        start = index[0]\n",
    "        end = index[1]\n",
    "        if start in range(pre_start,pre_end):\n",
    "            cnt+=1\n",
    "        else:\n",
    "            result = max(cnt,result)\n",
    "            cnt=0\n",
    "        \n",
    "        pre_start = start\n",
    "        pre_end = end\n",
    "    result = max(cnt,result)\n",
    "    if result==0:\n",
    "        continue\n",
    "    answer[key] = []\n",
    "    answer[key].append(''.join(dic[key]))\n",
    "    answer[key].append(result)\n",
    "answer = sorted(answer.items())\n",
    "\n",
    "for an in answer:\n",
    "    print(str(an[0])+','+an[1][0]+','+str(an[1][1]))\n",
    "            \n",
    "            "
   ]
  },
  {
   "cell_type": "code",
   "execution_count": 31,
   "metadata": {},
   "outputs": [
    {
     "name": "stdout",
     "output_type": "stream",
     "text": [
      "['__add__', '__class__', '__contains__', '__delattr__', '__delitem__', '__dir__', '__doc__', '__eq__', '__format__', '__ge__', '__getattribute__', '__getitem__', '__gt__', '__hash__', '__iadd__', '__imul__', '__init__', '__init_subclass__', '__iter__', '__le__', '__len__', '__lt__', '__mul__', '__ne__', '__new__', '__reduce__', '__reduce_ex__', '__repr__', '__reversed__', '__rmul__', '__setattr__', '__setitem__', '__sizeof__', '__str__', '__subclasshook__', 'append', 'clear', 'copy', 'count', 'extend', 'index', 'insert', 'pop', 'remove', 'reverse', 'sort']\n"
     ]
    }
   ],
   "source": [
    "print(dir(list))"
   ]
  },
  {
   "cell_type": "code",
   "execution_count": 36,
   "metadata": {},
   "outputs": [
    {
     "name": "stdout",
     "output_type": "stream",
     "text": [
      "['__class__', '__contains__', '__delattr__', '__delitem__', '__dir__', '__doc__', '__eq__', '__format__', '__ge__', '__getattribute__', '__getitem__', '__gt__', '__hash__', '__init__', '__init_subclass__', '__iter__', '__le__', '__len__', '__lt__', '__ne__', '__new__', '__reduce__', '__reduce_ex__', '__repr__', '__setattr__', '__setitem__', '__sizeof__', '__str__', '__subclasshook__', 'clear', 'copy', 'fromkeys', 'get', 'items', 'keys', 'pop', 'popitem', 'setdefault', 'update', 'values']\n"
     ]
    }
   ],
   "source": [
    "print(dir({}))"
   ]
  },
  {
   "cell_type": "code",
   "execution_count": null,
   "metadata": {},
   "outputs": [],
   "source": []
  }
 ],
 "metadata": {
  "kernelspec": {
   "display_name": "Python 3",
   "language": "python",
   "name": "python3"
  },
  "language_info": {
   "codemirror_mode": {
    "name": "ipython",
    "version": 3
   },
   "file_extension": ".py",
   "mimetype": "text/x-python",
   "name": "python",
   "nbconvert_exporter": "python",
   "pygments_lexer": "ipython3",
   "version": "3.7.7"
  }
 },
 "nbformat": 4,
 "nbformat_minor": 4
}
