{
 "cells": [
  {
   "cell_type": "code",
   "execution_count": 20,
   "metadata": {},
   "outputs": [
    {
     "name": "stdout",
     "output_type": "stream",
     "text": [
      "5 17\n",
      "5 0\n",
      "6 1\n",
      "4 1\n",
      "10 1\n",
      "7 2\n",
      "12 2\n",
      "3 2\n",
      "8 2\n",
      "11 2\n",
      "9 2\n",
      "20 2\n",
      "14 3\n",
      "13 3\n",
      "24 3\n",
      "2 3\n",
      "16 3\n",
      "22 3\n",
      "18 3\n",
      "21 3\n",
      "19 3\n",
      "40 3\n",
      "15 4\n",
      "28 4\n",
      "26 4\n",
      "25 4\n",
      "23 4\n",
      "48 4\n",
      "1 4\n",
      "17 4\n",
      "4\n"
     ]
    }
   ],
   "source": [
    "from collections import deque\n",
    "\n",
    "a,b = map(int,input().split())\n",
    "q = deque()\n",
    "q.append((a,0))\n",
    "visit=set()\n",
    "visit.add(a)\n",
    "_min = 99999999\n",
    "answer=0\n",
    "while q:\n",
    "    cur,cnt = q.popleft()\n",
    "    \n",
    "    if cur==b:\n",
    "        answer = cnt\n",
    "        break\n",
    "    \n",
    "    for _next in [cur+1,cur-1,2*cur]:\n",
    "        if _next>=0 and _next<=100000:\n",
    "            if _next not in visit:\n",
    "                visit.add(_next)\n",
    "                q.append((_next,cnt+1))\n",
    "print(answer)"
   ]
  }
 ],
 "metadata": {
  "kernelspec": {
   "display_name": "Python 3",
   "language": "python",
   "name": "python3"
  },
  "language_info": {
   "codemirror_mode": {
    "name": "ipython",
    "version": 3
   },
   "file_extension": ".py",
   "mimetype": "text/x-python",
   "name": "python",
   "nbconvert_exporter": "python",
   "pygments_lexer": "ipython3",
   "version": "3.7.7"
  }
 },
 "nbformat": 4,
 "nbformat_minor": 4
}
