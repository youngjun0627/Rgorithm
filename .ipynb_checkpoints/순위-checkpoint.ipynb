{
 "cells": [
  {
   "cell_type": "code",
   "execution_count": null,
   "metadata": {},
   "outputs": [],
   "source": [
    "def solution(n, results):\n",
    "    answer = 0\n",
    "    board = [[0 for _ in range(n+1)] for _ in range(n+1)]\n",
    "    for result in results:\n",
    "    answer = 0\n",
    "    board = [[0]for _ in range(n+1)] for _ in range(n+1)\n",
    "    for result in results:\n",
    "        i = result[0]\n",
    "        j = result[1]\n",
    "        board[i][j] = 1\n",
    "        board[j][i] = -1\n",
    "        func(board,j,i)\n",
    "        print(board)\n",
    "    return answer\n",
    "\n",
    "def func(board,i,j):\n",
    "    board[i][j]=-1\n",
    "    for idx,value in enumerate(board[i]):\n",
    "        if value == 1:\n",
    "            func(board,idx,j)\n",
    "        i = result[0]\n",
    "        j = result[1]\n",
    "        board[i][j] = 1\n",
    "        board[j][i] = -1\n",
    "        for idx,win in enumerate(board[i]):\n",
    "            if win==1:\n",
    "                board[idx][i]=-1\n",
    "    return answer"
   ]
  },
  {
   "cell_type": "code",
   "execution_count": null,
   "metadata": {
    "collapsed": true
   },
   "outputs": [],
   "source": []
  }
 ],
 "metadata": {
  "kernelspec": {
   "display_name": "Python 3",
   "language": "python",
   "name": "python3"
  },
  "language_info": {
   "codemirror_mode": {
    "name": "ipython",
    "version": 3
   },
   "file_extension": ".py",
   "mimetype": "text/x-python",
   "name": "python",
   "nbconvert_exporter": "python",
   "pygments_lexer": "ipython3",
   "version": "3.7.7"
  }
 },
 "nbformat": 4,
 "nbformat_minor": 4
}
