{
 "cells": [
  {
   "cell_type": "code",
   "execution_count": null,
   "metadata": {},
   "outputs": [],
   "source": [
    "def solution(routes):\n",
    "    if len(routes)==1:\n",
    "        return 1\n",
    "    answer = 1\n",
    "    \n",
    "    routes.sort(key=lambda x:x[0])\n",
    "    prestart = routes[0][0]\n",
    "    preend = routes[0][1]\n",
    "    for i in range(1,len(routes)):\n",
    "        start = routes[i][0]\n",
    "        end = routes[i][1]\n",
    "        \n",
    "        #print(start,end,prestart,preend)\n",
    "        if preend<start:\n",
    "            answer+=1\n",
    "            prestart=start\n",
    "            preend=end\n",
    "        if start>prestart:\n",
    "            prestart=start\n",
    "        if end<preend:\n",
    "            preend=end\n",
    "        #elif start>prestart and end<preend:\n",
    "        #    prestart=start\n",
    "        #    preend=end\n",
    "        #elif start<prestart and end>=prestart and end<=preend:\n",
    "        #elif start<prestart:\n",
    "        #    preend = end\n",
    "        #elif start>=prestart and start<=preend and end>preend:\n",
    "        #elif end>preend:\n",
    "        #    prestart=start\n",
    "        #elif start<=prestart and end>=preend:\n",
    "            #continue\n",
    "    return answer"
   ]
  }
 ],
 "metadata": {
  "kernelspec": {
   "display_name": "Python 3",
   "language": "python",
   "name": "python3"
  },
  "language_info": {
   "codemirror_mode": {
    "name": "ipython",
    "version": 3
   },
   "file_extension": ".py",
   "mimetype": "text/x-python",
   "name": "python",
   "nbconvert_exporter": "python",
   "pygments_lexer": "ipython3",
   "version": "3.7.7"
  }
 },
 "nbformat": 4,
 "nbformat_minor": 4
}
