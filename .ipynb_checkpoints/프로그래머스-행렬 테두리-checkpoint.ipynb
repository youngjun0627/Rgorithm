{
 "cells": [
  {
   "cell_type": "code",
   "execution_count": 75,
   "metadata": {},
   "outputs": [],
   "source": [
    "import copy\n",
    "\n",
    "def move(board,query):\n",
    "    dd = [(0,1),(1,0),(0,-1),(-1,0)]\n",
    "    y1, x1, y2, x2 = query\n",
    "    y1-=1\n",
    "    x1-=1\n",
    "    y2-=1\n",
    "    x2-=1\n",
    "    start = [y1,x1]\n",
    "    ends = [[y1,x2],[y2,x2],[y2,x1],[y1,x1]]\n",
    "    #result = copy.deepcopy(board)\n",
    "    _min=9999999\n",
    "    y,x = start\n",
    "    cur = board[y][x]\n",
    "    for k in range(4):\n",
    "        #cur = board[y][x]\n",
    "        d = dd[k]\n",
    "        end = ends[k]\n",
    "        while True:\n",
    "            if y==end[0] and x==end[1]:\n",
    "                break\n",
    "            #print(cur)\n",
    "            y+=d[0]\n",
    "            x+=d[1]\n",
    "            temp = board[y][x]\n",
    "            board[y][x]=cur\n",
    "            cur = temp\n",
    "            #_next = board[y+d[0]][x+d[1]]\n",
    "            #result[y+d[0]][x+d[1]] = cur\n",
    "            _min = min(_min, cur)\n",
    "    return _min\n",
    "def solution(rows, columns, queries):\n",
    "    answer = []\n",
    "    board = [[0 for _ in range(columns)] for _ in range(rows)]\n",
    "    for i in range(rows*columns):\n",
    "        board[i//columns][i%columns]=i+1\n",
    "\n",
    "    for query in queries:\n",
    "        _min = move(board,query)\n",
    "        answer.append(_min)\n",
    "        #print(board)\n",
    "    return answer\n"
   ]
  },
  {
   "cell_type": "code",
   "execution_count": 76,
   "metadata": {},
   "outputs": [
    {
     "data": {
      "text/plain": [
       "[8, 10, 25]"
      ]
     },
     "execution_count": 76,
     "metadata": {},
     "output_type": "execute_result"
    }
   ],
   "source": [
    "r,c = 6,6\n",
    "queries = [[2,2,5,4],[3,3,6,6],[5,1,6,3]]\n",
    "solution(r,c,queries)"
   ]
  },
  {
   "cell_type": "code",
   "execution_count": null,
   "metadata": {},
   "outputs": [],
   "source": []
  }
 ],
 "metadata": {
  "kernelspec": {
   "display_name": "Python 3",
   "language": "python",
   "name": "python3"
  },
  "language_info": {
   "codemirror_mode": {
    "name": "ipython",
    "version": 3
   },
   "file_extension": ".py",
   "mimetype": "text/x-python",
   "name": "python",
   "nbconvert_exporter": "python",
   "pygments_lexer": "ipython3",
   "version": "3.7.7"
  }
 },
 "nbformat": 4,
 "nbformat_minor": 4
}
