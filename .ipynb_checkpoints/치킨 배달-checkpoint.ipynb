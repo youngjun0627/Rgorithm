{
 "cells": [
  {
   "cell_type": "code",
   "execution_count": 7,
   "metadata": {},
   "outputs": [
    {
     "name": "stdout",
     "output_type": "stream",
     "text": [
      "5 2\n",
      "0 2 0 1 0\n",
      "1 0 1  0 0 \n",
      "0 0 0 0 0\n",
      "2 0 0 1 1\n",
      "2 2 0 1 2\n",
      "((0, 1), (3, 0))\n",
      "((0, 1), (4, 0))\n",
      "((0, 1), (4, 1))\n",
      "((0, 1), (4, 4))\n",
      "((3, 0), (4, 0))\n",
      "((3, 0), (4, 1))\n",
      "((3, 0), (4, 4))\n",
      "((4, 0), (4, 1))\n",
      "((4, 0), (4, 4))\n",
      "((4, 1), (4, 4))\n",
      "10\n"
     ]
    }
   ],
   "source": [
    "from itertools import combinations\n",
    "\n",
    "def getdistance(p1,p2):\n",
    "    a,b = p1\n",
    "    c,d = p2\n",
    "    return abs(a-c)+abs(b-d)\n",
    "\n",
    "start = (0,0)\n",
    "n,m = map(int,input().split())\n",
    "house = []\n",
    "chicken = []\n",
    "for i in range(n):\n",
    "    li = list(map(int,input().split()))\n",
    "    for j in range(n):\n",
    "        if li[j]==1:\n",
    "            house.append((i,j))\n",
    "        elif li[j]==2:\n",
    "            chicken.append((i,j))\n",
    "answer = 999999\n",
    "for comb in combinations(chicken,m):\n",
    "    result = 0\n",
    "    \n",
    "    for h in house:\n",
    "        _min = 99999999\n",
    "        for chi in comb:\n",
    "            distance = getdistance(h,chi)\n",
    "            if distance<_min:\n",
    "                _min = distance\n",
    "        result+=_min\n",
    "    if answer>result:\n",
    "        answer = result\n",
    "print(answer)"
   ]
  },
  {
   "cell_type": "code",
   "execution_count": null,
   "metadata": {},
   "outputs": [],
   "source": []
  }
 ],
 "metadata": {
  "kernelspec": {
   "display_name": "Python 3",
   "language": "python",
   "name": "python3"
  },
  "language_info": {
   "codemirror_mode": {
    "name": "ipython",
    "version": 3
   },
   "file_extension": ".py",
   "mimetype": "text/x-python",
   "name": "python",
   "nbconvert_exporter": "python",
   "pygments_lexer": "ipython3",
   "version": "3.7.7"
  }
 },
 "nbformat": 4,
 "nbformat_minor": 4
}
