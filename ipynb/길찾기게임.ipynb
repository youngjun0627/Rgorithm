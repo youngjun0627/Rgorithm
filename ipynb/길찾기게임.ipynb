{
 "cells": [
  {
   "cell_type": "code",
   "execution_count": 12,
   "metadata": {},
   "outputs": [
    {
     "name": "stdout",
     "output_type": "stream",
     "text": [
      "[<__main__.Graph.Node object at 0x000001F735FDBA88>, <__main__.Graph.Node object at 0x000001F735FDB908>, <__main__.Graph.Node object at 0x000001F735FDB988>, <__main__.Graph.Node object at 0x000001F735FDB808>, <__main__.Graph.Node object at 0x000001F735FDB948>, <__main__.Graph.Node object at 0x000001F735FDBA48>, <__main__.Graph.Node object at 0x000001F735FDBAC8>, <__main__.Graph.Node object at 0x000001F735FDBB08>, <__main__.Graph.Node object at 0x000001F735FDB9C8>]\n",
      "[<__main__.Graph.Node object at 0x000001F735FDBA88>, <__main__.Graph.Node object at 0x000001F735FDB908>, <__main__.Graph.Node object at 0x000001F735FDB988>, <__main__.Graph.Node object at 0x000001F735FDB808>, <__main__.Graph.Node object at 0x000001F735FDB948>, <__main__.Graph.Node object at 0x000001F735FDBA48>, <__main__.Graph.Node object at 0x000001F735FDBAC8>, <__main__.Graph.Node object at 0x000001F735FDBB08>, <__main__.Graph.Node object at 0x000001F735FDB9C8>]\n",
      "6\n",
      "5\n",
      "5\n",
      "3\n",
      "3\n",
      "3\n",
      "2\n",
      "2\n",
      "1\n"
     ]
    }
   ],
   "source": [
    "class Graph:\n",
    "    class Node:\n",
    "        def __init__(self,idx,x,y):\n",
    "            idx = idx\n",
    "            self.x = x\n",
    "            self.y = y\n",
    "            self.left = None\n",
    "            self.right = None\n",
    "    def __init__(self):\n",
    "        self.nodes = []\n",
    "        self.parent = None\n",
    "    def insert(self,idx,x,y):\n",
    "        self.nodes.append(idx,self.Node(x,y))\n",
    "    def make(self):\n",
    "        self.nodes.sort(key=lambda x: -x.y)\n",
    "        for i,node in enumerate(self.nodes):\n",
    "            idx = node.idx\n",
    "            x = node.x\n",
    "            y = node.y\n",
    "            if i==0:\n",
    "                self.parent = idx\n",
    "            _parent\n",
    "            \n",
    "        \n",
    "def solution(nodeinfo):\n",
    "    asnwer =[[]]\n",
    "    graph = Graph()\n",
    "    idx=1\n",
    "    for idx,node in enumerate(nodeinfo):\n",
    "        graph.insert(idx,node[0],node[1])\n",
    "    temp = graph.make()\n",
    "    print(temp)\n",
    "    return temp\n",
    "nodeinfo = [[5,3],[11,5],[13,3],[3,5],[6,1],[1,3],[8,6],[7,2],[2,2]]\n",
    "temp= solution(nodeinfo)\n",
    "print(temp)\n",
    "for node in temp:\n",
    "    print(node.y)"
   ]
  },
  {
   "cell_type": "code",
   "execution_count": null,
   "metadata": {},
   "outputs": [],
   "source": []
  },
  {
   "cell_type": "code",
   "execution_count": null,
   "metadata": {},
   "outputs": [],
   "source": []
  }
 ],
 "metadata": {
  "kernelspec": {
   "display_name": "Python 3",
   "language": "python",
   "name": "python3"
  },
  "language_info": {
   "codemirror_mode": {
    "name": "ipython",
    "version": 3
   },
   "file_extension": ".py",
   "mimetype": "text/x-python",
   "name": "python",
   "nbconvert_exporter": "python",
   "pygments_lexer": "ipython3",
   "version": "3.7.7"
  }
 },
 "nbformat": 4,
 "nbformat_minor": 4
}
