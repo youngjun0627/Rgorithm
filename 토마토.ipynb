{
 "cells": [
  {
   "cell_type": "code",
   "execution_count": 29,
   "metadata": {},
   "outputs": [
    {
     "name": "stdout",
     "output_type": "stream",
     "text": [
      "6 4\n",
      "1 -1 0 0 0 0\n",
      "0 -1 0 0 0 0\n",
      "0 0 0 0 -1 0\n",
      "0 0 0 0 -1 1\n",
      "(0, 0, 0)\n",
      "(3, 5, 0)\n",
      "(1, 0, 1)\n",
      "(2, 5, 1)\n",
      "(2, 0, 2)\n",
      "(1, 5, 2)\n",
      "(3, 0, 3)\n",
      "(2, 1, 3)\n",
      "(0, 5, 3)\n",
      "(1, 4, 3)\n",
      "(3, 1, 4)\n",
      "(2, 2, 4)\n",
      "(0, 4, 4)\n",
      "(1, 3, 4)\n",
      "(3, 2, 5)\n",
      "(1, 2, 5)\n",
      "(2, 3, 5)\n",
      "(0, 3, 5)\n",
      "(3, 3, 6)\n",
      "(0, 2, 6)\n",
      "6\n"
     ]
    }
   ],
   "source": [
    "from collections import deque\n",
    "M,N = map(int, input().split())\n",
    "board = []\n",
    "start = []\n",
    "for i in range(N):\n",
    "    temp = list(map(int, input().split()))\n",
    "    \n",
    "    for j in range(len(temp)):\n",
    "        if temp[j]==1:\n",
    "            start.append((i,j))\n",
    "    board.append(temp)\n",
    "\n",
    "\n",
    "dy = [1,-1,0,0]\n",
    "dx = [0,0,1,-1]\n",
    "q = deque()\n",
    "visit = set()\n",
    "for s in start:\n",
    "    q.append((s[0],s[1],0))\n",
    "    visit.add((s[0],s[1]))\n",
    "\n",
    "while q:\n",
    "    current = q.popleft()\n",
    "    #print(current)\n",
    "    cy,cx,cnt = current\n",
    "    for i in range(4):\n",
    "        ny = cy+dy[i]\n",
    "        nx = cx+dx[i]\n",
    "        if ny>=0 and ny<N and nx>=0 and nx<M:\n",
    "            if (ny,nx) not in visit:\n",
    "                visit.add((ny,nx))\n",
    "                if board[ny][nx]==0:\n",
    "                    board[ny][nx] = 1\n",
    "                    q.append((ny,nx,cnt+1))\n",
    "                \n",
    "check = True\n",
    "for i in range(N):\n",
    "    for j in range(M):\n",
    "        if board[i][j]==0:\n",
    "            check = False\n",
    "\n",
    "if check:\n",
    "    print(cnt)\n",
    "else:\n",
    "    print(-1)\n",
    "    "
   ]
  },
  {
   "cell_type": "markdown",
   "metadata": {},
   "source": [
    "# print(start)"
   ]
  },
  {
   "cell_type": "code",
   "execution_count": 30,
   "metadata": {},
   "outputs": [
    {
     "name": "stdout",
     "output_type": "stream",
     "text": [
      "{1}\n"
     ]
    }
   ],
   "source": [
    "dd =set()\n",
    "dd.add(1)\n",
    "dd.add(1)\n",
    "print(dd\n",
    "     )"
   ]
  },
  {
   "cell_type": "code",
   "execution_count": null,
   "metadata": {},
   "outputs": [],
   "source": []
  }
 ],
 "metadata": {
  "kernelspec": {
   "display_name": "Python 3",
   "language": "python",
   "name": "python3"
  },
  "language_info": {
   "codemirror_mode": {
    "name": "ipython",
    "version": 3
   },
   "file_extension": ".py",
   "mimetype": "text/x-python",
   "name": "python",
   "nbconvert_exporter": "python",
   "pygments_lexer": "ipython3",
   "version": "3.7.7"
  }
 },
 "nbformat": 4,
 "nbformat_minor": 4
}
