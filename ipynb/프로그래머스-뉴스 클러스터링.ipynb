{
 "cells": [
  {
   "cell_type": "code",
   "execution_count": 21,
   "metadata": {},
   "outputs": [],
   "source": [
    "def func(_str):\n",
    "    arr = []\n",
    "    for i in range(0,len(_str)-1):\n",
    "        if ('a'<=_str[i]<='z' or 'A'<=_str[i]<='Z') and ('a'<=_str[i+1]<='z' or 'A'<=_str[i+1]<='Z'):\n",
    "            s = _str[i].lower() + _str[i+1].lower()\n",
    "            arr.append(s)\n",
    "    return arr\n",
    "def solution(str1, str2):\n",
    "    answer = 0\n",
    "    arr1 = func(str1)\n",
    "    arr2 = func(str2)\n",
    "    _sum = arr1.union(arr2)\n",
    "    print(arr1)\n",
    "    print(arr2)\n",
    "    if len(_sum)==0:\n",
    "        return 65536\n",
    "    \n",
    "    answer = (len(arr1)+len(arr2) - len(_sum))/len(_sum)\n",
    "    \n",
    "    return int(answer*65536)"
   ]
  },
  {
   "cell_type": "code",
   "execution_count": 22,
   "metadata": {},
   "outputs": [
    {
     "name": "stdout",
     "output_type": "stream",
     "text": [
      "{'aa'}\n",
      "{'aa'}\n"
     ]
    },
    {
     "data": {
      "text/plain": [
       "65536"
      ]
     },
     "execution_count": 22,
     "metadata": {},
     "output_type": "execute_result"
    }
   ],
   "source": [
    "a = \"aa1+aa2\"\n",
    "b = \"AAAA12\"\n",
    "solution(a,b)"
   ]
  },
  {
   "cell_type": "code",
   "execution_count": null,
   "metadata": {},
   "outputs": [],
   "source": []
  }
 ],
 "metadata": {
  "kernelspec": {
   "display_name": "Python 3",
   "language": "python",
   "name": "python3"
  },
  "language_info": {
   "codemirror_mode": {
    "name": "ipython",
    "version": 3
   },
   "file_extension": ".py",
   "mimetype": "text/x-python",
   "name": "python",
   "nbconvert_exporter": "python",
   "pygments_lexer": "ipython3",
   "version": "3.7.7"
  }
 },
 "nbformat": 4,
 "nbformat_minor": 4
}
