{
 "cells": [
  {
   "cell_type": "code",
   "execution_count": null,
   "metadata": {},
   "outputs": [],
   "source": [
    "for _ in range(int(input())):\n",
    "    x1,y1,x2,y2,r1,r2 = map(int,input().split())\n",
    "    \n",
    "    math.sqrt(((y2-y1)**2) + ((x2-x1)**2))+r2\n",
    "    \n",
    "    if abs(r1+r2)<math.sqrt(((y2-y1)**2) + ((x2-x1)**2)):\n",
    "        print(0)\n",
    "    elif abs(r1+r2)==math.sqrt(((y2-y1)**2) + ((x2-x1)**2)):\n",
    "        print(1)\n",
    "    else:\n",
    "        print(2)"
   ]
  }
 ],
 "metadata": {
  "kernelspec": {
   "display_name": "Python 3",
   "language": "python",
   "name": "python3"
  },
  "language_info": {
   "codemirror_mode": {
    "name": "ipython",
    "version": 3
   },
   "file_extension": ".py",
   "mimetype": "text/x-python",
   "name": "python",
   "nbconvert_exporter": "python",
   "pygments_lexer": "ipython3",
   "version": "3.7.7"
  }
 },
 "nbformat": 4,
 "nbformat_minor": 4
}
