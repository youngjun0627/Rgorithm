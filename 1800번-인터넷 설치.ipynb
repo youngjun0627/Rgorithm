{
 "cells": [
  {
   "cell_type": "code",
   "execution_count": 52,
   "metadata": {},
   "outputs": [],
   "source": [
    "import heapq\n",
    "\n",
    "n,p,k = map(int,input().split())\n",
    "dic = {i:{} for i in range(1,n+1)}\n",
    "for _ in range(p):\n",
    "    a,b,c = map(int,input().split())\n",
    "    dic[a][b] = c\n",
    "    dic[b][a] = c\n",
    "\n",
    "    \n",
    "def dijk(start,dic,n,max_dist):\n",
    "    result = [99999999 for _ in range(n+1)]\n",
    "    result[start]=0\n",
    "    pq = [(0,start)]\n",
    "    while pq:\n",
    "        dist, cur = heapq.heappop(pq)\n",
    "        if dist>result[cur]:\n",
    "            continue\n",
    "        for _next in dic[cur]:\n",
    "            if dic[cur][_next]>max_dist:\n",
    "                if result[_next]>dist+1:\n",
    "                    result[_next]=dist+1\n",
    "                    heapq.heappush(pq,(result[_next],_next))\n",
    "            else:\n",
    "                if result[_next]>dist:\n",
    "                    result[_next]=dist\n",
    "                    heapq.heappush(pq,(result[_next],_next))\n",
    "    return result[n]\n",
    "\n",
    "def solution(dic,n):\n",
    "    _min = 0\n",
    "    _max = 10000000\n",
    "    answer = 99999999\n",
    "    while _min<=_max:\n",
    "        mid = (_min+_max)//2\n",
    "        cnt= dijk(1,dic,n,mid)\n",
    "        if  cnt>k:\n",
    "            _min=mid+1\n",
    "        else:\n",
    "            answer = min(answer,mid)\n",
    "            _max=mid-1\n",
    "    return answer\n",
    "\n",
    "answer = solution(dic,n)\n",
    "if answer==99999999:\n",
    "    print(-1)\n",
    "else:\n",
    "    print(answer)"
   ]
  },
  {
   "cell_type": "code",
   "execution_count": 53,
   "metadata": {},
   "outputs": [
    {
     "name": "stdout",
     "output_type": "stream",
     "text": [
      "[99999999, 0, 0, 0, 0, 0]\n",
      "[99999999, 0, 0, 0, 0, 0]\n",
      "[99999999, 0, 0, 0, 0, 0]\n",
      "[99999999, 0, 0, 0, 0, 0]\n",
      "[99999999, 0, 0, 0, 0, 0]\n",
      "[99999999, 0, 0, 0, 0, 0]\n",
      "[99999999, 0, 0, 0, 0, 0]\n",
      "[99999999, 0, 0, 0, 0, 0]\n",
      "[99999999, 0, 0, 0, 0, 0]\n",
      "[99999999, 0, 0, 0, 0, 0]\n",
      "[99999999, 0, 0, 0, 0, 0]\n",
      "[99999999, 0, 0, 0, 0, 0]\n",
      "[99999999, 0, 0, 0, 0, 0]\n",
      "[99999999, 0, 0, 0, 0, 0]\n",
      "[99999999, 0, 0, 0, 0, 0]\n",
      "[99999999, 0, 0, 0, 0, 0]\n",
      "[99999999, 0, 0, 0, 0, 0]\n",
      "[99999999, 0, 0, 0, 0, 0]\n",
      "[99999999, 0, 0, 0, 0, 0]\n",
      "[99999999, 0, 0, 0, 0, 0]\n",
      "[99999999, 0, 1, 1, 2, 2]\n",
      "[99999999, 0, 0, 0, 1, 1]\n",
      "[99999999, 0, 0, 0, 1, 1]\n",
      "4\n"
     ]
    }
   ],
   "source": [
    "n,p,k = 5, 7, 1\n",
    "inputs = [[1, 2, 5],\n",
    "[3, 1, 4],\n",
    "[2, 4, 8],\n",
    "[3, 2, 3],\n",
    "[5, 2, 9],\n",
    "[3, 4, 7],\n",
    "[4, 5, 6]]\n",
    "dic = {i:{} for i in range(1,n+1)}\n",
    "for i in inputs:\n",
    "    a,b,c = i\n",
    "    dic[a][b] = c\n",
    "    dic[b][a] = c\n",
    "answer = solution(dic,n)\n",
    "if answer==99999999:\n",
    "    print(-1)\n",
    "else:\n",
    "    print(answer)"
   ]
  },
  {
   "cell_type": "code",
   "execution_count": 29,
   "metadata": {},
   "outputs": [
    {
     "data": {
      "text/plain": [
       "{1: {2: 5, 3: 4},\n",
       " 2: {1: 5, 4: 8, 3: 3, 5: 9},\n",
       " 3: {1: 4, 2: 3, 4: 7},\n",
       " 4: {2: 8, 3: 7, 5: 6},\n",
       " 5: {2: 9, 4: 6}}"
      ]
     },
     "execution_count": 29,
     "metadata": {},
     "output_type": "execute_result"
    }
   ],
   "source": [
    "dic"
   ]
  },
  {
   "cell_type": "code",
   "execution_count": null,
   "metadata": {},
   "outputs": [],
   "source": []
  }
 ],
 "metadata": {
  "kernelspec": {
   "display_name": "Python 3",
   "language": "python",
   "name": "python3"
  },
  "language_info": {
   "codemirror_mode": {
    "name": "ipython",
    "version": 3
   },
   "file_extension": ".py",
   "mimetype": "text/x-python",
   "name": "python",
   "nbconvert_exporter": "python",
   "pygments_lexer": "ipython3",
   "version": "3.7.7"
  }
 },
 "nbformat": 4,
 "nbformat_minor": 4
}
