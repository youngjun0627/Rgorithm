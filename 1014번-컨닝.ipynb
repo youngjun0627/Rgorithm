{
 "cells": [
  {
   "cell_type": "code",
   "execution_count": 4,
   "metadata": {},
   "outputs": [
    {
     "name": "stdout",
     "output_type": "stream",
     "text": [
      "1\n",
      "1 1\n",
      ".\n",
      "1\n"
     ]
    }
   ],
   "source": [
    "import copy\n",
    "\n",
    "C = int(input())\n",
    "\n",
    "def check(x, cur, prev):\n",
    "    cur|=(1<<x)\n",
    "    if m==1:\n",
    "        return True\n",
    "    if x==0 and (prev&(1<<x+1) or cur&(1<<x+1)):\n",
    "        return False\n",
    "    if x==m-1 and (prev&(1<<x-1) or cur&(1<<x-1)):\n",
    "        return False\n",
    "    if x>0 and (prev&(1<<x-1) or cur&(1<<x-1)):\n",
    "        return False\n",
    "    if x<m-1 and (prev&(1<<x+1) or cur&(1<<x+1)):\n",
    "        return False\n",
    "    \n",
    "    return True\n",
    "\n",
    "\n",
    "\n",
    "def dfs(y,state):\n",
    "    global rows, dp\n",
    "    if y==n:\n",
    "        return 0\n",
    "    if dp[y][state]!=-1:\n",
    "        return dp[y][state]\n",
    "    \n",
    "    dp[y][state]=0\n",
    "    rows = []\n",
    "    generate_row(y,0,0,state, rows)\n",
    "    \n",
    "    for cur in rows:\n",
    "        cnt = 0\n",
    "        for i in range(m):\n",
    "            if cur&(1<<i):\n",
    "                cnt+=1\n",
    "        \n",
    "        dp[y][state] = max(dp[y][state], cnt+dfs(y+1,cur))\n",
    "    \n",
    "    return dp[y][state]\n",
    "\n",
    "def generate_row(y,x,cur,prev,rows):\n",
    "    \n",
    "    if x==m:\n",
    "        rows.append(cur)\n",
    "        return\n",
    "    \n",
    "    if check(x,cur,prev) and board[y][x]=='.':\n",
    "        generate_row(y,x+1, cur|(1<<x), prev,rows)\n",
    "    generate_row(y,x+1, cur, prev,rows)\n",
    "        \n",
    "    \n",
    "        \n",
    "        \n",
    "for _ in range(C):\n",
    "    \n",
    "    n,m = map(int,input().split())\n",
    "    board = []\n",
    "    for _ in range(n):\n",
    "        board.append(list(input()))\n",
    "    \n",
    "    '''\n",
    "    n,m = 10, 10\n",
    "    board = [list('....x.....'),\n",
    "list('..........'),\n",
    "list('..........'),\n",
    "list('..x.......'),\n",
    "list('..........'),\n",
    "list('x...x.x...'),\n",
    "list('.........x'),\n",
    "list('...x......'),\n",
    "list('........x.'),\n",
    "list('.x...x....')]\n",
    "    '''\n",
    "    '''\n",
    "    n,m = 3,5\n",
    "    board = [list('..x..'),\n",
    "            list('..x..'),\n",
    "            list('.xxx.')]\n",
    "    '''\n",
    "    rows=[]\n",
    "    dp = [[-1] * (1<<m) for _ in range(n)]\n",
    "    print(dfs(0,0))"
   ]
  },
  {
   "cell_type": "markdown",
   "metadata": {},
   "source": [
    "### 1<<1\n"
   ]
  },
  {
   "cell_type": "code",
   "execution_count": null,
   "metadata": {},
   "outputs": [],
   "source": []
  }
 ],
 "metadata": {
  "kernelspec": {
   "display_name": "Python 3",
   "language": "python",
   "name": "python3"
  },
  "language_info": {
   "codemirror_mode": {
    "name": "ipython",
    "version": 3
   },
   "file_extension": ".py",
   "mimetype": "text/x-python",
   "name": "python",
   "nbconvert_exporter": "python",
   "pygments_lexer": "ipython3",
   "version": "3.7.7"
  }
 },
 "nbformat": 4,
 "nbformat_minor": 4
}
