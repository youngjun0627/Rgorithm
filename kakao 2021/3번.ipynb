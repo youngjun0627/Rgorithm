{
 "cells": [
  {
   "cell_type": "code",
   "execution_count": 129,
   "metadata": {},
   "outputs": [],
   "source": [
    "from itertools import combinations\n",
    "\n",
    "def binarysearch(arr,k):\n",
    "    _min =0\n",
    "    _max = len(arr)-1\n",
    "    #print(arr)\n",
    "    if arr[_min]>k:\n",
    "        return len(arr)\n",
    "    if arr[_max]<k:\n",
    "        return 0;\n",
    "    \n",
    "    while _min<_max:\n",
    "        mid = (_min+_max)//2\n",
    "        if k<=arr[mid]:\n",
    "            _max=mid\n",
    "        else:\n",
    "            _min=mid+1\n",
    "            \n",
    "    \n",
    "    return len(arr)-_min\n",
    "\n",
    "def solution(info, query):\n",
    "    answer = []\n",
    "    dic={}\n",
    "    '''\n",
    "    dic = {'java':\n",
    "               {'backend':\n",
    "                    {'junior':\n",
    "                         {'pizza':[],'chicken':[]},\n",
    "                     'senior':\n",
    "                         {'pizza':[],'chicken':[]}\n",
    "                    },\n",
    "                'frontend':\n",
    "                    {'junior':\n",
    "                         {'pizza':[],'chicken':[]},\n",
    "                     'senior':\n",
    "                         {'pizza':[],'chicken':[]}\n",
    "                    },\n",
    "               },\n",
    "           'python':\n",
    "               {'backend':\n",
    "                    {'junior':\n",
    "                         {'pizza':[],'chicken':[]},\n",
    "                     'senior':\n",
    "                         {'pizza':[],'chicken':[]}\n",
    "                    },\n",
    "                'frontend':\n",
    "                    {'junior':\n",
    "                         {'pizza':[],'chicken':[]},\n",
    "                     'senior':\n",
    "                         {'pizza':[],'chicken':[]}\n",
    "                    },\n",
    "               },\n",
    "           'cpp':\n",
    "               {'backend':\n",
    "                    {'junior':\n",
    "                         {'pizza':[],'chicken':[]},\n",
    "                     'senior':\n",
    "                         {'pizza':[],'chicken':[]}\n",
    "                    },\n",
    "                'frontend':\n",
    "                    {'junior':\n",
    "                         {'pizza':[],'chicken':[]},\n",
    "                     'senior':\n",
    "                         {'pizza':[],'chicken':[]}\n",
    "                    },\n",
    "               }\n",
    "          }\n",
    "    '''\n",
    "    dic = {}\n",
    "    for i in info:                   # info에 대해 반복\n",
    "        temp = i.split()\n",
    "        conditions = temp[:-1]       # 조건들만 모으고, 점수 따로\n",
    "        score = int(temp[-1])  \n",
    "        for n in range(5):           # 조건들에 대해 조합을 이용해서  \n",
    "            combi = list(combinations(range(4), n))\n",
    "            for c in combi:\n",
    "                t_c = conditions.copy()\n",
    "                for v in c:          # '-'를 포함한 새로운 조건을 만들어냄.\n",
    "                    t_c[v] = '-'\n",
    "                changed_t_c = '/'.join(t_c)\n",
    "                if changed_t_c in dic:     # 모든 조건의 경우에 수에 대해 딕셔너리\n",
    "                    dic[changed_t_c].append(score)\n",
    "                else:\n",
    "                    dic[changed_t_c] = [score]\n",
    "\n",
    "    for value in dic.values():             # 딕셔너리 내 모든 값 정렬\n",
    "        value.sort()\n",
    "    '''\n",
    "    for _info in info:\n",
    "        for member in _info.split(','):\n",
    "\n",
    "            lang, job, spec, food, score = member.split()\n",
    "            \n",
    "            arr = dic[lang][job][spec][food]\n",
    "            \n",
    "            arr.append(int(score))\n",
    "            \n",
    "            arr.sort()\n",
    "    #print(dic)\n",
    "    '''\n",
    "    print(len(dic))\n",
    "    \n",
    "    for q in query:\n",
    "        arr=[]\n",
    "        for member in q.split(','):\n",
    "            \n",
    "            lang, job, spec, food, score = member.replace('and','').split()\n",
    "            arr = dic[lang+'/'+job+'/'+spec+'/'+food]\n",
    "            score = int(score)\n",
    "        if not arr:\n",
    "            answer.append(0)\n",
    "            continue\n",
    "        arr.sort()\n",
    "        #print(arr)\n",
    "        m = binarysearch(arr,score)\n",
    "            \n",
    "        answer.append(m)\n",
    "    return answer"
   ]
  },
  {
   "cell_type": "code",
   "execution_count": 130,
   "metadata": {},
   "outputs": [
    {
     "name": "stdout",
     "output_type": "stream",
     "text": [
      "54\n"
     ]
    },
    {
     "data": {
      "text/plain": [
       "[0, 5, 2, 4, 7, 8, 7, 8, 7, 8, 0, 5, 2, 4, 7, 8, 7, 8, 7, 8]"
      ]
     },
     "execution_count": 130,
     "metadata": {},
     "output_type": "execute_result"
    }
   ],
   "source": [
    "a=[\"java backend junior pizza 120\",\"java backend junior pizza 150\",\"python frontend senior chicken 210\",\"python frontend senior chicken 150\",\"cpp backend senior pizza 260\",\"java backend junior chicken 80\",\"python backend senior chicken 50\",\"python backend senior chicken 150\",\"python frontend senior chicken 150\",\"cpp backend senior pizza 260\",\"java backend junior chicken 80\",\"python backend senior chicken 50\",\"python backend senior chicken 150\"]\n",
    "b=[\"java and backend and junior and pizza 200\",\"- and - and - and chicken 120\",\"cpp and - and senior and pizza 250\",\"- and backend and senior and - 150\",\"- and - and - and chicken 60\",\"- and - and - and - 150\",\"- and - and - and chicken 60\",\"- and - and - and - 150\",\"- and - and - and chicken 60\",\"- and - and - and - 150\",\"java and backend and junior and pizza 200\",\"- and - and - and chicken 120\",\"cpp and - and senior and pizza 250\",\"- and backend and senior and - 150\",\"- and - and - and chicken 60\",\"- and - and - and - 150\",\"- and - and - and chicken 60\",\"- and - and - and - 150\",\"- and - and - and chicken 60\",\"- and - and - and - 150\"]\n",
    "solution(a,b)\n"
   ]
  },
  {
   "cell_type": "code",
   "execution_count": 116,
   "metadata": {},
   "outputs": [
    {
     "ename": "NameError",
     "evalue": "name 'dic' is not defined",
     "output_type": "error",
     "traceback": [
      "\u001b[1;31m---------------------------------------------------------------------------\u001b[0m",
      "\u001b[1;31mNameError\u001b[0m                                 Traceback (most recent call last)",
      "\u001b[1;32m<ipython-input-116-c27a91a536de>\u001b[0m in \u001b[0;36m<module>\u001b[1;34m\u001b[0m\n\u001b[1;32m----> 1\u001b[1;33m \u001b[0mprint\u001b[0m\u001b[1;33m(\u001b[0m\u001b[0mdic\u001b[0m\u001b[1;33m)\u001b[0m\u001b[1;33m\u001b[0m\u001b[1;33m\u001b[0m\u001b[0m\n\u001b[0m",
      "\u001b[1;31mNameError\u001b[0m: name 'dic' is not defined"
     ]
    }
   ],
   "source": [
    "print(dic)"
   ]
  },
  {
   "cell_type": "code",
   "execution_count": 16,
   "metadata": {},
   "outputs": [
    {
     "data": {
      "text/plain": [
       "0"
      ]
     },
     "execution_count": 16,
     "metadata": {},
     "output_type": "execute_result"
    }
   ],
   "source": [
    "arr = [1,1,1,3,4,4,6,7,9,10]\n",
    "binarysearch(arr,1)"
   ]
  },
  {
   "cell_type": "code",
   "execution_count": null,
   "metadata": {},
   "outputs": [],
   "source": []
  }
 ],
 "metadata": {
  "kernelspec": {
   "display_name": "Python 3",
   "language": "python",
   "name": "python3"
  },
  "language_info": {
   "codemirror_mode": {
    "name": "ipython",
    "version": 3
   },
   "file_extension": ".py",
   "mimetype": "text/x-python",
   "name": "python",
   "nbconvert_exporter": "python",
   "pygments_lexer": "ipython3",
   "version": "3.7.7"
  }
 },
 "nbformat": 4,
 "nbformat_minor": 4
}
