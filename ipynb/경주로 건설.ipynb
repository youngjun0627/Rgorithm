{
 "cells": [
  {
   "cell_type": "code",
   "execution_count": 54,
   "metadata": {},
   "outputs": [
    {
     "data": {
      "text/plain": [
       "2100"
      ]
     },
     "execution_count": 54,
     "metadata": {},
     "output_type": "execute_result"
    }
   ],
   "source": [
    "from collections import deque\n",
    "\n",
    "def solution(board):\n",
    "    answer = 99999999\n",
    "    dy = [0,0,-1,1]\n",
    "    dx = [1,-1,0,0]\n",
    "    N = len(board)\n",
    "    checkboard = [[99999999 for _ in range(N)] for _ in range(N)]\n",
    "    start = (0,0,0,0)\n",
    "    end=(N-1,N-1)\n",
    "    q = deque()\n",
    "    q.append(start)\n",
    "    while q:\n",
    "        cy,cx,cost,direction = q.popleft()\n",
    "        #print(cy,cx,direction,checkboard)\n",
    "        if cy==end[0] and cx == end[1]:\n",
    "            answer = min(answer,cost)\n",
    "            continue\n",
    "        for i in range(4):\n",
    "            ny = cy+dy[i]\n",
    "            nx = cx+dx[i]\n",
    "            \n",
    "            if ny>=0 and ny<N and nx>=0 and nx<N and board[ny][nx]==0:\n",
    "                if i==0 or i==1: # 좌우\n",
    "                    if cost==0:\n",
    "                        q.append((ny,nx,cost+100,0))\n",
    "                        checkboard[ny][nx]=cost+100\n",
    "                    else:\n",
    "                        if direction==1:\n",
    "                            if checkboard[ny][nx]>=cost+600:\n",
    "                                q.append((ny,nx,cost+600,0))\n",
    "                                checkboard[ny][nx]=cost+600\n",
    "                        else:\n",
    "                            if checkboard[ny][nx]>=cost+100:\n",
    "                                q.append((ny,nx,cost+100,0))\n",
    "                                checkboard[ny][nx]=cost+100\n",
    "                        \n",
    "                elif i==2 or i==3: # 상하\n",
    "                    if cost==0:\n",
    "                        q.append((ny,nx,cost+100,1))\n",
    "                        checkboard[ny][nx]=cost+100\n",
    "                    else:\n",
    "                        if direction==0:\n",
    "                            if checkboard[ny][nx]>=cost+600:\n",
    "                                q.append((ny,nx,cost+600,1))\n",
    "                                checkboard[ny][nx]=cost+600\n",
    "                        else:\n",
    "                            if checkboard[ny][nx]>=cost+100:\n",
    "                                q.append((ny,nx,cost+100,1))\n",
    "                                checkboard[ny][nx]=cost+100\n",
    "                        \n",
    "    \n",
    "    return answer\n",
    "\n",
    "board = [[0,0,1,0],[0,0,0,0],[0,1,0,1],[1,0,0,0]]\n",
    "solution(board)"
   ]
  },
  {
   "cell_type": "code",
   "execution_count": 5,
   "metadata": {},
   "outputs": [
    {
     "name": "stdout",
     "output_type": "stream",
     "text": [
      "True\n"
     ]
    }
   ],
   "source": [
    "a = True\n",
    "print(a==1)\n"
   ]
  },
  {
   "cell_type": "code",
   "execution_count": null,
   "metadata": {},
   "outputs": [],
   "source": []
  }
 ],
 "metadata": {
  "kernelspec": {
   "display_name": "Python 3",
   "language": "python",
   "name": "python3"
  },
  "language_info": {
   "codemirror_mode": {
    "name": "ipython",
    "version": 3
   },
   "file_extension": ".py",
   "mimetype": "text/x-python",
   "name": "python",
   "nbconvert_exporter": "python",
   "pygments_lexer": "ipython3",
   "version": "3.7.7"
  }
 },
 "nbformat": 4,
 "nbformat_minor": 4
}
