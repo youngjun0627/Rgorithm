{
 "cells": [
  {
   "cell_type": "code",
   "execution_count": 12,
   "metadata": {},
   "outputs": [
    {
     "name": "stdout",
     "output_type": "stream",
     "text": [
      "4 3\n",
      "1\n",
      "2\n",
      "3\n",
      "3\n",
      "2\n"
     ]
    }
   ],
   "source": [
    "k,n = map(int,input().split())\n",
    "arr = []\n",
    "for _ in range(k):\n",
    "    arr.append(int(input()))\n",
    "    \n",
    "_min=0\n",
    "_max = max(arr)\n",
    "answer=0\n",
    "\n",
    "while _min<=_max:\n",
    "    mid = (_min+_max)//2\n",
    "    \n",
    "    cnt=0\n",
    "    for a in arr:\n",
    "        if mid==0:\n",
    "            cnt+=a\n",
    "        else:\n",
    "            if a>=mid:\n",
    "                cnt+=a//mid\n",
    "    if cnt>=n:\n",
    "        _min=mid+1\n",
    "        answer=max(answer,mid)\n",
    "    else:\n",
    "        _max = mid-1\n",
    "print(answer)"
   ]
  },
  {
   "cell_type": "code",
   "execution_count": null,
   "metadata": {},
   "outputs": [],
   "source": []
  }
 ],
 "metadata": {
  "kernelspec": {
   "display_name": "Python 3",
   "language": "python",
   "name": "python3"
  },
  "language_info": {
   "codemirror_mode": {
    "name": "ipython",
    "version": 3
   },
   "file_extension": ".py",
   "mimetype": "text/x-python",
   "name": "python",
   "nbconvert_exporter": "python",
   "pygments_lexer": "ipython3",
   "version": "3.7.7"
  }
 },
 "nbformat": 4,
 "nbformat_minor": 4
}
