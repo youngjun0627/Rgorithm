{
 "cells": [
  {
   "cell_type": "code",
   "execution_count": 7,
   "metadata": {},
   "outputs": [
    {
     "name": "stdout",
     "output_type": "stream",
     "text": [
      "7\n",
      "15 11 4 8 6 10 11\n",
      "3\n"
     ]
    }
   ],
   "source": [
    "n = int(input())\n",
    "array = list(map(int, input().split()))\n",
    "\n",
    "array.reverse()\n",
    "\n",
    "dp = [1]*n\n",
    "\n",
    "for i in range(1,n):\n",
    "    for j in range(0,i):\n",
    "        if array[j] < array[i]:\n",
    "            dp[i] = max(dp[i],dp[j]+1)\n",
    "\n",
    "print(n-max(dp))"
   ]
  },
  {
   "cell_type": "code",
   "execution_count": 6,
   "metadata": {},
   "outputs": [
    {
     "name": "stdout",
     "output_type": "stream",
     "text": [
      "[1, 2, 3, 3, 1, 4, 5]\n"
     ]
    }
   ],
   "source": [
    "print(dp)"
   ]
  },
  {
   "cell_type": "code",
   "execution_count": null,
   "metadata": {},
   "outputs": [],
   "source": []
  }
 ],
 "metadata": {
  "kernelspec": {
   "display_name": "Python 3",
   "language": "python",
   "name": "python3"
  },
  "language_info": {
   "codemirror_mode": {
    "name": "ipython",
    "version": 3
   },
   "file_extension": ".py",
   "mimetype": "text/x-python",
   "name": "python",
   "nbconvert_exporter": "python",
   "pygments_lexer": "ipython3",
   "version": "3.7.7"
  }
 },
 "nbformat": 4,
 "nbformat_minor": 4
}
