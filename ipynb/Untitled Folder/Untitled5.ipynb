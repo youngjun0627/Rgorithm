{
 "cells": [
  {
   "cell_type": "code",
   "execution_count": 54,
   "metadata": {},
   "outputs": [
    {
     "name": "stdout",
     "output_type": "stream",
     "text": [
      "01:30:59\n"
     ]
    }
   ],
   "source": [
    "def solution(play_time, adv_time, logs):\n",
    "    answer = ''\n",
    "    _play_time = change(play_time)\n",
    "    _adv_time = change(adv_time)\n",
    "    if _adv_time == _play_time:\n",
    "        return '00:00:00'\n",
    "    times = [0 for _ in range(_play_time)]\n",
    "    time_list = []\n",
    "    for log in logs:\n",
    "        start_time,end_time = log_change(log)\n",
    "        time_list.append((start_time,end_time))\n",
    "        for i in range(start_time,end_time):\n",
    "            times[i]+=1\n",
    "    #print(times)\n",
    "    dic={}\n",
    "    length = len(times)\n",
    "    for time in time_list:\n",
    "        dic[time[0]] = 0\n",
    "        for i in range(time[0],time[0]+_adv_time):\n",
    "            if time[0]+_adv_time>length:\n",
    "                dic.pop(time[0])\n",
    "                break\n",
    "            if i>=length:\n",
    "                dic.pop(time[0])\n",
    "                break\n",
    "            dic[time[0]]+=times[i]\n",
    "    #print(dic)    \n",
    "    result_list = sorted(dic.items(), key=lambda x: x[1], reverse=True)\n",
    "    \n",
    "    #print(result_list)\n",
    "    temp = result_list[0][0]\n",
    "    temp1 = result_list[0][1]\n",
    "    hour,minute,second = rechange(temp)\n",
    "    if len(hour)==1:\n",
    "        hour = '0'+hour\n",
    "    if len(minute)==1:\n",
    "        minute = '0'+minute\n",
    "    if len(second)==1:\n",
    "        second = '0'+second\n",
    "    answer = hour+':'+minute+':'+second\n",
    "    #print(result_list)\n",
    "    for i in range(1,len(result_list)):\n",
    "        if temp1>result_list[i][1]:\n",
    "            break\n",
    "        else:\n",
    "            if temp>result_list[i][0]:\n",
    "                hour,minute,second = rechange(result_list[i][0])\n",
    "                if len(hour)==1:\n",
    "                    hour = '0'+hour\n",
    "                if len(minute)==1:\n",
    "                    minute = '0'+minute\n",
    "                if len(second)==1:\n",
    "                    second = '0'+second\n",
    "                answer = hour+':'+minute+':'+second\n",
    "\n",
    "        \n",
    "    \n",
    "\n",
    "    return answer\n",
    "\n",
    "def change(time):\n",
    "    a1,a2,a3 = map(int,time.split(':'))\n",
    "    a = a1*60*60+a2*60+a3\n",
    "    return a\n",
    "\n",
    "def log_change(time):\n",
    "    a,b = time.split('-')\n",
    "    a1,a2,a3 = map(int,a.split(':'))\n",
    "    b1,b2,b3 = map(int,b.split(':'))\n",
    "    a = a1*60*60+a2*60+a3\n",
    "    b = b1*60*60+b2*60+b3\n",
    "    return (a,b)\n",
    "\n",
    "def rechange(time):\n",
    "    hour = time//60//60\n",
    "    minute = time//60-(60*hour)\n",
    "    second = time-hour*60*60 -minute*60\n",
    "    return (str(hour),str(minute),str(second))\n",
    "\n",
    "play_time = \"02:03:55\"\n",
    "adv_time = \"00:14:15\"\n",
    "logs = [\"01:20:15-01:45:14\", \"00:40:31-01:00:00\", \"00:25:50-00:48:29\", \"01:30:59-01:53:29\", \"01:37:44-02:02:30\"]\n",
    "print(solution(play_time, adv_time, logs))"
   ]
  },
  {
   "cell_type": "code",
   "execution_count": 58,
   "metadata": {},
   "outputs": [
    {
     "name": "stdout",
     "output_type": "stream",
     "text": [
      "['__class__', '__contains__', '__delattr__', '__delitem__', '__dir__', '__doc__', '__eq__', '__format__', '__ge__', '__getattribute__', '__getitem__', '__gt__', '__hash__', '__init__', '__init_subclass__', '__iter__', '__le__', '__len__', '__lt__', '__ne__', '__new__', '__reduce__', '__reduce_ex__', '__repr__', '__setattr__', '__setitem__', '__sizeof__', '__str__', '__subclasshook__', 'clear', 'copy', 'fromkeys', 'get', 'items', 'keys', 'pop', 'popitem', 'setdefault', 'update', 'values']\n",
      "{}\n"
     ]
    }
   ],
   "source": [
    "print(dir(dict))\n",
    "dic = {'1':3}\n",
    "dic.pop('1')\n",
    "print(dic)"
   ]
  },
  {
   "cell_type": "code",
   "execution_count": null,
   "metadata": {},
   "outputs": [],
   "source": []
  }
 ],
 "metadata": {
  "kernelspec": {
   "display_name": "Python 3",
   "language": "python",
   "name": "python3"
  },
  "language_info": {
   "codemirror_mode": {
    "name": "ipython",
    "version": 3
   },
   "file_extension": ".py",
   "mimetype": "text/x-python",
   "name": "python",
   "nbconvert_exporter": "python",
   "pygments_lexer": "ipython3",
   "version": "3.7.7"
  }
 },
 "nbformat": 4,
 "nbformat_minor": 4
}
