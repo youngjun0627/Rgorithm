{
 "cells": [
  {
   "cell_type": "code",
   "execution_count": 54,
   "metadata": {},
   "outputs": [
    {
     "name": "stdout",
     "output_type": "stream",
     "text": [
      "5 2 6\n",
      "2 3 2 3 2\n",
      "2 3 2 3 2\n",
      "2 3 2 3 2\n",
      "2 3 2 3 2\n",
      "2 3 2 3 2\n",
      "2 1 3\n",
      "3 2 3\n",
      "86\n"
     ]
    }
   ],
   "source": [
    "import sys\n",
    "from collections import deque\n",
    "read = sys.stdin.readline\n",
    "\n",
    "\n",
    "D = [[-1, 0], [1, 0], [0, -1], [0, 1], [-1, -1], [1, -1], [-1, 1], [1, 1]]\n",
    "\n",
    "N, M, K = map(int, read().split())\n",
    "A = [list(map(int, read().split())) for _ in range(N)]\n",
    "treeInfo = [list(map(int, read().split())) for _ in range(M)]\n",
    "\n",
    "board = [[deque() for _ in range(N)] for _ in range(N)]\n",
    "nutri = [[5 for _ in range(N)] for _ in range(N)]\n",
    "\n",
    "for eachTree in treeInfo:\n",
    "    r, c, old = eachTree\n",
    "    board[r-1][c-1].append(old)\n",
    "\n",
    "\n",
    "for year in range(K):\n",
    "    temp = [[0 for _ in range(N)] for _ in range(N)]\n",
    "    for r in range(N):\n",
    "        for c in range(N):\n",
    "            treeCnt = len(board[r][c])\n",
    "            if treeCnt == 0:\n",
    "                nutri[r][c] += A[r][c] \n",
    "                continue\n",
    "\n",
    "            subNutri = 0\n",
    "            addNutri = 0\n",
    "            sliceNum = treeCnt\n",
    "\n",
    "            \n",
    "            for i in range(treeCnt):\n",
    "                \n",
    "                if subNutri + board[r][c][i] > nutri[r][c]:\n",
    "                    sliceNum = i\n",
    "                    break\n",
    "                subNutri += board[r][c][i] \n",
    "                board[r][c][i] += 1\n",
    "                \n",
    "            for i in range(sliceNum, treeCnt):\n",
    "                addNutri += (board[r][c][i]//2)\n",
    "\n",
    "            nutri[r][c] -= subNutri\n",
    "            nutri[r][c] += addNutri\n",
    "            nutri[r][c] += A[r][c]\n",
    "\n",
    "            for _ in range(treeCnt - sliceNum):\n",
    "                board[r][c].pop()\n",
    "            \n",
    "            treeCnt = len(board[r][c])\n",
    "            #가을부분.\n",
    "            for i in range(treeCnt):\n",
    "                if board[r][c][i] % 5 == 0:\n",
    "                    for j in range(8):\n",
    "                        nextR, nextC = r + D[j][0], c + D[j][1]\n",
    "                        if 0 <= nextR < N and 0 <= nextC < N:\n",
    "                            temp[nextR][nextC] += 1\n",
    "    \n",
    "    \n",
    "    for r in range(N):\n",
    "        for c in range(N):\n",
    "            if temp[r][c] > 0:\n",
    "                for _ in range(temp[r][c]):\n",
    "                    board[r][c].appendleft(1)\n",
    "\n",
    "    \n",
    "ans = 0\n",
    "for r in range(N):\n",
    "    for c in range(N):\n",
    "        ans += len(board[r][c])\n",
    "print(ans)"
   ]
  },
  {
   "cell_type": "code",
   "execution_count": 46,
   "metadata": {},
   "outputs": [
    {
     "name": "stdout",
     "output_type": "stream",
     "text": [
      "1\n",
      "2\n",
      "3\n",
      "4\n",
      "5\n",
      "[1, 3, 3, 4, 5]\n"
     ]
    }
   ],
   "source": [
    "li = [1,2,3,3,4,4,5]\n",
    "for i in li:\n",
    "    print(i)\n",
    "    if i%2==0:\n",
    "        li.remove(i)\n",
    "print(li)"
   ]
  },
  {
   "cell_type": "code",
   "execution_count": null,
   "metadata": {},
   "outputs": [],
   "source": []
  }
 ],
 "metadata": {
  "kernelspec": {
   "display_name": "Python 3",
   "language": "python",
   "name": "python3"
  },
  "language_info": {
   "codemirror_mode": {
    "name": "ipython",
    "version": 3
   },
   "file_extension": ".py",
   "mimetype": "text/x-python",
   "name": "python",
   "nbconvert_exporter": "python",
   "pygments_lexer": "ipython3",
   "version": "3.7.7"
  }
 },
 "nbformat": 4,
 "nbformat_minor": 4
}
