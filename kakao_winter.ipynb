{
 "cells": [
  {
   "cell_type": "code",
   "execution_count": 1,
   "metadata": {},
   "outputs": [
    {
     "data": {
      "text/plain": [
       "4"
      ]
     },
     "execution_count": 1,
     "metadata": {},
     "output_type": "execute_result"
    }
   ],
   "source": [
    "'''\n",
    "from collections import deque\n",
    "\n",
    "def solution(board, moves):\n",
    "    answer = 0\n",
    "    dic={}\n",
    "    for i in range(0,len(board[0])):\n",
    "        dic[i]=deque()\n",
    "    for i in range(len(board)-1,0,-1):\n",
    "        for index in range(len(board[i])):\n",
    "            if board[i][index]!=0:\n",
    "                dic[index].appendleft(board[i][index])\n",
    "    for key,value in dic.items():\n",
    "        print(key,value)\n",
    "    s = deque()\n",
    "    for m in moves:\n",
    "        if dic[m-1]:\n",
    "            cur = dic[m-1].popleft()\n",
    "            if s:\n",
    "                if s[0]==cur:\n",
    "                    s.popleft()\n",
    "                    answer+=2\n",
    "                    continue\n",
    "            s.appendleft(cur)\n",
    "            print(s)\n",
    "            \n",
    "        else:\n",
    "            continue\n",
    "        \n",
    "    return answer\n",
    "board=[[0,0,0,0,0,0],[0,0,0,1,0,3],[0,0,2,5,0,1],[0,0,2,4,4,2],[0,0,5,1,3,1]]\n",
    "\n",
    "moves=[1,4,3,4,1,2,1,4]\n",
    "solution(board,moves)\n",
    "'''\n",
    "\n",
    "from collections import deque\n",
    "\n",
    "def solution(board,moves):\n",
    "    answer=0\n",
    "    stack = deque()\n",
    "    for m in moves:\n",
    "        for i in range(len(board)):\n",
    "            if board[i][m-1]!=0:\n",
    "                if stack:\n",
    "                    if stack[0]==board[i][m-1]:\n",
    "                        stack.popleft()\n",
    "                        answer+=2\n",
    "                    else:\n",
    "                        stack.appendleft(board[i][m-1])\n",
    "                else:\n",
    "                    stack.appendleft(board[i][m-1])\n",
    "                board[i][m-1]=0\n",
    "                break\n",
    "                \n",
    "    return answer\n",
    "board=[[0,0,0,0,0],[0,0,1,0,3],[0,2,5,0,1],[4,2,4,4,2],[3,5,1,3,1]]\n",
    "\n",
    "moves=[1,5,3,5,1,2,1,4]\n",
    "solution(board,moves)"
   ]
  },
  {
   "cell_type": "code",
   "execution_count": 1,
   "metadata": {},
   "outputs": [
    {
     "data": {
      "text/plain": [
       "3"
      ]
     },
     "execution_count": 1,
     "metadata": {},
     "output_type": "execute_result"
    }
   ],
   "source": [
    "\n",
    "def combi(temp, number, calculate):\n",
    "    global result\n",
    "    if len(temp) == len(calculate):\n",
    "        temp = set(temp)\n",
    "        if temp not in result:\n",
    "            result.append(temp)\n",
    "        return\n",
    "    else:\n",
    "        for j in range(len(calculate[number])):\n",
    "            if calculate[number][j] not in temp:\n",
    "                temp.append(calculate[number][j])\n",
    "                combi(temp, number+1, calculate)\n",
    "                temp.pop()\n",
    "    \n",
    "result = []\n",
    "def solution(user_id, banned_id):\n",
    "    answer = set()\n",
    "    saver=[]\n",
    "    for ban in banned_id:\n",
    "        result = list(filter (lambda x : len(x)==len(ban),user_id))\n",
    "        \n",
    "        for index in range(len(ban)):\n",
    "            if ban[index]=='*':\n",
    "                continue\n",
    "            else:\n",
    "                for user in user_id:\n",
    "                    if user in result:\n",
    "                        if user[index]!=ban[index]:\n",
    "                            result.remove(user)\n",
    "        saver.append(result)\n",
    "    \n",
    "    \n",
    "    combi([], 0, saver)\n",
    "    return len(result)\n",
    "\n",
    "user_id = [\"frodo\", \"fradi\", \"crodo\", \"abc123\", \"frodoc\"]\n",
    "banned_id = [\"fr*d*\", \"*rodo\", \"******\", \"*****\"]\n",
    "solution(user_id,banned_id)"
   ]
  },
  {
   "cell_type": "code",
   "execution_count": 22,
   "metadata": {},
   "outputs": [
    {
     "name": "stdout",
     "output_type": "stream",
     "text": [
      "[]\n",
      "['frodo']\n",
      "['frodo', 'crodo']\n",
      "['frodo', 'crodo', 'abc123']\n",
      "['frodo', 'crodo', 'abc123', 'fradi']\n",
      "['frodo', 'crodo', 'frodoc']\n",
      "['frodo', 'crodo', 'frodoc', 'fradi']\n",
      "['fradi']\n",
      "['fradi', 'frodo']\n",
      "['fradi', 'frodo', 'abc123']\n",
      "['fradi', 'frodo', 'abc123', 'crodo']\n",
      "['fradi', 'frodo', 'frodoc']\n",
      "['fradi', 'frodo', 'frodoc', 'crodo']\n",
      "['fradi', 'crodo']\n",
      "['fradi', 'crodo', 'abc123']\n",
      "['fradi', 'crodo', 'abc123', 'frodo']\n",
      "['fradi', 'crodo', 'frodoc']\n",
      "['fradi', 'crodo', 'frodoc', 'frodo']\n"
     ]
    },
    {
     "data": {
      "text/plain": [
       "2"
      ]
     },
     "execution_count": 22,
     "metadata": {},
     "output_type": "execute_result"
    }
   ],
   "source": [
    "\n",
    "def combi(temp, number, calculate):\n",
    "    global result\n",
    "    print(temp)\n",
    "    if len(temp) == len(calculate):\n",
    "        temp = set(temp)\n",
    "        if temp not in result:\n",
    "            result.append(temp)\n",
    "        return\n",
    "    else:\n",
    "        for j in range(len(calculate[number])):\n",
    "            if calculate[number][j] not in temp:\n",
    "                temp.append(calculate[number][j])\n",
    "                combi(temp, number+1, calculate)\n",
    "                temp.pop()\n",
    "result = []\n",
    "def solution(user_id, banned_id):\n",
    "    global result\n",
    "    calculate = []\n",
    "    for ban in banned_id:\n",
    "        possible=[]\n",
    "        for user in user_id:\n",
    "            if len(ban) != len(user):\n",
    "                continue\n",
    "            else:\n",
    "                count = 0\n",
    "                for i in range(len(ban)):\n",
    "                    if user[i] == ban[i]:\n",
    "                        count+=1\n",
    "                if count == len(ban)-ban.count('*'):\n",
    "                    possible.append(user)\n",
    "        calculate.append(possible)\n",
    "    \n",
    "    combi([], 0, calculate)\n",
    "    return len(result)\n",
    "user_id = [\"frodo\", \"fradi\", \"crodo\", \"abc123\", \"frodoc\"]\n",
    "banned_id = [\"fr*d*\", \"*rodo\", \"******\", \"*****\"]\n",
    "solution(user_id,banned_id)"
   ]
  },
  {
   "cell_type": "code",
   "execution_count": 10,
   "metadata": {},
   "outputs": [
    {
     "name": "stdout",
     "output_type": "stream",
     "text": [
      "[['frodo', 'fradi'], ['frodo', 'crodo'], ['abc123', 'frodoc'], ['frodo', 'fradi', 'crodo']]\n"
     ]
    }
   ],
   "source": [
    "# 호텔방배정\n",
    "\n",
    "\n",
    "def solution(k, room_number):\n",
    "    answer = []\n",
    "    dic = {}\n",
    "    for num in room_number:\n",
    "        number = dic.get(num,0)\n",
    "        if number:\n",
    "            temp = [num]\n",
    "            while True:\n",
    "                index = number\n",
    "                number = room.get(number,0)\n",
    "                if not number:\n",
    "                    \n",
    "            \n",
    "    return answer\n"
   ]
  },
  {
   "cell_type": "code",
   "execution_count": 6,
   "metadata": {},
   "outputs": [
    {
     "name": "stdout",
     "output_type": "stream",
     "text": [
      "[2]\n",
      "[2, 4]\n",
      "[2, 4, 5]\n",
      "[2, 4, 5, 3]\n",
      "[2, 4, 5, 3, 2]\n",
      "[2, 4, 5, 3, 2, 0]\n",
      "[2, 4, 5, 3, 2, 0, 4]\n",
      "[2, 4, 5, 3, 2, 0, 4, 2]\n",
      "[2, 4, 5, 3, 2, 0, 4, 2, 5]\n",
      "[2, 4, 5, 3, 2, 0, 4, 2, 5, 0]\n",
      "[0]\n",
      "[0, 4]\n",
      "[0, 4, 5]\n",
      "[0, 4, 5, 0]\n",
      "[0, 4, 5, 0, 0]\n",
      "[0, 4, 5, 0, 0, 0]\n",
      "[0, 4, 5, 0, 0, 0, 4]\n",
      "[0, 4, 5, 0, 0, 0, 4, 0]\n",
      "[0, 4, 5, 0, 0, 0, 4, 0, 5]\n",
      "[0, 4, 5, 0, 0, 0, 4, 0, 5, 0]\n",
      "[0]\n",
      "[0, 4]\n",
      "[0, 4, 5]\n",
      "[0, 4, 5, 3]\n",
      "[0, 4, 5, 3, 0]\n",
      "[0, 4, 5, 3, 0, 0]\n",
      "[0, 4, 5, 3, 0, 0, 4]\n",
      "[0, 4, 5, 3, 0, 0, 4, 0]\n",
      "[0, 4, 5, 3, 0, 0, 4, 0, 5]\n",
      "[0, 4, 5, 3, 0, 0, 4, 0, 5, 0]\n"
     ]
    },
    {
     "data": {
      "text/plain": [
       "3"
      ]
     },
     "execution_count": 6,
     "metadata": {},
     "output_type": "execute_result"
    }
   ],
   "source": [
    "# kakao winter 징검다리\n",
    "\n",
    "def solution(stones,k):\n",
    "    answer = 0\n",
    "    _min,_max = 0,max(stones)\n",
    "    while _min<=_max:\n",
    "        mid = (_min+_max)//2\n",
    "        arr=[]\n",
    "        zero_in_row = 0\n",
    "        max_zeros = zero_in_row\n",
    "        for i in range(len(stones)):\n",
    "            if stones[i]>=mid:\n",
    "                arr.append(stones[i])\n",
    "            else:\n",
    "                arr.append(0)\n",
    "            if arr[i]==0:\n",
    "                zero_in_row+=1\n",
    "            else:\n",
    "                max_zeros = max(max_zeros,zero_in_row)\n",
    "                zero_in_row=0\n",
    "            print(arr)\n",
    "        max_zeros = max(max_zeros,zero_in_row)\n",
    "\n",
    "        if max_zeros>=k:\n",
    "            _max = mid-1\n",
    "        else:\n",
    "            answer = mid\n",
    "            _min = mid+1\n",
    "    return answer\n",
    "stones = [2, 4, 5, 3, 2, 1, 4, 2, 5, 1]\n",
    "solution(stones,3)"
   ]
  },
  {
   "cell_type": "code",
   "execution_count": null,
   "metadata": {},
   "outputs": [],
   "source": []
  }
 ],
 "metadata": {
  "kernelspec": {
   "display_name": "Python 3",
   "language": "python",
   "name": "python3"
  },
  "language_info": {
   "codemirror_mode": {
    "name": "ipython",
    "version": 3
   },
   "file_extension": ".py",
   "mimetype": "text/x-python",
   "name": "python",
   "nbconvert_exporter": "python",
   "pygments_lexer": "ipython3",
   "version": "3.7.6"
  }
 },
 "nbformat": 4,
 "nbformat_minor": 4
}
