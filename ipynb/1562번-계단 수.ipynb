{
 "cells": [
  {
   "cell_type": "code",
   "execution_count": 50,
   "metadata": {},
   "outputs": [
    {
     "name": "stdout",
     "output_type": "stream",
     "text": [
      "40\n"
     ]
    }
   ],
   "source": [
    "dp = [[[-1]*10 for _ in range(101)] for _ in range(1<<10)]\n",
    "mod = 1000000000\n",
    "n = int(input())\n",
    "def dfs(start,length, check, n):\n",
    "    if length == n:\n",
    "        if check == ((1<<10) -1):\n",
    "            return 1\n",
    "        else:\n",
    "            return 0\n",
    "    if dp[check][length][start]!=-1:\n",
    "        return dp[check][length][start]\n",
    "    dp[check][length][start]=0\n",
    "    if start==0:\n",
    "        dp[check][length][start]+=dfs(1,length+1, check|(1<<1), n)\n",
    "        dp[check][length][start]%=mod\n",
    "    elif start==9:\n",
    "        dp[check][length][start]+=dfs(8,length+1, check|(1<<8), n)\n",
    "        dp[check][length][start]%=mod\n",
    "    else:\n",
    "        dp[check][length][start]+=dfs(start-1,length+1, check|(1<<(start-1)), n)\n",
    "        dp[check][length][start]%=mod\n",
    "        dp[check][length][start]+=dfs(start+1,length+1, check|(1<<(start+1)), n)\n",
    "        dp[check][length][start]%=mod\n",
    "    return dp[check][length][start]\n",
    "\n",
    "answer = 0\n",
    "\n",
    "for i in range(1,10):\n",
    "    answer += dfs(i,1,1<<i,n)\n",
    "    answer %= mod\n",
    "    \n",
    "\n",
    "print(answer)"
   ]
  },
  {
   "cell_type": "code",
   "execution_count": null,
   "metadata": {},
   "outputs": [],
   "source": []
  }
 ],
 "metadata": {
  "kernelspec": {
   "display_name": "Python 3",
   "language": "python",
   "name": "python3"
  },
  "language_info": {
   "codemirror_mode": {
    "name": "ipython",
    "version": 3
   },
   "file_extension": ".py",
   "mimetype": "text/x-python",
   "name": "python",
   "nbconvert_exporter": "python",
   "pygments_lexer": "ipython3",
   "version": "3.7.7"
  }
 },
 "nbformat": 4,
 "nbformat_minor": 4
}
