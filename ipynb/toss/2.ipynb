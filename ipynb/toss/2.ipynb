{
 "cells": [
  {
   "cell_type": "code",
   "execution_count": 35,
   "metadata": {},
   "outputs": [
    {
     "name": "stdout",
     "output_type": "stream",
     "text": [
      "3 15\n",
      "   29   30   31   32   33   34   35   36   37   38   39   40   41   42   43\n",
      "   28   81   82   83   84   85   86   87   88   89   90   91   92   93   44\n",
      "   27   80   94   45\n",
      "   26   79   95   46\n",
      "   25   78   96   47\n",
      "   24   77   97   48\n",
      "   23   76   98   49\n",
      "   22   75   99   50\n",
      "   21   74   51\n",
      "   20   73   52\n",
      "   19   72   53\n",
      "   18   71   54\n",
      "   17   70   55\n",
      "   16   69   68   67   66   65   64   63   62   61   60   59   58   57   56\n",
      "   15   14   13   12   11   10    9    8    7    6    5    4    3    2    1\n"
     ]
    }
   ],
   "source": [
    "k,n = map(int,input().split())\n",
    "\n",
    "direct_list = [(0,1),(1,0),(0,-1),(-1,0)]\n",
    "start_list = [(0,0),(0,n-1),(n-1,n-1),(n-1,0)]\n",
    "num = 1\n",
    "board = [[0] * n for _ in range(n)]\n",
    "current_index = k-1\n",
    "start = start_list[current_index]\n",
    "cy = start[0]\n",
    "cx = start[1]\n",
    "board[cy][cx]=1\n",
    "while num<n*n:\n",
    "    direct = direct_list[current_index]\n",
    "    ny = cy + direct[0]\n",
    "    nx = cx + direct[1]\n",
    "    \n",
    "    if nx<0 or ny < 0  or nx>=n or ny>= n or board[ny][nx]!=0:\n",
    "        current_index+=1\n",
    "        if current_index>3:\n",
    "            current_index = 0\n",
    "    else:\n",
    "        num+=1\n",
    "        board[ny][nx]=num\n",
    "        cy = ny\n",
    "        cx = nx\n",
    "        \n",
    "for i in range(n):\n",
    "    string = ''\n",
    "    for j in range(n):\n",
    "        if len(str(board[i][j]))==1:\n",
    "            string  = string +\" \"+\" \"+\" \"+\" \"+str(board[i][j]) \n",
    "        elif len(str(board[i][j]))==2:\n",
    "            string  = string +\" \"+\" \"+\" \"+str(board[i][j]) \n",
    "        elif len(str(board[i][j]))==3:\n",
    "            string  = string +\" \"+\" \"+str(board[i][j]) \n",
    "        elif len(str(board[i][j]))==2:\n",
    "            string  = string +\" \"+str(board[i][j]) \n",
    "        elif len(str(board[i][j]))==1:\n",
    "            string  = string +\" \"+str(board[i][j]) \n",
    "    print(string)\n",
    "#import numpy as np\n",
    "#print(np.array(board))\n",
    "    \n",
    "        "
   ]
  },
  {
   "cell_type": "code",
   "execution_count": null,
   "metadata": {},
   "outputs": [],
   "source": []
  }
 ],
 "metadata": {
  "kernelspec": {
   "display_name": "Python 3",
   "language": "python",
   "name": "python3"
  },
  "language_info": {
   "codemirror_mode": {
    "name": "ipython",
    "version": 3
   },
   "file_extension": ".py",
   "mimetype": "text/x-python",
   "name": "python",
   "nbconvert_exporter": "python",
   "pygments_lexer": "ipython3",
   "version": "3.7.7"
  }
 },
 "nbformat": 4,
 "nbformat_minor": 4
}
