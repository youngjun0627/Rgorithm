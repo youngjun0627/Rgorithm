{
 "cells": [
  {
   "cell_type": "code",
   "execution_count": 12,
   "metadata": {},
   "outputs": [
    {
     "name": "stdout",
     "output_type": "stream",
     "text": [
      "4 8 2 \n",
      "1 2 4\n",
      "1 3 2\n",
      "1 4 7\n",
      "2 1 1\n",
      "2 3 5\n",
      "3 1 2\n",
      "3 4 4\n",
      "4 2 3\n"
     ]
    }
   ],
   "source": [
    "import heapq\n",
    "\n",
    "n,m,x = map(int,input().split())\n",
    "\n",
    "board = {i:{} for i in range(0,n)}\n",
    "for _ in range(m):\n",
    "    a,b,c = map(int,input().split())\n",
    "    board[a-1][b-1]=c\n",
    "    \n",
    "def dijk(start,board):\n",
    "    visit = [9999999 for _ in range(n)]\n",
    "    visit[start]=0\n",
    "    pq = []\n",
    "    heapq.heappush(pq,(0,start))\n",
    "    while pq:\n",
    "        distance, cur = heapq.heappop(pq)\n",
    "        if visit[cur]<distance:\n",
    "            continue\n",
    "        for _next in board[cur]:\n",
    "            next_distance = board[cur][_next]\n",
    "            next_distance += distance\n",
    "            if visit[_next] > next_distance:\n",
    "                visit[_next]=next_distance\n",
    "                heapq.heappush(pq,(next_distance,_next))\n",
    "    return visit\n",
    "\n",
    "forward_list = [0 for _ in range(n)]\n",
    "for start in range(n):\n",
    "    if start==x-1:\n",
    "        continue\n",
    "    forward_list[start] = dijk(start,board)[x-1]\n",
    "    \n",
    "back_list = dijk(x-1,board)\n",
    "answer=0\n",
    "for a,b in zip(forward_list, back_list):\n",
    "    answer = max(answer,a+b)\n",
    "print(answer)"
   ]
  },
  {
   "cell_type": "code",
   "execution_count": 13,
   "metadata": {},
   "outputs": [
    {
     "data": {
      "text/plain": [
       "10"
      ]
     },
     "execution_count": 13,
     "metadata": {},
     "output_type": "execute_result"
    }
   ],
   "source": [
    "answer"
   ]
  },
  {
   "cell_type": "code",
   "execution_count": null,
   "metadata": {},
   "outputs": [],
   "source": []
  }
 ],
 "metadata": {
  "kernelspec": {
   "display_name": "Python 3",
   "language": "python",
   "name": "python3"
  },
  "language_info": {
   "codemirror_mode": {
    "name": "ipython",
    "version": 3
   },
   "file_extension": ".py",
   "mimetype": "text/x-python",
   "name": "python",
   "nbconvert_exporter": "python",
   "pygments_lexer": "ipython3",
   "version": "3.7.7"
  }
 },
 "nbformat": 4,
 "nbformat_minor": 4
}
