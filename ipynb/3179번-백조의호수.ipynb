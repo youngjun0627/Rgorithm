{
 "cells": [
  {
   "cell_type": "code",
   "execution_count": 91,
   "metadata": {},
   "outputs": [
    {
     "name": "stdout",
     "output_type": "stream",
     "text": [
      "1 7\n",
      "LXX.XXL\n",
      "2\n"
     ]
    }
   ],
   "source": [
    "from collections import deque\n",
    "import copy\n",
    "import sys\n",
    "\n",
    "dy = [0,0,-1,1]\n",
    "dx = [-1,1,0,0]\n",
    "end=None\n",
    "ori_q = deque()\n",
    "ice_q = deque()\n",
    "\n",
    "\n",
    "r,c = map(int, input().split())\n",
    "#r,c = map(int, sys.stdin.readline().split())\n",
    "board = []\n",
    "\n",
    "for i in range(r):\n",
    "    #temp = list(sys.stdin.readline())\n",
    "    temp = list(input())\n",
    "    board.append(temp)\n",
    "    for j in range(c):\n",
    "        if temp[j]=='L':\n",
    "            if not ori_q:\n",
    "                ori_q.append((i,j))\n",
    "            else:\n",
    "                end = (i,j)\n",
    "        if temp[j]!='X':\n",
    "            ice_q.append((i,j))\n",
    "\n",
    "'''\n",
    "r,c = 4,11\n",
    "board = [list('..XXX...X..'),\n",
    "list('.X.XXX...L.'),\n",
    "list('....XXX..X.'),\n",
    "list('X.L..XXX...')\n",
    "        ]\n",
    "'''\n",
    "'''\n",
    "for i in range(r):\n",
    "    temp = board[i]\n",
    "    for j in range(c):\n",
    "        if temp[j]=='L':\n",
    "            if not ori_q:\n",
    "                ori_q.append((i,j))\n",
    "            else:\n",
    "                end = (i,j)\n",
    "        if temp[j]=='X':\n",
    "            for k in range(4):\n",
    "                _i, _j = i+dy[k], j+dx[k]\n",
    "                if 0<=_i<r and 0<=_j<c and board[_i][_j]=='.':\n",
    "                    ice_q.append((i,j))\n",
    "'''\n",
    "\n",
    "                    \n",
    "ice_visit = [[False] * c for _ in range(r)]\n",
    "ori_visit = [[False] * c for _ in range(r)]\n",
    "def bfs(ori_q, ice_q, end):\n",
    "    global ori_visit, ice_visit\n",
    "    check = False\n",
    "    next_ori_q = deque()\n",
    "    next_ice_q = deque()\n",
    "    \n",
    "    while ice_q:\n",
    "        y,x = ice_q.popleft()\n",
    "        if board[y][x]  == 'X':\n",
    "            board[y][x] = '.'\n",
    "        for i in range(4):\n",
    "            ny = y+dy[i]\n",
    "            nx = x+dx[i]\n",
    "            if 0<=ny<r and 0<=nx<c and not ice_visit[ny][nx]:\n",
    "                if board[ny][nx]=='X':\n",
    "                    next_ice_q.append((ny,nx))\n",
    "                else:\n",
    "                    ice_q.append((ny,nx))\n",
    "                ice_visit[ny][nx] = True\n",
    "                    \n",
    "    while ori_q:\n",
    "        y,x = ori_q.popleft()\n",
    "        if y==end[0] and x==end[1]:\n",
    "            check = True\n",
    "            break\n",
    "        for i in range(4):\n",
    "            ny = y+dy[i]\n",
    "            nx = x+dx[i]\n",
    "            if 0<=ny<r and 0<=nx<c and not ori_visit[ny][nx]:\n",
    "                if board[ny][nx]=='X':\n",
    "                    next_ori_q.append((ny,nx))\n",
    "                else:\n",
    "                    ori_q.append((ny,nx))\n",
    "                ori_visit[ny][nx]=True\n",
    "    \n",
    "    return check, next_ori_q, next_ice_q\n",
    "\n",
    "\n",
    "answer = 0\n",
    "\n",
    "\n",
    "\n",
    "while True:\n",
    "    check, ori_q, ice_q = bfs(ori_q,ice_q,end)\n",
    "    #print(check, ori_q, ice_q)\n",
    "    if check:\n",
    "        break\n",
    "    answer+=1\n",
    "    #ori_q = copy.deepcopy(next_ori_q)\n",
    "    #ice_q = copy.deepcopy(next_ice_q)\n",
    "print(answer)\n"
   ]
  },
  {
   "cell_type": "code",
   "execution_count": 81,
   "metadata": {},
   "outputs": [
    {
     "data": {
      "text/plain": [
       "[['.', 'L'],\n",
       " ['.', '.'],\n",
       " ['.', '.'],\n",
       " ['X', 'X'],\n",
       " ['X', 'X'],\n",
       " ['X', 'X'],\n",
       " ['X', 'X'],\n",
       " ['.', '.'],\n",
       " ['.', '.'],\n",
       " ['.', 'L']]"
      ]
     },
     "execution_count": 81,
     "metadata": {},
     "output_type": "execute_result"
    }
   ],
   "source": [
    "board"
   ]
  },
  {
   "cell_type": "code",
   "execution_count": 76,
   "metadata": {},
   "outputs": [
    {
     "data": {
      "text/plain": [
       "deque([])"
      ]
     },
     "execution_count": 76,
     "metadata": {},
     "output_type": "execute_result"
    }
   ],
   "source": [
    "ice_q"
   ]
  },
  {
   "cell_type": "code",
   "execution_count": null,
   "metadata": {},
   "outputs": [],
   "source": []
  }
 ],
 "metadata": {
  "kernelspec": {
   "display_name": "Python 3",
   "language": "python",
   "name": "python3"
  },
  "language_info": {
   "codemirror_mode": {
    "name": "ipython",
    "version": 3
   },
   "file_extension": ".py",
   "mimetype": "text/x-python",
   "name": "python",
   "nbconvert_exporter": "python",
   "pygments_lexer": "ipython3",
   "version": "3.7.7"
  }
 },
 "nbformat": 4,
 "nbformat_minor": 4
}
