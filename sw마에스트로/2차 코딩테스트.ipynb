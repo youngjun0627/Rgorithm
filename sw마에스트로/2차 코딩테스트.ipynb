{
 "cells": [
  {
   "cell_type": "code",
   "execution_count": 6,
   "metadata": {},
   "outputs": [
    {
     "name": "stdout",
     "output_type": "stream",
     "text": [
      "2\n",
      "5 6\n",
      "5 6\n",
      "0 0 1 0 2 0\n",
      "1 0 1 0 0 0\n",
      "0 0 1 1 1 0\n",
      "0 3 0 1 0 0\n",
      "4 0 0 0 0 0\n",
      "1\n",
      "5 6\n",
      "5 6\n",
      "0 0 1 0 2 0\n",
      "1 0 1 0 0 0\n",
      "0 0  1 1 1 0\n",
      "0 3 0 1 0 0\n",
      "4 0 0 1 0 0\n",
      "0\n"
     ]
    }
   ],
   "source": [
    "# 보물상자를 열수 있으면 이라고 되어있으니깐 하나로 생각해도될듯\n",
    "from collections import deque\n",
    "\n",
    "def bfs(start,end,board,n,m):\n",
    "    q = deque()\n",
    "    q.append(start)\n",
    "    visit = set()\n",
    "    visit.add(start)\n",
    "    dy = [0,1,-1,0]\n",
    "    dx = [1,0,0,-1]\n",
    "    check=False\n",
    "    while q:\n",
    "        cy, cx = q.popleft()\n",
    "        if cy==end[0] and cx==end[1]:\n",
    "            check=True\n",
    "            break\n",
    "        for i in range(4):\n",
    "            ny = cy+dy[i]\n",
    "            nx = cx+dx[i]\n",
    "            if ny>=0 and ny<n and nx>=0 and nx<m and board[ny][nx]!=1:\n",
    "                if (ny,nx) not in visit:\n",
    "                    visit.add((ny,nx))\n",
    "                    q.append((ny,nx))\n",
    "    return check\n",
    "\n",
    "if __name__=='__main__':\n",
    "    test_case = int(input())\n",
    "    \n",
    "    for _ in range(test_case):\n",
    "        n,m = map(int,input().split())\n",
    "        print(n,m)\n",
    "        board = []\n",
    "        for i in range(n):\n",
    "            temp = list(map(int,input().split()))\n",
    "            for j in range(m):\n",
    "                if temp[j]==3:\n",
    "                    start = (i,j)\n",
    "                elif temp[j]==2:\n",
    "                    v2 = (i,j)\n",
    "                elif temp[j]==4:\n",
    "                    v1 = (i,j)\n",
    "            board.append(temp)\n",
    "        result = bfs(start,v1,board,n,m)\n",
    "        if result:\n",
    "            answer = bfs(v1,v2,board,n,m)\n",
    "            if answer:\n",
    "                print(1)\n",
    "            else:\n",
    "                print(0)\n",
    "        else:\n",
    "            print(0)"
   ]
  },
  {
   "cell_type": "code",
   "execution_count": 2,
   "metadata": {},
   "outputs": [
    {
     "name": "stdout",
     "output_type": "stream",
     "text": [
      "10\n",
      "3 5 -1 -2 4 4 3 -2 -3 -2\n",
      "[3, 3, 0, 3, 0, 3, 3, 3, 0, 3]\n",
      "[3, 3, 1, 3, 0, 3, 3, 3, 0, 3]\n",
      "[3, 3, 1, 3, 1, 3, 3, 3, 1, 3]\n",
      "3\n"
     ]
    }
   ],
   "source": [
    "\n",
    "if __name__==\"__main__\":\n",
    "    n = int(input())\n",
    "    foots = list(map(int,input().split()))\n",
    "\n",
    "    visit = [0 for _ in range(n)]\n",
    "    answer = 0\n",
    "    for idx,foot in enumerate(foots):\n",
    "        if visit[idx]!=0:\n",
    "            continue\n",
    "        start_idx = idx\n",
    "        cnt=1\n",
    "        arr = []\n",
    "        result = 0\n",
    "        while True:\n",
    "            #print('start',start_idx)\n",
    "            if visit[start_idx]!=0:\n",
    "                if start_idx not in arr:\n",
    "                    result = visit[start_idx]\n",
    "                else:\n",
    "                    result = len(arr)-arr.index(start_idx)\n",
    "                    for a in arr:\n",
    "                        visit[a]=result\n",
    "                break\n",
    "            visit[start_idx]=1\n",
    "            arr.append(start_idx)\n",
    "            next_idx = start_idx+foots[start_idx]\n",
    "            #start_idx = foots[next_idx]\n",
    "            start_idx = next_idx\n",
    "            cnt+=1\n",
    "        print(visit)\n",
    "        answer = max(answer,result)\n",
    "        #print(result)\n",
    "    print(answer)\n"
   ]
  },
  {
   "cell_type": "code",
   "execution_count": 3,
   "metadata": {},
   "outputs": [
    {
     "data": {
      "text/plain": [
       "[4, 8]"
      ]
     },
     "execution_count": 3,
     "metadata": {},
     "output_type": "execute_result"
    }
   ],
   "source": [
    "arr"
   ]
  },
  {
   "cell_type": "code",
   "execution_count": 1,
   "metadata": {},
   "outputs": [
    {
     "name": "stdout",
     "output_type": "stream",
     "text": [
      "8\n",
      "2 4 5 6 1 2 5 3\n",
      "2 4 5 6 1 2 5 3\n",
      "2 4 5 6 1 2 5 3\n",
      "2 4 5 6 1 2 5 3\n",
      "9 10 23 1 11 22 34 7\n",
      "1 1 8 1 6 2 4 7\n",
      "9 10 23 1 11 22 21 22\n",
      "9 10 23 1 11 22 34 7\n",
      "142\n"
     ]
    }
   ],
   "source": [
    "#dp사용?\n",
    "\n",
    "#dfs?\n",
    "\n",
    "dic = {}\n",
    "answer = 0\n",
    "\n",
    "def func(board,result,n,m):\n",
    "    global answer\n",
    "    if n==1 and m==1:\n",
    "        answer = max(result,answer)\n",
    "        return\n",
    "    #print(result)\n",
    "    # 좌우 개발\n",
    "    \n",
    "    if m>1:\n",
    "        arr1 = [[0 for _ in range(m//2)] for _ in range(n)]\n",
    "        arr2=[[0 for _ in range(m//2)] for _ in range(n)]\n",
    "        for i in range(n):\n",
    "            for j in range(m):\n",
    "                if j>=m//2:\n",
    "                    arr2[i][j-m//2]=board[i][j]\n",
    "                else:\n",
    "                    arr1[i][j] = board[i][j]\n",
    "        _max = 0\n",
    "        for temp in arr1:\n",
    "            _max = max(max(temp),_max)\n",
    "        func(arr2,result+_max,n,m//2)\n",
    "        _max = 0\n",
    "        for temp in arr2:\n",
    "            _max = max(max(temp),_max)\n",
    "        func(arr1,result+_max,n,m//2)\n",
    "    # 상하 개발\n",
    "    if n>1:\n",
    "        arr1 = [[0 for _ in range(m)] for _ in range(n//2)]\n",
    "        arr2=[[0 for _ in range(m)] for _ in range(n//2)]\n",
    "        for i in range(n):\n",
    "            for j in range(m):\n",
    "                if i>=n//2:\n",
    "                    arr2[i-n//2][j]=board[i][j]\n",
    "                else:\n",
    "                    arr1[i][j] = board[i][j]\n",
    "        \n",
    "        _max = 0\n",
    "        for temp in arr1:\n",
    "            _max = max(max(temp),_max)\n",
    "        func(arr2,result+_max,n//2,m)\n",
    "        _max = 0\n",
    "        for temp in arr2:\n",
    "            _max = max(max(temp),_max)\n",
    "        func(arr1,result+_max,n//2,m)\n",
    "        \n",
    "n = int(input())\n",
    "dp = []\n",
    "board = []\n",
    "for _ in range(n):\n",
    "    board.append(list(map(int,input().split())))\n",
    "func(board,0,n,n)    \n",
    "print(answer)"
   ]
  },
  {
   "cell_type": "code",
   "execution_count": 33,
   "metadata": {},
   "outputs": [
    {
     "data": {
      "text/plain": [
       "[[4, 5], [9, 9], [10, 5], [8, 6]]"
      ]
     },
     "execution_count": 33,
     "metadata": {},
     "output_type": "execute_result"
    }
   ],
   "source": [
    "arr2"
   ]
  },
  {
   "cell_type": "code",
   "execution_count": null,
   "metadata": {},
   "outputs": [],
   "source": [
    "4\n",
    "1 3 4 5\n",
    "6 2 9 9\n",
    "4 3 10 5\n",
    "5 2 8 6\n",
    "<input type=\"checkbox\" name='darkModeSwitch' onclick=\"DarkMode()\">"
   ]
  }
 ],
 "metadata": {
  "kernelspec": {
   "display_name": "Python 3",
   "language": "python",
   "name": "python3"
  },
  "language_info": {
   "codemirror_mode": {
    "name": "ipython",
    "version": 3
   },
   "file_extension": ".py",
   "mimetype": "text/x-python",
   "name": "python",
   "nbconvert_exporter": "python",
   "pygments_lexer": "ipython3",
   "version": "3.7.7"
  }
 },
 "nbformat": 4,
 "nbformat_minor": 4
}
