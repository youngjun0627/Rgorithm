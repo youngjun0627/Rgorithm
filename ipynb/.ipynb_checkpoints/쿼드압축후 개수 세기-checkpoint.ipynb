{
 "cells": [
  {
   "cell_type": "code",
   "execution_count": 8,
   "metadata": {},
   "outputs": [],
   "source": [
    "import sys\n",
    "sys.setrecursionlimit(100000)\n",
    "\n",
    "def quadtree(board):\n",
    "    length = len(board)\n",
    "    result = set()\n",
    "    check = True\n",
    "    for i in range(0,length):\n",
    "        for j in range(0,length):\n",
    "            result.add(board[i][j])\n",
    "            if len(result)>1:\n",
    "                check=False\n",
    "    if not check:\n",
    "        quad1 = [[0 for _ in range(length//2)] for _ in range(length//2)]\n",
    "        quad2 = [[0 for _ in range(length//2)] for _ in range(length//2)]\n",
    "        quad3 = [[0 for _ in range(length//2)] for _ in range(length//2)]\n",
    "        quad4 = [[0 for _ in range(length//2)] for _ in range(length//2)]\n",
    "        for i in range(0,length):\n",
    "            for j in range(0,length):\n",
    "                if i>=length//2 and j>=length//2:\n",
    "                    quad4[i-length//2][j-length//2]=board[i][j]\n",
    "                elif i>=length//2 and j<=length//2:\n",
    "                    quad3[i-length//2][j]=board[i][j]\n",
    "                elif i<=length//2 and j>=length//2:\n",
    "                    quad2[i][j-length//2]=board[i][j]\n",
    "                else:\n",
    "                    quad1[i][j]=board[i][j]\n",
    "        a = quadtree(quad1)\n",
    "        b = quadtree(quad2)\n",
    "        c = quadtree(quad3)\n",
    "        d = quadtree(quad4)\n",
    "        return [a[0]+b[0]+c[0]+d[0],a[1]+b[1]+c[1]+d[1]]\n",
    "    else:\n",
    "        if 0 in result:\n",
    "            return [1,0]\n",
    "        else:\n",
    "            return [0,1]\n",
    "\n",
    "def solution(arr):\n",
    "    answer=[]\n",
    "    answer = quadtree(arr)\n",
    "    return answer"
   ]
  },
  {
   "cell_type": "code",
   "execution_count": 9,
   "metadata": {},
   "outputs": [
    {
     "data": {
      "text/plain": [
       "[4, 9]"
      ]
     },
     "execution_count": 9,
     "metadata": {},
     "output_type": "execute_result"
    }
   ],
   "source": [
    "arr = [[1,1,0,0],[1,0,0,0],[1,0,0,1],[1,1,1,1]]\n",
    "solution(arr)"
   ]
  },
  {
   "cell_type": "code",
   "execution_count": null,
   "metadata": {},
   "outputs": [],
   "source": []
  }
 ],
 "metadata": {
  "kernelspec": {
   "display_name": "Python 3",
   "language": "python",
   "name": "python3"
  },
  "language_info": {
   "codemirror_mode": {
    "name": "ipython",
    "version": 3
   },
   "file_extension": ".py",
   "mimetype": "text/x-python",
   "name": "python",
   "nbconvert_exporter": "python",
   "pygments_lexer": "ipython3",
   "version": "3.7.7"
  }
 },
 "nbformat": 4,
 "nbformat_minor": 4
}
