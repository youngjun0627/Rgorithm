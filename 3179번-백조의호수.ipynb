{
 "cells": [
  {
   "cell_type": "code",
   "execution_count": null,
   "metadata": {},
   "outputs": [],
   "source": []
  },
  {
   "cell_type": "code",
   "execution_count": 63,
   "metadata": {},
   "outputs": [
    {
     "name": "stdout",
     "output_type": "stream",
     "text": [
      "10 3\n",
      "..L\n",
      "...\n",
      "XXX\n",
      "XXX\n",
      "XXX\n",
      "XXX\n",
      "XXX\n",
      "XXX\n",
      "XXX\n",
      "..L\n",
      "[(0, 2), (9, 2)]\n",
      "0 2\n",
      "0 1\n",
      "1 2\n",
      "0 2\n",
      "1 1\n",
      "1 0\n",
      "[(1, 0), (9, 2)]\n",
      "1 0\n",
      "2 0\n",
      "2 1\n",
      "2 2\n",
      "[(2, 2), (9, 2)]\n",
      "2 2\n",
      "3 2\n",
      "3 1\n",
      "3 0\n",
      "[(3, 0), (9, 2)]\n",
      "3 0\n",
      "4 0\n",
      "4 1\n",
      "4 2\n",
      "[(4, 2), (9, 2)]\n",
      "4 2\n",
      "5 2\n",
      "5 1\n",
      "6 2\n",
      "5 0\n",
      "6 1\n",
      "7 2\n",
      "6 0\n",
      "7 1\n",
      "8 2\n",
      "7 0\n",
      "8 1\n",
      "9 2\n",
      "4\n"
     ]
    }
   ],
   "source": [
    "from collections import deque\n",
    "\n",
    "board = []\n",
    "r,c = map(int,input().split())\n",
    "for _ in range(r):\n",
    "    board.append(list(input()))\n",
    "ori = []\n",
    "icies = []\n",
    "dy = [0,0,-1,1]\n",
    "dx = [-1,1,0,0]\n",
    "def check(ny,nx):\n",
    "    if 0<=ny<r and 0<=nx<c:\n",
    "        return True\n",
    "    return False\n",
    "\n",
    "for y in range(r):\n",
    "    for x in range(c):\n",
    "        if board[y][x]=='X':\n",
    "            for i in range(4):\n",
    "                ny = y + dy[i]\n",
    "                nx = x + dx[i]\n",
    "                if check(ny,nx) and board[ny][nx]=='.':\n",
    "                    icies.append((y,x))\n",
    "                    break\n",
    "        elif board[y][x]=='L':\n",
    "            ori.append((y,x))\n",
    "            \n",
    "                 \n",
    "def ice_bfs(icies):\n",
    "    temp = []\n",
    "    for ice in icies:\n",
    "        y,x = ice\n",
    "        board[y][x]='.'\n",
    "        for i in range(4):\n",
    "            ny = y + dy[i]\n",
    "            nx = x + dx[i]\n",
    "            if check(ny,nx) and board[ny][nx]=='X' and (ny,nx) not in temp:\n",
    "                temp.append((ny,nx))\n",
    "    return temp\n",
    "\n",
    "def ori_bfs(ori):\n",
    "    global visit\n",
    "    q = deque()\n",
    "    if len(ori[0])==1:\n",
    "        q.append(ori[0])\n",
    "    else:\n",
    "        for s in ori[0]:\n",
    "            q.append(s)\n",
    "    start = []\n",
    "    end = ori[1]\n",
    "    while q:\n",
    "        y,x = q.popleft()\n",
    "        \n",
    "        if y==end[0] and x==end[1]:\n",
    "            return True\n",
    "        for i in range(4):\n",
    "            ny = y + dy[i]\n",
    "            nx = x + dx[i]\n",
    "            if check(ny,nx) and visit[ny][nx]==0:\n",
    "                if board[ny][nx]!='X':\n",
    "                    visit[ny][nx]=1\n",
    "                    q.append((ny,nx))\n",
    "                else:\n",
    "                    start.append((ny,nx))\n",
    "    ori[0]=start\n",
    "    return False\n",
    "\n",
    "visit = [[0 for _ in range(c)] for _ in range(r)]\n",
    "visit[0][0]=1\n",
    "if ori_bfs(ori):\n",
    "    print(0)\n",
    "else:\n",
    "    day = 0\n",
    "    while True:\n",
    "        icies = ice_bfs(icies)\n",
    "        day+=1\n",
    "        if ori_bfs(ori):\n",
    "            break\n",
    "        #icies = next_icies\n",
    "    print(day)"
   ]
  },
  {
   "cell_type": "code",
   "execution_count": 60,
   "metadata": {},
   "outputs": [
    {
     "data": {
      "text/plain": [
       "[(1, 2),\n",
       " (2, 1),\n",
       " (2, 1),\n",
       " (3, 0),\n",
       " (2, 2),\n",
       " (2, 2),\n",
       " (3, 1),\n",
       " (5, 1),\n",
       " (5, 1),\n",
       " (4, 0),\n",
       " (5, 1),\n",
       " (5, 1),\n",
       " (4, 2),\n",
       " (9, 1),\n",
       " (9, 1),\n",
       " (9, 1),\n",
       " (9, 1)]"
      ]
     },
     "execution_count": 60,
     "metadata": {},
     "output_type": "execute_result"
    }
   ],
   "source": [
    "icies"
   ]
  },
  {
   "cell_type": "code",
   "execution_count": 40,
   "metadata": {},
   "outputs": [
    {
     "data": {
      "text/plain": [
       "[]"
      ]
     },
     "execution_count": 40,
     "metadata": {},
     "output_type": "execute_result"
    }
   ],
   "source": [
    "icies"
   ]
  },
  {
   "cell_type": "code",
   "execution_count": null,
   "metadata": {},
   "outputs": [],
   "source": []
  }
 ],
 "metadata": {
  "kernelspec": {
   "display_name": "Python 3",
   "language": "python",
   "name": "python3"
  },
  "language_info": {
   "codemirror_mode": {
    "name": "ipython",
    "version": 3
   },
   "file_extension": ".py",
   "mimetype": "text/x-python",
   "name": "python",
   "nbconvert_exporter": "python",
   "pygments_lexer": "ipython3",
   "version": "3.7.7"
  }
 },
 "nbformat": 4,
 "nbformat_minor": 4
}
