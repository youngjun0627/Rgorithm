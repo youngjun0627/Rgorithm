{
 "cells": [
  {
   "cell_type": "code",
   "execution_count": 21,
   "metadata": {},
   "outputs": [
    {
     "name": "stdout",
     "output_type": "stream",
     "text": [
      "10\n",
      "2\n"
     ]
    }
   ],
   "source": [
    "n=int(input())\n",
    "cnt=0\n",
    "arr = []\n",
    "for i in range(1,n+1):\n",
    "    temp = i\n",
    "    while True:\n",
    "        if temp%10==0:\n",
    "            temp/=10\n",
    "            cnt+=1\n",
    "            continue\n",
    "        if temp%2==0:\n",
    "            temp/=2\n",
    "            if 5 in arr:\n",
    "                arr.remove(5)\n",
    "                cnt+=1\n",
    "            else:\n",
    "                arr.append(2)\n",
    "        if temp%5==0:\n",
    "            temp/=5\n",
    "            if 2 in arr:\n",
    "                arr.remove(2)\n",
    "                cnt+=1\n",
    "            else:\n",
    "                arr.append(5)\n",
    "            \n",
    "        else:\n",
    "            break\n",
    "print(cnt)"
   ]
  },
  {
   "cell_type": "code",
   "execution_count": null,
   "metadata": {},
   "outputs": [],
   "source": []
  },
  {
   "cell_type": "code",
   "execution_count": null,
   "metadata": {},
   "outputs": [],
   "source": []
  }
 ],
 "metadata": {
  "kernelspec": {
   "display_name": "Python 3",
   "language": "python",
   "name": "python3"
  },
  "language_info": {
   "codemirror_mode": {
    "name": "ipython",
    "version": 3
   },
   "file_extension": ".py",
   "mimetype": "text/x-python",
   "name": "python",
   "nbconvert_exporter": "python",
   "pygments_lexer": "ipython3",
   "version": "3.7.7"
  }
 },
 "nbformat": 4,
 "nbformat_minor": 4
}
