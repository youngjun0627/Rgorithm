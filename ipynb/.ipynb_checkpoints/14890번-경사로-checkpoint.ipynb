{
 "cells": [
  {
   "cell_type": "code",
   "execution_count": 3,
   "metadata": {},
   "outputs": [
    {
     "name": "stdout",
     "output_type": "stream",
     "text": [
      "6 2\n",
      "3 3 3 3 3 3\n",
      "2 3 3 3 3 3 \n",
      "2 2 2 3 2 3\n",
      "1 1 1 2 2 2\n",
      "1  1 1 3 3 1\n",
      "1 1 2 3 3 2\n",
      "3\n",
      "3\n",
      "3\n",
      "3\n",
      "4\n",
      "4\n"
     ]
    }
   ],
   "source": [
    "n,l = map(int,input().split())\n",
    "board = []\n",
    "for _ in range(n):\n",
    "    board.append(list(map(int,input().split())))\n",
    "    \n",
    "def solution(road):\n",
    "    result = [False for i in range(n)]\n",
    "    for i in range(n-1):\n",
    "        if road[i]==road[i+1]:\n",
    "            continue\n",
    "        if abs(road[i]-road[i+1])>1:\n",
    "            return False\n",
    "        if road[i]>road[i+1]:\n",
    "            temp  = road[i+1]\n",
    "            for j in range(i+1,i+1+l):\n",
    "                if 0<=j<n:\n",
    "                    if road[j]!=temp:\n",
    "                        return False\n",
    "                    if result[j]==True:\n",
    "                        return False # 경사로 있는 경우\n",
    "                    result[j]=True\n",
    "                else:\n",
    "                    return False\n",
    "        else:\n",
    "            temp  = road[i]\n",
    "            for j in range(i,i-l,-1):\n",
    "                if 0<=j<n:\n",
    "                    if road[j]!=temp:\n",
    "                        return False\n",
    "                    if result[j]==True:\n",
    "                        return False # 경사로 있는 경우\n",
    "                    result[j]=True\n",
    "                else:\n",
    "                    return False\n",
    "    return True\n",
    "\n",
    "answer = 0\n",
    "for i in range(n):\n",
    "    road = []\n",
    "    for j in range(n):\n",
    "        road.append(board[i][j])\n",
    "    if solution(road):\n",
    "        answer+=1\n",
    "for i in range(n):\n",
    "    road = []\n",
    "    for j in range(n):\n",
    "        road.append(board[j][i])\n",
    "    if solution(road):\n",
    "        answer+=1\n",
    "print(answer)"
   ]
  },
  {
   "cell_type": "code",
   "execution_count": null,
   "metadata": {},
   "outputs": [],
   "source": []
  }
 ],
 "metadata": {
  "kernelspec": {
   "display_name": "Python 3",
   "language": "python",
   "name": "python3"
  },
  "language_info": {
   "codemirror_mode": {
    "name": "ipython",
    "version": 3
   },
   "file_extension": ".py",
   "mimetype": "text/x-python",
   "name": "python",
   "nbconvert_exporter": "python",
   "pygments_lexer": "ipython3",
   "version": "3.7.7"
  }
 },
 "nbformat": 4,
 "nbformat_minor": 4
}
