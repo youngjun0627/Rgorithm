{
 "cells": [
  {
   "cell_type": "code",
   "execution_count": 8,
   "metadata": {},
   "outputs": [
    {
     "name": "stdout",
     "output_type": "stream",
     "text": [
      "{0: [], 1: [], 2: [], 3: [], 4: [], 5: [], 6: [], 7: [], 8: [], 9: []}\n",
      "defaultdict(<class 'list'>, {})\n"
     ]
    }
   ],
   "source": [
    "'''\n",
    "dictionary -> 해쉬, 맵 같은거\n",
    "리스트 같은경우 탐색할때 for문을 돌면서 순차적으로 하기에 선형탐색이라고 함. 이때 시간복잡도는(N)\n",
    "딕셔너리는 탐색할때 키값으로 탐색하기 때문에 시간복잡도(1)\n",
    "예를 들어서 네어버에 로그인할때 네이버 서버에서는 사용자 정보를 찾은후\n",
    "아이디랑 비밀번호가 같은지 확인해야하는데 이때 선형탐색하면\n",
    "사용자의 수만큼(N) for문을 돌리게됌. 만약 동시에 접속하는 사용자가 많으면 그만큼 과부하가 걸릴것\n",
    "따라서 해당 키값을 이용해서 바로 원소에 접근한다면 빠른 처리가 가능하다\n",
    "'''\n",
    "# dictionary 선언 방법\n",
    "dic = dict()\n",
    "dic = {}\n",
    "\n",
    "# 좀더 간지나게 딕셔너리 선언방법\n",
    "from collections import defaultdict\n",
    "int_dict = defaultdict(int)\n",
    "int_dict['key1']\n",
    "# 0으로 출력되는데 이는 int의 기본 디폴트값인 0이 자동으로 할당됨을 알수있음\n",
    "list_dict = defaultdict(list)\n",
    "list_dict['key']\n",
    "# []으로 출력됌\n",
    "list_dict['key2']='temp'\n",
    "# 위처럼 직접 값을 넣어줌으로써 초기화할땐 넣어준값으로 초기화됌(굳이 리스트가 아니여도됌)\n",
    "\n",
    "\n",
    "# 첫번째 방법\n",
    "list_dict = {}\n",
    "for i in range(10):\n",
    "    list_dict[i]=[]\n",
    "print(list_dict)    \n",
    "# 두번째 방법\n",
    "from collections import defaultdict\n",
    "list_dict = defaultdict(list)\n",
    "print(list_dict)"
   ]
  },
  {
   "cell_type": "code",
   "execution_count": 14,
   "metadata": {},
   "outputs": [
    {
     "name": "stdout",
     "output_type": "stream",
     "text": [
      "{1: [2, 3], 2: [1, 5], 3: [1, 4], 4: [3, 6], 5: [2], 6: [4]}\n"
     ]
    },
    {
     "data": {
      "text/plain": [
       "defaultdict(list, {1: [2, 3], 2: [1, 5], 3: [1, 4], 4: [3, 6], 5: [2], 6: [4]})"
      ]
     },
     "execution_count": 14,
     "metadata": {},
     "output_type": "execute_result"
    }
   ],
   "source": [
    "'''\n",
    "그래프를 표현하는 방법은 두가지가 있음\n",
    "'''\n",
    "'''\n",
    "첫번째 리스트(배열)로 만드는 방법\n",
    "'''\n",
    "n=6\n",
    "edges = [[1,2],[1,3],[3,4],[2,5],[4,6]]\n",
    "graph = [[0 for _ in range(n)] for _ in range(n)]\n",
    "for edge in edges:\n",
    "    a,b = edge\n",
    "    # 무방향성 그래프라 가정\n",
    "    # 노드의 번호들은 1~6이지만 인덱스는 0부터 시작하므로 -1를 해줘야됌\n",
    "    # 아니면 그래프를 애초에 만들때 n+1까지 만든다(그러나 이 방법은 인덱스가 0인 더미노드가 존재하므로 메모리면에서 비효율)\n",
    "    graph[a-1][b-1]=1\n",
    "    graph[b-1][a-1]=1\n",
    "graph\n",
    "\n",
    "'''\n",
    "두번째 딕셔너리(연결리스트)로 만드는 방법\n",
    "'''\n",
    "from  collections import defaultdict\n",
    "n=6\n",
    "edges = [[1,2],[1,3],[3,4],[2,5],[4,6]]\n",
    "graph = {}\n",
    "for edge in edges:\n",
    "    a,b = edge\n",
    "    if a not in graph:\n",
    "        graph[a] = []\n",
    "    if b not in graph:\n",
    "        graph[b] = []\n",
    "    graph[a].append(b)\n",
    "    graph[b].append(a)\n",
    "    \n",
    "graph\n",
    "\n",
    "'''\n",
    "세번째 딕셔너리로 간지나게 만들기\n",
    "'''\n",
    "from  collections import defaultdict\n",
    "n=6\n",
    "edges = [[1,2],[1,3],[3,4],[2,5],[4,6]]\n",
    "graph = defaultdict(list)\n",
    "for edge in edges:\n",
    "    a,b = edge\n",
    "    graph[a].append(b)\n",
    "    graph[b].append(a)\n",
    "graph\n"
   ]
  },
  {
   "cell_type": "code",
   "execution_count": null,
   "metadata": {},
   "outputs": [],
   "source": []
  }
 ],
 "metadata": {
  "kernelspec": {
   "display_name": "Python 3",
   "language": "python",
   "name": "python3"
  },
  "language_info": {
   "codemirror_mode": {
    "name": "ipython",
    "version": 3
   },
   "file_extension": ".py",
   "mimetype": "text/x-python",
   "name": "python",
   "nbconvert_exporter": "python",
   "pygments_lexer": "ipython3",
   "version": "3.7.7"
  }
 },
 "nbformat": 4,
 "nbformat_minor": 4
}
