{
 "cells": [
  {
   "cell_type": "code",
   "execution_count": 71,
   "metadata": {},
   "outputs": [
    {
     "name": "stdout",
     "output_type": "stream",
     "text": [
      "3 5\n",
      "440\n",
      "350\n",
      "230\n",
      "500000 0 1020\n",
      "249999 0 1020\n",
      "124999 0 1020\n",
      "62499 0 1020\n",
      "31249 0 1020\n",
      "15624 0 1020\n",
      "7811 0 1020\n",
      "3905 0 1020\n",
      "1952 0 1020\n",
      "975 0 1020\n",
      "487 0 1020\n",
      "243 0 1020\n",
      "121 3 1020\n",
      "60 3 1020\n",
      "29 3 1020\n",
      "14 3 1020\n",
      "6 3 1020\n",
      "2 3 1020\n",
      "0 3 1020\n"
     ]
    },
    {
     "data": {
      "text/plain": [
       "99999999"
      ]
     },
     "execution_count": 71,
     "metadata": {},
     "output_type": "execute_result"
    }
   ],
   "source": [
    "S,C = map(int,input().split())\n",
    "pas = []\n",
    "for _ in range(S):\n",
    "    pas.append(int(input()))\n",
    "pas.sort()\n",
    "def check(key, pas):\n",
    "    if key==0:\n",
    "        return len(pas)\n",
    "    cnt = 0\n",
    "    for pa in pas:\n",
    "        if pa<key:\n",
    "            break\n",
    "        else:\n",
    "            cnt+=int(pa//key)\n",
    "    return cnt\n",
    "\n",
    "def binary_search(pas):\n",
    "    _min = 0\n",
    "    _max = 1000000\n",
    "    answer = 99999999\n",
    "    _sum = sum(pas)\n",
    "    while _min<=_max:\n",
    "        temp=_sum\n",
    "        mid = (_min+_max)//2\n",
    "        cnt = check(mid,pas)\n",
    "        print(mid,cnt,_sum)\n",
    "        if cnt>=C:\n",
    "            print('a')\n",
    "            answer = min(answer, _sum-cnt*mid)\n",
    "            _min = mid+1\n",
    "        else:\n",
    "            \n",
    "            _max = mid-1\n",
    "            \n",
    "        _sum = temp\n",
    "    return answer\n",
    "binary_search(pas)"
   ]
  },
  {
   "cell_type": "code",
   "execution_count": 68,
   "metadata": {},
   "outputs": [
    {
     "data": {
      "text/plain": [
       "[100, 100, 100]"
      ]
     },
     "execution_count": 68,
     "metadata": {},
     "output_type": "execute_result"
    }
   ],
   "source": [
    "pas"
   ]
  },
  {
   "cell_type": "code",
   "execution_count": 52,
   "metadata": {},
   "outputs": [
    {
     "data": {
      "text/plain": [
       "0"
      ]
     },
     "execution_count": 52,
     "metadata": {},
     "output_type": "execute_result"
    }
   ],
   "source": [
    "174//175"
   ]
  },
  {
   "cell_type": "code",
   "execution_count": null,
   "metadata": {},
   "outputs": [],
   "source": []
  }
 ],
 "metadata": {
  "kernelspec": {
   "display_name": "Python 3",
   "language": "python",
   "name": "python3"
  },
  "language_info": {
   "codemirror_mode": {
    "name": "ipython",
    "version": 3
   },
   "file_extension": ".py",
   "mimetype": "text/x-python",
   "name": "python",
   "nbconvert_exporter": "python",
   "pygments_lexer": "ipython3",
   "version": "3.7.7"
  }
 },
 "nbformat": 4,
 "nbformat_minor": 4
}
