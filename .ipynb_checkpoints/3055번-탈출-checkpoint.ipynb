{
 "cells": [
  {
   "cell_type": "code",
   "execution_count": 65,
   "metadata": {},
   "outputs": [
    {
     "name": "stdout",
     "output_type": "stream",
     "text": [
      "33\n"
     ]
    }
   ],
   "source": [
    "from collections import deque\n",
    "\n",
    "'''\n",
    "r,c = map(int,input().split())\n",
    "\n",
    "board = []\n",
    "waters = []\n",
    "for i in range(r):\n",
    "    _str = list(input())\n",
    "    for j in range(c):\n",
    "        if _str[j]=='D':\n",
    "            end = (i,j)\n",
    "        if _str[j]=='S':\n",
    "            start = (i,j)\n",
    "        if _str[j]=='*':\n",
    "            waters.append((i,j))\n",
    "    board.append(_str)\n",
    "\n",
    "'''\n",
    "r,c = 20,30\n",
    "_str = '..............................\\n\\\n",
    "..............................\\n\\\n",
    ".............XXXXXXXXXXX......\\n\\\n",
    ".............X...S.....X......\\n\\\n",
    ".............X.XXXXXXX.X......\\n\\\n",
    ".....XXXXXXXXX.X.....X.X......\\n\\\n",
    "........*......X.*...X.X......\\n\\\n",
    ".....XXXXXXXXX.X.....X.X......\\n\\\n",
    ".............X.X...*.X.X......\\n\\\n",
    ".............XDX.....X.X......\\n\\\n",
    ".............X.X.....X.X......\\n\\\n",
    ".............X.X.....X.X......\\n\\\n",
    ".............X.X..*..X.X......\\n\\\n",
    ".............X.X.....X.X......\\n\\\n",
    ".............X.X.....X.X......\\n\\\n",
    ".............X.XXXXXXX.X......\\n\\\n",
    ".............X.........X......\\n\\\n",
    ".............XXXXXXXXXXX......\\n\\\n",
    "..............................\\n\\\n",
    "..............................'\n",
    "_str = list(_str.split('\\n'))\n",
    "board = []\n",
    "waters = []\n",
    "for i in range(r):\n",
    "    for j in range(c):\n",
    "        if _str[i][j]=='D':\n",
    "            end=(i,j)\n",
    "        if _str[i][j]=='S':\n",
    "            start = (i,j)\n",
    "        if _str[i][j]=='*':\n",
    "            waters.append((i,j))\n",
    "    board.append(list(_str[i]))\n",
    "\n",
    "q = deque()\n",
    "q.append((start[0], start[1], 0))\n",
    "dy = [0,0,-1,1]\n",
    "dx = [-1,1,0,0]\n",
    "answer = 99999999\n",
    "visit = set()\n",
    "visit.add((start[0], start[1]))\n",
    "pre_cnt=0\n",
    "while q:\n",
    "    cy,cx,cnt = q.popleft()\n",
    "    \n",
    "    #if cy==end[0] and cx==end[1]:\n",
    "    if board[cy][cx]=='D':\n",
    "        answer = min(answer,cnt)\n",
    "        continue\n",
    "    if pre_cnt!=cnt:\n",
    "        pre_cnt=cnt\n",
    "        _waters = []\n",
    "        for water in waters:\n",
    "            i,j = water\n",
    "            for k in range(4):\n",
    "                ni = i+dy[k]\n",
    "                nj = j+dx[k]\n",
    "                if 0<=ni<r and 0<=nj<c and board[ni][nj]=='.':\n",
    "                    board[ni][nj]='*'\n",
    "                    _waters.append((ni,nj))             \n",
    "        waters.extend(_waters)\n",
    "        \n",
    "    for i in range(4):\n",
    "        ny = cy+dy[i]\n",
    "        nx = cx+dx[i]\n",
    "        if 0<=ny<r and 0<=nx<c and (ny,nx) not in visit and board[ny][nx]!='*' and board[ny][nx]!='X':\n",
    "            if waters:\n",
    "                check=True\n",
    "                for water in waters:\n",
    "                    if ny==water[0]+1 and nx==water[1] and board[ny][nx]=='.':\n",
    "                        check=False\n",
    "                        break\n",
    "                    if ny==water[0]-1 and nx==water[1] and board[ny][nx]=='.':\n",
    "                        check=False\n",
    "                        break\n",
    "                    if ny==water[0] and nx==water[1]+1 and board[ny][nx]=='.':\n",
    "                        check=False\n",
    "                        break\n",
    "                    if ny==water[0] and nx==water[1]-1 and board[ny][nx]=='.':\n",
    "                        check=False\n",
    "                        break\n",
    "                if check:\n",
    "                    q.append((ny,nx,cnt+1))\n",
    "                    visit.add((ny,nx))\n",
    "            else:\n",
    "                q.append((ny,nx,cnt+1))\n",
    "                visit.add((ny,nx))\n",
    "    \n",
    "if answer!=99999999:\n",
    "    print(answer)\n",
    "else:\n",
    "    print('KAKTUS')"
   ]
  },
  {
   "cell_type": "code",
   "execution_count": 54,
   "metadata": {},
   "outputs": [
    {
     "name": "stdout",
     "output_type": "stream",
     "text": [
      "['__add__', '__class__', '__contains__', '__delattr__', '__delitem__', '__dir__', '__doc__', '__eq__', '__format__', '__ge__', '__getattribute__', '__getitem__', '__gt__', '__hash__', '__iadd__', '__imul__', '__init__', '__init_subclass__', '__iter__', '__le__', '__len__', '__lt__', '__mul__', '__ne__', '__new__', '__reduce__', '__reduce_ex__', '__repr__', '__reversed__', '__rmul__', '__setattr__', '__setitem__', '__sizeof__', '__str__', '__subclasshook__', 'append', 'clear', 'copy', 'count', 'extend', 'index', 'insert', 'pop', 'remove', 'reverse', 'sort']\n"
     ]
    }
   ],
   "source": [
    "print(dir(list))"
   ]
  },
  {
   "cell_type": "code",
   "execution_count": null,
   "metadata": {},
   "outputs": [],
   "source": []
  },
  {
   "cell_type": "code",
   "execution_count": 25,
   "metadata": {},
   "outputs": [
    {
     "data": {
      "text/plain": [
       "(1, 48)"
      ]
     },
     "execution_count": 25,
     "metadata": {},
     "output_type": "execute_result"
    }
   ],
   "source": [
    "end"
   ]
  },
  {
   "cell_type": "code",
   "execution_count": null,
   "metadata": {},
   "outputs": [],
   "source": []
  }
 ],
 "metadata": {
  "kernelspec": {
   "display_name": "Python 3",
   "language": "python",
   "name": "python3"
  },
  "language_info": {
   "codemirror_mode": {
    "name": "ipython",
    "version": 3
   },
   "file_extension": ".py",
   "mimetype": "text/x-python",
   "name": "python",
   "nbconvert_exporter": "python",
   "pygments_lexer": "ipython3",
   "version": "3.7.7"
  }
 },
 "nbformat": 4,
 "nbformat_minor": 4
}
