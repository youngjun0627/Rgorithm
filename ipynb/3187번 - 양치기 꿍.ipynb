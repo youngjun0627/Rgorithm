{
 "cells": [
  {
   "cell_type": "code",
   "execution_count": 7,
   "metadata": {},
   "outputs": [
    {
     "name": "stdout",
     "output_type": "stream",
     "text": [
      "6 6\n",
      "...#..\n",
      ".##v#.\n",
      "#v.#.#\n",
      "#.k#.#\n",
      ".###.#\n",
      "...###\n",
      "[['.', '.', '.', '#', '.', '.'], ['.', '#', '#', 'v', '#', '.'], ['#', 'v', '.', '#', '.', '#'], ['#', '.', 'k', '#', '.', '#'], ['.', '#', '#', '#', '.', '#'], ['.', '.', '.', '#', '#', '#']]\n",
      "2 0\n"
     ]
    }
   ],
   "source": [
    "from collections import deque\n",
    "\n",
    "def bfs(start,board,r,c):\n",
    "    global visit\n",
    "    q = deque()\n",
    "    visit.add(start)\n",
    "    q.append(start)\n",
    "    dy = [0,-1,1,0]\n",
    "    dx = [-1,0,0,1]\n",
    "    num_v=0\n",
    "    num_k=0\n",
    "    while q:\n",
    "        cy,cx = q.popleft()\n",
    "        if board[cy][cx]=='v':\n",
    "            num_v+=1\n",
    "        elif board[cy][cx]=='k':\n",
    "            num_k+=1\n",
    "            \n",
    "        for i in range(4):\n",
    "            ny = cy+dy[i]\n",
    "            nx = cx+dx[i]\n",
    "            if ny>=0 and ny<r and nx>=0 and nx<c and board[ny][nx]!='#':\n",
    "                if (ny,nx) not in visit:\n",
    "                    visit.add((ny,nx))\n",
    "                    q.append((ny,nx))\n",
    "\n",
    "    if num_v<num_k:\n",
    "        return (0,num_k)\n",
    "    else:\n",
    "        return (num_v,0)\n",
    "    \n",
    "visit=set()\n",
    "if __name__=='__main__':\n",
    "    r,c = map(int,input().split())\n",
    "    board = [['' for _ in range(c)] for _ in range(r)]\n",
    "    starts = []\n",
    "    for i in range(r):\n",
    "        temp = input()\n",
    "        for j in range(c):\n",
    "            board[i][j]=temp[j]\n",
    "            if temp[j]!='#':\n",
    "                starts.append((i,j))\n",
    "    print(board)\n",
    "    answer_v=0\n",
    "    answer_k=0\n",
    "    for start in starts:\n",
    "        if start not in visit:\n",
    "            v,k = bfs(start,board,r,c)\n",
    "            answer_v+=v\n",
    "            answer_k+=k\n",
    "    print(answer_k,answer_v)"
   ]
  },
  {
   "cell_type": "code",
   "execution_count": 3,
   "metadata": {},
   "outputs": [
    {
     "name": "stdout",
     "output_type": "stream",
     "text": [
      "...#..\n",
      "['...#..']\n"
     ]
    }
   ],
   "source": [
    "print(list(map(str,input().split())))"
   ]
  },
  {
   "cell_type": "code",
   "execution_count": null,
   "metadata": {},
   "outputs": [],
   "source": []
  }
 ],
 "metadata": {
  "kernelspec": {
   "display_name": "Python 3",
   "language": "python",
   "name": "python3"
  },
  "language_info": {
   "codemirror_mode": {
    "name": "ipython",
    "version": 3
   },
   "file_extension": ".py",
   "mimetype": "text/x-python",
   "name": "python",
   "nbconvert_exporter": "python",
   "pygments_lexer": "ipython3",
   "version": "3.7.7"
  }
 },
 "nbformat": 4,
 "nbformat_minor": 4
}
