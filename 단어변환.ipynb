{
 "cells": [
  {
   "cell_type": "code",
   "execution_count": 10,
   "metadata": {},
   "outputs": [
    {
     "name": "stdout",
     "output_type": "stream",
     "text": [
      "hit\n",
      "hot\n",
      "lot\n",
      "log\n",
      "cog\n"
     ]
    },
    {
     "data": {
      "text/plain": [
       "5"
      ]
     },
     "execution_count": 10,
     "metadata": {},
     "output_type": "execute_result"
    }
   ],
   "source": [
    "visit = set()\n",
    "\n",
    "def check(word1,word2):\n",
    "    count=0\n",
    "    length = len(word1)\n",
    "    for i in range(length):\n",
    "        if word1[i]!=word2[i]:\n",
    "            count+=1\n",
    "    return count\n",
    "\n",
    "def solution(begin, target, words):\n",
    "    answer = 0\n",
    "    if target not in words:\n",
    "        return answer\n",
    "    global visit\n",
    "    changed_list = []\n",
    "    visit.add(begin)\n",
    "    changed_list.append(begin)\n",
    "    while len(visit) != len(words):\n",
    "        current = changed_list.pop()\n",
    "        print(current)\n",
    "        answer+=1\n",
    "        if current == target:\n",
    "            break\n",
    "        for i in range(len(words)):\n",
    "            if words[i] not in visit:\n",
    "                if check(words[i],current)==1:\n",
    "                    changed_list.append(words[i])\n",
    "        _min_str = changed_list[0]\n",
    "        _min = check(_min_str,target)\n",
    "        for i in range(1,len(changed_list)):\n",
    "            if check(target,changed_list[i])<_min:\n",
    "                _min = check(target,changed_list[i])\n",
    "                current = changed_list[i]\n",
    "        visit.add(current)\n",
    "    return answer-1\n",
    "\n",
    "\n",
    "\n",
    "\n",
    "begin = 'hit'\n",
    "target = 'cog'\n",
    "words = ['hot', 'dot', 'dog', 'lot', 'log', 'cog']\n",
    "solution(begin,target,words)"
   ]
  },
  {
   "cell_type": "code",
   "execution_count": null,
   "metadata": {},
   "outputs": [],
   "source": []
  }
 ],
 "metadata": {
  "kernelspec": {
   "display_name": "Python 3",
   "language": "python",
   "name": "python3"
  },
  "language_info": {
   "codemirror_mode": {
    "name": "ipython",
    "version": 3
   },
   "file_extension": ".py",
   "mimetype": "text/x-python",
   "name": "python",
   "nbconvert_exporter": "python",
   "pygments_lexer": "ipython3",
   "version": "3.7.6"
  }
 },
 "nbformat": 4,
 "nbformat_minor": 4
}
