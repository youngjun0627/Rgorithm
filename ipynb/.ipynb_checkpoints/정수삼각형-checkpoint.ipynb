{
 "cells": [
  {
   "cell_type": "code",
   "execution_count": 11,
   "metadata": {},
   "outputs": [
    {
     "name": "stdout",
     "output_type": "stream",
     "text": [
      "[[7], [10, 15], [18, 16, 15], [20, 25, 20, 19], [24, 30, 27, 26, 24]]\n"
     ]
    },
    {
     "data": {
      "text/plain": [
       "30"
      ]
     },
     "execution_count": 11,
     "metadata": {},
     "output_type": "execute_result"
    }
   ],
   "source": [
    "def solution(triangle):\n",
    "    answer = 0\n",
    "    pre = triangle[0][0]\n",
    "    dp=[]\n",
    "    dp.append([])\n",
    "    dp[0].append(pre)\n",
    "    for idx,tri in enumerate(triangle):\n",
    "        if idx==0:\n",
    "            continue\n",
    "        dp.append([0 for _ in range(len(tri))])\n",
    "        for i in range(0,len(tri)-1):\n",
    "            if i==0:\n",
    "                dp[idx][i] = dp[idx-1][i] + tri[i]\n",
    "            else:\n",
    "                dp[idx][i] = max(dp[idx][i],dp[idx-1][i] + tri[i])\n",
    "            dp[idx][i+1] = dp[idx-1][i]+tri[i+1]\n",
    "    answer = max(dp[len(triangle)-1])\n",
    "    print(dp)\n",
    "    return answer\n",
    "\n",
    "triangle = [[7], [3, 8], [8, 1, 0], [2, 7, 4, 4], [4, 5, 2, 6, 5]]\n",
    "solution(triangle)"
   ]
  },
  {
   "cell_type": "code",
   "execution_count": null,
   "metadata": {},
   "outputs": [],
   "source": []
  }
 ],
 "metadata": {
  "kernelspec": {
   "display_name": "Python 3",
   "language": "python",
   "name": "python3"
  },
  "language_info": {
   "codemirror_mode": {
    "name": "ipython",
    "version": 3
   },
   "file_extension": ".py",
   "mimetype": "text/x-python",
   "name": "python",
   "nbconvert_exporter": "python",
   "pygments_lexer": "ipython3",
   "version": "3.7.7"
  }
 },
 "nbformat": 4,
 "nbformat_minor": 4
}
