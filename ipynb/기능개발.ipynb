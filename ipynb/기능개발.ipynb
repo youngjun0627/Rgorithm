{
 "cells": [
  {
   "cell_type": "code",
   "execution_count": null,
   "metadata": {},
   "outputs": [],
   "source": [
    "def solution(progresses, speeds):\n",
    "    answer = []\n",
    "    while progresses:\n",
    "        for i in range(len(progresses)):\n",
    "            progresses[i]+=speeds[i]\n",
    "        cnt=0\n",
    "        while progresses:\n",
    "            cur = progresses[0]\n",
    "            if cur>=100:\n",
    "                progresses.pop(0)\n",
    "                speeds.pop(0)\n",
    "                cnt+=1\n",
    "            else:\n",
    "                break\n",
    "        if cnt!=0:\n",
    "            answer.append(cnt)\n",
    "    return answer"
   ]
  }
 ],
 "metadata": {
  "kernelspec": {
   "display_name": "Python 3",
   "language": "python",
   "name": "python3"
  },
  "language_info": {
   "codemirror_mode": {
    "name": "ipython",
    "version": 3
   },
   "file_extension": ".py",
   "mimetype": "text/x-python",
   "name": "python",
   "nbconvert_exporter": "python",
   "pygments_lexer": "ipython3",
   "version": "3.7.7"
  }
 },
 "nbformat": 4,
 "nbformat_minor": 4
}
