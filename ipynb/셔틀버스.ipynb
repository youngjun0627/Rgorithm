{
 "cells": [
  {
   "cell_type": "code",
   "execution_count": 15,
   "metadata": {},
   "outputs": [
    {
     "name": "stdout",
     "output_type": "stream",
     "text": [
      "['09:00', '09:10']\n"
     ]
    },
    {
     "data": {
      "text/plain": [
       "'09:09'"
      ]
     },
     "execution_count": 15,
     "metadata": {},
     "output_type": "execute_result"
    }
   ],
   "source": [
    "def shuttle_time(n, t):\n",
    "    shuttle = []\n",
    "    shuttle.append(\"09:00\")\n",
    "    hour = 9\n",
    "    minute = 0\n",
    "    for i in range(n-1):\n",
    "        minute += t\n",
    "        if minute >= 60:\n",
    "            hour += 1\n",
    "            minute = 0\n",
    "        if hour == 9:\n",
    "            if minute < 10:\n",
    "                tmp = \"09:0\" + str(minute)\n",
    "                shuttle.append(tmp)\n",
    "            else:\n",
    "                tmp = \"09:\" + str(minute)\n",
    "                shuttle.append(tmp)\n",
    "        else:\n",
    "            if minute < 10:\n",
    "                tmp = str(hour) + \":0\" + str(minute)\n",
    "            else:\n",
    "                tmp = str(hour) + \":\" + str(minute)\n",
    "            shuttle.append(tmp)\n",
    "    return shuttle\n",
    "\n",
    "def solution(n, t, m, timetable):\n",
    "    shuttle = shuttle_time(n, t)\n",
    "    print(shuttle)\n",
    "    timetable.sort()\n",
    "    for i in range(n):\n",
    "        cnt = 0\n",
    "        if len(timetable) < m:\n",
    "            return shuttle[-1]\n",
    "        if i == n-1:\n",
    "            if timetable[0] > shuttle[i]:\n",
    "                return shuttle[i]\n",
    "            hour, minute = timetable[m-1].split(':')\n",
    "            hour, minute = int(hour), int(minute)\n",
    "            minute -= 1\n",
    "            if minute == -1:\n",
    "                minute = 59\n",
    "                hour -= 1\n",
    "            if hour < 10:\n",
    "                if minute < 10:\n",
    "                    return \"0\" + str(hour) + \":0\" + str(minute)\n",
    "                else:\n",
    "                    return \"0\" + str(hour) + \":\" + str(minute)\n",
    "            else:\n",
    "                if minute < 10:\n",
    "                    return str(hour) + \":0\" + str(minute)\n",
    "                else:\n",
    "                    return str(hour) + \":\" + str(minute)\n",
    "            \n",
    "        for j in range(m-1, -1, -1):\n",
    "                if timetable[j] <= shuttle[i]:\n",
    "                    timetable.pop(j)\n",
    "\n",
    "\n",
    "timetable = ['09:10','08:00','09:09']\n",
    "n=2\n",
    "t=10\n",
    "m=2\n",
    "solution(n,t,m,timetable)\n"
   ]
  },
  {
   "cell_type": "code",
   "execution_count": 4,
   "metadata": {},
   "outputs": [
    {
     "data": {
      "text/plain": [
       "[[0, 0, 0, 0, 0],\n",
       " [0, 0, 0, 0, 0],\n",
       " [0, 0, 0, 0, 0],\n",
       " [0, 0, 0, 0, 0],\n",
       " [0, 0, 0, 0, 0]]"
      ]
     },
     "execution_count": 4,
     "metadata": {},
     "output_type": "execute_result"
    }
   ],
   "source": [
    "ret"
   ]
  },
  {
   "cell_type": "code",
   "execution_count": null,
   "metadata": {},
   "outputs": [],
   "source": []
  }
 ],
 "metadata": {
  "kernelspec": {
   "display_name": "Python 3",
   "language": "python",
   "name": "python3"
  },
  "language_info": {
   "codemirror_mode": {
    "name": "ipython",
    "version": 3
   },
   "file_extension": ".py",
   "mimetype": "text/x-python",
   "name": "python",
   "nbconvert_exporter": "python",
   "pygments_lexer": "ipython3",
   "version": "3.7.7"
  }
 },
 "nbformat": 4,
 "nbformat_minor": 4
}
