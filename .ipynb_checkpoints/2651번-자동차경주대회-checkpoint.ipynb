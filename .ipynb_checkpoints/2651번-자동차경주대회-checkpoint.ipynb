{
 "cells": [
  {
   "cell_type": "code",
   "execution_count": 31,
   "metadata": {},
   "outputs": [
    {
     "name": "stdout",
     "output_type": "stream",
     "text": [
      "140\n",
      "3\n",
      "1 2 3 4\n",
      "3 3 3\n",
      "0\n",
      "0\n",
      "0\n"
     ]
    }
   ],
   "source": [
    "max_dist = int(input())\n",
    "n = int(input())\n",
    "dists = [0] + list(map(int,input().split()))\n",
    "for i in range(1,n+2):\n",
    "    dists[i] += dists[i-1]\n",
    "fixes = [0] + list(map(int,input().split())) + [0]\n",
    "\n",
    "\n",
    "dp = [int(1e10) for _ in range(n+2)]\n",
    "dp_str = [[0]]\n",
    "dp[0] = 0\n",
    "for i in range(1,n+2):\n",
    "    _str = None\n",
    "    for j in range(i-1,-1,-1):\n",
    "        if dists[i] - dists[j]>max_dist:\n",
    "            break\n",
    "        if dp[i]>dp[j] + fixes[i]:\n",
    "            dp[i] = dp[j]+fixes[i]\n",
    "            _str = dp_str[j]\n",
    "    if _str is not None:\n",
    "        dp_str.append(_str + [i])\n",
    "    else:\n",
    "        dp_str.append([0])\n",
    "\n",
    "_str = dp_str[n+1][1:-1]\n",
    "print(dp[n+1])\n",
    "print(len(_str))\n",
    "if _str:\n",
    "    answer = ''\n",
    "    for s in _str:\n",
    "        answer += str(s) + ' '\n",
    "    print(answer[:-1])\n",
    "else:\n",
    "    print(0)\n",
    "    "
   ]
  },
  {
   "cell_type": "code",
   "execution_count": 30,
   "metadata": {},
   "outputs": [
    {
     "data": {
      "text/plain": [
       "[]"
      ]
     },
     "execution_count": 30,
     "metadata": {},
     "output_type": "execute_result"
    }
   ],
   "source": [
    "_str"
   ]
  },
  {
   "cell_type": "code",
   "execution_count": 21,
   "metadata": {},
   "outputs": [
    {
     "data": {
      "text/plain": [
       "[0, 1, 3, 5, 6]"
      ]
     },
     "execution_count": 21,
     "metadata": {},
     "output_type": "execute_result"
    }
   ],
   "source": [
    "dp_str[n+1]"
   ]
  },
  {
   "cell_type": "code",
   "execution_count": null,
   "metadata": {},
   "outputs": [],
   "source": []
  }
 ],
 "metadata": {
  "kernelspec": {
   "display_name": "Python 3",
   "language": "python",
   "name": "python3"
  },
  "language_info": {
   "codemirror_mode": {
    "name": "ipython",
    "version": 3
   },
   "file_extension": ".py",
   "mimetype": "text/x-python",
   "name": "python",
   "nbconvert_exporter": "python",
   "pygments_lexer": "ipython3",
   "version": "3.7.7"
  }
 },
 "nbformat": 4,
 "nbformat_minor": 4
}
