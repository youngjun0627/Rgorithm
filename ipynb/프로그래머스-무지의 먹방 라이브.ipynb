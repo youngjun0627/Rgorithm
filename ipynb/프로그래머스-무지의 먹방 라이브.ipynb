{
 "cells": [
  {
   "cell_type": "code",
   "execution_count": null,
   "metadata": {},
   "outputs": [],
   "source": [
    "def solution(food_times, k):\n",
    "    answer = 0\n",
    "    n = len(food_times)\n",
    "    if k<=n:\n",
    "        return n-k\n",
    "    while k>0:\n",
    "        cnt=0\n",
    "        _min=9999999\n",
    "        for i in range(n):\n",
    "            if food_times[i]!=0 and food_times[i]<_min:\n",
    "                _min = food_times[i]\n",
    "                cnt+=1\n",
    "        if k < cnt*_min:\n",
    "            answer = k%(cnt*_min)\n",
    "        else:\n",
    "            k-=cnt*_min\n",
    "    return answer"
   ]
  }
 ],
 "metadata": {
  "kernelspec": {
   "display_name": "Python 3",
   "language": "python",
   "name": "python3"
  },
  "language_info": {
   "codemirror_mode": {
    "name": "ipython",
    "version": 3
   },
   "file_extension": ".py",
   "mimetype": "text/x-python",
   "name": "python",
   "nbconvert_exporter": "python",
   "pygments_lexer": "ipython3",
   "version": "3.7.7"
  }
 },
 "nbformat": 4,
 "nbformat_minor": 4
}
