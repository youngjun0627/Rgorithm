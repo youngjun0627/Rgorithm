{
 "cells": [
  {
   "cell_type": "code",
   "execution_count": 1,
   "metadata": {},
   "outputs": [
    {
     "name": "stdout",
     "output_type": "stream",
     "text": [
      "[]\n",
      "['frodo']\n",
      "['frodo', 'crodo']\n",
      "['frodo', 'crodo', 'abc123']\n",
      "['frodo', 'crodo', 'abc123', 'fradi']\n",
      "['frodo', 'crodo', 'frodoc']\n",
      "['frodo', 'crodo', 'frodoc', 'fradi']\n",
      "['fradi']\n",
      "['fradi', 'frodo']\n",
      "['fradi', 'frodo', 'abc123']\n",
      "['fradi', 'frodo', 'abc123', 'crodo']\n",
      "['fradi', 'frodo', 'frodoc']\n",
      "['fradi', 'frodo', 'frodoc', 'crodo']\n",
      "['fradi', 'crodo']\n",
      "['fradi', 'crodo', 'abc123']\n",
      "['fradi', 'crodo', 'abc123', 'frodo']\n",
      "['fradi', 'crodo', 'frodoc']\n",
      "['fradi', 'crodo', 'frodoc', 'frodo']\n"
     ]
    },
    {
     "data": {
      "text/plain": [
       "2"
      ]
     },
     "execution_count": 1,
     "metadata": {},
     "output_type": "execute_result"
    }
   ],
   "source": [
    "def combi(temp, number, calculate):\n",
    "    global result\n",
    "    print(temp)\n",
    "    if len(temp) == len(calculate):\n",
    "        temp = set(temp)\n",
    "        if temp not in result:\n",
    "            result.append(temp)\n",
    "        return\n",
    "    else:\n",
    "        for j in range(len(calculate[number])):\n",
    "            if calculate[number][j] not in temp:\n",
    "                temp.append(calculate[number][j])\n",
    "                combi(temp, number+1, calculate)\n",
    "                temp.pop()\n",
    "result = []\n",
    "def solution(user_id, banned_id):\n",
    "    global result\n",
    "    calculate = []\n",
    "    for ban in banned_id:\n",
    "        possible=[]\n",
    "        for user in user_id:\n",
    "            if len(ban) != len(user):\n",
    "                continue\n",
    "            else:\n",
    "                count = 0\n",
    "                for i in range(len(ban)):\n",
    "                    if user[i] == ban[i]:\n",
    "                        count+=1\n",
    "                if count == len(ban)-ban.count('*'):\n",
    "                    possible.append(user)\n",
    "        calculate.append(possible)\n",
    "    \n",
    "    combi([], 0, calculate)\n",
    "    return len(result)\n",
    "user_id = [\"frodo\", \"fradi\", \"crodo\", \"abc123\", \"frodoc\"]\n",
    "banned_id = [\"fr*d*\", \"*rodo\", \"******\", \"*****\"]\n",
    "solution(user_id,banned_id)"
   ]
  },
  {
   "cell_type": "code",
   "execution_count": 18,
   "metadata": {},
   "outputs": [
    {
     "name": "stdout",
     "output_type": "stream",
     "text": [
      "[{'fradi', 'abc123', 'crodo', 'frodo'}, {'frodoc', 'fradi', 'crodo', 'frodo'}]\n"
     ]
    }
   ],
   "source": [
    "from itertools import permutations\n",
    "\n",
    "def solution(user_id, banned_id):\n",
    "    answer = []\n",
    "    pos=[]\n",
    "    result=[]\n",
    "    for banned in banned_id:\n",
    "        result.append([])\n",
    "        for user in user_id:\n",
    "            if func(user,banned):\n",
    "                result[len(result)-1].append(user)\n",
    "    \n",
    "    for perm in permutations(user_id,len(banned_id)):\n",
    "        #print(perm)\n",
    "        check=True\n",
    "        for i in range(len(banned_id)):\n",
    "            if perm[i] not in result[i]:\n",
    "                check=False\n",
    "                break\n",
    "        if check:\n",
    "            if set(perm) not in answer:\n",
    "                answer.append(set(perm))\n",
    "    \n",
    "    return len(answer)\n",
    "\n",
    "def func(user,banned):\n",
    "    if len(banned)==len(user):\n",
    "        for i in range(len(user)):\n",
    "            if banned[i]=='*':\n",
    "                continue\n",
    "            if user[i]==banned[i]:\n",
    "                continue\n",
    "            return False\n",
    "    else:\n",
    "        return False\n",
    "    return True"
   ]
  },
  {
   "cell_type": "code",
   "execution_count": 14,
   "metadata": {},
   "outputs": [
    {
     "data": {
      "text/plain": [
       "6"
      ]
     },
     "execution_count": 14,
     "metadata": {},
     "output_type": "execute_result"
    }
   ],
   "source": [
    "s"
   ]
  },
  {
   "cell_type": "code",
   "execution_count": null,
   "metadata": {},
   "outputs": [],
   "source": []
  }
 ],
 "metadata": {
  "kernelspec": {
   "display_name": "Python 3",
   "language": "python",
   "name": "python3"
  },
  "language_info": {
   "codemirror_mode": {
    "name": "ipython",
    "version": 3
   },
   "file_extension": ".py",
   "mimetype": "text/x-python",
   "name": "python",
   "nbconvert_exporter": "python",
   "pygments_lexer": "ipython3",
   "version": "3.7.7"
  }
 },
 "nbformat": 4,
 "nbformat_minor": 4
}
