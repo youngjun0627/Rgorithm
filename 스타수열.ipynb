{
 "cells": [
  {
   "cell_type": "code",
   "execution_count": 21,
   "metadata": {},
   "outputs": [
    {
     "name": "stdout",
     "output_type": "stream",
     "text": [
      "[0, 3, 3, 0, 7, 0, 2, 0]\n",
      "[0, 3, 3, 0, 7, 0, 2, 0]\n",
      "[0, 3, 3, 0, 2, 0, 2, 0]\n",
      "[0, 3, 3, 0, 2, 0, 2, 0]\n",
      "[0, 3, 3, 0, 0, 2, 2, 0]\n",
      "[0, 3, 0, 7, 2, 0, 2, 0]\n",
      "[0, 3, 0, 7, 2, 0, 2, 0]\n",
      "[0, 3, 0, 7, 0, 2, 2, 0]\n",
      "[0, 3, 0, 2, 0, 2, 2, 0]\n",
      "[0, 3, 0, 7, 2, 0, 2, 0]\n",
      "[0, 3, 0, 7, 2, 0, 2, 0]\n",
      "[0, 3, 0, 7, 0, 2, 2, 0]\n",
      "[0, 3, 0, 2, 0, 2, 2, 0]\n"
     ]
    },
    {
     "data": {
      "text/plain": [
       "8"
      ]
     },
     "execution_count": 21,
     "metadata": {},
     "output_type": "execute_result"
    }
   ],
   "source": [
    "def solution(a):\n",
    "    answer=0\n",
    "    chk=False\n",
    "    for i in range(len(a),1,-1):\n",
    "        result = func(a,i)\n",
    "        for res in result:\n",
    "            if check(res):\n",
    "                answer = len(res)\n",
    "                chk=True\n",
    "        if chk:\n",
    "            break\n",
    "    return answer\n",
    "\n",
    "def func(a,r):\n",
    "    output = []\n",
    "    def recursive(arr,start):\n",
    "        \n",
    "        if len(arr)==r:\n",
    "            output.append(arr[:])\n",
    "            return\n",
    "        for i in range(start,len(a)):\n",
    "            arr.append(a[i])\n",
    "            recursive(arr,i+1)\n",
    "            arr.pop()\n",
    "    recursive([],0)\n",
    "    return output\n",
    "\n",
    "\n",
    "def check(arr):\n",
    "    if not (len(arr)>=2 and len(arr)%2==0):\n",
    "        return False\n",
    "    dic={}\n",
    "    for i in range(0,len(arr),2):\n",
    "        if arr[i]==arr[i+1]:\n",
    "            return False\n",
    "        if arr[i] not in dic:\n",
    "            dic[arr[i]]=0\n",
    "        if arr[i+1] not in dic:\n",
    "            dic[arr[i+1]]=0\n",
    "        dic[arr[i]]+=1\n",
    "        dic[arr[i+1]]+=1\n",
    "    for v in dic.values():\n",
    "        if v==len(arr)//2:\n",
    "            return True\n",
    "    return False\n",
    "    \n",
    "    \n",
    "solution([0,3,3,0,7,2,0,2,2,0])"
   ]
  },
  {
   "cell_type": "code",
   "execution_count": 31,
   "metadata": {},
   "outputs": [
    {
     "data": {
      "text/plain": [
       "8"
      ]
     },
     "execution_count": 31,
     "metadata": {},
     "output_type": "execute_result"
    }
   ],
   "source": [
    "import sys\n",
    "sys.setrecursionlimit(100000000)\n",
    "def solution(a):\n",
    "    answer=0\n",
    "    chk=False\n",
    "    for i in range(len(a),1,-1):\n",
    "        result = func(a,i)\n",
    "        if result!=-1:\n",
    "            answer=result\n",
    "            break\n",
    "    return answer\n",
    "\n",
    "\n",
    "def func(a,r):\n",
    "    output = []\n",
    "    chk = False\n",
    "    answer = -1\n",
    "    def recursive(arr,start):\n",
    "        nonlocal chk\n",
    "        nonlocal answer\n",
    "        if len(arr)==r:\n",
    "            temp = arr[:]\n",
    "            if check(temp):\n",
    "                answer=len(temp)\n",
    "                chk = True\n",
    "            return\n",
    "        for i in range(start,len(a)):\n",
    "            arr.append(a[i])\n",
    "            recursive(arr,i+1)\n",
    "            if chk:\n",
    "                break\n",
    "            arr.pop()\n",
    "    recursive([],0)\n",
    "    return answer\n",
    "\n",
    "\n",
    "def check(arr):\n",
    "    if not (len(arr)>=2 and len(arr)%2==0):\n",
    "        return False\n",
    "    dic={}\n",
    "    for i in range(0,len(arr),2):\n",
    "        if arr[i]==arr[i+1]:\n",
    "            return False\n",
    "        if arr[i] not in dic:\n",
    "            dic[arr[i]]=0\n",
    "        if arr[i+1] not in dic:\n",
    "            dic[arr[i+1]]=0\n",
    "        dic[arr[i]]+=1\n",
    "        dic[arr[i+1]]+=1\n",
    "    for v in dic.values():\n",
    "        if v==len(arr)//2:\n",
    "            return True\n",
    "    return False\n",
    "solution([0,3,3,0,7,2,0,2,2,0])"
   ]
  },
  {
   "cell_type": "code",
   "execution_count": null,
   "metadata": {},
   "outputs": [],
   "source": []
  }
 ],
 "metadata": {
  "kernelspec": {
   "display_name": "Python 3",
   "language": "python",
   "name": "python3"
  },
  "language_info": {
   "codemirror_mode": {
    "name": "ipython",
    "version": 3
   },
   "file_extension": ".py",
   "mimetype": "text/x-python",
   "name": "python",
   "nbconvert_exporter": "python",
   "pygments_lexer": "ipython3",
   "version": "3.7.7"
  }
 },
 "nbformat": 4,
 "nbformat_minor": 4
}
