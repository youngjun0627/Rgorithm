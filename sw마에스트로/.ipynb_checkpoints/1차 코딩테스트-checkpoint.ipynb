{
 "cells": [
  {
   "cell_type": "code",
   "execution_count": 5,
   "metadata": {},
   "outputs": [
    {
     "name": "stdout",
     "output_type": "stream",
     "text": [
      "h g f w r\n",
      "4\n",
      "h g\n",
      "h f\n",
      "g r\n",
      "g w\n",
      "h g r\n",
      "h g w\n",
      "h f\n"
     ]
    }
   ],
   "source": [
    "from collections import deque\n",
    "\n",
    "skills = list(map(str,input().split()))\n",
    "\n",
    "dic = {}\n",
    "for skill in skills:\n",
    "    dic[skill] = []\n",
    "\n",
    "learn_skill_num = int(input())\n",
    "for _ in range(learn_skill_num):\n",
    "    a,b = map(str,input().split())\n",
    "    dic[b].append(a)\n",
    "\n",
    "\n",
    "q = deque()\n",
    "\n",
    "for key in skills:\n",
    "    if len(dic[key])==0:\n",
    "        q.append((key,key))\n",
    "\n",
    "result=[]\n",
    "while q:\n",
    "    cur,sk = q.popleft()\n",
    "    \n",
    "    check = False\n",
    "    for second in skills:\n",
    "        first = dic[second]\n",
    "        #for first in dic[second]:\n",
    "        if cur in first:\n",
    "                q.append((second,sk+second))\n",
    "                check=True\n",
    "    if not check:\n",
    "        result.append(sk)\n",
    "        \n",
    "\n",
    "for re in result[::-1]:\n",
    "    _str = ''\n",
    "    for idx,r in enumerate(re):\n",
    "        if idx==len(re)-1:\n",
    "            _str+=r\n",
    "        else:\n",
    "            _str+=r + ' '\n",
    "    print(_str)\n",
    "\n"
   ]
  },
  {
   "cell_type": "code",
   "execution_count": 32,
   "metadata": {},
   "outputs": [
    {
     "name": "stdout",
     "output_type": "stream",
     "text": [
      "2 7 4\n",
      "1 10\n",
      "1 5\n",
      "1 7\n",
      "2 10\n",
      "2 1\n",
      "2 3\n",
      "2 7\n",
      "4000\n"
     ]
    }
   ],
   "source": [
    "#2번\n",
    "def main():\n",
    "    p,n,h = map(int,input().split())\n",
    "    dic = {}\n",
    "    for i in range(1,p+1):\n",
    "        dic[i]=[]\n",
    "    for _ in range(n):\n",
    "        x,y = map(int,input().split())\n",
    "        dic[x].append(y)\n",
    "\n",
    "    answer=0\n",
    "    for key, value in dic.items():\n",
    "        value.sort()\n",
    "        arr = [0]\n",
    "        \n",
    "        for time in value:\n",
    "            if time>h:\n",
    "                break\n",
    "            \n",
    "            for a in arr:\n",
    "                if a+time not in arr and a+time<=h:\n",
    "                    arr.append(a+time)\n",
    "            if time not in arr:\n",
    "                arr.append(time)\n",
    "        answer+=max(arr)*1000\n",
    "        #print(arr)\n",
    "    print(answer)\n",
    "if __name__==\"__main__\":\n",
    "    main()\n",
    "\n"
   ]
  },
  {
   "cell_type": "code",
   "execution_count": 37,
   "metadata": {},
   "outputs": [
    {
     "name": "stdout",
     "output_type": "stream",
     "text": [
      "6 3 13\n",
      "2 4 5 8 11 12\n",
      "5\n"
     ]
    }
   ],
   "source": [
    "def main():\n",
    "    total,eating,start = map(int,input().split())\n",
    "    cutt = list(map(int,input().split()))\n",
    "    \n",
    "    visit=set()\n",
    "    result = []\n",
    "    for _ in range(eating):\n",
    "        dist = 99999999\n",
    "        cand = 0\n",
    "        for cut in cutt:\n",
    "            if cut not in visit:\n",
    "                _dist = abs(start-cut)\n",
    "                if _dist<dist:\n",
    "                    dist=_dist\n",
    "                    cand = cut\n",
    "        visit.add(cand)\n",
    "        result.append(cand)\n",
    "    result.append(start)\n",
    "    result.sort()\n",
    "    print(result[len(result)-1]-result[0])\n",
    "    \n",
    "    \n",
    "\n",
    "if __name__==\"__main__\":\n",
    "    main()"
   ]
  },
  {
   "cell_type": "code",
   "execution_count": 13,
   "metadata": {},
   "outputs": [
    {
     "name": "stdout",
     "output_type": "stream",
     "text": [
      "10\n",
      "3 5 -1 -2 4 4 3 -2 -3 -2\n",
      "8\n"
     ]
    }
   ],
   "source": [
    "from collections import deque\n",
    "\n",
    "def main():\n",
    "    answer=0\n",
    "    input()\n",
    "    board = list(map(int,input().split()))\n",
    "    starts = [0,1,2]\n",
    "    for start in starts:\n",
    "        q=deque()\n",
    "        visit=set()\n",
    "        q.append(start)\n",
    "        \n",
    "        while q :\n",
    "            cur_idx = q.popleft()\n",
    "            visit.add(cur_idx)\n",
    "            \n",
    "            cur_value = board[cur_idx]\n",
    "            next_idx = cur_idx+cur_value\n",
    "            if next_idx in visit:\n",
    "                break\n",
    "            else:\n",
    "                q.append(next_idx)\n",
    "            \n",
    "        answer=max(len(visit),answer)\n",
    "        \n",
    "    print(answer+1)\n",
    "\n",
    "if __name__==\"__main__\":\n",
    "    main()"
   ]
  },
  {
   "cell_type": "code",
   "execution_count": 15,
   "metadata": {},
   "outputs": [
    {
     "name": "stdout",
     "output_type": "stream",
     "text": [
      "2\n",
      "1 3 1 3 5\n",
      "2 2 2 4\n",
      "3 2 1 2\n",
      "4 1 3\n",
      "13\n"
     ]
    }
   ],
   "source": [
    "#5\n",
    "\n",
    "def main():\n",
    "    n = int(input())\n",
    "    dic = {}\n",
    "    for _ in range(n*n):\n",
    "        temp = list(map(int,input().split()))\n",
    "        si = temp[0]\n",
    "        ki = temp[1]\n",
    "        times = temp[2:]\n",
    "        for time in times:\n",
    "            if time not in dic:\n",
    "                dic[time]=[]\n",
    "            dic[time].append(si)\n",
    "    answer=0\n",
    "    for k,v in dic.items():\n",
    "        answer+=max(v)\n",
    "    print(answer)\n",
    "if __name__==\"__main__\":\n",
    "    main()"
   ]
  },
  {
   "cell_type": "code",
   "execution_count": 20,
   "metadata": {},
   "outputs": [
    {
     "name": "stdout",
     "output_type": "stream",
     "text": [
      "8\n",
      "1 3 10 9 6 2 3 2\n",
      "19\n"
     ]
    }
   ],
   "source": [
    "#6\n",
    "\n",
    "def main():\n",
    "    n = int(input())\n",
    "    arr = list(map(int,input().split()))\n",
    "    answer = 0\n",
    "    _max = len(arr)\n",
    "    _min = 0\n",
    "    while True:\n",
    "        if len(arr)==1:\n",
    "            break\n",
    "        mid=(_min+_max)//2\n",
    "        #print(arr)\n",
    "        a = max(arr[_min:mid])\n",
    "        b = max(arr[mid:_max])\n",
    "        if a>b:\n",
    "            answer += a\n",
    "            arr = arr[mid:_max]\n",
    "            _max = mid\n",
    "        else:\n",
    "            answer += b\n",
    "            arr = arr[_min:mid]\n",
    "            _max = mid\n",
    "    print(answer)\n",
    "\n",
    "if __name__==\"__main__\":\n",
    "    main()"
   ]
  },
  {
   "cell_type": "code",
   "execution_count": null,
   "metadata": {},
   "outputs": [],
   "source": [
    "1 3 10 9 6 2 3 2"
   ]
  }
 ],
 "metadata": {
  "kernelspec": {
   "display_name": "Python 3",
   "language": "python",
   "name": "python3"
  },
  "language_info": {
   "codemirror_mode": {
    "name": "ipython",
    "version": 3
   },
   "file_extension": ".py",
   "mimetype": "text/x-python",
   "name": "python",
   "nbconvert_exporter": "python",
   "pygments_lexer": "ipython3",
   "version": "3.7.7"
  }
 },
 "nbformat": 4,
 "nbformat_minor": 4
}
