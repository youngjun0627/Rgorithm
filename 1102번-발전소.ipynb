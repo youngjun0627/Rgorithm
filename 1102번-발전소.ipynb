{
 "cells": [
  {
   "cell_type": "code",
   "execution_count": 43,
   "metadata": {},
   "outputs": [
    {
     "name": "stdout",
     "output_type": "stream",
     "text": [
      "16\n",
      "1 1 1 1 1 1 1 1 1 1 1 1 1 1 1 1\n",
      "1 1 1 1 1 1 1 1 1 1 1 1 1 1 1 1\n",
      "1 1 1 1 1 1 1 1 1 1 1 1 1 1 1 1\n",
      "1 1 1 1 1 1 1 1 1 1 1 1 1 1 1 1\n",
      "1 1 1 1 1 1 1 1 1 1 1 1 1 1 1 1\n",
      "1 1 1 1 1 1 1 1 1 1 1 1 1 1 1 1\n",
      "1 1 1 1 1 1 1 1 1 1 1 1 1 1 1 1\n",
      "1 1 1 1 1 1 1 1 1 1 1 1 1 1 1 1\n",
      "1 1 1 1 1 1 1 1 1 1 1 1 1 1 1 1\n",
      "1 1 1 1 1 1 1 1 1 1 1 1 1 1 1 1\n",
      "1 1 1 1 1 1 1 1 1 1 1 1 1 1 1 1\n",
      "1 1 1 1 1 1 1 1 1 1 1 1 1 1 1 1\n",
      "1 1 1 1 1 1 1 1 1 1 1 1 1 1 1 1\n",
      "1 1 1 1 1 1 1 1 1 1 1 1 1 1 1 1\n",
      "1 1 1 1 1 1 1 1 1 1 1 1 1 1 1 1\n",
      "1 1 1 1 1 1 1 1 1 1 1 1 1 1 1 1\n",
      "YNNNNNNNNNNNNNNN\n",
      "16\n",
      "15\n"
     ]
    }
   ],
   "source": [
    "import sys\n",
    "\n",
    "n = int(sys.stdin.readline())\n",
    "edges = {i:{} for i in range(n)}\n",
    "for i in range(n):\n",
    "    temp = list(map(int,sys.stdin.readline().split()))\n",
    "    for j in range(n):\n",
    "        if i==j:\n",
    "            continue\n",
    "        edges[i][j] = temp[j]\n",
    "state = 0\n",
    "for i,c in enumerate(list(sys.stdin.readline())):\n",
    "    if c=='Y':\n",
    "        state |= (1<<i)\n",
    "p = int(sys.stdin.readline())\n",
    "visit = [-1] * (1<<16)\n",
    "\n",
    "def check(state, p):\n",
    "    result = 0\n",
    "    for i in range(n):\n",
    "        if state & (1<<i):\n",
    "            result +=1\n",
    "    if result>=p:\n",
    "        return True\n",
    "    return False\n",
    "\n",
    "answer = 100000000\n",
    "def dfs(state, p):\n",
    "    if check(state,p):\n",
    "        return 0\n",
    "    if visit[state] != -1:\n",
    "        return visit[state]\n",
    "    \n",
    "    visit[state] = 99999999\n",
    "    for i in range(n):\n",
    "        if state & (1<<i):\n",
    "            for j in edges[i]:\n",
    "                if not (state & (1<<j)):\n",
    "                    visit[state] = min(visit[state], dfs(state | (1<<j),p) + edges[i][j])\n",
    "    return visit[state]\n",
    "\n",
    "if check(state,p):\n",
    "    print(0)\n",
    "else:\n",
    "    answer = dfs(state,p)\n",
    "    if answer == 99999999:\n",
    "        print(-1)\n",
    "    else:\n",
    "        print(answer)"
   ]
  },
  {
   "cell_type": "code",
   "execution_count": 39,
   "metadata": {},
   "outputs": [
    {
     "name": "stdout",
     "output_type": "stream",
     "text": [
      "21\n"
     ]
    }
   ],
   "source": []
  },
  {
   "cell_type": "code",
   "execution_count": 25,
   "metadata": {},
   "outputs": [
    {
     "data": {
      "text/plain": [
       "21"
      ]
     },
     "execution_count": 25,
     "metadata": {},
     "output_type": "execute_result"
    }
   ],
   "source": [
    "answer"
   ]
  },
  {
   "cell_type": "code",
   "execution_count": 4,
   "metadata": {},
   "outputs": [
    {
     "data": {
      "text/plain": [
       "1"
      ]
     },
     "execution_count": 4,
     "metadata": {},
     "output_type": "execute_result"
    }
   ],
   "source": [
    "state"
   ]
  },
  {
   "cell_type": "code",
   "execution_count": null,
   "metadata": {},
   "outputs": [],
   "source": []
  }
 ],
 "metadata": {
  "kernelspec": {
   "display_name": "Python 3",
   "language": "python",
   "name": "python3"
  },
  "language_info": {
   "codemirror_mode": {
    "name": "ipython",
    "version": 3
   },
   "file_extension": ".py",
   "mimetype": "text/x-python",
   "name": "python",
   "nbconvert_exporter": "python",
   "pygments_lexer": "ipython3",
   "version": "3.7.7"
  }
 },
 "nbformat": 4,
 "nbformat_minor": 4
}
