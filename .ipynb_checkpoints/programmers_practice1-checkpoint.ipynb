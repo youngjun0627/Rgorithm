{
 "cells": [
  {
   "cell_type": "code",
   "execution_count": 79,
   "metadata": {},
   "outputs": [
    {
     "data": {
      "text/plain": [
       "[[7, 4, 6, 9, 10, 1, 8, 5, 2, 3], [10, 9, 6, 5, 8, 1, 4, 3, 2, 7]]"
      ]
     },
     "execution_count": 79,
     "metadata": {},
     "output_type": "execute_result"
    }
   ],
   "source": [
    "#라이언 길찾기 게임\n",
    "class node(object):\n",
    "    def __init__(self,index,x,y):\n",
    "        self.index = index\n",
    "        self.x = x\n",
    "        self.y = y\n",
    "        self.left = None\n",
    "        self.right = None\n",
    "class Tree(object):\n",
    "    def __init__(self):\n",
    "        self.root  = node(None,x=None,y=None)\n",
    "    \n",
    "    def insert(self,arr):\n",
    "        index,x,y = arr\n",
    "        newnode = node(index,x,y)\n",
    "        if self.root.right==None:\n",
    "            self.root.right = newnode\n",
    "        else:\n",
    "            parent = self.root.right\n",
    "            while True:\n",
    "                if x<parent.x:\n",
    "                    if parent.left!= None:\n",
    "                        parent = parent.left\n",
    "                    else:\n",
    "                        parent.left = newnode\n",
    "                        return\n",
    "                else:\n",
    "                    if parent.right!= None:\n",
    "                        parent = parent.right\n",
    "                    else:\n",
    "                        parent.right = newnode\n",
    "                        return\n",
    "    def findroot(self):\n",
    "        return self.root.right\n",
    "result1 = []\n",
    "result2 = []    \n",
    "def aa(n):\n",
    "    global result1\n",
    "    if n!=None:\n",
    "        result1.append(n.index)\n",
    "        aa(n.left)\n",
    "        aa(n.right)\n",
    "\n",
    "def bb(n):\n",
    "    global result2\n",
    "    if n!=None:\n",
    "        bb(n.left)\n",
    "        bb(n.right)\n",
    "        result2.append(n.index)\n",
    "    \n",
    "\n",
    "def solution(nodeinfo):\n",
    "    answer = []\n",
    "    temp = []\n",
    "    index=1\n",
    "    for node in nodeinfo:\n",
    "        x,y = node\n",
    "        temp.append((y,x,index))\n",
    "        index+=1\n",
    "    temp.sort()\n",
    "    temp = temp[::-1]\n",
    "    tree = Tree()\n",
    "    for t in temp:\n",
    "        y,x,index = t\n",
    "        tree.insert((index,x,y))\n",
    "    root = tree.findroot()\n",
    "    aa(root)\n",
    "    bb(root)\n",
    "    answer.append(result1)\n",
    "    answer.append(result2)\n",
    "    return answer\n",
    "\n",
    "nodeinfo = [[5,3],[11,5],[13,3],[3,5],[6,1],[1,3],[8,6],[7,2],[2,2],[1,1]]\n",
    "solution(nodeinfo)"
   ]
  },
  {
   "cell_type": "markdown",
   "metadata": {},
   "source": [
    "\n",
    "## "
   ]
  },
  {
   "cell_type": "code",
   "execution_count": 21,
   "metadata": {},
   "outputs": [
    {
     "name": "stdout",
     "output_type": "stream",
     "text": [
      "[(3, 5), (6, 2), (7, 3), (4, 3), (1, 2)]\n",
      "[(1, 2), (3, 5), (4, 3), (6, 2), (7, 3)]\n"
     ]
    }
   ],
   "source": [
    "li = [(1,2),(4,3),(7,3),(6,2),(3,5)]\n",
    "li = li[::-1]\n",
    "for a in li\n",
    "print(li)\n",
    "li.sort()\n",
    "print(li)"
   ]
  },
  {
   "cell_type": "code",
   "execution_count": null,
   "metadata": {},
   "outputs": [],
   "source": []
  }
 ],
 "metadata": {
  "kernelspec": {
   "display_name": "Python 3",
   "language": "python",
   "name": "python3"
  },
  "language_info": {
   "codemirror_mode": {
    "name": "ipython",
    "version": 3
   },
   "file_extension": ".py",
   "mimetype": "text/x-python",
   "name": "python",
   "nbconvert_exporter": "python",
   "pygments_lexer": "ipython3",
   "version": "3.7.6"
  }
 },
 "nbformat": 4,
 "nbformat_minor": 4
}
