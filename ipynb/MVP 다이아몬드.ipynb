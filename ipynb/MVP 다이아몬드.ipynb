{
 "cells": [
  {
   "cell_type": "code",
   "execution_count": 13,
   "metadata": {},
   "outputs": [
    {
     "name": "stdout",
     "output_type": "stream",
     "text": [
      "8\n",
      "30 60 90 150\n",
      "BSDDPGSG\n",
      "537\n"
     ]
    }
   ],
   "source": [
    "#easy\n",
    "\n",
    "N = int(input())\n",
    "s,g,p,d = map(int,input().split())\n",
    "rating = input()\n",
    "pre = 0\n",
    "answer=0\n",
    "for idx,ra in enumerate(rating):\n",
    "    if idx==0:\n",
    "        if ra=='B':\n",
    "            pre = s-1\n",
    "            answer+=s-1\n",
    "        elif ra=='S':\n",
    "            pre = g-1\n",
    "            answer+=g-1\n",
    "        elif ra=='G':\n",
    "            pre = p-1\n",
    "            answer+=p-1\n",
    "        elif ra=='P':\n",
    "            pre = d-1\n",
    "            answer+=d-1\n",
    "        elif ra=='D':\n",
    "            pre = d\n",
    "            answer+=d\n",
    "        continue\n",
    "    if ra=='B':\n",
    "        pre = s-1-pre\n",
    "        answer+=pre\n",
    "    elif ra=='S':\n",
    "        pre = g-1-pre\n",
    "        answer+=pre\n",
    "    elif ra=='G':\n",
    "        pre = p-1-pre\n",
    "        answer+=pre\n",
    "    elif ra=='P':\n",
    "        pre = d-1-pre\n",
    "        answer+=pre\n",
    "    elif ra=='D':\n",
    "        pre = d\n",
    "        answer+=pre\n",
    "    \n",
    "print(answer)"
   ]
  },
  {
   "cell_type": "markdown",
   "metadata": {},
   "source": [
    "89 a+b\n",
    "59 b+c\n",
    "89 c+d\n",
    "149 d+e\n",
    "150 e+f\n",
    "150 f+g\n",
    "59 g+h\n",
    "29 h+i"
   ]
  }
 ],
 "metadata": {
  "kernelspec": {
   "display_name": "Python 3",
   "language": "python",
   "name": "python3"
  },
  "language_info": {
   "codemirror_mode": {
    "name": "ipython",
    "version": 3
   },
   "file_extension": ".py",
   "mimetype": "text/x-python",
   "name": "python",
   "nbconvert_exporter": "python",
   "pygments_lexer": "ipython3",
   "version": "3.7.7"
  }
 },
 "nbformat": 4,
 "nbformat_minor": 4
}
