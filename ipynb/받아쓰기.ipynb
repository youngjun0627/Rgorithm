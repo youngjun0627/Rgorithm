{
 "cells": [
  {
   "cell_type": "code",
   "execution_count": 4,
   "metadata": {},
   "outputs": [
    {
     "name": "stdout",
     "output_type": "stream",
     "text": [
      "4 6\n",
      "piza\n",
      "piztqa\n",
      "2\n"
     ]
    }
   ],
   "source": [
    "\n",
    "n,m = map(int,input().split())\n",
    "a = input()\n",
    "b = input()\n",
    "dp = [['' for _ in range(m+1)] for _ in range(n+1)]\n",
    "\n",
    "\n",
    "for i in range(1,n+1):\n",
    "    for j in range(1,m+1):\n",
    "        if a[i-1]==b[j-1] or (a[i-1]=='i' and b[j-1]=='j') or (a[i-1]=='i' and b[j-1]=='l') or (a[i-1]=='v' and b[j-1]=='w'):\n",
    "            dp[i][j] = dp[i-1][j-1]+b[j-1]\n",
    "        else:\n",
    "            if len(dp[i-1][j])>len(dp[i][j-1]):\n",
    "                dp[i][j] = dp[i-1][j]\n",
    "            else:\n",
    "                dp[i][j] = dp[i][j-1]\n",
    "i=-1\n",
    "j=-1\n",
    "answer=0\n",
    "output = dp[n][m]\n",
    "for idx,out in enumerate(output):\n",
    "    cnt1=0\n",
    "    cnt2=0\n",
    "    \n",
    "    while i<n-1:\n",
    "        i+=1\n",
    "        if a[i]==out or (a[i]=='v' and out=='w') or (a[i]=='i' and out=='j') or (a[i]=='i' and out=='l'):\n",
    "            break\n",
    "        cnt1+=1\n",
    "    while j<m-1:\n",
    "        j+=1\n",
    "        if b[j]==out:\n",
    "            break\n",
    "        \n",
    "        cnt2+=1\n",
    "    #print(cnt1,cnt2)\n",
    "    answer+=max(cnt2,cnt1)\n",
    "answer+=max(m-j-1,n-i-1)\n",
    "print(answer)\n",
    "#print(output)\n"
   ]
  },
  {
   "cell_type": "code",
   "execution_count": 97,
   "metadata": {},
   "outputs": [
    {
     "name": "stdout",
     "output_type": "stream",
     "text": [
      "4 6\n",
      "piza\n",
      "pizzaa\n"
     ]
    }
   ],
   "source": [
    "n,m = map(int,input().split())\n",
    "a = input()\n",
    "b = input()\n",
    "dp = [[0 for _ in range(m+1)] for _ in range(n+1)]\n",
    "\n",
    "\n",
    "for i in range(1,n+1):\n",
    "    for j in range(1,m+1):\n",
    "        if a[i-1]==b[j-1] or (a[i-1]=='i' and b[j-1]=='j') or (a[i-1]=='i' and b[j-1]=='l') or (a[i-1]=='v' and b[j-1]=='w'):\n",
    "            dp[i][j] = dp[i-1][j-1]+1\n",
    "        else:\n",
    "            dp[i][j] = max(dp[i-1][j],dp[i][j-1])\n",
    "\n",
    "output = ''\n",
    "\n",
    "def backtracking(i,j,a,b,dp):\n",
    "    global output\n",
    "    \n",
    "    if i==0 or j==0:\n",
    "        #if dp[i][j]==1:\n",
    "        #    output+=a[0]\n",
    "        return\n",
    "    if dp[i][j]==dp[i-1][j-1]+1:\n",
    "        output+=b[j-1]\n",
    "        backtracking(i-1,j-1,a,b,dp)\n",
    "        \n",
    "    elif dp[i][j]==dp[i][j-1]:\n",
    "            backtracking(i,j-1,a,b,dp)\n",
    "            \n",
    "    elif dp[i][j]==dp[i-1][j]:\n",
    "            backtracking(i-1,j,a,b,dp)\n",
    "        \n",
    "\n",
    "        \n",
    "        \n",
    "\n",
    "backtracking(n,m,a,b,dp)\n",
    "output = output[::-1]\n",
    "\n"
   ]
  },
  {
   "cell_type": "code",
   "execution_count": 98,
   "metadata": {},
   "outputs": [
    {
     "data": {
      "text/plain": [
       "[['', '', '', '', '', '', ''],\n",
       " ['', 'p', 'p', 'p', 'p', 'p', 'p'],\n",
       " ['', 'p', 'pi', 'pi', 'pi', 'pi', 'pi'],\n",
       " ['', 'p', 'pi', 'piz', 'piz', 'piz', 'piz'],\n",
       " ['', 'p', 'pi', 'piz', 'piz', 'piza', 'piza']]"
      ]
     },
     "execution_count": 98,
     "metadata": {},
     "output_type": "execute_result"
    }
   ],
   "source": [
    "\n",
    "n,m = map(int,input().split())\n",
    "a = input()\n",
    "b = input()\n",
    "dp = [['' for _ in range(m+1)] for _ in range(n+1)]\n",
    "\n",
    "\n",
    "for i in range(1,n+1):\n",
    "    for j in range(1,m+1):\n",
    "        if a[i-1]==b[j-1] or (a[i-1]=='i' and b[j-1]=='j') or (a[i-1]=='i' and b[j-1]=='l') or (a[i-1]=='v' and b[j-1]=='w'):\n",
    "            dp[i][j] = dp[i-1][j-1]+b[j-1]\n",
    "        else:\n",
    "            if len(dp[i-1][j])>len(dp[i][j-1]):\n",
    "                dp[i][j] = dp[i-1][j]\n",
    "            else:\n",
    "                dp[i][j] = dp[i][j-1]\n",
    "i=-1\n",
    "j=-1\n",
    "answer=0\n",
    "output = dp[n][m]\n",
    "for idx,out in enumerate(output):\n",
    "    cnt1=0\n",
    "    cnt2=0\n",
    "    \n",
    "    while i<n-1:\n",
    "        i+=1\n",
    "        if a[i]==out or (a[i]=='v' and out=='w') or (a[i]=='i' and out=='j') or (a[i]=='i' and out=='l'):\n",
    "            break\n",
    "        cnt1+=1\n",
    "    while j<m-1:\n",
    "        j+=1\n",
    "        if b[j]==out:\n",
    "            break\n",
    "        \n",
    "        cnt2+=1\n",
    "    #print(cnt1,cnt2)\n",
    "    answer+=max(cnt2,cnt1)\n",
    "answer+=max(m-j-1,n-i-1)\n",
    "print(answer)\n",
    "#print(output)\n"
   ]
  },
  {
   "cell_type": "code",
   "execution_count": null,
   "metadata": {},
   "outputs": [],
   "source": []
  }
 ],
 "metadata": {
  "kernelspec": {
   "display_name": "Python 3",
   "language": "python",
   "name": "python3"
  },
  "language_info": {
   "codemirror_mode": {
    "name": "ipython",
    "version": 3
   },
   "file_extension": ".py",
   "mimetype": "text/x-python",
   "name": "python",
   "nbconvert_exporter": "python",
   "pygments_lexer": "ipython3",
   "version": "3.7.7"
  }
 },
 "nbformat": 4,
 "nbformat_minor": 4
}
