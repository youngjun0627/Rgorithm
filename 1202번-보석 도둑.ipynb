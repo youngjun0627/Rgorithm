{
 "cells": [
  {
   "cell_type": "code",
   "execution_count": 13,
   "metadata": {},
   "outputs": [
    {
     "name": "stdout",
     "output_type": "stream",
     "text": [
      "3 2\n",
      "1 65\n",
      "5 23\n",
      "2 99\n",
      "10\n",
      "2\n",
      "164\n"
     ]
    }
   ],
   "source": [
    "import heapq\n",
    "\n",
    "n, k = map(int,input().split())\n",
    "items = []\n",
    "bags = []\n",
    "answer=0\n",
    "for _ in range(n):\n",
    "    m,v = map(int,input().split())\n",
    "    heapq.heappush(items,[m,v])\n",
    "    #items.append([m,v])\n",
    "#items.sort(key=lambda x : -x[1])\n",
    "\n",
    "for _ in range(k):\n",
    "    bags.append(int(input()))\n",
    "bags.sort()\n",
    "\n",
    "result = []\n",
    "for bag in bags:\n",
    "    while items and bag>=items[0][0]:\n",
    "        m,v = heapq.heappop(items)\n",
    "        heapq.heappush(result,-v)\n",
    "    if result:\n",
    "        answer+= -heapq.heappop(result)\n",
    "    elif not items:\n",
    "        break\n",
    "        \n",
    "print(answer)"
   ]
  },
  {
   "cell_type": "code",
   "execution_count": 8,
   "metadata": {},
   "outputs": [
    {
     "data": {
      "text/plain": [
       "[0, 0, 0]"
      ]
     },
     "execution_count": 8,
     "metadata": {},
     "output_type": "execute_result"
    }
   ],
   "source": [
    "[0]*len(bags)"
   ]
  },
  {
   "cell_type": "code",
   "execution_count": null,
   "metadata": {},
   "outputs": [],
   "source": []
  }
 ],
 "metadata": {
  "kernelspec": {
   "display_name": "Python 3",
   "language": "python",
   "name": "python3"
  },
  "language_info": {
   "codemirror_mode": {
    "name": "ipython",
    "version": 3
   },
   "file_extension": ".py",
   "mimetype": "text/x-python",
   "name": "python",
   "nbconvert_exporter": "python",
   "pygments_lexer": "ipython3",
   "version": "3.7.7"
  }
 },
 "nbformat": 4,
 "nbformat_minor": 4
}
