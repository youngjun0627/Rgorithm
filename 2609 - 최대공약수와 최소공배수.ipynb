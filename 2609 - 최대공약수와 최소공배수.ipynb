{
 "cells": [
  {
   "cell_type": "code",
   "execution_count": 3,
   "metadata": {},
   "outputs": [
    {
     "name": "stdout",
     "output_type": "stream",
     "text": [
      "12 18\n",
      "6 36\n"
     ]
    }
   ],
   "source": [
    "def solution(a,b):\n",
    "    # a > b 라 가정\n",
    "    _a = a\n",
    "    _b = b\n",
    "    while True:\n",
    "        q,r = divmod(a,b)\n",
    "        if r==0:\n",
    "            break\n",
    "        a = b-r\n",
    "        b = r\n",
    "    m = b\n",
    "    \n",
    "    n = _a*_b//m\n",
    "    return m,n\n",
    "\n",
    "if __name__=='__main__':\n",
    "    a,b = map(int,input().split())\n",
    "    if a>b:\n",
    "        n,m = solution(a,b)\n",
    "    else:\n",
    "        n,m = solution(b,a)\n",
    "    print(n,m)\n"
   ]
  },
  {
   "cell_type": "code",
   "execution_count": null,
   "metadata": {},
   "outputs": [],
   "source": []
  }
 ],
 "metadata": {
  "kernelspec": {
   "display_name": "Python 3",
   "language": "python",
   "name": "python3"
  },
  "language_info": {
   "codemirror_mode": {
    "name": "ipython",
    "version": 3
   },
   "file_extension": ".py",
   "mimetype": "text/x-python",
   "name": "python",
   "nbconvert_exporter": "python",
   "pygments_lexer": "ipython3",
   "version": "3.7.7"
  }
 },
 "nbformat": 4,
 "nbformat_minor": 4
}
