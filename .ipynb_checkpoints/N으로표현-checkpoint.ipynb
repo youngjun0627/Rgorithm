{
 "cells": [
  {
   "cell_type": "code",
   "execution_count": 14,
   "metadata": {},
   "outputs": [
    {
     "data": {
      "text/plain": [
       "2"
      ]
     },
     "execution_count": 14,
     "metadata": {},
     "output_type": "execute_result"
    }
   ],
   "source": [
    "def solution(N, number):\n",
    "    \n",
    "    arr = [[]]\n",
    "    for i in range(1,9):\n",
    "        arr.append([])\n",
    "        arr[i].append(int(str(N)*i))\n",
    "        if int(str(N)*i)==number:\n",
    "            return i\n",
    "    \n",
    "    for n in range(2,9):\n",
    "        for i in range(1,n//2+1):\n",
    "            for a in arr[i]:\n",
    "                for b in arr[n-i]:\n",
    "                    arr[n].append(a+b)\n",
    "                    if a+b==number:\n",
    "                        return n\n",
    "                    arr[n].append(a*b)\n",
    "                    if a*b==number:\n",
    "                        return n\n",
    "                    arr[n].append(a-b)\n",
    "                    if a-b==number:\n",
    "                        return n\n",
    "                    arr[n].append(b-a)\n",
    "                    if b-a==number:\n",
    "                        return n\n",
    "                    if a!=0: \n",
    "                        arr[n].append(b//a)\n",
    "                        if b//a==number:\n",
    "                            return n\n",
    "                    if b!=0: \n",
    "                        arr[n].append(a//b)\n",
    "                        if a//b==number:\n",
    "                            return n\n",
    "            \n",
    "                \n",
    "    \n",
    "    return -1\n",
    "\n",
    "solution(5,55)"
   ]
  },
  {
   "cell_type": "code",
   "execution_count": null,
   "metadata": {},
   "outputs": [],
   "source": []
  }
 ],
 "metadata": {
  "kernelspec": {
   "display_name": "Python 3",
   "language": "python",
   "name": "python3"
  },
  "language_info": {
   "codemirror_mode": {
    "name": "ipython",
    "version": 3
   },
   "file_extension": ".py",
   "mimetype": "text/x-python",
   "name": "python",
   "nbconvert_exporter": "python",
   "pygments_lexer": "ipython3",
   "version": "3.7.7"
  }
 },
 "nbformat": 4,
 "nbformat_minor": 4
}
