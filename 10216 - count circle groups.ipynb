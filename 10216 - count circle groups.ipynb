{
 "cells": [
  {
   "cell_type": "code",
   "execution_count": null,
   "metadata": {},
   "outputs": [],
   "source": [
    "\n",
    "def find_parent(x,parent):\n",
    "    global parent\n",
    "    if parent[x]==x:\n",
    "        return x\n",
    "    return find_parent(parent[x],parent)\n",
    "for _ in range(int(input())):\n",
    "    n = int(input())\n",
    "    for _ in range(n):\n",
    "        x,y,r = map(int,input().split())\n",
    "        \n",
    "        "
   ]
  }
 ],
 "metadata": {
  "kernelspec": {
   "display_name": "Python 3",
   "language": "python",
   "name": "python3"
  },
  "language_info": {
   "codemirror_mode": {
    "name": "ipython",
    "version": 3
   },
   "file_extension": ".py",
   "mimetype": "text/x-python",
   "name": "python",
   "nbconvert_exporter": "python",
   "pygments_lexer": "ipython3",
   "version": "3.7.7"
  }
 },
 "nbformat": 4,
 "nbformat_minor": 4
}
