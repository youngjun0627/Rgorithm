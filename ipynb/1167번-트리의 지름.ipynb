{
 "cells": [
  {
   "cell_type": "code",
   "execution_count": 17,
   "metadata": {},
   "outputs": [
    {
     "name": "stdout",
     "output_type": "stream",
     "text": [
      "12\n",
      "1 2 1 6 1 10 1 -1\n",
      "2 1 1 3 1 -1\n",
      "3 2 1 4 1 -1\n",
      "4 3 1 5 1 -1\n",
      "5 4 1 -1\n",
      "6 1 1 7  1 -1\n",
      "7 6 1 8 1 -1\n",
      "8 7 1 9 1 -1\n",
      "9 8 1 -1\n",
      "10 1 1 11 1 12 1 -1\n",
      "11 10 1 -1\n",
      "12 10 1 -1\n",
      "[0, 0, 1, 2, 3, 4, 1, 2, 3, 4, 1, 2, 2]\n",
      "[0, 1, 0, 1, 2, 3, 2, 3, 4, 5, 2, 3, 3]\n",
      "[0, 2, 1, 0, 1, 2, 3, 4, 5, 6, 3, 4, 4]\n",
      "[0, 3, 2, 1, 0, 1, 4, 5, 6, 7, 4, 5, 5]\n",
      "[0, 4, 3, 2, 1, 0, 5, 6, 7, 8, 5, 6, 6]\n",
      "[0, 1, 2, 3, 4, 5, 0, 1, 2, 3, 2, 3, 3]\n",
      "[0, 2, 3, 4, 5, 6, 1, 0, 1, 2, 3, 4, 4]\n",
      "[0, 3, 4, 5, 6, 7, 2, 1, 0, 1, 4, 5, 5]\n",
      "[0, 4, 5, 6, 7, 8, 3, 2, 1, 0, 5, 6, 6]\n",
      "[0, 1, 2, 3, 4, 5, 2, 3, 4, 5, 0, 1, 1]\n",
      "[0, 2, 3, 4, 5, 6, 3, 4, 5, 6, 1, 0, 2]\n",
      "[0, 2, 3, 4, 5, 6, 3, 4, 5, 6, 1, 2, 0]\n",
      "8\n"
     ]
    }
   ],
   "source": [
    "import heapq\n",
    "\n",
    "v = int(input())\n",
    "dic = {i:{} for i in range(1,v+1)}\n",
    "for _ in range(v):\n",
    "    temp = list(map(int,input().split()))[:-1]\n",
    "    start = temp[0]\n",
    "    for i in range(1,len(temp),2):\n",
    "        dic[start][temp[i]]=temp[i+1]\n",
    "\n",
    "def bfs(start,dic, n):\n",
    "    result = [0 for _ in range(n+1)]\n",
    "    hq = []\n",
    "    hq.append((0,start))\n",
    "    visit = set()\n",
    "    visit.add(start)\n",
    "    while hq:\n",
    "        dist, cur = heapq.heappop(hq)\n",
    "        dist = -1 * dist\n",
    "        if dist<result[cur]:\n",
    "            continue\n",
    "        for _next in dic[cur]:\n",
    "            n_dist = dic[cur][_next] + dist\n",
    "            if n_dist>result[_next] and _next not in visit:\n",
    "                visit.add(_next)\n",
    "                result[_next] = n_dist\n",
    "                heapq.heappush(hq, (-n_dist, _next))\n",
    "    return result\n",
    "\n",
    "answer = 0\n",
    "'''\n",
    "for start in range(1,v+1):\n",
    "    result = bfs(start,dic,v)\n",
    "    #print(result)\n",
    "    answer = max(answer,max(result))\n",
    "'''\n",
    "result = bfs(1,dic,v)\n",
    "_max = 0\n",
    "for idx, value in enumerate(result):\n",
    "    if _max<value:\n",
    "        _max = value\n",
    "        vertex = idx\n",
    "result = bfs(vertex,dic,v)\n",
    "answer = max(result)    \n",
    "print(answer)"
   ]
  },
  {
   "cell_type": "code",
   "execution_count": 16,
   "metadata": {},
   "outputs": [
    {
     "data": {
      "text/plain": [
       "[0, 0, 1, 2, 3, 4, 1, 2, 3, 4, 1, 2, 2]"
      ]
     },
     "execution_count": 16,
     "metadata": {},
     "output_type": "execute_result"
    }
   ],
   "source": [
    "result"
   ]
  },
  {
   "cell_type": "code",
   "execution_count": null,
   "metadata": {},
   "outputs": [],
   "source": []
  }
 ],
 "metadata": {
  "kernelspec": {
   "display_name": "Python 3",
   "language": "python",
   "name": "python3"
  },
  "language_info": {
   "codemirror_mode": {
    "name": "ipython",
    "version": 3
   },
   "file_extension": ".py",
   "mimetype": "text/x-python",
   "name": "python",
   "nbconvert_exporter": "python",
   "pygments_lexer": "ipython3",
   "version": "3.7.7"
  }
 },
 "nbformat": 4,
 "nbformat_minor": 4
}
