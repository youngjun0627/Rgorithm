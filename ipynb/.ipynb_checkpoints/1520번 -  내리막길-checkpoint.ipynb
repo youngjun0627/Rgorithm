{
 "cells": [
  {
   "cell_type": "code",
   "execution_count": 10,
   "metadata": {},
   "outputs": [
    {
     "name": "stdout",
     "output_type": "stream",
     "text": [
      "4 5\n",
      "50 45 37 32 30\n",
      "35 50 40 20 25\n",
      "30 30 25 17 28\n",
      "27 24 22 15 10\n",
      "3 3 [[0, 0, 0, 0, 0], [-1, -1, -1, 0, 0], [-1, -1, -1, 0, -1], [-1, -1, -1, 1, 1]]\n",
      "2 3 [[0, 0, 0, 0, 0], [-1, -1, -1, 0, 0], [-1, -1, -1, 1, -1], [-1, -1, -1, 1, 1]]\n",
      "1 3 [[0, 0, 0, 0, 0], [-1, -1, -1, 1, 0], [-1, -1, -1, 1, -1], [-1, -1, -1, 1, 1]]\n",
      "1 4 [[0, 0, 0, 0, 0], [-1, -1, -1, 1, 1], [-1, -1, -1, 1, -1], [-1, -1, -1, 1, 1]]\n",
      "0 4 [[0, 0, 0, 0, 1], [-1, -1, -1, 1, 1], [-1, -1, -1, 1, -1], [-1, -1, -1, 1, 1]]\n",
      "0 3 [[0, 0, 0, 2, 1], [-1, -1, -1, 1, 1], [-1, -1, -1, 1, -1], [-1, -1, -1, 1, 1]]\n",
      "0 2 [[0, 0, 2, 2, 1], [-1, -1, -1, 1, 1], [-1, -1, -1, 1, -1], [-1, -1, -1, 1, 1]]\n",
      "0 1 [[0, 2, 2, 2, 1], [-1, -1, -1, 1, 1], [-1, -1, -1, 1, -1], [-1, -1, -1, 1, 1]]\n",
      "3 2 [[2, 2, 2, 2, 1], [0, -1, -1, 1, 1], [0, -1, -1, 1, -1], [0, 0, 1, 1, 1]]\n",
      "3 1 [[2, 2, 2, 2, 1], [0, -1, -1, 1, 1], [0, -1, -1, 1, -1], [0, 1, 1, 1, 1]]\n",
      "3 0 [[2, 2, 2, 2, 1], [0, -1, -1, 1, 1], [0, -1, -1, 1, -1], [1, 1, 1, 1, 1]]\n",
      "2 0 [[2, 2, 2, 2, 1], [0, -1, -1, 1, 1], [1, -1, -1, 1, -1], [1, 1, 1, 1, 1]]\n",
      "1 0 [[2, 2, 2, 2, 1], [1, -1, -1, 1, 1], [1, -1, -1, 1, -1], [1, 1, 1, 1, 1]]\n",
      "0 0 [[3, 2, 2, 2, 1], [1, -1, -1, 1, 1], [1, -1, -1, 1, -1], [1, 1, 1, 1, 1]]\n"
     ]
    },
    {
     "data": {
      "text/plain": [
       "3"
      ]
     },
     "execution_count": 10,
     "metadata": {},
     "output_type": "execute_result"
    }
   ],
   "source": [
    "m,n = map(int,input().split())\n",
    "board = []\n",
    "for _ in range(m):\n",
    "    board.append(list(map(int,input().split())))\n",
    "    \n",
    "dp = [[-1 for _ in range(n)] for _ in range(m)]\n",
    "dp[m-1][n-1]=1\n",
    "def dfs(start):\n",
    "    global dp\n",
    "    y,x = start\n",
    "    if dp[y][x]!=-1:\n",
    "        return dp[y][x]\n",
    "    dp[y][x] = 0\n",
    "    dy = [0,0,-1,1]\n",
    "    dx = [-1,1,0,0]\n",
    "    for i in range(4):\n",
    "        ny = y+dy[i]\n",
    "        nx = x+dx[i]\n",
    "        if 0<=ny<m and 0<=nx<n and board[ny][nx]<board[y][x]:\n",
    "            dp[y][x]+=dfs((ny,nx))\n",
    "    return dp[y][x]\n",
    "\n",
    "print(dfs((0,0)))"
   ]
  },
  {
   "cell_type": "code",
   "execution_count": 7,
   "metadata": {},
   "outputs": [
    {
     "data": {
      "text/plain": [
       "[[-1, -1, -1, -1, -1],\n",
       " [-1, -1, -1, -1, -1],\n",
       " [-1, -1, -1, -1, -1],\n",
       " [-1, -1, -1, -1, 1]]"
      ]
     },
     "execution_count": 7,
     "metadata": {},
     "output_type": "execute_result"
    }
   ],
   "source": []
  },
  {
   "cell_type": "code",
   "execution_count": null,
   "metadata": {},
   "outputs": [],
   "source": []
  }
 ],
 "metadata": {
  "kernelspec": {
   "display_name": "Python 3",
   "language": "python",
   "name": "python3"
  },
  "language_info": {
   "codemirror_mode": {
    "name": "ipython",
    "version": 3
   },
   "file_extension": ".py",
   "mimetype": "text/x-python",
   "name": "python",
   "nbconvert_exporter": "python",
   "pygments_lexer": "ipython3",
   "version": "3.7.7"
  }
 },
 "nbformat": 4,
 "nbformat_minor": 4
}
