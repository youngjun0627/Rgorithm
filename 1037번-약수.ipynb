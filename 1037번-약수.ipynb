{
 "cells": [
  {
   "cell_type": "code",
   "execution_count": null,
   "metadata": {},
   "outputs": [],
   "source": [
    "def gcd(a,b):\n",
    "    if a<b:\n",
    "        temp = a\n",
    "        a = b\n",
    "        b = temp\n",
    "    while True:\n",
    "        if b==0:\n",
    "            break\n",
    "        q,r = divmod(a,b)\n",
    "        a = b\n",
    "        b = r\n",
    "        \n",
    "    return a\n",
    "\n",
    "\n",
    "n_count = int(input())\n",
    "weak_nums = list(map(int,input().split()))\n",
    "\n",
    "result = 1\n",
    "for num in weak_nums:\n",
    "    result*=num\n",
    "re\n"
   ]
  },
  {
   "cell_type": "code",
   "execution_count": 7,
   "metadata": {},
   "outputs": [
    {
     "name": "stdout",
     "output_type": "stream",
     "text": [
      "2\n",
      "2 4\n",
      "8\n"
     ]
    }
   ],
   "source": [
    "input()\n",
    "a = list(map(int,input().split()))\n",
    "a.sort()\n",
    "print(a[0]*a[-1])"
   ]
  },
  {
   "cell_type": "code",
   "execution_count": null,
   "metadata": {},
   "outputs": [],
   "source": []
  }
 ],
 "metadata": {
  "kernelspec": {
   "display_name": "Python 3",
   "language": "python",
   "name": "python3"
  },
  "language_info": {
   "codemirror_mode": {
    "name": "ipython",
    "version": 3
   },
   "file_extension": ".py",
   "mimetype": "text/x-python",
   "name": "python",
   "nbconvert_exporter": "python",
   "pygments_lexer": "ipython3",
   "version": "3.7.7"
  }
 },
 "nbformat": 4,
 "nbformat_minor": 4
}
