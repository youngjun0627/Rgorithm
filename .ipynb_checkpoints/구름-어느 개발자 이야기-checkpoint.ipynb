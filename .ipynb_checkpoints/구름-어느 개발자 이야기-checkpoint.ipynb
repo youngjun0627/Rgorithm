{
 "cells": [
  {
   "cell_type": "code",
   "execution_count": 39,
   "metadata": {},
   "outputs": [
    {
     "name": "stdout",
     "output_type": "stream",
     "text": [
      "61\n",
      "8\n"
     ]
    }
   ],
   "source": [
    "def change(number, n):\n",
    "    result = ''\n",
    "    while number//n >=1:\n",
    "        r = number % n\n",
    "        number = number//n\n",
    "        result = str(r)+result\n",
    "        if number<n:\n",
    "            result = str(number) + result\n",
    "    return result\n",
    "\n",
    "inputs = input()\n",
    "i=int(max(inputs))\n",
    "while True:\n",
    "    n = change(int(inputs),i)\n",
    "    a = 0\n",
    "    for idx,_n in enumerate(inputs[::-1]):\n",
    "        a += int(_n) * (i**idx)\n",
    "    if int(a**(1/2)) == a**(1/2):\n",
    "        break\n",
    "    else:\n",
    "        i+=1\n",
    "print(i)\n",
    "\n"
   ]
  },
  {
   "cell_type": "code",
   "execution_count": 37,
   "metadata": {},
   "outputs": [
    {
     "data": {
      "text/plain": [
       "'3'"
      ]
     },
     "execution_count": 37,
     "metadata": {},
     "output_type": "execute_result"
    }
   ],
   "source": [
    "max('123')"
   ]
  },
  {
   "cell_type": "code",
   "execution_count": null,
   "metadata": {},
   "outputs": [],
   "source": []
  }
 ],
 "metadata": {
  "kernelspec": {
   "display_name": "Python 3",
   "language": "python",
   "name": "python3"
  },
  "language_info": {
   "codemirror_mode": {
    "name": "ipython",
    "version": 3
   },
   "file_extension": ".py",
   "mimetype": "text/x-python",
   "name": "python",
   "nbconvert_exporter": "python",
   "pygments_lexer": "ipython3",
   "version": "3.7.7"
  }
 },
 "nbformat": 4,
 "nbformat_minor": 4
}
