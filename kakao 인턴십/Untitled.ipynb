{
 "cells": [
  {
   "cell_type": "code",
   "execution_count": 1,
   "metadata": {},
   "outputs": [
    {
     "data": {
      "text/plain": [
       "['110', '90']"
      ]
     },
     "execution_count": 1,
     "metadata": {},
     "output_type": "execute_result"
    }
   ],
   "source": [
    "import heapq\n",
    "def solution(code, day, data):\n",
    "    answer = []\n",
    "    arr = []\n",
    "    for d in data:\n",
    "        a,b,c = d.split()\n",
    "        price = a.split('=')[1]\n",
    "        _code = b.split('=')[1]\n",
    "        time = c.split('=')[1]\n",
    "        if time.startswith(day) and code==_code:\n",
    "            heapq.heappush(arr,(time,price))\n",
    "            #arr.append((time, price))\n",
    "    while arr:\n",
    "        _, price = heapq.heappop(arr)\n",
    "        answer.append(int(price))\n",
    "        \n",
    "    return answer\n",
    "\n",
    "code = \"012345\"\n",
    "day = \"20190620\"\n",
    "data = [\"price=80 code=987654 time=2019062113\",\"price=90 code=012345 time=2019062014\",\"price=120 code=987654 time=2019062010\",\"price=110 code=012345 time=2019062009\",\"price=95 code=012345 time=2019062111\"]\n",
    "solution(code, day, data)"
   ]
  },
  {
   "cell_type": "code",
   "execution_count": 18,
   "metadata": {},
   "outputs": [
    {
     "data": {
      "text/plain": [
       "[3, 4, 1, 0, 2, 5]"
      ]
     },
     "execution_count": 18,
     "metadata": {},
     "output_type": "execute_result"
    }
   ],
   "source": [
    "#import heapq\n",
    "def solution(t,r):\n",
    "    answer= []\n",
    "    max_time = max(t)\n",
    "    min_time = min(t)\n",
    "    dic = {t:[] for t in range(min_time, max_time+1)}\n",
    "    for idx, (time, rating) in enumerate(zip(t,r)):\n",
    "        dic[time].append([rating,time,idx])\n",
    "        dic[time].sort(key=lambda x:[x[0],x[1],x[2]])\n",
    "    times = list(dic.keys())\n",
    "    for k in range(len(times)-1):\n",
    "        time = times[k]\n",
    "        for i,[rating,origin_time,idx] in enumerate(dic[time]):\n",
    "            if i==0:\n",
    "                answer.append(idx)\n",
    "            else:\n",
    "                dic[times[k+1]].append([rating,origin_time,idx])\n",
    "        dic[times[k+1]].sort(key=lambda x:[x[0],x[1],x[2]])\n",
    "    for _,_,idx in dic[times[len(times)-1]]:\n",
    "        answer.append(idx)\n",
    "        \n",
    "    return answer\n",
    "t = [7,6,8,1,5,5]\n",
    "r = [0,1,2,3,3,3]\n",
    "solution(t,r)\n"
   ]
  },
  {
   "cell_type": "code",
   "execution_count": 35,
   "metadata": {},
   "outputs": [],
   "source": [
    "def make_mask(r):\n",
    "    mask = []\n",
    "    start_i = 2\n",
    "    '''\n",
    "    002200\n",
    "    021120\n",
    "    211112\n",
    "    211112\n",
    "    021120\n",
    "    002200\n",
    "    '''\n",
    "    range_a = r//2-1\n",
    "    range_b = r//2\n",
    "    while range_a>=0:\n",
    "        temp = [0 for _ in range(r)]\n",
    "        temp[range_a]=2\n",
    "        temp[range_b]=2\n",
    "        for middle in range(range_a+1, range_b):\n",
    "            temp[middle]=1\n",
    "        mask.append(temp)\n",
    "        range_a-=1\n",
    "        range_b+=1\n",
    "    mask = mask+mask[::-1]\n",
    "    \n",
    "    return mask\n",
    "    \n",
    "def make_pad(maps,r):\n",
    "    pad_length = r-1\n",
    "    total_length = len(maps)+2*pad_length\n",
    "    board = [[100 for _ in range(total_length)] for _ in range(total_length)]\n",
    "    _i=0\n",
    "    _j=0\n",
    "    for i in range(pad_length,len(maps)+pad_length):\n",
    "        for j in range(pad_length,len(maps)+pad_length):\n",
    "            board[i][j]=maps[_i][_j]\n",
    "            _j+=1\n",
    "            if _j==len(maps):\n",
    "                _j=0\n",
    "                _i+=1\n",
    "    \n",
    "    return board\n",
    "    \n",
    "def solution(maps, p, r):\n",
    "    answer = 0\n",
    "    n = len(maps)\n",
    "    mask = make_mask(r)\n",
    "    maps = make_pad(maps,r)\n",
    "    for i in range(n):\n",
    "        for j in range(n):\n",
    "            mask_i=0\n",
    "            mask_j=0\n",
    "            cnt=0\n",
    "            for _i in range(i,i+r):\n",
    "                for _j in range(j,j+r):\n",
    "                    if mask[mask_i][mask_j]==2:\n",
    "                        if maps[_i][_j]<=p/2:\n",
    "                            cnt+=1\n",
    "                    elif mask[mask_i][mask_j]==1:\n",
    "                        if maps[_i][_j]<=p:\n",
    "                            cnt+=1\n",
    "                    mask_j+=1\n",
    "                    if mask_j==r:\n",
    "                        mask_j=0\n",
    "                        mask_i+=1\n",
    "            answer=max(answer,cnt)\n",
    "    return answer"
   ]
  },
  {
   "cell_type": "code",
   "execution_count": 36,
   "metadata": {},
   "outputs": [
    {
     "data": {
      "text/plain": [
       "17"
      ]
     },
     "execution_count": 36,
     "metadata": {},
     "output_type": "execute_result"
    }
   ],
   "source": [
    "r=6\n",
    "maps=[[1, 28, 41, 22, 25, 79, 4], [39, 20, 10, 17, 19, 18, 8], [21, 4, 13, 12, 9, 29, 19], [58, 1, 20, 5, 8, 16, 9], [5, 6, 15, 2, 39, 8, 29],[39, 7, 17, 5, 4, 49, 5], [74, 46, 8, 11, 25, 2, 11]]\n",
    "p=19\n",
    "solution(maps,p,r)"
   ]
  },
  {
   "cell_type": "code",
   "execution_count": null,
   "metadata": {},
   "outputs": [],
   "source": []
  }
 ],
 "metadata": {
  "kernelspec": {
   "display_name": "Python 3",
   "language": "python",
   "name": "python3"
  },
  "language_info": {
   "codemirror_mode": {
    "name": "ipython",
    "version": 3
   },
   "file_extension": ".py",
   "mimetype": "text/x-python",
   "name": "python",
   "nbconvert_exporter": "python",
   "pygments_lexer": "ipython3",
   "version": "3.7.7"
  }
 },
 "nbformat": 4,
 "nbformat_minor": 4
}
