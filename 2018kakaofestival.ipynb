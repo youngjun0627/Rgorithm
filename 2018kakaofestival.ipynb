{
 "cells": [
  {
   "cell_type": "code",
   "execution_count": 6,
   "metadata": {},
   "outputs": [
    {
     "name": "stdout",
     "output_type": "stream",
     "text": [
      "2 2\n",
      "WB\n",
      "BB\n"
     ]
    },
    {
     "ename": "NameError",
     "evalue": "name 'board' is not defined",
     "output_type": "error",
     "traceback": [
      "\u001b[1;31m---------------------------------------------------------------------------\u001b[0m",
      "\u001b[1;31mNameError\u001b[0m                                 Traceback (most recent call last)",
      "\u001b[1;32m<ipython-input-6-8e22c93f7e0b>\u001b[0m in \u001b[0;36m<module>\u001b[1;34m\u001b[0m\n\u001b[0;32m     26\u001b[0m \u001b[1;32mwhile\u001b[0m \u001b[0mq\u001b[0m\u001b[1;33m:\u001b[0m\u001b[1;33m\u001b[0m\u001b[1;33m\u001b[0m\u001b[0m\n\u001b[0;32m     27\u001b[0m     \u001b[0mcur\u001b[0m \u001b[1;33m=\u001b[0m \u001b[0mq\u001b[0m\u001b[1;33m.\u001b[0m\u001b[0mpopleft\u001b[0m\u001b[1;33m(\u001b[0m\u001b[1;33m)\u001b[0m\u001b[1;33m\u001b[0m\u001b[1;33m\u001b[0m\u001b[0m\n\u001b[1;32m---> 28\u001b[1;33m     \u001b[0mprint\u001b[0m\u001b[1;33m(\u001b[0m\u001b[0mcur\u001b[0m\u001b[1;33m,\u001b[0m\u001b[0mcheck\u001b[0m\u001b[1;33m(\u001b[0m\u001b[0mcur\u001b[0m\u001b[1;33m,\u001b[0m\u001b[0mboard\u001b[0m\u001b[1;33m,\u001b[0m\u001b[0mN\u001b[0m\u001b[1;33m,\u001b[0m\u001b[0mM\u001b[0m\u001b[1;33m)\u001b[0m\u001b[1;33m)\u001b[0m\u001b[1;33m\u001b[0m\u001b[1;33m\u001b[0m\u001b[0m\n\u001b[0m\u001b[0;32m     29\u001b[0m     \u001b[0mcur_y\u001b[0m\u001b[1;33m,\u001b[0m\u001b[0mcur_x\u001b[0m \u001b[1;33m=\u001b[0m \u001b[0mcur\u001b[0m\u001b[1;33m\u001b[0m\u001b[1;33m\u001b[0m\u001b[0m\n\u001b[0;32m     30\u001b[0m     \u001b[1;32mfor\u001b[0m \u001b[0mi\u001b[0m \u001b[1;32min\u001b[0m \u001b[0mrange\u001b[0m\u001b[1;33m(\u001b[0m\u001b[1;36m4\u001b[0m\u001b[1;33m)\u001b[0m\u001b[1;33m:\u001b[0m\u001b[1;33m\u001b[0m\u001b[1;33m\u001b[0m\u001b[0m\n",
      "\u001b[1;31mNameError\u001b[0m: name 'board' is not defined"
     ]
    }
   ],
   "source": [
    "from collections import deque\n",
    "\n",
    "def check(curr,board,N,M):\n",
    "    cur_y,cur_x = curr\n",
    "    for i in range(4):\n",
    "        ny = cur_y+dy[i]\n",
    "        nx = cur_x+dx[i]\n",
    "        if ny<N and ny>=0 and nx<M and nx>=0:\n",
    "            if board[cur_y][cur_x]==board[n_y][n_x]:\n",
    "                return False\n",
    "    return True\n",
    "\n",
    "N, M = map(int,input().split())\n",
    "finish_board = []\n",
    "for i in range(N):\n",
    "    s = input()\n",
    "    finish_board.append([])\n",
    "    for j in range(M):\n",
    "        finish_board[i].append(s[j])\n",
    "\n",
    "board = \n",
    "dx=[0,-1,1,0]\n",
    "dy=[1,0,0,-1]\n",
    "visit=set()\n",
    "q = deque()\n",
    "q.append((0,0))\n",
    "visit.add((0,0))\n",
    "while q:\n",
    "    cur = q.popleft()\n",
    "    print(cur,check(cur,board,N,M))\n",
    "    cur_y,cur_x = cur\n",
    "    for i in range(4):\n",
    "        ny = cur_y+dy[i]\n",
    "        nx = cur_x+dx[i]\n",
    "        if ny<N and ny>=0 and nx<M and nx>=0:\n",
    "            if (ny,nx) not in visit:\n",
    "                q.append((ny,nx))\n",
    "                visit.add((ny,nx))\n"
   ]
  },
  {
   "cell_type": "code",
   "execution_count": 36,
   "metadata": {},
   "outputs": [
    {
     "data": {
      "text/plain": [
       "4"
      ]
     },
     "execution_count": 36,
     "metadata": {},
     "output_type": "execute_result"
    }
   ],
   "source": [
    "'''\n",
    "from collections import deque\n",
    "\n",
    "def solution(board, moves):\n",
    "    answer = 0\n",
    "    dic={}\n",
    "    for i in range(0,len(board[0])):\n",
    "        dic[i]=deque()\n",
    "    for i in range(len(board)-1,0,-1):\n",
    "        for index in range(len(board[i])):\n",
    "            if board[i][index]!=0:\n",
    "                dic[index].appendleft(board[i][index])\n",
    "    for key,value in dic.items():\n",
    "        print(key,value)\n",
    "    s = deque()\n",
    "    for m in moves:\n",
    "        if dic[m-1]:\n",
    "            cur = dic[m-1].popleft()\n",
    "            if s:\n",
    "                if s[0]==cur:\n",
    "                    s.popleft()\n",
    "                    answer+=2\n",
    "                    continue\n",
    "            s.appendleft(cur)\n",
    "            print(s)\n",
    "            \n",
    "        else:\n",
    "            continue\n",
    "        \n",
    "    return answer\n",
    "board=[[0,0,0,0,0,0],[0,0,0,1,0,3],[0,0,2,5,0,1],[0,0,2,4,4,2],[0,0,5,1,3,1]]\n",
    "\n",
    "moves=[1,4,3,4,1,2,1,4]\n",
    "solution(board,moves)\n",
    "'''\n",
    "\n",
    "from collections import deque\n",
    "\n",
    "def solution(board,moves):\n",
    "    answer=0\n",
    "    stack = deque()\n",
    "    for m in moves:\n",
    "        for i in range(len(board)):\n",
    "            if board[i][m-1]!=0:\n",
    "                if stack:\n",
    "                    if stack[0]==board[i][m-1]:\n",
    "                        stack.popleft()\n",
    "                        answer+=2\n",
    "                    else:\n",
    "                        stack.appendleft(board[i][m-1])\n",
    "                else:\n",
    "                    stack.appendleft(board[i][m-1])\n",
    "                board[i][m-1]=0\n",
    "                break\n",
    "                \n",
    "    return answer\n",
    "board=[[0,0,0,0,0],[0,0,1,0,3],[0,2,5,0,1],[4,2,4,4,2],[3,5,1,3,1]]\n",
    "\n",
    "moves=[1,5,3,5,1,2,1,4]\n",
    "solution(board,moves)"
   ]
  },
  {
   "cell_type": "code",
   "execution_count": 1,
   "metadata": {},
   "outputs": [
    {
     "name": "stdout",
     "output_type": "stream",
     "text": [
      "2\n"
     ]
    }
   ],
   "source": [
    "def bisect(a, x, lo=0, hi=None):\n",
    "    if lo < 0:\n",
    "        raise ValueError('lo must be non-negative')\n",
    "    if hi is None:\n",
    "        hi = len(a)\n",
    "    while lo < hi:\n",
    "        mid = (lo + hi) // 2\n",
    "        if a[mid] < x:\n",
    "            lo = mid + 1\n",
    "        else:\n",
    "            hi = mid\n",
    "    return lo\n",
    "\n",
    "mylist = [1, 2, 3, 7, 9, 11, 33]\n",
    "print(bisect(mylist, 3))"
   ]
  },
  {
   "cell_type": "code",
   "execution_count": null,
   "metadata": {},
   "outputs": [],
   "source": []
  }
 ],
 "metadata": {
  "kernelspec": {
   "display_name": "Python 3",
   "language": "python",
   "name": "python3"
  },
  "language_info": {
   "codemirror_mode": {
    "name": "ipython",
    "version": 3
   },
   "file_extension": ".py",
   "mimetype": "text/x-python",
   "name": "python",
   "nbconvert_exporter": "python",
   "pygments_lexer": "ipython3",
   "version": "3.7.7"
  }
 },
 "nbformat": 4,
 "nbformat_minor": 4
}
