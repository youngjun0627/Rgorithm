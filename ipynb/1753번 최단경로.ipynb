{
 "cells": [
  {
   "cell_type": "code",
   "execution_count": 4,
   "metadata": {},
   "outputs": [
    {
     "name": "stdout",
     "output_type": "stream",
     "text": [
      "5 6\n",
      "1\n",
      "[[0, 0, 0, 0, 0], [0, 0, 0, 0, 0], [0, 0, 0, 0, 0], [0, 0, 0, 0, 0], [0, 0, 0, 0, 0]]\n"
     ]
    }
   ],
   "source": [
    "v,e = map(int,input().split())\n",
    "start = int(input())\n",
    "board = [[-1 for _ in range(v)] for _ in range(v)]\n",
    "\n",
    "for _ in range(e):\n",
    "    a,b,c = map(int,input().split())\n",
    "    board[a][b] = c\n",
    "\n",
    "arr = [99999999 for _ in range(v)]\n",
    "arr[start-1]=0\n",
    "cands = [start]\n",
    "visit = set()\n",
    "while len(visit)!=v:\n",
    "    cur = cands"
   ]
  },
  {
   "cell_type": "code",
   "execution_count": null,
   "metadata": {},
   "outputs": [],
   "source": []
  }
 ],
 "metadata": {
  "kernelspec": {
   "display_name": "Python 3",
   "language": "python",
   "name": "python3"
  },
  "language_info": {
   "codemirror_mode": {
    "name": "ipython",
    "version": 3
   },
   "file_extension": ".py",
   "mimetype": "text/x-python",
   "name": "python",
   "nbconvert_exporter": "python",
   "pygments_lexer": "ipython3",
   "version": "3.7.7"
  }
 },
 "nbformat": 4,
 "nbformat_minor": 4
}
