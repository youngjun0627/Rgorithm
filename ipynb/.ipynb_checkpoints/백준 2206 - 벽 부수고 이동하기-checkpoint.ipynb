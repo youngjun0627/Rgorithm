{
 "cells": [
  {
   "cell_type": "code",
   "execution_count": 7,
   "metadata": {},
   "outputs": [
    {
     "name": "stdout",
     "output_type": "stream",
     "text": [
      "6 4\n",
      "0100\n",
      "1110\n",
      "1000\n",
      "0000\n",
      "0111\n",
      "0000\n",
      "[[[0, -1, -1, -1], [-1, -1, -1, -1], [-1, -1, -1, -1], [-1, -1, -1, -1], [-1, -1, -1, -1], [-1, -1, -1, -1]], [[2, 1, 2, 3], [1, -1, -1, 4], [-1, 7, 6, 5], [9, 8, 7, 6], [10, -1, -1, -1], [11, 12, 13, 14]]]\n",
      "14\n"
     ]
    }
   ],
   "source": [
    "from collections import deque\n",
    "\n",
    "def bfs(start,board,visit,n,m):\n",
    "    answer = -1\n",
    "    q = deque()\n",
    "    q.append((0,0,0))\n",
    "    visit[0][0][0] = 0\n",
    "    dy = [0,1,-1,0]\n",
    "    dx = [1,0,0,-1]\n",
    "    while q:\n",
    "        cy,cx,state = q.popleft()\n",
    "        if cy==n-1 and cx==m-1:\n",
    "            answer = visit[state][cy][cx]\n",
    "            break\n",
    "        for i in range(4):\n",
    "            ny = cy+dy[i]\n",
    "            nx = cx+dx[i]\n",
    "            if ny>=0 and ny<n and nx>=0 and nx<m:\n",
    "                if board[ny][nx]==0:\n",
    "                    if visit[state][ny][nx] == -1:\n",
    "                        visit[state][ny][nx] = visit[state][cy][cx]+1\n",
    "                        q.append((ny,nx,state))\n",
    "                else:\n",
    "                    if not state and visit[1][ny][nx]==-1:\n",
    "                        visit[1][ny][nx] = visit[0][cy][cx]+1\n",
    "                        q.append((ny,nx,1))\n",
    "    print(visit)\n",
    "    return answer\n",
    "\n",
    "n,m = map(int,input().split())\n",
    "visit = [[[-1 for _ in range(m)] for _ in range(n)] for _ in range(2)]\n",
    "board = [[0 for _ in range(m)] for _ in range(n)]\n",
    "for i in range(n):\n",
    "    temp = input()\n",
    "    for j in range(m):\n",
    "        if temp[j]=='0':\n",
    "            board[i][j]=0\n",
    "        else:\n",
    "            board[i][j]=1\n",
    "    \n",
    "\n",
    "start = (1,1)\n",
    "result = bfs(start,board,visit,n,m)\n",
    "if result==-1:\n",
    "    print(-1)\n",
    "else:\n",
    "    print(result+1)"
   ]
  },
  {
   "cell_type": "code",
   "execution_count": null,
   "metadata": {},
   "outputs": [],
   "source": []
  },
  {
   "cell_type": "code",
   "execution_count": null,
   "metadata": {},
   "outputs": [],
   "source": []
  }
 ],
 "metadata": {
  "kernelspec": {
   "display_name": "Python 3",
   "language": "python",
   "name": "python3"
  },
  "language_info": {
   "codemirror_mode": {
    "name": "ipython",
    "version": 3
   },
   "file_extension": ".py",
   "mimetype": "text/x-python",
   "name": "python",
   "nbconvert_exporter": "python",
   "pygments_lexer": "ipython3",
   "version": "3.7.7"
  }
 },
 "nbformat": 4,
 "nbformat_minor": 4
}
