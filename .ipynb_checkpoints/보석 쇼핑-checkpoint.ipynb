{
 "cells": [
  {
   "cell_type": "code",
   "execution_count": 30,
   "metadata": {},
   "outputs": [
    {
     "name": "stdout",
     "output_type": "stream",
     "text": [
      "0 6\n",
      "1 6\n",
      "2 6\n"
     ]
    },
    {
     "data": {
      "text/plain": [
       "[3, 7]"
      ]
     },
     "execution_count": 30,
     "metadata": {},
     "output_type": "execute_result"
    }
   ],
   "source": [
    "#이분탐색 -> 효율성에서 실패\n",
    "'''\n",
    "def solution(gems):\n",
    "    \n",
    "    _max = len(gems)\n",
    "    _min=0\n",
    "    answer = [_min,_max]\n",
    "    total = set(gems)\n",
    "    while _min<=_max:\n",
    "        mid = (_min+_max)//2\n",
    "        ran = [0,mid]\n",
    "        find = False\n",
    "        while ran[1]<len(gems)-1:\n",
    "            start = ran[0]\n",
    "            end  = ran[1]\n",
    "            temp = set()\n",
    "            check = False\n",
    "            for i in range(start,end+1):\n",
    "                temp.add(gems[i])\n",
    "                if len(total)== len(temp):\n",
    "                    check=True\n",
    "                    print(start,end)\n",
    "                    break\n",
    "            if check:\n",
    "                find = True\n",
    "                break\n",
    "            else:\n",
    "                ran[0]+=1\n",
    "                ran[1]+=1\n",
    "        if find:\n",
    "            if ran[1]-ran[0]<answer[1]-answer[0]:\n",
    "                answer[0] = ran[0]\n",
    "                answer[1] = ran[1]\n",
    "            _max = mid-1\n",
    "        else:\n",
    "            _min = mid+1\n",
    "        #print(_min,_max)\n",
    "    return answer\n",
    "'''\n",
    "# 투포인터\n",
    "def solution(gems):\n",
    "    \n",
    "    start = 0\n",
    "    end = 0\n",
    "    dic = {gems[0]:1}\n",
    "    length = len(gems)\n",
    "    answer = [0,length]\n",
    "    com = len(set(gems))\n",
    "    while start<length and end <length:\n",
    "        #print(dic)\n",
    "        if len(dic)==com:\n",
    "            if answer[1]-answer[0]>end-start:\n",
    "                #print(start,end)\n",
    "                answer[1]=end\n",
    "                answer[0]=start\n",
    "            start+=1\n",
    "            if start>=length:\n",
    "                start-=1\n",
    "                break\n",
    "            \n",
    "            if dic[gems[start-1]]>1:\n",
    "                dic[gems[start-1]]-=1\n",
    "            else:\n",
    "                dic.pop(gems[start-1])\n",
    "            \n",
    "        else:\n",
    "            end+=1\n",
    "            if end>=length:\n",
    "                end-=1\n",
    "                break\n",
    "            if gems[end] not in dic:\n",
    "                dic[gems[end]]=1\n",
    "            else:\n",
    "                dic[gems[end]]+=1\n",
    "            \n",
    "            \n",
    "                \n",
    "    answer[0]+=1\n",
    "    answer[1]+=1 \n",
    "    return answer\n",
    "gems= [\"DIA\", \"RUBY\", \"RUBY\", \"DIA\", \"DIA\", \"EMERALD\", \"SAPPHIRE\", \"DIA\"]\n",
    "solution(gems)"
   ]
  },
  {
   "cell_type": "code",
   "execution_count": 13,
   "metadata": {},
   "outputs": [
    {
     "name": "stdout",
     "output_type": "stream",
     "text": [
      "{'a': 0}\n",
      "{}\n"
     ]
    }
   ],
   "source": [
    "dic = {'a':0}\n",
    "print(dic)\n",
    "dic.pop('a')\n",
    "print(dic)"
   ]
  },
  {
   "cell_type": "code",
   "execution_count": null,
   "metadata": {},
   "outputs": [],
   "source": []
  }
 ],
 "metadata": {
  "kernelspec": {
   "display_name": "Python 3",
   "language": "python",
   "name": "python3"
  },
  "language_info": {
   "codemirror_mode": {
    "name": "ipython",
    "version": 3
   },
   "file_extension": ".py",
   "mimetype": "text/x-python",
   "name": "python",
   "nbconvert_exporter": "python",
   "pygments_lexer": "ipython3",
   "version": "3.7.7"
  }
 },
 "nbformat": 4,
 "nbformat_minor": 4
}
