{
 "cells": [
  {
   "cell_type": "code",
   "execution_count": 6,
   "metadata": {},
   "outputs": [
    {
     "name": "stdout",
     "output_type": "stream",
     "text": [
      "3\n",
      "12:00 ~ 23:59\n",
      "11:00 ~ 18:00\n",
      "14:00 ~ 20:00\n",
      "14:0 ~ 18:0\n"
     ]
    }
   ],
   "source": [
    "def change_time(time):\n",
    "    start_time,end_time = time.split('~')\n",
    "    result = []\n",
    "    for time in [start_time,end_time]:\n",
    "        h,m = time.split(':')\n",
    "        result.append(int(h)*60+int(m))\n",
    "    return result\n",
    "\n",
    "def ichange_time(time):\n",
    "    h = str(time//60)\n",
    "    m = str(time%60)\n",
    "    if len(h)==1:\n",
    "        h = '0'+h\n",
    "    if len(m)==1:\n",
    "        m = '0'+m\n",
    "    \n",
    "    return '{}:{}'.format(str(h),str(m))\n",
    "\n",
    "n = int(input())\n",
    "times=[]\n",
    "for _ in range(n):\n",
    "    _str = input()\n",
    "    times.append(change_time(_str))\n",
    "    \n",
    "times.sort()\n",
    "start = times[-1][0]\n",
    "times.sort(key=lambda x:x[1])\n",
    "end = times[0][1]\n",
    "if start>=end:\n",
    "    print(-1)\n",
    "else:\n",
    "    print('{} ~ {}'.format(ichange_time(start),ichange_time(end)))"
   ]
  },
  {
   "cell_type": "code",
   "execution_count": 17,
   "metadata": {},
   "outputs": [
    {
     "name": "stdout",
     "output_type": "stream",
     "text": [
      "5\n",
      "11111\n"
     ]
    }
   ],
   "source": [
    "n = int(input())\n",
    "_str = input()\n",
    "arr = [0 for _ in range(n)]\n",
    "for idx,s in enumerate(_str):\n",
    "    arr[idx]=int(s)\n",
    "    \n",
    "answer = [0 for _ in range(n)]\n",
    "\n",
    "answer[0] = 1\n",
    "if arr[1]==1:\n",
    "    answer[1] = 1\n",
    "else:\n",
    "    answer[1] = 0\n",
    "    \n",
    "for i in range(2,n):\n",
    "    if arr[i]==0:\n",
    "        continue\n",
    "    answer[i] = answer[i-2]+answer[i-1]\n",
    "print(answer[n-1])"
   ]
  },
  {
   "cell_type": "code",
   "execution_count": 31,
   "metadata": {},
   "outputs": [
    {
     "name": "stdout",
     "output_type": "stream",
     "text": [
      "4\n",
      "0110\n",
      "1001\n",
      "1000\n",
      "0100\n",
      "0 1\n",
      "0 2\n",
      "1 0\n",
      "1 3\n",
      "2 0\n",
      "3 1\n",
      "total: 6\n",
      "size[1]: 6\n"
     ]
    }
   ],
   "source": [
    "def checkbox(i,j,size,board):\n",
    "    for _i in range(i,i+size):\n",
    "        for _j in range(j,j+size):\n",
    "            if board[_i][_j]==1:\n",
    "                continue\n",
    "            else:\n",
    "                return False\n",
    "    return True\n",
    "\n",
    "n = int(input())\n",
    "board = [[0 for _ in range(n)] for _ in range(n)]\n",
    "for i in range(n):\n",
    "    _str = input()\n",
    "    for j,s in enumerate(_str):\n",
    "        board[i][j] = int(s)\n",
    "    \n",
    "size=1\n",
    "answer = [0 for _ in range(n)]\n",
    "while size<=n:\n",
    "    for i in range(n):\n",
    "        for j in range(n):\n",
    "            if i+size<=n and j+size<=n:\n",
    "                check = checkbox(i,j,size,board)\n",
    "                if check:\n",
    "                    #print(i,j)\n",
    "                    answer[size-1]+=1\n",
    "    size+=1\n",
    "                \n",
    "print('total: {}'.format(sum(answer)))\n",
    "for i,a in enumerate(answer):\n",
    "    if a==0:\n",
    "        break\n",
    "    print('size[{}]: {}'.format(i+1,a))"
   ]
  },
  {
   "cell_type": "code",
   "execution_count": 54,
   "metadata": {},
   "outputs": [
    {
     "name": "stdout",
     "output_type": "stream",
     "text": [
      "4.0 3.0 2.1 4.3 5.0\n",
      "2 3\n",
      "WYO\n",
      "YYO\n",
      "ABC\n",
      "DCE\n",
      "[[4.3, 1, 0], [3.0, 0, 1]]\n",
      "[[4.3, 1, 0], [3.0, 0, 1], [2.1, 1, 1]]\n",
      "[[5.0, 1, 2], [2.1, 0, 2]]\n"
     ]
    }
   ],
   "source": [
    "A,B,C,D,E = map(float,input().split())\n",
    "rank = {'A':A,'B':B,'C':C,'D':D,'E':E}\n",
    "n,m = map(int,input().split())\n",
    "dic = {'O':[],'Y':[]}\n",
    "board = [[-1 for _ in range(m)] for _ in range(n)]\n",
    "\n",
    "for i in range(n):\n",
    "    _str = input()\n",
    "    for j,s in enumerate(_str):\n",
    "        if s=='W':\n",
    "            continue\n",
    "        elif s=='Y':\n",
    "            dic['Y'].append((i,j))\n",
    "        else:\n",
    "            dic['O'].append((i,j))\n",
    "            \n",
    "for i in range(n):\n",
    "    _str = input()\n",
    "    for j,s in enumerate(_str):\n",
    "        board[i][j]=s\n",
    "\n",
    "answer = []\n",
    "for c_list in [dic['Y'], dic['O']]:\n",
    "    result = []\n",
    "    for c in c_list:\n",
    "        cy,cx = c\n",
    "        score = rank[board[cy][cx]]\n",
    "        check = False\n",
    "        if len(result)==0:\n",
    "            result.append([score,cy,cx])\n",
    "            continue\n",
    "        for idx in range(len(result)):\n",
    "            if result[idx][0]<score:\n",
    "                result.insert(idx,[score,cy,cx])\n",
    "                check = True\n",
    "                break\n",
    "        if not check:\n",
    "            result.append([score,cy,cx])\n",
    "        #print(result)\n",
    "    for re in result:\n",
    "        score, cy,cx = re\n",
    "        answer.append('{} {} {} {}'.format(board[cy][cx],rank[board[cy][cx]],cy,cx))\n",
    "        \n",
    "for a in answer:\n",
    "    print(a)"
   ]
  },
  {
   "cell_type": "code",
   "execution_count": 70,
   "metadata": {},
   "outputs": [
    {
     "name": "stdout",
     "output_type": "stream",
     "text": [
      "4 5\n",
      "c.xc\n",
      "...x\n",
      "xx.x\n",
      "x..x\n",
      "x.xx\n",
      "0 0 0\n",
      "1 0 0\n",
      "0 1 1\n",
      "1 1 1\n",
      "1 2 2\n",
      "2 2 2\n",
      "3 2 2\n",
      "3 1 3\n",
      "4 1 3\n",
      "0 0 0\n",
      "1 0 0\n",
      "0 1 1\n",
      "1 1 1\n",
      "1 2 2\n",
      "2 2 2\n",
      "3 2 2\n",
      "3 1 3\n",
      "4 1 3\n",
      "0 3 0\n",
      "3\n"
     ]
    }
   ],
   "source": [
    "from collections import deque\n",
    "\n",
    "def bfs(start,board,m,n):\n",
    "    q = deque()\n",
    "    dy = [1,0,0]\n",
    "    dx = [0,-1,1]\n",
    "    \n",
    "    q.append((start[0],start[1],0))\n",
    "    visit = set()\n",
    "    visit.add(start)\n",
    "    result = -1\n",
    "    while q:\n",
    "        cy,cx,cnt = q.popleft()\n",
    "        #print(cy,cx,cnt)\n",
    "        if cy==m-1:\n",
    "            result = cnt\n",
    "            break\n",
    "        for i in range(3):\n",
    "            next_cnt = cnt\n",
    "            if i!=0:\n",
    "                next_cnt +=1\n",
    "            ny = cy+dy[i]\n",
    "            nx = cx+dx[i]\n",
    "            if ny<m and nx<n and nx>=0 and board[ny][nx]!='x':\n",
    "                if (ny,nx) not in visit:\n",
    "                    visit.add((ny,nx))\n",
    "                    q.append((ny,nx,next_cnt))\n",
    "    return result\n",
    "\n",
    "n,m = map(int,input().split())\n",
    "board = [['.' for _ in range(n)] for _ in range(m)]\n",
    "\n",
    "starts = []\n",
    "for i in range(m):\n",
    "    _str = input()\n",
    "    for j,s in enumerate(_str):\n",
    "        if s=='c':\n",
    "            starts.append((i,j))\n",
    "            \n",
    "        board[i][j] = s\n",
    "        \n",
    "answer = 99999999\n",
    "for start in starts:\n",
    "    result = bfs(start, board, m,n)\n",
    "    if result==-1:\n",
    "        continue\n",
    "    answer = min(answer,bfs(start, board, m,n))\n",
    "\n",
    "if answer==99999999:\n",
    "    print(-1)\n",
    "else:\n",
    "    print(answer)\n",
    "    "
   ]
  },
  {
   "cell_type": "code",
   "execution_count": 73,
   "metadata": {},
   "outputs": [
    {
     "name": "stdout",
     "output_type": "stream",
     "text": [
      "3 5\n",
      "3 4 5\n",
      "2 3 9\n",
      "3 9 3\n",
      "4  5 1\n",
      "1 3 6\n",
      "[[3, 7, 12], [5, 10, 21], [8, 19, 24], [12, 24, 25], [13, 27, 33]]\n"
     ]
    }
   ],
   "source": [
    "n,m = map(int,input().split())\n",
    "board = []\n",
    "for _ in range(m):\n",
    "    board.append(list(map(int,input().split())))\n",
    "\n",
    "answer = [[0 for _ in range(n)] for _ in range(m)]\n",
    "answer[0][0]=board[0][0]\n",
    "for i in range(1,n):\n",
    "    answer[0][i]=answer[0][i-1]+board[0][i]\n",
    "for i in range(1,m):\n",
    "    answer[i][0]=answer[i-1][0]+board[i][0]\n",
    "    \n",
    "for i in range(1, m):\n",
    "    for j in range(1, n):\n",
    "        answer[i][j] = max(answer[i-1][j],answer[i][j-1])+board[i][j]\n",
    "print(answer[m-1][n-1])\n"
   ]
  },
  {
   "cell_type": "markdown",
   "metadata": {},
   "source": [
    "# "
   ]
  }
 ],
 "metadata": {
  "kernelspec": {
   "display_name": "Python 3",
   "language": "python",
   "name": "python3"
  },
  "language_info": {
   "codemirror_mode": {
    "name": "ipython",
    "version": 3
   },
   "file_extension": ".py",
   "mimetype": "text/x-python",
   "name": "python",
   "nbconvert_exporter": "python",
   "pygments_lexer": "ipython3",
   "version": "3.7.7"
  }
 },
 "nbformat": 4,
 "nbformat_minor": 4
}
