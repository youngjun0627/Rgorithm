{
 "cells": [
  {
   "cell_type": "code",
   "execution_count": 42,
   "metadata": {},
   "outputs": [],
   "source": [
    "def solution(new_id):\n",
    "    \n",
    "    answer =''\n",
    "    new_id = func1(new_id)\n",
    "    new_id = func2(new_id)\n",
    "    new_id = func3(new_id)\n",
    "    new_id = func4(new_id)\n",
    "    new_id = func5(new_id)\n",
    "    new_id = func6(new_id)\n",
    "    answer = func7(new_id)\n",
    "    return answer\n",
    "\n",
    "def func1(_str):\n",
    "    return _str.lower()\n",
    "def func2(_str):\n",
    "    temp = ''\n",
    "    for s in _str:\n",
    "        if (s>='a' and s<='z') or s.isnumeric() or s=='-' or s=='_' or s=='.':\n",
    "            temp+=s\n",
    "    return temp\n",
    "def func3(_str):\n",
    "    while True:\n",
    "        if '..' not in _str:\n",
    "            break\n",
    "        _str = _str.replace('..','.')\n",
    "    return _str\n",
    "def func4(_str):\n",
    "    if _str.startswith('.'):\n",
    "        _str = _str[1:]\n",
    "    if _str.endswith('.'):\n",
    "        _str = _str[:-1]\n",
    "    return _str\n",
    "def func5(_str):\n",
    "    if _str=='':\n",
    "        return 'a'\n",
    "    else:\n",
    "        return _str\n",
    "def func6(_str):\n",
    "    if len(_str)>=16:\n",
    "        _str = _str[:15]\n",
    "    return func4(_str)\n",
    "def func7(_str):\n",
    "    while len(_str)<=2:\n",
    "        _str+=_str[len(_str)-1]\n",
    "    return _str"
   ]
  },
  {
   "cell_type": "code",
   "execution_count": 43,
   "metadata": {},
   "outputs": [
    {
     "data": {
      "text/plain": [
       "'z--'"
      ]
     },
     "execution_count": 43,
     "metadata": {},
     "output_type": "execute_result"
    }
   ],
   "source": [
    "a = 'z-+.^.\"'\n",
    "solution(a)"
   ]
  },
  {
   "cell_type": "code",
   "execution_count": 33,
   "metadata": {},
   "outputs": [
    {
     "name": "stdout",
     "output_type": "stream",
     "text": [
      "1\n"
     ]
    },
    {
     "data": {
      "text/plain": [
       "'aaa'"
      ]
     },
     "execution_count": 33,
     "metadata": {},
     "output_type": "execute_result"
    }
   ],
   "source": [
    "a = '.'\n",
    "print(len(a))\n",
    "solution(a)"
   ]
  },
  {
   "cell_type": "code",
   "execution_count": null,
   "metadata": {},
   "outputs": [],
   "source": []
  }
 ],
 "metadata": {
  "kernelspec": {
   "display_name": "Python 3",
   "language": "python",
   "name": "python3"
  },
  "language_info": {
   "codemirror_mode": {
    "name": "ipython",
    "version": 3
   },
   "file_extension": ".py",
   "mimetype": "text/x-python",
   "name": "python",
   "nbconvert_exporter": "python",
   "pygments_lexer": "ipython3",
   "version": "3.7.7"
  }
 },
 "nbformat": 4,
 "nbformat_minor": 4
}
