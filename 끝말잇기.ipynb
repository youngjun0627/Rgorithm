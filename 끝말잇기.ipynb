{
 "cells": [
  {
   "cell_type": "code",
   "execution_count": 7,
   "metadata": {},
   "outputs": [
    {
     "name": "stdout",
     "output_type": "stream",
     "text": [
      "3\n",
      "pqqp pqpqp pbbbp\n",
      "['pqqp', 'pqpqp', 'pbbbp']\n",
      "['pqpqp', 'pbbbp']\n",
      "['pbbbp']\n",
      "[]\n",
      "1\n"
     ]
    }
   ],
   "source": [
    "from itertools import permutations\n",
    "\n",
    "        \n",
    "def func(start,test):\n",
    "    arr = test[:]\n",
    "    print(arr)\n",
    "    if len(arr)==0:\n",
    "        return True\n",
    "    pre = start[-1]\n",
    "    for i,a in enumerate(arr):\n",
    "        if pre==a[0]:\n",
    "            arr.pop(i)\n",
    "            return func(a,arr)\n",
    "        else:\n",
    "            break\n",
    "    return False\n",
    "\n",
    "n= int(input())\n",
    "arr = list(input().split())\n",
    "t=False\n",
    "for a in arr:\n",
    "    start = a\n",
    "    check = func(start,arr)\n",
    "    if check:\n",
    "        t=True\n",
    "        break\n",
    "if t:\n",
    "    print(1)\n",
    "else:\n",
    "    print(0)\n",
    "    \n",
    "\n"
   ]
  },
  {
   "cell_type": "code",
   "execution_count": null,
   "metadata": {},
   "outputs": [],
   "source": [
    "dp"
   ]
  },
  {
   "cell_type": "code",
   "execution_count": null,
   "metadata": {},
   "outputs": [],
   "source": []
  }
 ],
 "metadata": {
  "kernelspec": {
   "display_name": "Python 3",
   "language": "python",
   "name": "python3"
  },
  "language_info": {
   "codemirror_mode": {
    "name": "ipython",
    "version": 3
   },
   "file_extension": ".py",
   "mimetype": "text/x-python",
   "name": "python",
   "nbconvert_exporter": "python",
   "pygments_lexer": "ipython3",
   "version": "3.7.7"
  }
 },
 "nbformat": 4,
 "nbformat_minor": 4
}
