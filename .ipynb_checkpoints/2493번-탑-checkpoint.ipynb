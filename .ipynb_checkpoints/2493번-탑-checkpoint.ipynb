{
 "cells": [
  {
   "cell_type": "code",
   "execution_count": null,
   "metadata": {},
   "outputs": [],
   "source": [
    "def lower_bound(key, arr):\n",
    "    _min = 0\n",
    "    _max = 1000000000\n",
    "    while _min<=\n",
    "\n",
    "def lower_bound(arr,key):\n",
    "    _min =0\n",
    "    _max = len(arr)\n",
    "    while _min<_max:\n",
    "        mid = (_min+_max)//2\n",
    "        if  arr[mid] < key:\n",
    "            _min = mid+1\n",
    "        else:\n",
    "            _max = mid\n",
    "    return _max\n",
    "arr = [1,2,2,3,3,3,5,5]\n",
    "print(lower_bound(arr,3))"
   ]
  }
 ],
 "metadata": {
  "kernelspec": {
   "display_name": "Python 3",
   "language": "python",
   "name": "python3"
  },
  "language_info": {
   "codemirror_mode": {
    "name": "ipython",
    "version": 3
   },
   "file_extension": ".py",
   "mimetype": "text/x-python",
   "name": "python",
   "nbconvert_exporter": "python",
   "pygments_lexer": "ipython3",
   "version": "3.7.7"
  }
 },
 "nbformat": 4,
 "nbformat_minor": 4
}
