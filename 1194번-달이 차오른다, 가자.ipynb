{
 "cells": [
  {
   "cell_type": "code",
   "execution_count": 43,
   "metadata": {},
   "outputs": [
    {
     "name": "stdout",
     "output_type": "stream",
     "text": [
      "1 7\n",
      "f0.F..1\n",
      "0 1 0 0\n",
      "0 0 32 1\n",
      "0 2 0 1\n",
      "0 1 32 2\n",
      "0 2 32 3\n",
      "0 3 32 4\n",
      "0 4 32 5\n",
      "0 5 32 6\n",
      "0 6 32 7\n"
     ]
    },
    {
     "data": {
      "text/plain": [
       "7"
      ]
     },
     "execution_count": 43,
     "metadata": {},
     "output_type": "execute_result"
    }
   ],
   "source": [
    "from collections import deque\n",
    "\n",
    "n,m = map(int,input().split())\n",
    "board = []\n",
    "dic = {'A':0,'B':0,'C':0,'D':0,'E':0,'F':0}\n",
    "start = None\n",
    "board = []\n",
    "for i in range(n):\n",
    "    temp = list(input())\n",
    "    for j in range(m):\n",
    "        if temp[j]=='0':\n",
    "            start = (i,j)\n",
    "    board.append(temp)\n",
    "def bfs(start):\n",
    "    dy = [0,0,-1,1]\n",
    "    dx = [-1,1,0,0]\n",
    "    answer = 99999999\n",
    "    q=deque()\n",
    "    q.append((start[0],start[1],0,0))\n",
    "    visit = [[[0 for _ in range(m)] for _ in range(n)] for _ in range(64)]\n",
    "    visit[0][start[0]][start[1]]=1\n",
    "    while q:\n",
    "        y,x,key,cnt = q.popleft()\n",
    "        print(y,x,key,cnt)\n",
    "        if board[y][x]=='1':\n",
    "            answer = min(answer, cnt)\n",
    "            continue\n",
    "        for i in range(4):\n",
    "            ny = y+dy[i]\n",
    "            nx = x+dx[i]\n",
    "            if 0<=ny<n and 0<=nx<m and board[ny][nx]!='#' and visit[key][ny][nx]==0:\n",
    "                if 'a'<=board[ny][nx]<='f':\n",
    "                    _key = key | 1<<(ord(board[ny][nx])-ord('a'))\n",
    "                    visit[_key][ny][nx]=1\n",
    "                    q.append((ny,nx,_key,cnt+1))\n",
    "                elif 'A'<=board[ny][nx]<='F':\n",
    "                    if key & 1<<(ord(board[ny][nx])-ord('A')):\n",
    "                        visit[key][ny][nx]=1\n",
    "                        q.append((ny,nx,key,cnt+1))\n",
    "                else:\n",
    "                    visit[key][ny][nx]=1\n",
    "                    q.append((ny,nx,key,cnt+1))\n",
    "    return answer\n",
    "if bfs(start)"
   ]
  },
  {
   "cell_type": "code",
   "execution_count": 35,
   "metadata": {},
   "outputs": [
    {
     "data": {
      "text/plain": [
       "[]"
      ]
     },
     "execution_count": 35,
     "metadata": {},
     "output_type": "execute_result"
    }
   ],
   "source": [
    "board"
   ]
  },
  {
   "cell_type": "code",
   "execution_count": 29,
   "metadata": {},
   "outputs": [
    {
     "data": {
      "text/plain": [
       "32"
      ]
     },
     "execution_count": 29,
     "metadata": {},
     "output_type": "execute_result"
    }
   ],
   "source": [
    "key"
   ]
  },
  {
   "cell_type": "code",
   "execution_count": null,
   "metadata": {},
   "outputs": [],
   "source": []
  }
 ],
 "metadata": {
  "kernelspec": {
   "display_name": "Python 3",
   "language": "python",
   "name": "python3"
  },
  "language_info": {
   "codemirror_mode": {
    "name": "ipython",
    "version": 3
   },
   "file_extension": ".py",
   "mimetype": "text/x-python",
   "name": "python",
   "nbconvert_exporter": "python",
   "pygments_lexer": "ipython3",
   "version": "3.7.7"
  }
 },
 "nbformat": 4,
 "nbformat_minor": 4
}
