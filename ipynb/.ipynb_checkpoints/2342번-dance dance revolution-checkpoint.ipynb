{
 "cells": [
  {
   "cell_type": "code",
   "execution_count": 3,
   "metadata": {},
   "outputs": [
    {
     "name": "stdout",
     "output_type": "stream",
     "text": [
      "1 2 2 4  0\n"
     ]
    }
   ],
   "source": [
    "import sys\n",
    "sys.setrecursionlimit(99999)\n",
    "rules = {0:[1,2,2,2,2], \n",
    "         1:[2,1,3,4,3],\n",
    "         2:[2,3,1,3,4],\n",
    "         3:[2,4,3,1,3],\n",
    "         4:[2,3,4,3,1],\n",
    "        }\n",
    "\n",
    "start = (0,0,0)\n",
    "commands = list(map(int,input().split()))\n",
    "commands = [0] + commands[:-1]\n",
    "n = len(commands)\n",
    "dp = [[[-1]*5 for _ in range(5)] for _ in range(n)]\n",
    "\n",
    "def dfs(cur):\n",
    "    index, left, right = cur\n",
    "    if index==n-1:\n",
    "        return 0\n",
    "    if not (left==0 and right==0) and left==right:\n",
    "        return 99999999\n",
    "    if dp[index][left][right]!=-1:\n",
    "        return dp[index][left][right]\n",
    "    \n",
    "    dp[index][left][right]=min(dfs((index+1,left,commands[index+1])) + rules[right][commands[index+1]],\n",
    "                              dfs((index+1,commands[index+1],right)) + rules[left][commands[index+1]])\n",
    "    return dp[index][left][right]\n",
    "print(dfs((0,0,0)))"
   ]
  },
  {
   "cell_type": "code",
   "execution_count": 5,
   "metadata": {},
   "outputs": [
    {
     "data": {
      "text/plain": [
       "[[[8, -1, -1, -1, -1],\n",
       "  [-1, -1, -1, -1, -1],\n",
       "  [-1, -1, -1, -1, -1],\n",
       "  [-1, -1, -1, -1, -1],\n",
       "  [-1, -1, -1, -1, -1]],\n",
       " [[-1, 6, -1, -1, -1],\n",
       "  [6, -1, -1, -1, -1],\n",
       "  [-1, -1, -1, -1, -1],\n",
       "  [-1, -1, -1, -1, -1],\n",
       "  [-1, -1, -1, -1, -1]],\n",
       " [[-1, -1, 3, -1, -1],\n",
       "  [-1, -1, 4, -1, -1],\n",
       "  [3, 4, -1, -1, -1],\n",
       "  [-1, -1, -1, -1, -1],\n",
       "  [-1, -1, -1, -1, -1]],\n",
       " [[-1, -1, 2, -1, -1],\n",
       "  [-1, -1, 3, -1, -1],\n",
       "  [2, 3, -1, -1, -1],\n",
       "  [-1, -1, -1, -1, -1],\n",
       "  [-1, -1, -1, -1, -1]],\n",
       " [[-1, -1, -1, -1, -1],\n",
       "  [-1, -1, -1, -1, -1],\n",
       "  [-1, -1, -1, -1, -1],\n",
       "  [-1, -1, -1, -1, -1],\n",
       "  [-1, -1, -1, -1, -1]]]"
      ]
     },
     "execution_count": 5,
     "metadata": {},
     "output_type": "execute_result"
    }
   ],
   "source": [
    "dp"
   ]
  },
  {
   "cell_type": "code",
   "execution_count": null,
   "metadata": {},
   "outputs": [],
   "source": []
  }
 ],
 "metadata": {
  "kernelspec": {
   "display_name": "Python 3",
   "language": "python",
   "name": "python3"
  },
  "language_info": {
   "codemirror_mode": {
    "name": "ipython",
    "version": 3
   },
   "file_extension": ".py",
   "mimetype": "text/x-python",
   "name": "python",
   "nbconvert_exporter": "python",
   "pygments_lexer": "ipython3",
   "version": "3.7.7"
  }
 },
 "nbformat": 4,
 "nbformat_minor": 4
}
