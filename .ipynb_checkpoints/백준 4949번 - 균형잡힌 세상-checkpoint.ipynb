{
 "cells": [
  {
   "cell_type": "code",
   "execution_count": 43,
   "metadata": {},
   "outputs": [
    {
     "name": "stdout",
     "output_type": "stream",
     "text": [
      "  .\n",
      "yes\n",
      ".\n"
     ]
    }
   ],
   "source": [
    "from collections import deque\n",
    "\n",
    "def solution(_str):\n",
    "    stack = deque()\n",
    "    for s in _str:\n",
    "        if s =='(' or s=='[':\n",
    "            stack.append(s)\n",
    "        elif s==')' or s==']':\n",
    "            if not stack:\n",
    "                return False\n",
    "            pre = stack[-1]\n",
    "            \n",
    "            if (pre=='(' and s ==')') or (pre=='[' and s ==']'):\n",
    "                stack.pop()\n",
    "            else:\n",
    "                return False\n",
    "    if stack:\n",
    "        return False\n",
    "    return True\n",
    "\n",
    "\n",
    "while True:\n",
    "    string = input()\n",
    "    if string=='.':\n",
    "        break\n",
    "    if solution(string):\n",
    "        print('yes')\n",
    "    else:\n",
    "        print('no')"
   ]
  },
  {
   "cell_type": "code",
   "execution_count": 28,
   "metadata": {},
   "outputs": [
    {
     "data": {
      "text/plain": [
       "['', '']"
      ]
     },
     "execution_count": 28,
     "metadata": {},
     "output_type": "execute_result"
    }
   ],
   "source": [
    "'.'.split('.')"
   ]
  },
  {
   "cell_type": "code",
   "execution_count": null,
   "metadata": {},
   "outputs": [],
   "source": []
  }
 ],
 "metadata": {
  "kernelspec": {
   "display_name": "Python 3",
   "language": "python",
   "name": "python3"
  },
  "language_info": {
   "codemirror_mode": {
    "name": "ipython",
    "version": 3
   },
   "file_extension": ".py",
   "mimetype": "text/x-python",
   "name": "python",
   "nbconvert_exporter": "python",
   "pygments_lexer": "ipython3",
   "version": "3.7.7"
  }
 },
 "nbformat": 4,
 "nbformat_minor": 4
}
