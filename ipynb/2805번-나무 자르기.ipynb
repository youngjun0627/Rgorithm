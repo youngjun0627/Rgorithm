{
 "cells": [
  {
   "cell_type": "code",
   "execution_count": 12,
   "metadata": {},
   "outputs": [
    {
     "name": "stdout",
     "output_type": "stream",
     "text": [
      "2 5\n",
      "6 6\n",
      "6 3\n",
      "2 5\n",
      "4 4\n",
      "3\n"
     ]
    }
   ],
   "source": [
    "n,m = map(int,input().split())\n",
    "\n",
    "trees = list(map(int,input().split()))\n",
    "trees.sort()\n",
    "answer = 0\n",
    "_min = 0\n",
    "_max = max(trees)\n",
    "\n",
    "while _min<=_max:\n",
    "    mid = (_min+_max)//2\n",
    "    _sum=0\n",
    "    for idx,tree in enumerate(trees):\n",
    "        if tree>=mid:\n",
    "            _sum+=tree-mid\n",
    "    print(_sum, mid)\n",
    "    if _sum>=m:\n",
    "        \n",
    "        answer = max(answer,mid)\n",
    "        _min = mid+1\n",
    "    else:\n",
    "        _max =mid-1\n",
    "print(answer)\n"
   ]
  },
  {
   "cell_type": "code",
   "execution_count": null,
   "metadata": {},
   "outputs": [],
   "source": []
  }
 ],
 "metadata": {
  "kernelspec": {
   "display_name": "Python 3",
   "language": "python",
   "name": "python3"
  },
  "language_info": {
   "codemirror_mode": {
    "name": "ipython",
    "version": 3
   },
   "file_extension": ".py",
   "mimetype": "text/x-python",
   "name": "python",
   "nbconvert_exporter": "python",
   "pygments_lexer": "ipython3",
   "version": "3.7.7"
  }
 },
 "nbformat": 4,
 "nbformat_minor": 4
}
