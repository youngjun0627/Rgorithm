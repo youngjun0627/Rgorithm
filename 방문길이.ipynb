{
 "cells": [
  {
   "cell_type": "code",
   "execution_count": null,
   "metadata": {},
   "outputs": [],
   "source": [
    "def solution(dirs):\n",
    "    answer = 0\n",
    "    visit = set() # ((start_y,start_x,end_y,end_x))\n",
    "    start = [5,5]\n",
    "    cnt=0\n",
    "    for idx,_dir in enumerate(dirs):\n",
    "        y,x = move(_dir,start[0],start[1])\n",
    "        if y==start[0] and x==start[1]:\n",
    "            continue\n",
    "        if (start[0],start[1],y,x) not in visit:\n",
    "            visit.add((start[0],start[1],y,x))\n",
    "            visit.add((y,x,start[0],start[1]))\n",
    "            cnt+=1\n",
    "        start[0]=y\n",
    "        start[1]=x\n",
    "    answer=cnt\n",
    "    return answer\n",
    "\n",
    "def move(m,y,x):\n",
    "    if m=='L':\n",
    "        if x-1<0:\n",
    "            return y,x\n",
    "        else:\n",
    "            return y,x-1\n",
    "    elif m=='R':\n",
    "        if x+1>10:\n",
    "            return y,x\n",
    "        else:\n",
    "            return y,x+1\n",
    "    elif m=='U':\n",
    "        if y-1<0:\n",
    "            return y,x\n",
    "        else:\n",
    "            return y-1,x\n",
    "    elif m=='D':\n",
    "        if y+1>10:\n",
    "            return y,x\n",
    "        else:\n",
    "            return y+1,x"
   ]
  }
 ],
 "metadata": {
  "kernelspec": {
   "display_name": "Python 3",
   "language": "python",
   "name": "python3"
  },
  "language_info": {
   "codemirror_mode": {
    "name": "ipython",
    "version": 3
   },
   "file_extension": ".py",
   "mimetype": "text/x-python",
   "name": "python",
   "nbconvert_exporter": "python",
   "pygments_lexer": "ipython3",
   "version": "3.7.7"
  }
 },
 "nbformat": 4,
 "nbformat_minor": 4
}
