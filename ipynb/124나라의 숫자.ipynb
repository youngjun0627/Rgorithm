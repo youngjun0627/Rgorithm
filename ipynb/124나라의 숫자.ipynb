{
 "cells": [
  {
   "cell_type": "code",
   "execution_count": 27,
   "metadata": {},
   "outputs": [
    {
     "data": {
      "text/plain": [
       "12"
      ]
     },
     "execution_count": 27,
     "metadata": {},
     "output_type": "execute_result"
    }
   ],
   "source": []
  },
  {
   "cell_type": "code",
   "execution_count": 14,
   "metadata": {},
   "outputs": [
    {
     "name": "stdout",
     "output_type": "stream",
     "text": [
      "[1, 1, 2, 2, 3, 3, 3, 3, 4, 5, 5, 5, 9, 10, 232, 545]\n",
      "5\n",
      "3\n"
     ]
    }
   ],
   "source": [
    "li = [4,3,5,2,9,5,3,5,1,2,3,10,545,3,232,1]\n",
    "func(li)\n",
    "print(li)\n",
    "\n",
    "for element in li:\n",
    "    temp = element\n",
    "\n",
    "a = 5\n",
    "b = 3\n",
    "\n",
    "temp = a # temp에는 5(a)\n",
    "a=b # a에는 3(b)\n",
    "b=temp # b에는 5(temmp = 전 a)\n",
    "print(b)\n",
    "print(a)\n"
   ]
  },
  {
   "cell_type": "code",
   "execution_count": 9,
   "metadata": {},
   "outputs": [],
   "source": [
    "def func(li):\n",
    "    for i in range(0,len(li)-1):\n",
    "        for j in range(i+1,len(li)):\n",
    "            if li[j]<li[i]:\n",
    "                temp = li[i]\n",
    "                li[i] = li[j]\n",
    "                li[j] = temp"
   ]
  },
  {
   "cell_type": "code",
   "execution_count": 75,
   "metadata": {},
   "outputs": [
    {
     "name": "stdout",
     "output_type": "stream",
     "text": [
      "[1, 2, 3, 4, 5]\n"
     ]
    }
   ],
   "source": [
    "li = [4,3,5,2,1]\n",
    "func(li)\n",
    "print(li)"
   ]
  },
  {
   "cell_type": "code",
   "execution_count": null,
   "metadata": {},
   "outputs": [],
   "source": []
  }
 ],
 "metadata": {
  "kernelspec": {
   "display_name": "Python 3",
   "language": "python",
   "name": "python3"
  },
  "language_info": {
   "codemirror_mode": {
    "name": "ipython",
    "version": 3
   },
   "file_extension": ".py",
   "mimetype": "text/x-python",
   "name": "python",
   "nbconvert_exporter": "python",
   "pygments_lexer": "ipython3",
   "version": "3.7.7"
  }
 },
 "nbformat": 4,
 "nbformat_minor": 4
}
