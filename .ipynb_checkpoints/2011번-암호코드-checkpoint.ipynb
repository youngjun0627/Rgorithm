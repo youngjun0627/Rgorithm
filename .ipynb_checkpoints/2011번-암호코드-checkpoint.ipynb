{
 "cells": [
  {
   "cell_type": "code",
   "execution_count": 44,
   "metadata": {},
   "outputs": [
    {
     "name": "stdout",
     "output_type": "stream",
     "text": [
      "26\n",
      "2\n"
     ]
    }
   ],
   "source": [
    "a = list(input().strip())\n",
    "\n",
    "dp = [0 for i in range(len(a)+ 1)]\n",
    "dp[0], dp[1] = 1, 1\n",
    "if a[0] == \"0\":\n",
    "    print(0)\n",
    "else:\n",
    "    for i in range(2, len(a) + 1):\n",
    "        if int(a[i - 1]) > 0:\n",
    "            dp[i] += dp[i - 1]\n",
    "        num = int(a[i - 1]) + int(a[i - 2]) * 10\n",
    "        if num >= 10 and num <= 26:\n",
    "            dp[i] += dp[i - 2]\n",
    "    print(dp[len(a)] % 1000000)"
   ]
  },
  {
   "cell_type": "code",
   "execution_count": 45,
   "metadata": {},
   "outputs": [
    {
     "name": "stdout",
     "output_type": "stream",
     "text": [
      "1235\n"
     ]
    },
    {
     "data": {
      "text/plain": [
       "'1235'"
      ]
     },
     "execution_count": 45,
     "metadata": {},
     "output_type": "execute_result"
    }
   ],
   "source": [
    "input().strip()"
   ]
  },
  {
   "cell_type": "code",
   "execution_count": null,
   "metadata": {},
   "outputs": [],
   "source": []
  }
 ],
 "metadata": {
  "kernelspec": {
   "display_name": "Python 3",
   "language": "python",
   "name": "python3"
  },
  "language_info": {
   "codemirror_mode": {
    "name": "ipython",
    "version": 3
   },
   "file_extension": ".py",
   "mimetype": "text/x-python",
   "name": "python",
   "nbconvert_exporter": "python",
   "pygments_lexer": "ipython3",
   "version": "3.7.7"
  }
 },
 "nbformat": 4,
 "nbformat_minor": 4
}
