{
 "cells": [
  {
   "cell_type": "code",
   "execution_count": 46,
   "metadata": {},
   "outputs": [
    {
     "name": "stdout",
     "output_type": "stream",
     "text": [
      "1 1\n",
      "200\n",
      "200\n"
     ]
    }
   ],
   "source": [
    "n,m = map(int,input().split())\n",
    "days = []\n",
    "for _ in range(n):\n",
    "    days.append(int(input()))\n",
    "\n",
    "_min = max(days)\n",
    "_max = sum(days)\n",
    "answer=99999999\n",
    "while _min<=_max:\n",
    "    mid = int((_min+_max)/2)\n",
    "    money=0\n",
    "    cnt=0\n",
    "    check=True\n",
    "    for day in days:\n",
    "        if day>money:\n",
    "            money=mid\n",
    "            cnt+=1\n",
    "        money-=day\n",
    "    \n",
    "    if cnt>m:\n",
    "        _min=mid+1\n",
    "    else:\n",
    "        answer=min(answer,mid)\n",
    "        _max = mid-1\n",
    "        \n",
    "print(answer)        "
   ]
  },
  {
   "cell_type": "code",
   "execution_count": 44,
   "metadata": {},
   "outputs": [
    {
     "name": "stdout",
     "output_type": "stream",
     "text": [
      "2 1\n",
      "200\n",
      "100\n",
      "300\n"
     ]
    }
   ],
   "source": []
  },
  {
   "cell_type": "code",
   "execution_count": null,
   "metadata": {},
   "outputs": [],
   "source": []
  }
 ],
 "metadata": {
  "kernelspec": {
   "display_name": "Python 3",
   "language": "python",
   "name": "python3"
  },
  "language_info": {
   "codemirror_mode": {
    "name": "ipython",
    "version": 3
   },
   "file_extension": ".py",
   "mimetype": "text/x-python",
   "name": "python",
   "nbconvert_exporter": "python",
   "pygments_lexer": "ipython3",
   "version": "3.7.7"
  }
 },
 "nbformat": 4,
 "nbformat_minor": 4
}
