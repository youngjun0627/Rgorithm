{
 "cells": [
  {
   "cell_type": "code",
   "execution_count": 1,
   "metadata": {},
   "outputs": [
    {
     "name": "stdout",
     "output_type": "stream",
     "text": [
      "5\n",
      "3\n"
     ]
    }
   ],
   "source": [
    "'''\n",
    "if else절에서 같을때 부분에 따라 lower과 upper로 나뉨(등호차이)\n",
    "upper : <=\n",
    "lower : <\n",
    "'''\n",
    "def upper_bound(arr,key):\n",
    "    _min =0\n",
    "    _max = len(arr)\n",
    "    while _min<_max:\n",
    "        mid = (_min+_max)//2\n",
    "        if  arr[mid] <= key:\n",
    "            _min = mid+1 \n",
    "        else:\n",
    "            _max = mid\n",
    "    return _max\n",
    "arr = [1,2,2,3,3,5,5]\n",
    "print(upper_bound(arr,3))\n",
    "\n",
    "def lower_bound(arr,key):\n",
    "    _min =0\n",
    "    _max = len(arr)\n",
    "    while _min<_max:\n",
    "        mid = (_min+_max)//2\n",
    "        if  arr[mid] < key:\n",
    "            _min = mid+1\n",
    "        else:\n",
    "            _max = mid\n",
    "    return _max\n",
    "arr = [1,2,2,3,3,3,5,5]\n",
    "print(lower_bound(arr,3))"
   ]
  },
  {
   "cell_type": "code",
   "execution_count": null,
   "metadata": {},
   "outputs": [],
   "source": []
  }
 ],
 "metadata": {
  "kernelspec": {
   "display_name": "Python 3",
   "language": "python",
   "name": "python3"
  },
  "language_info": {
   "codemirror_mode": {
    "name": "ipython",
    "version": 3
   },
   "file_extension": ".py",
   "mimetype": "text/x-python",
   "name": "python",
   "nbconvert_exporter": "python",
   "pygments_lexer": "ipython3",
   "version": "3.7.7"
  }
 },
 "nbformat": 4,
 "nbformat_minor": 4
}
