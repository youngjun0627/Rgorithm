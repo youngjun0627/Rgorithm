{
 "cells": [
  {
   "cell_type": "code",
   "execution_count": 78,
   "metadata": {},
   "outputs": [
    {
     "name": "stdout",
     "output_type": "stream",
     "text": [
      "4 6 8\n",
      "4 1 3 3 8\n",
      "1 3 5 2 9\n",
      "2 4 8 4 1\n",
      "4 5 0 1 4\n",
      "3 3 1 2 7\n",
      "1 5 8  4 3\n",
      "3 6 2 1 2\n",
      "2 2 2 3 5\n",
      "0 8\n",
      "[0, 0, [5, 2, 9], 0, [8, 4, 3], 0]\n",
      "[0, [2, 3, 5], 0, [8, 4, 1], 0, 0]\n",
      "[0, 0, [1, 2, 7], 0, 0, [2, 1, 2]]\n",
      "[0, 0, 0, 0, [0, 1, 4], 0]\n",
      "2 3\n",
      "[0, 0, 0, 0, 0, 0]\n",
      "[0, 0, 0, [8, 3, 1], 0, [2, 3, 5]]\n",
      "[0, 0, [5, 1, 9], 0, 0, [2, 2, 2]]\n",
      "[0, 0, 0, 0, [0, 1, 4], 0]\n",
      "3 5\n",
      "[0, 0, 0, 0, 0, 0]\n",
      "[0, [8, 3, 1], 0, 0, 0, 0]\n",
      "[0, 0, 0, 0, 0, [2, 1, 2]]\n",
      "[0, 0, [5, 2, 9], 0, [0, 1, 4], 0]\n",
      "4 4\n",
      "[0, 0, 0, 0, 0, [2, 1, 2]]\n",
      "[0, [8, 4, 1], 0, 0, 0, 0]\n",
      "[0, 0, [5, 2, 9], 0, 0, 0]\n",
      "[0, 0, 0, 0, 0, 0]\n",
      "5 2\n",
      "[0, 0, 0, 0, 0, 0]\n",
      "[0, 0, [5, 2, 9], [8, 4, 1], 0, 0]\n",
      "[0, 0, 0, 0, 0, 0]\n",
      "[0, 0, 0, 0, 0, 0]\n",
      "22\n"
     ]
    }
   ],
   "source": [
    "import copy\n",
    "\n",
    "R,C,M = map(int,input().split())\n",
    "board = [[0] * C for _ in range(R)]\n",
    "\n",
    "for i in range(M):\n",
    "    r,c,s,d,z = map(int,input().split())\n",
    "    #r,c,s,d,z = map(int,_list[i].split())\n",
    "    board[r-1][c-1]=[s,d,z]\n",
    "    \n",
    "def move_sharks(cur,s,d):\n",
    "    y,x = cur\n",
    "    d_list = {1:(-1,0),2:(1,0),3:(0,1),4:(0,-1)}\n",
    "    dy,dx = d_list[d]\n",
    "    if d==1 or d==2:\n",
    "        s%=(R-1)*2\n",
    "    else:\n",
    "        s%=(C-1)*2\n",
    "    if 0<=y+dy*s<R and 0<=x+dx*s<C:\n",
    "        return (y+dy*s, x+dx*s,d)\n",
    "    else:\n",
    "        while True:\n",
    "            dy,dx = d_list[d]\n",
    "            if 0<=y+dy*s<R and 0<=x+dx*s<C:\n",
    "                return (y+dy*s, x+dx*s,d)\n",
    "            \n",
    "            if d==1:\n",
    "                s-=y\n",
    "                y=0\n",
    "                d=2\n",
    "            elif d==2:\n",
    "                s-=(R-1-y)\n",
    "                y=R-1\n",
    "                d=1\n",
    "            elif d==3:\n",
    "                s-=(C-1-x)\n",
    "                x=C-1\n",
    "                d=4\n",
    "            else:\n",
    "                s-=x\n",
    "                x=0\n",
    "                d=3\n",
    "                \n",
    "def fishing(board,c):\n",
    "    for i in range(R):\n",
    "        if board[i][c]:\n",
    "            result = board[i][c][2]\n",
    "            board[i][c]=0\n",
    "            return result\n",
    "    return -1\n",
    "            \n",
    "def solution(board):\n",
    "    answer = 0\n",
    "    for cur in range(C):\n",
    "        fish = fishing(board,cur)\n",
    "        if fish!=-1:\n",
    "            answer+=fish\n",
    "        temp_board = [[0] * C for _ in range(R)]\n",
    "        for i in range(R):\n",
    "            for j in range(C):\n",
    "                if board[i][j]:\n",
    "                    s,d,z = board[i][j]\n",
    "                    y,x,d = move_sharks((i,j),s,d)\n",
    "                    \n",
    "                    if temp_board[y][x]:\n",
    "                        if temp_board[y][x][2]<z:\n",
    "                            temp_board[y][x]=[s,d,z]\n",
    "                    else:\n",
    "                        temp_board[y][x] = [s,d,z]\n",
    "        board = copy.deepcopy(temp_board)\n",
    "    return answer\n",
    "\n",
    "print(solution(board))"
   ]
  },
  {
   "cell_type": "code",
   "execution_count": 70,
   "metadata": {},
   "outputs": [
    {
     "data": {
      "text/plain": [
       "[[0, 0, [5, 2, 9], 0, 0],\n",
       " [0, 0, 0, [8, 4, 1], 0],\n",
       " [0, 0, 0, 0, 0],\n",
       " [0, 0, 0, 0, [0, 1, 4]]]"
      ]
     },
     "execution_count": 70,
     "metadata": {},
     "output_type": "execute_result"
    }
   ],
   "source": [
    "board"
   ]
  },
  {
   "cell_type": "code",
   "execution_count": 22,
   "metadata": {},
   "outputs": [
    {
     "data": {
      "text/plain": [
       "24"
      ]
     },
     "execution_count": 22,
     "metadata": {},
     "output_type": "execute_result"
    }
   ],
   "source": [
    "len(board)"
   ]
  },
  {
   "cell_type": "code",
   "execution_count": null,
   "metadata": {},
   "outputs": [],
   "source": []
  }
 ],
 "metadata": {
  "kernelspec": {
   "display_name": "Python 3",
   "language": "python",
   "name": "python3"
  },
  "language_info": {
   "codemirror_mode": {
    "name": "ipython",
    "version": 3
   },
   "file_extension": ".py",
   "mimetype": "text/x-python",
   "name": "python",
   "nbconvert_exporter": "python",
   "pygments_lexer": "ipython3",
   "version": "3.7.7"
  }
 },
 "nbformat": 4,
 "nbformat_minor": 4
}
