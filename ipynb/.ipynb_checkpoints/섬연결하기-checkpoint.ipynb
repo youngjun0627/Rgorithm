{
 "cells": [
  {
   "cell_type": "code",
   "execution_count": 41,
   "metadata": {},
   "outputs": [
    {
     "name": "stdout",
     "output_type": "stream",
     "text": [
      "0 1\n",
      "1 1\n",
      "2 2\n"
     ]
    },
    {
     "data": {
      "text/plain": [
       "4"
      ]
     },
     "execution_count": 41,
     "metadata": {},
     "output_type": "execute_result"
    }
   ],
   "source": [
    "from queue import PriorityQueue\n",
    "from collections import deque\n",
    "\n",
    "def check(board,start,n):\n",
    "    stack = deque()\n",
    "    stack.appendleft(start)\n",
    "    visit = []\n",
    "    #visit.append(start)\n",
    "    while stack:\n",
    "        cur = stack.popleft()\n",
    "        _next=0\n",
    "        for cost in board[cur]:\n",
    "            if cost!=0:\n",
    "                if _next not in visit:\n",
    "                    stack.appendleft(_next)\n",
    "            _next+=1\n",
    "        \n",
    "        visit.append(cur)\n",
    "    for i in range(n):\n",
    "        if visit.count(i)>1:\n",
    "            return (False,set(visit))\n",
    "    return (True,set(visit))\n",
    "\n",
    "def solution(n, costs):\n",
    "    answer = 0\n",
    "    pq = PriorityQueue()\n",
    "    board = [[0 for _ in range(n)] for _ in range(n)]\n",
    "    for cost in costs:\n",
    "        pq.put((cost[2],cost[0],cost[1]))\n",
    "    _cost=0\n",
    "    while not pq.empty():\n",
    "        cost,start,end = pq.get()\n",
    "        #print(_cost,cost)\n",
    "        board[start][end]=cost\n",
    "        board[end][start]=cost\n",
    "        chk,visit = check(board,start,n)\n",
    "        if chk:\n",
    "            if len(visit)==n:\n",
    "                _cost+=cost\n",
    "                answer = _cost\n",
    "                break\n",
    "            else:\n",
    "                _cost+=cost\n",
    "        else:\n",
    "            board[start][end]=0\n",
    "            board[end][start]=0\n",
    "    return answer\n",
    "\n",
    "costs = [[0,1,1],[0,2,2],[1,2,5],[1,3,1],[2,3,8]]\n",
    "n=4\n",
    "solution(n,costs)"
   ]
  },
  {
   "cell_type": "code",
   "execution_count": 31,
   "metadata": {},
   "outputs": [
    {
     "name": "stdout",
     "output_type": "stream",
     "text": [
      "2\n"
     ]
    }
   ],
   "source": [
    "l = [1,2,3,4,1,2,0]\n",
    "print(l.count(1))"
   ]
  },
  {
   "cell_type": "code",
   "execution_count": null,
   "metadata": {},
   "outputs": [],
   "source": []
  }
 ],
 "metadata": {
  "kernelspec": {
   "display_name": "Python 3",
   "language": "python",
   "name": "python3"
  },
  "language_info": {
   "codemirror_mode": {
    "name": "ipython",
    "version": 3
   },
   "file_extension": ".py",
   "mimetype": "text/x-python",
   "name": "python",
   "nbconvert_exporter": "python",
   "pygments_lexer": "ipython3",
   "version": "3.7.7"
  }
 },
 "nbformat": 4,
 "nbformat_minor": 4
}
