{
 "cells": [
  {
   "cell_type": "code",
   "execution_count": null,
   "metadata": {},
   "outputs": [],
   "source": [
    "def solution(stones,k):\n",
    "    answer=0\n",
    "    _min,_max = 0,max(stones)\n",
    "    while _min<=_max:\n",
    "        mid = (_min+_max)//2\n",
    "        arr = []\n",
    "        cur = 0\n",
    "        result = cur\n",
    "        for i in range(len(stones)):\n",
    "            if mid<=stones[i]:\n",
    "                arr.append(stones[i])\n",
    "            else:\n",
    "                arr.append(0)\n",
    "            if arr[i]==0:\n",
    "                cur+=1\n",
    "            else:\n",
    "                result = max(result,cur)\n",
    "                cur=0\n",
    "        result = max(result,cur)\n",
    "        if result<k:\n",
    "            answer = mid\n",
    "            _min = mid+1\n",
    "        else:\n",
    "            _max = mid-1\n",
    "    \n",
    "    return answer"
   ]
  },
  {
   "cell_type": "code",
   "execution_count": null,
   "metadata": {},
   "outputs": [],
   "source": [
    "def solution(stones,k):\n",
    "    answer = 0\n",
    "    _min,_max = 0,max(stones)\n",
    "    while _min<=_max:\n",
    "        mid = (_min+_max)//2\n",
    "        arr=[]\n",
    "        zero_in_row = 0\n",
    "        max_zeros = zero_in_row\n",
    "        for i in range(len(stones)):\n",
    "            if stones[i]>=mid:\n",
    "                arr.append(stones[i])\n",
    "            else:\n",
    "                arr.append(0)\n",
    "            if arr[i]==0:\n",
    "                zero_in_row+=1\n",
    "            else:\n",
    "                max_zeros = max(max_zeros,zero_in_row)\n",
    "                zero_in_row=0\n",
    "            \n",
    "        max_zeros = max(max_zeros,zero_in_row)\n",
    "\n",
    "        if max_zeros>=k:\n",
    "            _max = mid-1\n",
    "        else:\n",
    "            answer = mid\n",
    "            _min = mid+1\n",
    "    return answer"
   ]
  },
  {
   "cell_type": "code",
   "execution_count": null,
   "metadata": {},
   "outputs": [],
   "source": []
  }
 ],
 "metadata": {
  "kernelspec": {
   "display_name": "Python 3",
   "language": "python",
   "name": "python3"
  },
  "language_info": {
   "codemirror_mode": {
    "name": "ipython",
    "version": 3
   },
   "file_extension": ".py",
   "mimetype": "text/x-python",
   "name": "python",
   "nbconvert_exporter": "python",
   "pygments_lexer": "ipython3",
   "version": "3.7.7"
  }
 },
 "nbformat": 4,
 "nbformat_minor": 4
}
