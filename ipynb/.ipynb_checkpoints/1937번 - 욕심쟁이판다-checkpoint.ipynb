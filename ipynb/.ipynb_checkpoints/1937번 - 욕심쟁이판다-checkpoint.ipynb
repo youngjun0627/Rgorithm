{
 "cells": [
  {
   "cell_type": "code",
   "execution_count": 8,
   "metadata": {},
   "outputs": [
    {
     "name": "stdout",
     "output_type": "stream",
     "text": [
      "4\n",
      "14 9 12 10\n",
      "1 11 5 4\n",
      "7 15 2 13\n",
      "6 3 16 8\n",
      "5\n"
     ]
    }
   ],
   "source": [
    "import sys\n",
    "sys.setrecursionlimit(80000)\n",
    "\n",
    "\n",
    "\n",
    "def dfs(start,board,n):\n",
    "    global dp\n",
    "    if dp[start[0]][start[1]]!=-1:\n",
    "        return dp[start[0]][start[1]]\n",
    "    dy=[0,0,-1,1]\n",
    "    dx=[-1,1,0,0]\n",
    "    dp[start[0]][start[1]]=1\n",
    "    temp = 0\n",
    "    for i in range(4):\n",
    "        ny = start[0]+dy[i]\n",
    "        nx = start[1]+dx[i]\n",
    "        if ny>=0 and ny<n and nx>=0 and nx<n and board[start[0]][start[1]]<board[ny][nx]:\n",
    "            temp = max(temp,dfs((ny,nx),board,n))\n",
    "    dp[start[0]][start[1]]+=temp\n",
    "    return dp[start[0]][start[1]]\n",
    "\n",
    "n = int(input())\n",
    "dp = [[-1 for _ in range(n)] for _ in range(n)]\n",
    "board = []\n",
    "answer=0\n",
    "for _ in range(n):\n",
    "    board.append(list(map(int,input().split())))\n",
    "    \n",
    "for i in range(n):\n",
    "    for j in range(n):\n",
    "        start=(i,j)\n",
    "        answer = max(answer,dfs(start,board,n))\n",
    "print(answer)"
   ]
  },
  {
   "cell_type": "code",
   "execution_count": 6,
   "metadata": {},
   "outputs": [
    {
     "data": {
      "text/plain": [
       "[[0, 0, 0, 0], [0, 0, 0, 0], [0, 0, 0, 0], [0, 0, 0, 0]]"
      ]
     },
     "execution_count": 6,
     "metadata": {},
     "output_type": "execute_result"
    }
   ],
   "source": [
    "dp"
   ]
  },
  {
   "cell_type": "code",
   "execution_count": null,
   "metadata": {},
   "outputs": [],
   "source": []
  }
 ],
 "metadata": {
  "kernelspec": {
   "display_name": "Python 3",
   "language": "python",
   "name": "python3"
  },
  "language_info": {
   "codemirror_mode": {
    "name": "ipython",
    "version": 3
   },
   "file_extension": ".py",
   "mimetype": "text/x-python",
   "name": "python",
   "nbconvert_exporter": "python",
   "pygments_lexer": "ipython3",
   "version": "3.7.7"
  }
 },
 "nbformat": 4,
 "nbformat_minor": 4
}
