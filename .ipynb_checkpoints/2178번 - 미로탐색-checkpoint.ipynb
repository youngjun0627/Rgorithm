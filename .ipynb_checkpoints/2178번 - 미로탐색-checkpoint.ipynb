{
 "cells": [
  {
   "cell_type": "code",
   "execution_count": 9,
   "metadata": {},
   "outputs": [
    {
     "name": "stdout",
     "output_type": "stream",
     "text": [
      "4 6\n",
      "110110\n",
      "110110\n",
      "111111\n",
      "111101\n",
      "10\n"
     ]
    }
   ],
   "source": [
    "from collections import deque\n",
    "\n",
    "def bfs(board,visit,n,m):\n",
    "    answer=0\n",
    "    q = deque()\n",
    "    q.append((0,0))\n",
    "    visit[0][0]=1\n",
    "    dy = [1,0,0,-1]\n",
    "    dx = [0,1,-1,0]\n",
    "    while q:\n",
    "        cy,cx = q.popleft()\n",
    "        \n",
    "        if cy==n-1 and cx ==m-1:\n",
    "            answer = visit[cy][cx]\n",
    "            break\n",
    "        for i in range(4):\n",
    "            ny = cy + dy[i]\n",
    "            nx = cx + dx[i]\n",
    "            if ny>=0 and ny<n and nx>=0 and nx<m and board[ny][nx]:\n",
    "                if visit[ny][nx]==-1:\n",
    "                    visit[ny][nx] = visit[cy][cx]+1\n",
    "                    q.append((ny,nx))\n",
    "    return answer\n",
    "\n",
    "\n",
    "n,m = map(int,input().split())\n",
    "visit = [[-1 for _ in range(m)] for _ in range(n)]\n",
    "board = [[0 for _ in range(m)] for _ in range(n)]\n",
    "for i in range(n):\n",
    "    temp = input()\n",
    "    for j in range(m):\n",
    "        if temp[j]=='0':\n",
    "            board[i][j]=0\n",
    "        else:\n",
    "            board[i][j]=1\n",
    "    \n",
    "print(bfs(board,visit,n,m))"
   ]
  },
  {
   "cell_type": "code",
   "execution_count": 4,
   "metadata": {},
   "outputs": [
    {
     "data": {
      "text/plain": [
       "[[[0, 0, 0, 0, 0, 0],\n",
       "  [0, 0, 0, 0, 0, 0],\n",
       "  [0, 0, 0, 0, 0, 0],\n",
       "  [0, 0, 0, 0, 0, 0],\n",
       "  [0, 0, 0, 0, 0, 0],\n",
       "  [0, 0, 0, 0, 0, 0]],\n",
       " [[0, 0, 0, 0, 0, 0],\n",
       "  [0, 0, 0, 0, 0, 0],\n",
       "  [0, 0, 0, 0, 0, 0],\n",
       "  [0, 0, 0, 0, 0, 0],\n",
       "  [0, 0, 0, 0, 0, 0],\n",
       "  [0, 0, 0, 0, 0, 0]]]"
      ]
     },
     "execution_count": 4,
     "metadata": {},
     "output_type": "execute_result"
    }
   ],
   "source": [
    "visit = [[[0 for _ in range(m)] for _ in range(n)] for _ in range(2)]\n",
    "visit"
   ]
  },
  {
   "cell_type": "code",
   "execution_count": null,
   "metadata": {},
   "outputs": [],
   "source": []
  }
 ],
 "metadata": {
  "kernelspec": {
   "display_name": "Python 3",
   "language": "python",
   "name": "python3"
  },
  "language_info": {
   "codemirror_mode": {
    "name": "ipython",
    "version": 3
   },
   "file_extension": ".py",
   "mimetype": "text/x-python",
   "name": "python",
   "nbconvert_exporter": "python",
   "pygments_lexer": "ipython3",
   "version": "3.7.7"
  }
 },
 "nbformat": 4,
 "nbformat_minor": 4
}
