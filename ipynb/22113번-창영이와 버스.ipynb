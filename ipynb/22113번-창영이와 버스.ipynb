{
 "cells": [
  {
   "cell_type": "code",
   "execution_count": 6,
   "metadata": {},
   "outputs": [
    {
     "name": "stdout",
     "output_type": "stream",
     "text": [
      "4 3\n",
      "3 1 2\n",
      "0 2 3 4\n",
      "5 0 7 8\n",
      "1 2 0 4\n",
      "5 6 7 0\n",
      "3\n"
     ]
    }
   ],
   "source": [
    "n,m = map(int,input().split())\n",
    "selected_buses = list(map(int,input().split()))\n",
    "dic = {i:{} for i in range(1,n+1)}\n",
    "for i in range(1,n+1):\n",
    "    temp = list(map(int,input().split()))\n",
    "    for j in range(1,n+1):\n",
    "        if i!=j:\n",
    "            dic[i][j]=temp[j-1]\n",
    "cur = selected_buses[0]\n",
    "answer = 0\n",
    "for _next in selected_buses[1:]:\n",
    "    answer += dic[cur][_next]\n",
    "    cur = _next\n",
    "print(answer)"
   ]
  },
  {
   "cell_type": "code",
   "execution_count": 7,
   "metadata": {},
   "outputs": [
    {
     "data": {
      "text/plain": [
       "{1: {2: 2, 3: 3, 4: 4},\n",
       " 2: {1: 5, 3: 7, 4: 8},\n",
       " 3: {1: 1, 2: 2, 4: 4},\n",
       " 4: {1: 5, 2: 6, 3: 7}}"
      ]
     },
     "execution_count": 7,
     "metadata": {},
     "output_type": "execute_result"
    }
   ],
   "source": [
    "dic"
   ]
  },
  {
   "cell_type": "code",
   "execution_count": null,
   "metadata": {},
   "outputs": [],
   "source": []
  }
 ],
 "metadata": {
  "kernelspec": {
   "display_name": "Python 3",
   "language": "python",
   "name": "python3"
  },
  "language_info": {
   "codemirror_mode": {
    "name": "ipython",
    "version": 3
   },
   "file_extension": ".py",
   "mimetype": "text/x-python",
   "name": "python",
   "nbconvert_exporter": "python",
   "pygments_lexer": "ipython3",
   "version": "3.7.7"
  }
 },
 "nbformat": 4,
 "nbformat_minor": 4
}
