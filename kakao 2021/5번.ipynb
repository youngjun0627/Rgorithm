{
 "cells": [
  {
   "cell_type": "code",
   "execution_count": 13,
   "metadata": {},
   "outputs": [
    {
     "data": {
      "text/plain": [
       "'01:30:59'"
      ]
     },
     "execution_count": 13,
     "metadata": {},
     "output_type": "execute_result"
    }
   ],
   "source": [
    "def log2time(_str):\n",
    "    str1,str2 = _str.split('-')\n",
    "    start = str2time(str1)\n",
    "    end = str2time(str2)\n",
    "    return start, end\n",
    "\n",
    "def str2time(_str):\n",
    "    h,m,s = map(int,_str.split(':'))\n",
    "    return h*60*60 + m*60 + s\n",
    "\n",
    "def time2str(time):\n",
    "    h = time//3600\n",
    "    if h<10:\n",
    "        _h = '0' + str(h)\n",
    "    else:\n",
    "        _h = str(h)\n",
    "    m = (time%3600)//60\n",
    "    if m<10:\n",
    "        _m = '0' + str(m)\n",
    "    else:\n",
    "        _m = str(m)\n",
    "    s = (time%3600)%60\n",
    "    if s<10:\n",
    "        _s = '0' + str(s)\n",
    "    else:\n",
    "        _s = str(s)\n",
    "    return _h + ':' + _m + ':' + _s\n",
    "\n",
    "def solution(play_time, adv_time, logs):\n",
    "    play_time = str2time(play_time)\n",
    "    adv_time = str2time(adv_time)\n",
    "    times = [0 for i in range(play_time + 1)]\n",
    "    for log in logs:\n",
    "        start, end = log2time(log)\n",
    "        times[start]+=1\n",
    "        times[end]-=1\n",
    "    for i in range(1,play_time + 1):\n",
    "        times[i] += times[i-1]\n",
    "    for i in range(1,play_time + 1):\n",
    "        times[i] += times[i-1]\n",
    "    _max = 0\n",
    "    if _max < times[adv_time-1]:\n",
    "        _max = times[adv_time-1]\n",
    "        answer = 0\n",
    "    for i in range(adv_time, play_time):\n",
    "        if _max < times[i]-times[i-adv_time]:\n",
    "            _max = times[i]-times[i-adv_time]\n",
    "            answer = i-adv_time +1\n",
    "    answer = time2str(answer)\n",
    "    return answer\n",
    "\n",
    "play_time = \"02:03:55\"\n",
    "adv_time = \"00:14:15\"\n",
    "logs = [\"01:20:15-01:45:14\", \"00:40:31-01:00:00\", \"00:25:50-00:48:29\", \"01:30:59-01:53:29\", \"01:37:44-02:02:30\"]\t\n",
    "solution(play_time, adv_time, logs)"
   ]
  },
  {
   "cell_type": "code",
   "execution_count": null,
   "metadata": {},
   "outputs": [],
   "source": []
  }
 ],
 "metadata": {
  "kernelspec": {
   "display_name": "Python 3",
   "language": "python",
   "name": "python3"
  },
  "language_info": {
   "codemirror_mode": {
    "name": "ipython",
    "version": 3
   },
   "file_extension": ".py",
   "mimetype": "text/x-python",
   "name": "python",
   "nbconvert_exporter": "python",
   "pygments_lexer": "ipython3",
   "version": "3.7.7"
  }
 },
 "nbformat": 4,
 "nbformat_minor": 4
}
