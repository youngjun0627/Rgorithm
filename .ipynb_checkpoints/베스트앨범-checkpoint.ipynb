{
 "cells": [
  {
   "cell_type": "code",
   "execution_count": 5,
   "metadata": {},
   "outputs": [
    {
     "name": "stdout",
     "output_type": "stream",
     "text": [
      "defaultdict(<function solution.<locals>.<lambda> at 0x0000023075600798>, {'classic': 1450, 'pop': 3100})\n",
      "['pop', 'classic']\n",
      "defaultdict(<function solution.<locals>.<lambda> at 0x00000230756009D8>, {})\n",
      "defaultdict(<function solution.<locals>.<lambda> at 0x00000230756009D8>, {'classic': [(500, 0), (150, 2), (800, 3)], 'pop': [(600, 1), (2500, 4)]})\n"
     ]
    },
    {
     "data": {
      "text/plain": [
       "[4, 1, 3, 0]"
      ]
     },
     "execution_count": 5,
     "metadata": {},
     "output_type": "execute_result"
    }
   ],
   "source": [
    "from collections import defaultdict\n",
    "from operator import itemgetter\n",
    "\n",
    "def solution(genres, plays):\n",
    "    answer=[]\n",
    "    genres_plays_dict = defaultdict(lambda : 0)\n",
    "    for genre, play in zip(genres, plays):\n",
    "        genres_plays_dict[genre] += play\n",
    "    genres_rank = [genre for genre,play in sorted(genres_plays_dict.items(),key = itemgetter(1),reverse=True)]\n",
    "    \n",
    "    final_dict = defaultdict(lambda : [])\n",
    "    for i, genre_play_tuple in enumerate(zip(genres,plays)):\n",
    "        final_dict[genre_play_tuple[0]].append((i,genre_play_tuple[1]))\n",
    "    for genre in genres_rank:\n",
    "        result = sorted(final_dict[genre],key=itemgetter(1),reverse=True)\n",
    "        if len(result)==1:\n",
    "            answer.append(result[0][0])\n",
    "        else:\n",
    "            answer.append(result[0][0])\n",
    "            answer.append(result[1][0])\n",
    "    return answer"
   ]
  },
  {
   "cell_type": "code",
   "execution_count": null,
   "metadata": {},
   "outputs": [],
   "source": []
  },
  {
   "cell_type": "code",
   "execution_count": null,
   "metadata": {},
   "outputs": [],
   "source": []
  }
 ],
 "metadata": {
  "kernelspec": {
   "display_name": "Python 3",
   "language": "python",
   "name": "python3"
  },
  "language_info": {
   "codemirror_mode": {
    "name": "ipython",
    "version": 3
   },
   "file_extension": ".py",
   "mimetype": "text/x-python",
   "name": "python",
   "nbconvert_exporter": "python",
   "pygments_lexer": "ipython3",
   "version": "3.7.6"
  }
 },
 "nbformat": 4,
 "nbformat_minor": 4
}
