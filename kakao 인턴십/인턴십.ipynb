{
 "cells": [
  {
   "cell_type": "code",
   "execution_count": 16,
   "metadata": {},
   "outputs": [],
   "source": [
    "# 인형뽑기\n",
    "def solution(board, moves):\n",
    "    answer = 0\n",
    "    stack = []\n",
    "    dic = {n:[] for n in range(1,len(board)+1)}\n",
    "    for i in range(len(board)):\n",
    "        for j in range(len(board)):\n",
    "            if board[i][j]!=0:\n",
    "                dic[j+1].append(board[i][j])\n",
    "    for move in moves:\n",
    "        if dic[move]:\n",
    "            a = dic[move].pop(0)\n",
    "            if not stack or stack[len(stack)-1]!=a:\n",
    "                stack.append(a)\n",
    "            else:\n",
    "                stack.pop(len(stack)-1)\n",
    "                answer+=2\n",
    "        \n",
    "            print(a,stack)\n",
    "            \n",
    "    return answer"
   ]
  },
  {
   "cell_type": "code",
   "execution_count": 25,
   "metadata": {},
   "outputs": [],
   "source": [
    "def solution(numbers, hand):\n",
    "    answer = ''\n",
    "    left = [3,0]\n",
    "    right = [3,2]\n",
    "    number_position = [[3,1],[0,0],[0,1],[0,2],[1,0],[1,1],[1,2],[2,0],[2,1],[2,2]]\n",
    "    for number in numbers:\n",
    "        if number in [1,4,7]:\n",
    "            answer+=('L')\n",
    "            left = number_position[number]\n",
    "        elif number in [3,6,9]:\n",
    "            answer+=('R')\n",
    "            right = number_position[number]\n",
    "        else:\n",
    "            left_distance = abs(number_position[number][0]-left[0]) + abs(number_position[number][1]-left[1])\n",
    "            right_distance = abs(number_position[number][0]-right[0]) + abs(number_position[number][1]-right[1])\n",
    "            if left_distance>right_distance:\n",
    "                answer+=('R')\n",
    "                right = number_position[number]\n",
    "            elif left_distance<right_distance:\n",
    "                answer+=('L')\n",
    "                left = number_position[number]\n",
    "            else:\n",
    "                if hand=='right':\n",
    "                    answer+=('R')\n",
    "                    right = number_position[number]\n",
    "                else:\n",
    "                    answer+=('L')\n",
    "                    left = number_position[number]\n",
    "            \n",
    "                    \n",
    "    return answer\n"
   ]
  },
  {
   "cell_type": "code",
   "execution_count": 43,
   "metadata": {},
   "outputs": [
    {
     "name": "stdout",
     "output_type": "stream",
     "text": [
      "[[1, 2, 3], [2, 1], [2, 1, 3], [2, 1, 3, 4]]\n"
     ]
    },
    {
     "data": {
      "text/plain": [
       "[2, 1, 3, 4]"
      ]
     },
     "execution_count": 43,
     "metadata": {},
     "output_type": "execute_result"
    }
   ],
   "source": [
    "# 튜플\n",
    "\n",
    "def solution(s):\n",
    "    answer = []\n",
    "    s = s[1:-1]\n",
    "    stack = []\n",
    "    arr = []\n",
    "    _str = ''\n",
    "    for i in s:\n",
    "        if  i=='}':\n",
    "            arr.append(_str)\n",
    "        elif i=='{':\n",
    "            _str=''\n",
    "        else:\n",
    "            _str+=i\n",
    "    result = []\n",
    "    for a in arr:\n",
    "        result.append(list(map(int,a.split(','))))\n",
    "    \n",
    "    result.sort(key=lambda x: len(x))\n",
    "    for a in result:\n",
    "        for b in a:\n",
    "            if b not in answer:\n",
    "                answer.append(b)\n",
    "    return answer\n",
    "s = \"{{1,2,3},{2,1},{2,1,3},{2,1,3,4}}\"\n",
    "solution(s)"
   ]
  },
  {
   "cell_type": "code",
   "execution_count": 45,
   "metadata": {},
   "outputs": [
    {
     "name": "stdout",
     "output_type": "stream",
     "text": [
      "('*', '-', '+')\n",
      "('*', '+', '-')\n",
      "('-', '*', '+')\n",
      "('-', '+', '*')\n",
      "('+', '*', '-')\n",
      "('+', '-', '*')\n"
     ]
    },
    {
     "data": {
      "text/plain": [
       "0"
      ]
     },
     "execution_count": 45,
     "metadata": {},
     "output_type": "execute_result"
    }
   ],
   "source": [
    "# 수식최대화\n",
    "\n",
    "from itertools import permutations\n",
    "\n",
    "def solution(expression):\n",
    "    answer = 0\n",
    "    operations = set()\n",
    "    _str = ''\n",
    "    for i in expression:\n",
    "        if i in ['+','-','*']:\n",
    "            operations.add(i)\n",
    "            arr\n",
    "            _str=''\n",
    "            \n",
    "        else:\n",
    "            _str+=i\n",
    "            \n",
    "    for perm in permutations(operations, len(operations)):\n",
    "        \n",
    "    return answer\n",
    "a = \"100-200*300-500+20\"\n",
    "solution(a)"
   ]
  },
  {
   "cell_type": "code",
   "execution_count": null,
   "metadata": {},
   "outputs": [],
   "source": [
    "#호텔 방 배정\n",
    "\n",
    "dic = {}\n"
   ]
  }
 ],
 "metadata": {
  "kernelspec": {
   "display_name": "Python 3",
   "language": "python",
   "name": "python3"
  },
  "language_info": {
   "codemirror_mode": {
    "name": "ipython",
    "version": 3
   },
   "file_extension": ".py",
   "mimetype": "text/x-python",
   "name": "python",
   "nbconvert_exporter": "python",
   "pygments_lexer": "ipython3",
   "version": "3.7.7"
  }
 },
 "nbformat": 4,
 "nbformat_minor": 4
}
