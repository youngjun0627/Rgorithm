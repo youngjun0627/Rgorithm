{
 "cells": [
  {
   "cell_type": "code",
   "execution_count": 13,
   "metadata": {},
   "outputs": [
    {
     "data": {
      "text/plain": [
       "80"
      ]
     },
     "execution_count": 13,
     "metadata": {},
     "output_type": "execute_result"
    }
   ],
   "source": [
    "def gcb(a,b):\n",
    "    while b!=0:\n",
    "        temp = a%b\n",
    "        a=b\n",
    "        b=temp\n",
    "    return abs(a)\n",
    "\n",
    "def solution(w,h):\n",
    "    answer = 1\n",
    "    g = gcb(w,h)\n",
    "    result = 0\n",
    "    if g==1:\n",
    "        result = w+h-1\n",
    "    else:\n",
    "        result = g*(((h//g) + (w//g))-1)\n",
    "    answer = w*h - result\n",
    "    return answer\n",
    "solution(8,12)"
   ]
  },
  {
   "cell_type": "code",
   "execution_count": null,
   "metadata": {},
   "outputs": [],
   "source": []
  }
 ],
 "metadata": {
  "kernelspec": {
   "display_name": "Python 3",
   "language": "python",
   "name": "python3"
  },
  "language_info": {
   "codemirror_mode": {
    "name": "ipython",
    "version": 3
   },
   "file_extension": ".py",
   "mimetype": "text/x-python",
   "name": "python",
   "nbconvert_exporter": "python",
   "pygments_lexer": "ipython3",
   "version": "3.7.7"
  }
 },
 "nbformat": 4,
 "nbformat_minor": 4
}
